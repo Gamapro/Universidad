{
 "cells": [
  {
   "cell_type": "code",
   "execution_count": 1,
   "metadata": {},
   "outputs": [],
   "source": [
    "import numpy as np\n",
    "import matplotlib.pyplot as plt\n",
    "\n",
    "from scipy.optimize import linprog"
   ]
  },
  {
   "cell_type": "code",
   "execution_count": 2,
   "metadata": {},
   "outputs": [],
   "source": [
    "class PSO:\n",
    "    \n",
    "    def __init__(self, c, A_ub = None, b_ub = None, bounds = None, args = None, n_particles = 150, maxiter = 500, w=0.7, c1=0.7, c2=0.7):\n",
    "        self.c = c\n",
    "        self.A_ub = A_ub\n",
    "        self.b_ub = b_ub\n",
    "        self.bounds = bounds\n",
    "        self.args = args\n",
    "        self.n_particles = n_particles\n",
    "        self.maxiter = maxiter\n",
    "        self.w = w\n",
    "        self.c1 = c1\n",
    "        self.c2 = c2\n",
    "        self.dim = len(c)\n",
    "\n",
    "    def calculate_max_bound(self):\n",
    "        pos, jump = 0, 100000\n",
    "        while jump > 0:\n",
    "            while self.obj_func(np.random.uniform(0, pos, self.dim)) < self.obj_func(np.random.uniform(0, pos+jump, self.dim)):\n",
    "                pos += jump\n",
    "            jump/=2\n",
    "        return pos\n",
    "\n",
    "    def optimize(self, verbose = False):\n",
    "        min_bound = np.array([self.bounds[i][0] if self.bounds[i][0] is not None else 0 for i in range(self.bounds.shape[0])])\n",
    "        max_bound = np.array([self.bounds[i][1] if self.bounds[i][1] is not None else 100 for i in range(self.bounds.shape[0])])\n",
    "        particles = np.random.uniform(min_bound, max_bound, (self.n_particles, self.dim))\n",
    "        velocity = np.random.normal(0.01, 0.5, size=(self.n_particles, self.dim))\n",
    "        gbest = particles[0]\n",
    "        gbest_fitness = self.obj_func(gbest)\n",
    "\n",
    "        for it in range(self.maxiter):\n",
    "            fitness = np.apply_along_axis(self.obj_func, 1, particles)\n",
    "            \n",
    "            pbest = particles[fitness.argmin()]\n",
    "            if fitness.min() < gbest_fitness or it == 0:\n",
    "                gbest_fitness = fitness.min()\n",
    "                gbest = pbest\n",
    "\n",
    "            new_vel = (self.w * velocity) + (self.c1 * np.random.uniform(0, 1, (self.n_particles, self.dim)) * (pbest - particles)) + (self.c2 * np.random.uniform(0, 1, (self.n_particles, self.dim)) * (gbest - particles))\n",
    "\n",
    "            velocity = new_vel\n",
    "            particles = particles + new_vel\n",
    "\n",
    "            if self.c1c2w_update_func is not None:\n",
    "                self.c1, self.c2, self.w = self.c1c2w_update_func(it, self.maxiter, self.c1, self.c2, self.w)\n",
    "\n",
    "            if verbose:\n",
    "                print(\"Iteration: {}, Best fitness: {}\".format(it, gbest_fitness))\n",
    "\n",
    "        return gbest, gbest_fitness\n",
    "\n",
    "    def c1c2w_update_func(self, it, maxiter, c1, c2, w):\n",
    "        return c1*0.99, c2*0.99, w*0.99\n",
    "\n",
    "    def obj_func(self, x):\n",
    "        fitness = np.dot(self.c, x)\n",
    "        if self.A_ub is not None and self.b_ub is not None:\n",
    "            assert self.A_ub.shape[1] == x.shape[0], \"A_ub and x must have the same number of columns\"\n",
    "            assert self.A_ub.shape[0] == self.b_ub.shape[0], \"A_ub and b_ub must have the same number of rows\"\n",
    "            for i in range(len(self.A_ub)):\n",
    "                result = np.dot(self.A_ub[i], x)\n",
    "                if result > self.b_ub[i]:\n",
    "                    fitness += 100000000\n",
    "        if self.bounds is not None:\n",
    "            for i in range(len(x)):\n",
    "                if (self.bounds[i][0] != None and x[i] < self.bounds[i][0]) or (self.bounds[i][1] != None and x[i] > self.bounds[i][1]):\n",
    "                    fitness += 100000000\n",
    "        return fitness"
   ]
  },
  {
   "cell_type": "markdown",
   "metadata": {},
   "source": [
    "$ Bicicletas $ <br>\n",
    "$ \\max_{p, m} 20000p + 15000m $ <br>\n",
    "$ p + 2m \\le 80 $ <br>\n",
    "$ 3p + 2m \\le 120 $ <br>\n",
    "$ p, m \\ge 0 $"
   ]
  },
  {
   "cell_type": "code",
   "execution_count": 3,
   "metadata": {},
   "outputs": [
    {
     "name": "stdout",
     "output_type": "stream",
     "text": [
      "[20. 30.]\n"
     ]
    }
   ],
   "source": [
    "c = [-20000, -15000]\n",
    "A = [[1, 2], [3, 2]]\n",
    "b = [80, 120]\n",
    "p_bounds = (0, None)\n",
    "m_bounds = (0, None)\n",
    "res = linprog(c, A_ub=A, b_ub=b, bounds=[p_bounds, m_bounds])\n",
    "print(res.x)"
   ]
  },
  {
   "cell_type": "code",
   "execution_count": 4,
   "metadata": {},
   "outputs": [
    {
     "name": "stdout",
     "output_type": "stream",
     "text": [
      "[20. 30.] -849999.9999999168\n"
     ]
    }
   ],
   "source": [
    "pso = PSO(c, A_ub=np.array(A), b_ub=np.array(b), bounds=np.array([p_bounds, m_bounds]))\n",
    "gbest, gbest_fitness = pso.optimize(verbose = False)\n",
    "print(gbest, gbest_fitness)"
   ]
  },
  {
   "cell_type": "markdown",
   "metadata": {},
   "source": [
    "$ Lamparas $ <br>\n",
    "$ \\max_{ l_{1}, l_{2}} 15l_{1} + 10l_{2} $ <br>\n",
    "$ 20l_{1} + 30l_{2} \\le 100 $ <br>\n",
    "$ 10l_{1} + 10l_{2} \\le 80 $ <br>\n",
    "$ l_{1}, l_{2} \\ge 0 $"
   ]
  },
  {
   "cell_type": "code",
   "execution_count": 5,
   "metadata": {},
   "outputs": [
    {
     "name": "stdout",
     "output_type": "stream",
     "text": [
      "[5. 0.]\n"
     ]
    }
   ],
   "source": [
    "c = [-15, -10]\n",
    "A = [[20, 30], [10, 10]]\n",
    "b = [100, 80]\n",
    "l1_bounds = (0, None)\n",
    "l2_bounds = (0, None)\n",
    "res = linprog(c, A_ub=A, b_ub=b, bounds=[l1_bounds, l2_bounds])\n",
    "print(res.x)"
   ]
  },
  {
   "cell_type": "code",
   "execution_count": 6,
   "metadata": {},
   "outputs": [
    {
     "name": "stdout",
     "output_type": "stream",
     "text": [
      "[3591.11794417  203.81440836] 199944095.0867539\n"
     ]
    }
   ],
   "source": [
    "pso = PSO(c, A_ub=np.array(A), b_ub=np.array(b), bounds=np.array([l1_bounds, l2_bounds]))\n",
    "gbest, gbest_fitness = pso.optimize(verbose = False)\n",
    "print(gbest, gbest_fitness)"
   ]
  },
  {
   "cell_type": "markdown",
   "metadata": {},
   "source": [
    "$ Granja-de-pollos $ <br>\n",
    "$ \\min_{ x, y} 10x + 30y $ <br>\n",
    "$ x + 5y \\ge 15 $ <br>\n",
    "$ 5x + y \\ge 15 $ <br>\n",
    "$ x,y \\ge 0 $"
   ]
  },
  {
   "cell_type": "code",
   "execution_count": 7,
   "metadata": {},
   "outputs": [
    {
     "name": "stdout",
     "output_type": "stream",
     "text": [
      "[2.5 2.5]\n"
     ]
    }
   ],
   "source": [
    "c = [10, 30]\n",
    "A = [[-1, -5], [-5, -1]]\n",
    "b = [-15, -15]\n",
    "x_bounds = (0, None)\n",
    "y_bounds = (0, None)\n",
    "res = linprog(c, A_ub=A, b_ub=b, bounds=[x_bounds, y_bounds])\n",
    "print(res.x)"
   ]
  },
  {
   "cell_type": "code",
   "execution_count": 8,
   "metadata": {},
   "outputs": [
    {
     "name": "stdout",
     "output_type": "stream",
     "text": [
      "[2.5 2.5] 100.0000000000012\n"
     ]
    }
   ],
   "source": [
    "pso = PSO(c, A_ub=np.array(A), b_ub=np.array(b), bounds=np.array([x_bounds, y_bounds]))\n",
    "gbest, gbest_fitness = pso.optimize(verbose = False)\n",
    "print(gbest, gbest_fitness)"
   ]
  },
  {
   "cell_type": "markdown",
   "metadata": {},
   "source": [
    "$ Ofertas $ <br>\n",
    "$ \\max_{ x,y } 6.5x + 7y $ <br>\n",
    "$ 2x + 3y \\le 600 $ <br>\n",
    "$ x + y \\le 500 $ <br>\n",
    "$ 2x + y \\le 400 $ <br>\n",
    "$ x,y \\ge 0 $"
   ]
  },
  {
   "cell_type": "code",
   "execution_count": 9,
   "metadata": {},
   "outputs": [
    {
     "name": "stdout",
     "output_type": "stream",
     "text": [
      "[150. 100.]\n"
     ]
    }
   ],
   "source": [
    "c = [-6.5, -7]\n",
    "A = [[2, 3], [1, 1], [2,1]]\n",
    "b = [600 , 500, 400]\n",
    "x_bounds = (0, None)\n",
    "y_bounds = (0, None)\n",
    "res = linprog(c, A_ub=A, b_ub=b, bounds=[x_bounds, y_bounds])\n",
    "print(res.x)"
   ]
  },
  {
   "cell_type": "code",
   "execution_count": 10,
   "metadata": {},
   "outputs": [
    {
     "name": "stdout",
     "output_type": "stream",
     "text": [
      "[150. 100.] -1674.9999999999984\n"
     ]
    }
   ],
   "source": [
    "pso = PSO(c, A_ub=np.array(A), b_ub=np.array(b), bounds=np.array([x_bounds, y_bounds]))\n",
    "gbest, gbest_fitness = pso.optimize(verbose = False)\n",
    "print(gbest, gbest_fitness)"
   ]
  },
  {
   "cell_type": "markdown",
   "metadata": {},
   "source": [
    "$ Autobuses $ <br>\n",
    "$ \\min_{ a,b} 800a + 600b $ <br>\n",
    "$ 50a + 40b \\ge 400 $ <br>\n",
    "$ a + b \\le 9 $ <br>\n",
    "$ 0 \\le a \\le 10 $ <br>\n",
    "$ 0 \\le b \\le 8 $ <br>"
   ]
  },
  {
   "cell_type": "code",
   "execution_count": 11,
   "metadata": {},
   "outputs": [
    {
     "name": "stdout",
     "output_type": "stream",
     "text": [
      "[4. 5.]\n"
     ]
    }
   ],
   "source": [
    "c = [800, 600]\n",
    "A = [[-50, -40], [1,1]]\n",
    "b = [-400, 9]\n",
    "x_bounds = (0, 10)\n",
    "y_bounds = (0, 8)\n",
    "res = linprog(c, A_ub=A, b_ub=b, bounds=[x_bounds, y_bounds])\n",
    "print(res.x)"
   ]
  },
  {
   "cell_type": "code",
   "execution_count": 12,
   "metadata": {},
   "outputs": [
    {
     "name": "stdout",
     "output_type": "stream",
     "text": [
      "[4.00123077 4.99846154] 6200.061538310799\n"
     ]
    }
   ],
   "source": [
    "pso = PSO(c, A_ub=np.array(A), b_ub=np.array(b), bounds=np.array([x_bounds, y_bounds]))\n",
    "gbest, gbest_fitness = pso.optimize(verbose = False)\n",
    "print(gbest, gbest_fitness)"
   ]
  }
 ],
 "metadata": {
  "kernelspec": {
   "display_name": "Python 3.9.13 64-bit",
   "language": "python",
   "name": "python3"
  },
  "language_info": {
   "codemirror_mode": {
    "name": "ipython",
    "version": 3
   },
   "file_extension": ".py",
   "mimetype": "text/x-python",
   "name": "python",
   "nbconvert_exporter": "python",
   "pygments_lexer": "ipython3",
   "version": "3.9.13"
  },
  "orig_nbformat": 4,
  "vscode": {
   "interpreter": {
    "hash": "d36eb4ffb1b509eac7c8ec69a0f00740540681bdf210a10d1e2607102c088e08"
   }
  }
 },
 "nbformat": 4,
 "nbformat_minor": 2
}
