{
 "cells": [
  {
   "cell_type": "code",
   "execution_count": 1,
   "metadata": {},
   "outputs": [],
   "source": [
    "import numpy as np\n",
    "import matplotlib.pyplot as plt\n",
    "\n",
    "from scipy.optimize import linprog"
   ]
  },
  {
   "cell_type": "markdown",
   "metadata": {},
   "source": [
    "$ \\max_{p, m} 20000p + 15000m $ <br>\n",
    "$ p + 2m \\le 8x $ <br>\n",
    "$ 3p + 2m \\le 120 $ <br>\n",
    "$ p, m \\ge 0 $"
   ]
  },
  {
   "cell_type": "markdown",
   "metadata": {},
   "source": [
    "Lamparas\n",
    "$ \\max_{ l_{1}, l_{2}} 20000l_{1} + 15000l_{2} $ <br>\n",
    "$ l_{1} + 2l_{2} \\le 8x $ <br>\n",
    "$ 3l_{1} + 2l_{2} \\le 120 $ <br>\n",
    "$ l_{1}, l_{2} \\ge 0 $"
   ]
  },
  {
   "cell_type": "markdown",
   "metadata": {},
   "source": [
    "Own class"
   ]
  },
  {
   "cell_type": "code",
   "execution_count": null,
   "metadata": {},
   "outputs": [],
   "source": [
    "class PSO:\n",
    "    def __init__(self, obj_func, bounds, args = None, c1c2w_update_func = None, n_particles = 100, maxiter = 300, w=0.7, c1=0.7, c2=0.7):\n",
    "        self.obj_func = obj_func\n",
    "        self.n_particles = n_particles\n",
    "        self.maxiter = maxiter\n",
    "        self.w = w\n",
    "        self.c1 = c1\n",
    "        self.c2 = c2\n",
    "        self.dim = len(bounds)\n",
    "        self.bounds = np.asarray(bounds)\n",
    "        self.args = args\n",
    "        self.c1c2w_update_func = c1c2w_update_func\n",
    "    \n",
    "    def optimize(self, verbose = False):\n",
    "        particles = np.random.uniform(self.bounds[:, 0], self.bounds[:, 1], size=(self.n_particles, self.dim))\n",
    "        velocity = np.random.normal(0, 0.1, size=(self.n_particles, self.dim))\n",
    "        gbest = particles[0]\n",
    "        gbest_fitness = self.obj_func(gbest, *self.args)\n",
    "\n",
    "        for it in range(self.maxiter):\n",
    "            fitness = np.apply_along_axis(self.obj_func, 1, particles, *self.args)\n",
    "            pbest = particles[fitness.argmin()]\n",
    "\n",
    "            if it == 0:\n",
    "                gbest_fitness = fitness.min()\n",
    "                gbest = pbest\n",
    "\n",
    "            if fitness.min() < gbest_fitness:\n",
    "                gbest_fitness = fitness.min()\n",
    "                gbest = pbest\n",
    "\n",
    "            new_vel = (self.w * velocity) + (self.c1 * np.random.uniform(0, 1, (self.n_particles, self.dim)) * (pbest - particles)) + (self.c2 * np.random.uniform(0, 1, (self.n_particles, self.dim)) * (gbest - particles))\n",
    "\n",
    "            velocity = new_vel\n",
    "            particles = particles + new_vel\n",
    "\n",
    "            for i in range(self.dim):\n",
    "                particles[:, i] = np.clip(particles[:, i], self.bounds[i, 0], self.bounds[i, 1])\n",
    "\n",
    "            if self.c1c2w_update_func is not None:\n",
    "                self.c1, self.c2, self.w = self.c1c2w_update_func(it, self.maxiter, self.c1, self.c2, self.w)\n",
    "\n",
    "            if verbose:\n",
    "                print(\"Iteration: {}, Best fitness: {}\".format(it, gbest_fitness))\n",
    "\n",
    "        return gbest, gbest_fitness"
   ]
  }
 ],
 "metadata": {
  "kernelspec": {
   "display_name": "Python 3.9.13 64-bit",
   "language": "python",
   "name": "python3"
  },
  "language_info": {
   "codemirror_mode": {
    "name": "ipython",
    "version": 3
   },
   "file_extension": ".py",
   "mimetype": "text/x-python",
   "name": "python",
   "nbconvert_exporter": "python",
   "pygments_lexer": "ipython3",
   "version": "3.9.13"
  },
  "orig_nbformat": 4,
  "vscode": {
   "interpreter": {
    "hash": "d36eb4ffb1b509eac7c8ec69a0f00740540681bdf210a10d1e2607102c088e08"
   }
  }
 },
 "nbformat": 4,
 "nbformat_minor": 2
}
