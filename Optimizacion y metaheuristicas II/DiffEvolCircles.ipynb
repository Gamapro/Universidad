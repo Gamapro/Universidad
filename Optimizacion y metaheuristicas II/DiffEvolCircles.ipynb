{
  "cells": [
    {
      "cell_type": "code",
      "execution_count": 780,
      "metadata": {
        "id": "aFZhAuHF5Lfd"
      },
      "outputs": [],
      "source": [
        "import pandas as pd\n",
        "import cv2 as cv2\n",
        "import matplotlib.pyplot as plt\n",
        "import numpy as np\n",
        "import math\n",
        "import copy\n",
        "import random"
      ]
    },
    {
      "cell_type": "code",
      "execution_count": 781,
      "metadata": {
        "colab": {
          "base_uri": "https://localhost:8080/"
        },
        "id": "6R_f2Evd5QB3",
        "outputId": "ae2effea-340b-45db-909e-290691ac28af"
      },
      "outputs": [],
      "source": [
        "# from google.colab import drive\n",
        "# drive.mount('/content/drive')"
      ]
    },
    {
      "cell_type": "markdown",
      "metadata": {
        "id": "WTE_pCG0-cit"
      },
      "source": [
        "**>Definir el problema**"
      ]
    },
    {
      "cell_type": "code",
      "execution_count": 782,
      "metadata": {
        "colab": {
          "base_uri": "https://localhost:8080/",
          "height": 269
        },
        "id": "Mbzxurpi5aVl",
        "outputId": "b2aaf0c0-63e2-4529-bf62-49d86d3387be"
      },
      "outputs": [
        {
          "data": {
            "image/png": "[encoded data removed]",
            "text/plain": [
              "<Figure size 640x480 with 1 Axes>"
            ]
          },
          "metadata": {},
          "output_type": "display_data"
        }
      ],
      "source": [
        "# img_or=cv2.imread('/content/drive/MyDrive/OptimizacionYMetaheursiticaII/Differential_evolution/taza.jpg')\n",
        "img_or = cv2.imread('images/taza.jpeg')\n",
        "# img_or = cv2.imread('images/blue.jpeg')\n",
        "img_or = cv2.resize(img_or, (0,0), fx=0.3, fy=0.3)\n",
        "# img_or = cv2.imread('images/m2.jpg')\n",
        "img_or=cv2.cvtColor(img_or, cv2.COLOR_BGR2RGB) \n",
        "width,height,ch = img_or.shape\n",
        "\n",
        "plt.figure()\n",
        "plt.imshow(img_or)\n",
        "plt.show()"
      ]
    },
    {
      "cell_type": "code",
      "execution_count": 783,
      "metadata": {
        "id": "2C2BDrdy6ecy"
      },
      "outputs": [],
      "source": [
        "#bounds: x=width, y=height, r=radio, R, G ,B alpha=transparencia\n",
        "bounds =np.array([ [0,width],  #ancho\n",
        "           [0,height],  # alto\n",
        "           [3,(width)//2], #radio\n",
        "           [0,255],  #R\n",
        "           [0,255],  #G\n",
        "           [0,255],  #B\n",
        "           [0,255]    #Alpha --> Transparencia       \n",
        "         ])\n"
      ]
    },
    {
      "cell_type": "markdown",
      "metadata": {
        "id": "Vn0ZoNhdD1Fm"
      },
      "source": [
        "**>Impresion**"
      ]
    },
    {
      "cell_type": "code",
      "execution_count": 784,
      "metadata": {
        "id": "nJKz2bhTDKIX"
      },
      "outputs": [],
      "source": [
        "def objective_function(P, args) : # img_or, img_prueba): #img prueba la que va actualizando\n",
        "  img_or, img_prueba = args\n",
        "  #Parametros de la imagen\n",
        "  width, height, radio, R, G, B, alpha = int(P[0]), int(P[1]), int(P[2]), int(P[3]), int(P[4]), int(P[5]), int(P[6])\n",
        "\n",
        "  img_ind = copy.deepcopy(img_prueba)\n",
        "  img_ind = cv2.circle(img_ind,(width,height), radio, (R, G, B), -1) #Ingresamos el circulo con los parametros dados\n",
        "  img_ind = cv2.addWeighted(img_ind, alpha/255, img_prueba, 1 - alpha/255, 0) #Ingresamos el circulo con los parametros dados\n",
        "\n",
        "  return np.sum( np.abs( img_ind - img_or) ) #% de pixeles diferentes\n",
        "\n",
        "def draw_solution(P, img_prueba, return_sol = False):\n",
        "  #Parametros de la imagen\n",
        "  width, height, radio, R, G, B, alpha = int(P[0]), int(P[1]), int(P[2]), int(P[3]), int(P[4]), int(P[5]), int(P[6])\n",
        "  \n",
        "  img_ind = copy.deepcopy(img_prueba)\n",
        "  img_ind = cv2.circle(img_ind,(width,height), radio, (R, G, B), -1) #Ingresamos el circulo con los parametros dados\n",
        "  img_ind = cv2.addWeighted(img_ind, alpha/255, img_prueba, 1 - alpha/255, 0) #Ingresamos el circulo con los parametros dados\n",
        " \n",
        "  #Mostramos las imagen con circulos\n",
        "  plt.imshow(img_ind)\n",
        "  plt.show()\n",
        "\n",
        "  if return_sol:\n",
        "    return img_ind"
      ]
    },
    {
      "cell_type": "markdown",
      "metadata": {
        "id": "ssKoqfEJ-_wZ"
      },
      "source": [
        "**>Initial population**"
      ]
    },
    {
      "cell_type": "code",
      "execution_count": 785,
      "metadata": {
        "id": "CI0M_csZ50uH"
      },
      "outputs": [],
      "source": [
        "#Cada individuo=circulo con variables de bounds\n",
        "def initial_population(n, bounds): \n",
        "  popx = np.zeros(( n, len(bounds)))\n",
        "  for j in range(len(bounds)):\n",
        "    popx[:,j] = np.random.uniform(bounds[j, 0], bounds[j, 1],size=(n)) #agarramos los nuevos valores \n",
        "  return popx"
      ]
    },
    {
      "cell_type": "markdown",
      "metadata": {
        "id": "BnRMnOb__TP7"
      },
      "source": [
        "**>Mutation**"
      ]
    },
    {
      "cell_type": "code",
      "execution_count": 786,
      "metadata": {
        "id": "S7AZC9VK6GZ9"
      },
      "outputs": [],
      "source": [
        "def mutation(population,popsize): \n",
        "  i1 = random.randint(0, popsize-1)\n",
        "  i2 = random.randint(0, popsize-1)\n",
        "  i3 = random.randint(0, popsize-1)\n",
        "  x1 = population[i1, :]\n",
        "  x2 = population[i2, :]\n",
        "  x3 = population[i3, :]\n",
        "  f = np.random.uniform(0, 2, x3.shape)\n",
        "  v = x1 + f*(x2 - x3) # Ecuación de mutación \n",
        "  v = np.clip(v, bounds[:, 0], bounds[:, 1])\n",
        "  return v"
      ]
    },
    {
      "cell_type": "markdown",
      "metadata": {
        "id": "5gF1U89t_gLX"
      },
      "source": [
        "**>Crossover**"
      ]
    },
    {
      "cell_type": "code",
      "execution_count": 787,
      "metadata": {
        "id": "dtRJ6wzB6MQ3"
      },
      "outputs": [],
      "source": [
        "def crossover(xi, v, cr):\n",
        "  u = np.zeros_like(v)\n",
        "  l = np.random.randint(len(v))\n",
        "  for k in range(len(u)):\n",
        "    if (np.random.rand() <= cr or k == l):\n",
        "      u[k] = v[k]\n",
        "    else:\n",
        "      u[k] = xi[k]\n",
        "  return u"
      ]
    },
    {
      "cell_type": "markdown",
      "metadata": {
        "id": "1vMXvRPw_lFD"
      },
      "source": [
        "**>Selection**"
      ]
    },
    {
      "cell_type": "code",
      "execution_count": 788,
      "metadata": {
        "id": "61oD69QY6NlG"
      },
      "outputs": [],
      "source": [
        "#population,fitness, i,u,func,args\n",
        "def selection(population,fitness, i, u, func, args):\n",
        "  fitnessu = func(u,args)\n",
        "  if( fitnessu < fitness[i] ):\n",
        "    population[i] = u\n",
        "    fitness[i] = fitnessu\n",
        "  return population,fitness  "
      ]
    },
    {
      "cell_type": "markdown",
      "metadata": {
        "id": "6vNX9eWP_tCF"
      },
      "source": [
        "**Differential Evolution**"
      ]
    },
    {
      "cell_type": "code",
      "execution_count": 789,
      "metadata": {
        "id": "eK77YJX86RU1"
      },
      "outputs": [],
      "source": [
        "#Parametros\n",
        "def differential_evolution(func,bounds,args,n=100,cr=0.9,g=1000):\n",
        "  img_or, img_prueba = args\n",
        "  population = initial_population(n, bounds)\n",
        "  fitness_population = np.zeros(n)\n",
        "  for i in range(n):\n",
        "    fitness_population[i] = func(population[i, :], args)\n",
        "  i = 0\n",
        "  while(i < g):\n",
        "    i = i+1\n",
        "    for j in range(n):\n",
        "      v = mutation(population, n)\n",
        "      v = crossover(population[j], v, cr)\n",
        "      population, fitness_population = selection(population, fitness_population, j, v, func, args)\n",
        "  \n",
        "  idx = np.argmin(fitness_population)\n",
        "  individual = population[idx]\n",
        "  return individual"
      ]
    },
    {
      "cell_type": "code",
      "execution_count": 790,
      "metadata": {
        "colab": {
          "base_uri": "https://localhost:8080/",
          "height": 358
        },
        "id": "Uk19h84BKuTy",
        "outputId": "8ffd364e-4650-4fd1-9e21-32c6d78d8b73"
      },
      "outputs": [
        {
          "data": {
            "image/png": "[encoded data removed]",
            "text/plain": [
              "<Figure size 640x480 with 1 Axes>"
            ]
          },
          "metadata": {},
          "output_type": "display_data"
        },
        {
          "data": {
            "image/png": "[encoded data removed]",
            "text/plain": [
              "<Figure size 640x480 with 1 Axes>"
            ]
          },
          "metadata": {},
          "output_type": "display_data"
        },
        {
          "data": {
            "image/png": "[encoded data removed]",
            "text/plain": [
              "<Figure size 640x480 with 1 Axes>"
            ]
          },
          "metadata": {},
          "output_type": "display_data"
        }
      ],
      "source": [
        "#Extrayendo los datos de nuestra imagen original\n",
        "img = np.zeros_like(img_or)\n",
        "for circulo in range(3):\n",
        "    sol = differential_evolution(objective_function,bounds, (img_or.copy(), img.copy()), n=50, cr=0.8, g=250)\n",
        "    error = objective_function(sol, (img_or, img))\n",
        "    img = draw_solution(sol, img, return_sol = True)"
      ]
    }
  ],
  "metadata": {
    "colab": {
      "collapsed_sections": [],
      "provenance": []
    },
    "kernelspec": {
      "display_name": "Python 3.9.13 64-bit",
      "language": "python",
      "name": "python3"
    },
    "language_info": {
      "codemirror_mode": {
        "name": "ipython",
        "version": 3
      },
      "file_extension": ".py",
      "mimetype": "text/x-python",
      "name": "python",
      "nbconvert_exporter": "python",
      "pygments_lexer": "ipython3",
      "version": "3.9.13"
    },
    "vscode": {
      "interpreter": {
        "hash": "d36eb4ffb1b509eac7c8ec69a0f00740540681bdf210a10d1e2607102c088e08"
      }
    }
  },
  "nbformat": 4,
  "nbformat_minor": 0
}
