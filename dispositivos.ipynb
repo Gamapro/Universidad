{
 "cells": [
  {
   "cell_type": "code",
   "execution_count": 12,
   "metadata": {},
   "outputs": [],
   "source": [
    "import nmap"
   ]
  },
  {
   "cell_type": "code",
   "execution_count": null,
   "metadata": {},
   "outputs": [
    {
     "ename": "AttributeError",
     "evalue": "module 'nmap' has no attribute 'PortScanner'",
     "output_type": "error",
     "traceback": [
      "\u001b[1;31m---------------------------------------------------------------------------\u001b[0m",
      "\u001b[1;31mAttributeError\u001b[0m                            Traceback (most recent call last)",
      "\u001b[1;32mc:\\Users\\David Arcos\\Documents\\GitHub\\Universidad\\dispositivos.ipynb Cell 2\u001b[0m in \u001b[0;36m<cell line: 1>\u001b[1;34m()\u001b[0m\n\u001b[1;32m----> <a href='vscode-notebook-cell:/c%3A/Users/David%20Arcos/Documents/GitHub/Universidad/dispositivos.ipynb#W1sZmlsZQ%3D%3D?line=0'>1</a>\u001b[0m scanner \u001b[39m=\u001b[39m nmap\u001b[39m.\u001b[39;49mPortScanner()\n\u001b[0;32m      <a href='vscode-notebook-cell:/c%3A/Users/David%20Arcos/Documents/GitHub/Universidad/dispositivos.ipynb#W1sZmlsZQ%3D%3D?line=2'>3</a>\u001b[0m \u001b[39mprint\u001b[39m(\u001b[39m\"\u001b[39m\u001b[39mBienvenido, este es un simple escaner de puertos\u001b[39m\u001b[39m\"\u001b[39m)\n\u001b[0;32m      <a href='vscode-notebook-cell:/c%3A/Users/David%20Arcos/Documents/GitHub/Universidad/dispositivos.ipynb#W1sZmlsZQ%3D%3D?line=4'>5</a>\u001b[0m ip_addr \u001b[39m=\u001b[39m \u001b[39minput\u001b[39m(\u001b[39m\"\u001b[39m\u001b[39mIngresa la direccion IP: \u001b[39m\u001b[39m\"\u001b[39m)\n",
      "\u001b[1;31mAttributeError\u001b[0m: module 'nmap' has no attribute 'PortScanner'"
     ]
    }
   ],
   "source": [
    "\n",
    "scanner = nmap.PortScanner()\n",
    "\n",
    "print(\"Bienvenido, este es un simple escaner de puertos\")\n",
    "\n",
    "ip_addr = input(\"Ingresa la direccion IP: \")\n",
    "print(\"La IP que ingresaste es: \", ip_addr)\n",
    "\n",
    "type(ip_addr)\n",
    "\n",
    "resp = input(\"\"\"\\n ¿Que tipo de escaneo quieres realizar?\n",
    "                1) Escaneo SYN ACK\n",
    "                2) Escaneo UDP\n",
    "                3) Escaneo completo\n",
    "                \\n\"\"\")\n",
    "\n",
    "print(\"Opcion elegida: \", resp)\n",
    "\n",
    "if resp == '1':\n",
    "    print(\"Nmap Version: \", scanner.nmap_version())\n",
    "    scanner.scan(ip_addr, '1-1024', '-v -sS')\n",
    "    print(scanner.scaninfo())\n",
    "    print(\"IP Status: \", scanner[ip_addr].state())\n",
    "    print(scanner[ip_addr].all_protocols())\n",
    "    print(\"Puertos abiertos: \", scanner[ip_addr]['tcp'].keys())\n",
    "\n",
    "elif resp == '2':\n",
    "\n",
    "    print(\"Nmap Version: \", scanner.nmap_version())\n",
    "    scanner.scan(ip_addr, '1-1024', '-v -sU')\n",
    "    print(scanner.scaninfo())\n",
    "    print(\"IP Status: \", scanner[ip_addr].state())\n",
    "    print(scanner[ip_addr].all_protocols())\n",
    "    print(\"Puertos abiertos: \", scanner[ip_addr]['udp'].keys())\n",
    "\n",
    "\n",
    "elif resp == '3':\n",
    "\n",
    "    print(\"Nmap Version: \", scanner.nmap_version())\n",
    "    scanner.scan(ip_addr, '1-1024', '-v -sS -sV -sC -A -O')\n",
    "    print(scanner.scaninfo())\n",
    "    print(\"IP Status: \", scanner[ip_addr].state())\n",
    "    print(scanner[ip_addr].all_protocols())\n",
    "    print(\"Puertos abiertos: \", scanner[ip_addr]['tcp'].keys())\n",
    "\n",
    "elif resp >= '4':\n",
    "    print(\"Opcion invalida\")\n"
   ]
  }
 ],
 "metadata": {
  "kernelspec": {
   "display_name": "Python 3",
   "language": "python",
   "name": "python3"
  },
  "language_info": {
   "codemirror_mode": {
    "name": "ipython",
    "version": 3
   },
   "file_extension": ".py",
   "mimetype": "text/x-python",
   "name": "python",
   "nbconvert_exporter": "python",
   "pygments_lexer": "ipython3",
   "version": "3.9.13"
  },
  "orig_nbformat": 4
 },
 "nbformat": 4,
 "nbformat_minor": 2
}
