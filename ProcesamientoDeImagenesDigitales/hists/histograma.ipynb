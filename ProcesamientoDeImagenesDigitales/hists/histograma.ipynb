{
 "cells": [
  {
   "cell_type": "markdown",
   "metadata": {},
   "source": [
    "# David Gamaliel Arcos Bravo\n",
    "# Fransisco Alfredo Castrellon Carrillo"
   ]
  },
  {
   "cell_type": "code",
   "execution_count": 104,
   "metadata": {},
   "outputs": [],
   "source": [
    "from gc import collect\n",
    "import numpy as np\n",
    "import matplotlib.pyplot as plt\n",
    "import cv2\n",
    "\n",
    "from collections import defaultdict\n",
    "from copy import deepcopy"
   ]
  },
  {
   "cell_type": "code",
   "execution_count": 105,
   "metadata": {},
   "outputs": [
    {
     "name": "stdout",
     "output_type": "stream",
     "text": [
      "18\n",
      "15\n",
      "13\n",
      "9\n",
      "9\n",
      "7\n",
      "6\n",
      "13\n",
      "16\n",
      "3\n"
     ]
    },
    {
     "data": {
      "text/plain": [
       "<matplotlib.image.AxesImage at 0x20c7fc27f40>"
      ]
     },
     "execution_count": 105,
     "metadata": {},
     "output_type": "execute_result"
    },
    {
     "data": {
      "image/png": "[encoded data removed]",
      "text/plain": [
       "<Figure size 640x480 with 1 Axes>"
      ]
     },
     "metadata": {},
     "output_type": "display_data"
    }
   ],
   "source": [
    "X = 10\n",
    "N = 20\n",
    "M = 30\n",
    "K = 10\n",
    "MAX_HEIGHT = 20\n",
    "kernel = np.ones((X,N),np.uint64)\n",
    "img = np.zeros((X*MAX_HEIGHT, (M+N)*K+M), dtype=np.uint64)\n",
    "\n",
    "for i in range(K):\n",
    "    h = np.random.randint(1, MAX_HEIGHT)*X\n",
    "    img[h:, (M+N)*i+M:(M+N)*i+M+N] = 1\n",
    "    print(MAX_HEIGHT - h//X)\n",
    "\n",
    "plt.imshow(img, cmap='gray')"
   ]
  },
  {
   "cell_type": "code",
   "execution_count": 116,
   "metadata": {},
   "outputs": [
    {
     "name": "stdout",
     "output_type": "stream",
     "text": [
      "18.0\n",
      "15.0\n",
      "13.0\n",
      "9.0\n",
      "9.0\n",
      "7.0\n",
      "6.0\n",
      "13.0\n",
      "16.0\n",
      "3.0\n",
      "109.0\n",
      "[18.0, 15.0, 13.0, 9.0, 9.0, 7.0, 6.0, 13.0, 16.0, 3.0]\n"
     ]
    }
   ],
   "source": [
    "from functools import total_ordering\n",
    "\n",
    "\n",
    "total = 0\n",
    "total_vec = []\n",
    "for i in range(K):\n",
    "    cont = 0\n",
    "    for j in range(MAX_HEIGHT):\n",
    "        cont += np.sum(img[:, (M+N)*i+M:(M+N)*i+M+N])\n",
    "    print(cont//N//X//MAX_HEIGHT)\n",
    "    total += cont//N//X//MAX_HEIGHT\n",
    "    total_vec.append(cont//N//X//MAX_HEIGHT)\n",
    "print(total)\n",
    "print(total_vec)"
   ]
  },
  {
   "cell_type": "code",
   "execution_count": 123,
   "metadata": {},
   "outputs": [
    {
     "name": "stdout",
     "output_type": "stream",
     "text": [
      "109\n",
      "[18.0, 15.0, 13.0, 9.0, 9.0, 7.0, 6.0, 13.0, 16.0, 3.0]\n",
      "[18, 15, 13, 9, 9, 7, 6, 13, 16, 3]\n"
     ]
    },
    {
     "data": {
      "text/plain": [
       "<matplotlib.image.AxesImage at 0x20c03613c70>"
      ]
     },
     "execution_count": 123,
     "metadata": {},
     "output_type": "execute_result"
    },
    {
     "data": {
      "image/png": "[encoded data removed]",
      "text/plain": [
       "<Figure size 640x480 with 1 Axes>"
      ]
     },
     "metadata": {},
     "output_type": "display_data"
    }
   ],
   "source": [
    "imgcpy = deepcopy(img) # .copy()\n",
    "counts = defaultdict(int)\n",
    "w, h = imgcpy.shape\n",
    "\n",
    "wArr = [0, N-1]\n",
    "hArr = [0, X-1]\n",
    "cnt = 0\n",
    "executed = True\n",
    "cont = [0 for i in range(K)]\n",
    "while executed:\n",
    "    executed = False\n",
    "    for i in reversed(range(len(imgcpy))):\n",
    "        for j in range(len(imgcpy[i])):\n",
    "            if imgcpy[i,j] == 1 and 0 < i <= (X*MAX_HEIGHT)-X and 0 < j <= (M+N)*K+M - (N+M):\n",
    "                if imgcpy[i-1, j-1] == 0 and imgcpy[i+X-1, j+N-1] == 1: #Entro\n",
    "                    # imgcpy[i:i+X-1, j:j+N-1] = 0\n",
    "                    imgcpy[i:i+X, j:j+N] = 0\n",
    "                    cont[j//(M+N)] += 1\n",
    "                    cnt += 1\n",
    "                    executed = True\n",
    "print(cnt)\n",
    "print(total_vec)\n",
    "print(cont)\n",
    "plt.imshow(imgcpy, cmap='gray')"
   ]
  }
 ],
 "metadata": {
  "kernelspec": {
   "display_name": "Python 3.9.13 64-bit",
   "language": "python",
   "name": "python3"
  },
  "language_info": {
   "codemirror_mode": {
    "name": "ipython",
    "version": 3
   },
   "file_extension": ".py",
   "mimetype": "text/x-python",
   "name": "python",
   "nbconvert_exporter": "python",
   "pygments_lexer": "ipython3",
   "version": "3.9.13"
  },
  "orig_nbformat": 4,
  "vscode": {
   "interpreter": {
    "hash": "d36eb4ffb1b509eac7c8ec69a0f00740540681bdf210a10d1e2607102c088e08"
   }
  }
 },
 "nbformat": 4,
 "nbformat_minor": 2
}
