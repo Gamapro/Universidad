{
 "cells": [
  {
   "cell_type": "code",
   "execution_count": 10,
   "metadata": {},
   "outputs": [],
   "source": [
    "import json"
   ]
  },
  {
   "cell_type": "code",
   "execution_count": 11,
   "metadata": {},
   "outputs": [],
   "source": [
    "f = open('waifus.json')\n",
    " \n",
    "data = json.load(f)"
   ]
  },
  {
   "cell_type": "code",
   "execution_count": 12,
   "metadata": {},
   "outputs": [
    {
     "name": "stdout",
     "output_type": "stream",
     "text": [
      "{'origin': '', 'weight': '0.00', 'creator': {'rolename': '', 'id': 19173, 'name': 'Giovanni33'}, 'series': {'description': '', 'id': 2059, 'slug': 'koi-wa-ameagari-no-you-ni', 'name': 'Koi wa Ameagari no You ni'}, 'height': '0.00', 'birthday_day': 0, 'likes': 0, 'id': 0, 'bust': '0.00', 'name': \"Akira's Mother\", 'birthday_month': '', 'trash': 0, 'blood_type': '', 'hip': '0.00', 'description': \"Akira's mother.\", 'tags': [], 'display_picture': 'images/0.jpeg', 'slug': 'akira-s-mother', 'alternative_name': '', 'birthday_year': '', 'waist': '0.00', 'age': None, 'creator_id': 19173}\n"
     ]
    }
   ],
   "source": [
    "print(data[0])"
   ]
  },
  {
   "cell_type": "code",
   "execution_count": 13,
   "metadata": {},
   "outputs": [],
   "source": [
    "series = {}\n",
    "creators = {}\n",
    "tags = {}\n",
    "\n",
    "\n",
    "for i in data:\n",
    "    serie = i['series']\n",
    "    if serie['id'] not in series.keys():\n",
    "        series[serie['id']] = serie\n",
    "        \n",
    "    creator = i['creator']\n",
    "    if creator is not None and creator['id'] is not None and creator['id'] not in creators.keys():\n",
    "        creators[creator['id']] = creator\n",
    "    \n",
    "    tag_s = i['tags']\n",
    "    for tag in tag_s:\n",
    "        if tag is not None and tag['id'] is not None and tag['id'] not in tags.keys():\n",
    "            tags[tag['id']] = tag\n",
    "            "
   ]
  },
  {
   "cell_type": "code",
   "execution_count": 14,
   "metadata": {},
   "outputs": [],
   "source": [
    "def removelines(value):\n",
    "    return ''.join(value.splitlines())"
   ]
  },
  {
   "cell_type": "code",
   "execution_count": 20,
   "metadata": {},
   "outputs": [],
   "source": [
    "seriesfile = open(\"../sql-scripts/series.sql\", \"w\", encoding=\"utf-8\")\n",
    "for id in sorted(series):\n",
    "    serie = series[id]\n",
    "    \n",
    "    name = removelines(serie['name']).replace('\\n', '').replace(\"'\", \"''\")\n",
    "    desc = removelines(serie['description']).replace('\\n', '').replace(\"'\", \"''\")\n",
    "    \n",
    "    query = f\"INSERT INTO Series(id, name, description) VALUES ({id},N'{name}',N'{desc}');\\n\"\n",
    "    seriesfile.write(query)\n",
    "    \n",
    "seriesfile.close()"
   ]
  },
  {
   "cell_type": "code",
   "execution_count": 21,
   "metadata": {},
   "outputs": [],
   "source": [
    "tagsfile = open(\"../sql-scripts/tags.sql\", \"w\", encoding=\"utf-8\")\n",
    "\n",
    "for id in sorted(tags):\n",
    "    tag = tags[id]\n",
    "    \n",
    "    name = removelines(tag['name']).replace('\\n', '').replace(\"'\", \"''\")\n",
    "    \n",
    "    query = f\"INSERT INTO Tags(id, name) VALUES ({id},'{name}');\\n\"\n",
    "    tagsfile.write(query)\n",
    "    \n",
    "tagsfile.close()"
   ]
  },
  {
   "cell_type": "code",
   "execution_count": 22,
   "metadata": {},
   "outputs": [],
   "source": [
    "creatorsfile = open(\"../sql-scripts/creators.sql\", \"w\", encoding=\"utf-8\")\n",
    "\n",
    "for id in sorted(creators):\n",
    "    creator = creators[id]\n",
    "    \n",
    "    name = removelines(creator['name']).replace('\\n', '').replace(\"'\", \"''\")\n",
    "    \n",
    "    query = f\"INSERT INTO Creators(id, name) VALUES ({id},'{name}');\\n\"\n",
    "    creatorsfile.write(query)\n",
    "    \n",
    "creatorsfile.close()"
   ]
  },
  {
   "cell_type": "code",
   "execution_count": 23,
   "metadata": {},
   "outputs": [],
   "source": [
    "charactersfile = open(\"../sql-scripts/characters.sql\", \"w\", encoding=\"utf-8\")\n",
    "characterstagsfile = open(\"../sql-scripts/characterstags.sql\", \"w\", encoding=\"utf-8\")\n",
    "\n",
    "tagrelid = 0\n",
    "\n",
    "for i in data:\n",
    "\n",
    "    id = i['id']\n",
    "    name = removelines(i['name']).replace('\\n', '').replace(\"'\", \"''\")\n",
    "    seriesId = i['series']['id']\n",
    "    birthday_day = i['birthday_day'] if i['birthday_day'] is not None else 'null'\n",
    "    birthday_month = (\"'\" + i['birthday_month'] + \"'\") if i['birthday_month'] is not None else 'null'\n",
    "    birthday_year = (\"'\" + i['birthday_year'] + \"'\") if i['birthday_year'] is not None and len(i['birthday_year']) > 1 else 'null'\n",
    "    age = i['age'] if i['age'] is not None else 'null'\n",
    "    height = i['height'] if i['height'] is not None else 'null'\n",
    "    weight = i['weight'] if i['weight'] is not None else 'null'\n",
    "    bust = i['bust'] if i['bust'] is not None else 'null'\n",
    "    waist = i['waist'] if i['waist'] is not None else 'null'\n",
    "    hip = i['hip'] if i['hip'] is not None else 'null'\n",
    "    likes = i['likes'] if i['likes'] is not None else 'null'\n",
    "    description = removelines(i['description']) .replace('\\n', '').replace(\"'\", \"''\")\n",
    "    displayPicture = i['display_picture']\n",
    "    alternative_name = removelines(i['alternative_name']).replace('\\n', '').replace(\"'\", \"''\")\n",
    "\n",
    "    creatorId = 'null'\n",
    "    if(i['creator'] is not None):\n",
    "        creatorId = i['creator']['id']\n",
    "\n",
    "    query = f\"INSERT INTO Characters(id, name, seriesId, birthday_day, birthday_month, birthday_year, age, height, weight, description, creatorId, displayPicture, alternative_name, bust, waist, hip, likes) VALUES ({id}, '{name}', {seriesId}, {birthday_day}, {birthday_month}, {birthday_year}, {age}, {height}, {weight}, N'{description}', {creatorId}, '{displayPicture}', N'{alternative_name}', {bust}, {waist}, {hip}, {likes});\\n\"\n",
    "    charactersfile.write(query)\n",
    "    \n",
    "    for tag in i['tags']:\n",
    "        tagsrel = f'INSERT INTO CharactersTags(id, idCharacter, idTag) VALUES ({tagrelid}, {id}, {tag[\"id\"]});\\n'\n",
    "        characterstagsfile.write(tagsrel)\n",
    "        tagrelid+=1\n",
    "    \n",
    "charactersfile.close()\n",
    "characterstagsfile.close()"
   ]
  }
 ],
 "metadata": {
  "interpreter": {
   "hash": "ac59ebe37160ed0dfa835113d9b8498d9f09ceb179beaac4002f036b9467c963"
  },
  "kernelspec": {
   "display_name": "Python 3.9.7 64-bit",
   "language": "python",
   "name": "python3"
  },
  "language_info": {
   "codemirror_mode": {
    "name": "ipython",
    "version": 3
   },
   "file_extension": ".py",
   "mimetype": "text/x-python",
   "name": "python",
   "nbconvert_exporter": "python",
   "pygments_lexer": "ipython3",
   "version": "3.9.2"
  },
  "orig_nbformat": 4
 },
 "nbformat": 4,
 "nbformat_minor": 2
}
