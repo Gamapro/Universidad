{
 "cells": [
  {
   "attachments": {},
   "cell_type": "markdown",
   "metadata": {},
   "source": [
    "## Introduction to PyTorch\n",
    "\n",
    "Ricardo Espinosa\n",
    "\n",
    "Deep Learning Class"
   ]
  },
  {
   "cell_type": "markdown",
   "metadata": {},
   "source": [
    "Welcome to our PyTorch tutorial for the Deep Learning course at the Universidad Panamericana The following notebook is meant to give a short introduction to PyTorch basics, and get you setup for writing your own neural networks. PyTorch is an open source machine learning framework that allows you to write your own neural networks and optimize them efficiently. However, PyTorch is not the only framework of its kind. Alternatives to PyTorch include [TensorFlow](https://www.tensorflow.org/), [JAX](https://github.com/google/jax#quickstart-colab-in-the-cloud) and [Caffe](http://caffe.berkeleyvision.org/). We choose to teach PyTorch because it is well established, has a huge developer community (originally developed by Facebook), is very flexible and especially used in research. Many current papers publish their code in PyTorch, and thus it is good to be familiar with PyTorch as well. \n",
    "Meanwhile, TensorFlow (developed by Google) is usually known for being a production-grade deep learning library. Still, if you know one machine learning framework in depth, it is very easy to learn another one because many of them use the same concepts and ideas. For instance, TensorFlow's version 2 was heavily inspired by the most popular features of PyTorch, making the frameworks even more similar. "
   ]
  },
  {
   "cell_type": "code",
   "execution_count": 1506,
   "metadata": {},
   "outputs": [
    {
     "name": "stderr",
     "output_type": "stream",
     "text": [
      "C:\\Users\\David Arcos\\AppData\\Local\\Temp\\ipykernel_25916\\3937499902.py:11: DeprecationWarning: `set_matplotlib_formats` is deprecated since IPython 7.23, directly use `matplotlib_inline.backend_inline.set_matplotlib_formats()`\n",
      "  set_matplotlib_formats('svg', 'pdf') # For export\n"
     ]
    }
   ],
   "source": [
    "## Standard libraries\n",
    "import os\n",
    "import math\n",
    "import numpy as np \n",
    "import time\n",
    "\n",
    "## Imports for plotting\n",
    "import matplotlib.pyplot as plt\n",
    "%matplotlib inline \n",
    "from IPython.display import set_matplotlib_formats\n",
    "set_matplotlib_formats('svg', 'pdf') # For export\n",
    "from matplotlib.colors import to_rgba\n",
    "import seaborn as sns\n",
    "sns.set()\n",
    "\n",
    "## Progress bar\n",
    "from tqdm.notebook import tqdm"
   ]
  },
  {
   "cell_type": "code",
   "execution_count": 1507,
   "metadata": {},
   "outputs": [],
   "source": [
    "from torch.utils.tensorboard import SummaryWriter"
   ]
  },
  {
   "cell_type": "markdown",
   "metadata": {},
   "source": [
    "## The Basics of PyTorch\n",
    "\n",
    "We will start with reviewing the very basic concepts of PyTorch. As a prerequisite, we recommend to be familiar with the `numpy` package as most machine learning frameworks are based on very similar concepts. If you are not familiar with numpy yet, don't worry: here is a [tutorial](https://numpy.org/devdocs/user/quickstart.html) to go through. \n",
    "\n",
    "So, let's start with importing PyTorch. The package is called `torch`, based on its original framework [Torch](http://torch.ch/). As a first step, we can check its version:"
   ]
  },
  {
   "cell_type": "code",
   "execution_count": 1508,
   "metadata": {},
   "outputs": [
    {
     "name": "stdout",
     "output_type": "stream",
     "text": [
      "Using torch 1.13.1+cu116\n"
     ]
    }
   ],
   "source": [
    "import torch\n",
    "print(\"Using torch\", torch.__version__)"
   ]
  },
  {
   "cell_type": "markdown",
   "metadata": {},
   "source": [
    "At the time of writing this tutorial (mid of October 2020), the current stable version is 1.6. You should therefore see the output `Using torch 1.6.0`. If you see a lower version number, make sure you have installed the correct the environment, or ask one of your TAs. In case PyTorch 1.7 or newer will be published during the time of the course, don't worry. The interface between PyTorch versions doesn't change too much, and hence all code should also be runnable with newer versions.\n",
    "\n",
    "As in every machine learning framework, PyTorch provides functions that are stochastic like generating random numbers. However, a very good practice is to setup your code to be reproducible with the exact same random numbers. This is why we set a seed below. "
   ]
  },
  {
   "cell_type": "code",
   "execution_count": 1509,
   "metadata": {},
   "outputs": [
    {
     "data": {
      "text/plain": [
       "<torch._C.Generator at 0x25c997f4190>"
      ]
     },
     "execution_count": 1509,
     "metadata": {},
     "output_type": "execute_result"
    }
   ],
   "source": [
    "torch.manual_seed(42) # Setting the seed"
   ]
  },
  {
   "cell_type": "markdown",
   "metadata": {},
   "source": [
    "### Tensors\n",
    "\n",
    "Tensors are the PyTorch equivalent to Numpy arrays, with the addition to also have support for GPU acceleration (more on that later).\n",
    "The name \"tensor\" is a generalization of concepts you already know. For instance, a vector is a 1-D tensor, and a matrix a 2-D tensor. When working with neural networks, we will use tensors of various shapes and number of dimensions.\n",
    "\n",
    "Most common functions you know from numpy can be used on tensors as well. Actually, since numpy arrays are so similar to tensors, we can convert most tensors to numpy arrays (and back) but we don't need it too often.\n",
    "\n",
    "#### Initialization\n",
    "\n",
    "Let's first start by looking at different ways of creating a tensor. There are many possible options, the most simple one is to call `torch.Tensor` passing the desired shape as input argument:"
   ]
  },
  {
   "cell_type": "code",
   "execution_count": 1510,
   "metadata": {},
   "outputs": [
    {
     "name": "stdout",
     "output_type": "stream",
     "text": [
      "torch.Size([2, 3, 4])\n"
     ]
    }
   ],
   "source": [
    "x = torch.Tensor(2, 3, 4)\n",
    "print(x.shape)"
   ]
  },
  {
   "cell_type": "markdown",
   "metadata": {},
   "source": [
    "The function `torch.Tensor` allocates memory for the desired tensor, but reuses any values that have already been in the memory. To directly assign values to the tensor during initialization, there are many alternatives including:\n",
    "\n",
    "* `torch.zeros`: Creates a tensor filled with zeros\n",
    "* `torch.ones`: Creates a tensor filled with ones\n",
    "* `torch.rand`: Creates a tensor with random values uniformly sampled between 0 and 1\n",
    "* `torch.randn`: Creates a tensor with random values sampled from a normal distribution with mean 0 and variance 1\n",
    "* `torch.arange`: Creates a tensor containing the values $N,N+1,N+2,...,M$\n",
    "* `torch.Tensor` (input list): Creates a tensor from the list elements you provide\n",
    "* `torch.from_numpy`: Converts a numpy array into a PyTorch tensor"
   ]
  },
  {
   "cell_type": "code",
   "execution_count": 1511,
   "metadata": {},
   "outputs": [
    {
     "name": "stdout",
     "output_type": "stream",
     "text": [
      "tensor([[1., 2.],\n",
      "        [3., 4.]])\n"
     ]
    }
   ],
   "source": [
    "## TODO: Create a tensor from the list [[1, 2], [3, 4]]\n",
    "x = torch.Tensor([[1, 2], [3, 4]])\n",
    "print(x)"
   ]
  },
  {
   "cell_type": "code",
   "execution_count": 1512,
   "metadata": {},
   "outputs": [
    {
     "name": "stdout",
     "output_type": "stream",
     "text": [
      "tensor([[[0.8823, 0.9150, 0.3829, 0.9593],\n",
      "         [0.3904, 0.6009, 0.2566, 0.7936],\n",
      "         [0.9408, 0.1332, 0.9346, 0.5936]],\n",
      "\n",
      "        [[0.8694, 0.5677, 0.7411, 0.4294],\n",
      "         [0.8854, 0.5739, 0.2666, 0.6274],\n",
      "         [0.2696, 0.4414, 0.2969, 0.8317]]]) torch.Size([2, 3, 4])\n"
     ]
    }
   ],
   "source": [
    "## TODO: Create a tensor with random values between 0 and 1 with the shape [2, 3, 4]\n",
    "x = torch.rand(2,3,4)\n",
    "print(x, x.shape)"
   ]
  },
  {
   "cell_type": "markdown",
   "metadata": {},
   "source": [
    "You can obtain the shape of a tensor in the same way as in numpy (`x.shape`), or using the `.size` method:"
   ]
  },
  {
   "cell_type": "code",
   "execution_count": 1513,
   "metadata": {},
   "outputs": [
    {
     "name": "stdout",
     "output_type": "stream",
     "text": [
      "Shape: torch.Size([2, 3, 4])\n",
      "Size: torch.Size([2, 3, 4])\n",
      "Size: 2 3 4\n"
     ]
    }
   ],
   "source": [
    "shape = x.shape\n",
    "print(\"Shape:\", x.shape)\n",
    "\n",
    "size = x.size()\n",
    "print(\"Size:\", size)\n",
    "\n",
    "dim1, dim2, dim3 = x.size()\n",
    "print(\"Size:\", dim1, dim2, dim3)"
   ]
  },
  {
   "cell_type": "markdown",
   "metadata": {},
   "source": [
    "#### Operations\n",
    "\n",
    "Most operations that exist in numpy, also exist in PyTorch. A full list of operations can be found in the [PyTorch documentation](https://pytorch.org/docs/stable/tensors.html#), but we will review the most important ones here.\n",
    "\n",
    "The simplest operation is to add two tensors:"
   ]
  },
  {
   "cell_type": "code",
   "execution_count": 1514,
   "metadata": {},
   "outputs": [
    {
     "name": "stdout",
     "output_type": "stream",
     "text": [
      "X1 tensor([[0.1053, 0.2695, 0.3588],\n",
      "        [0.1994, 0.5472, 0.0062]])\n",
      "X2 tensor([[0.9516, 0.0753, 0.8860],\n",
      "        [0.5832, 0.3376, 0.8090]])\n",
      "Y tensor([[1.0569, 0.3448, 1.2448],\n",
      "        [0.7826, 0.8848, 0.8151]])\n"
     ]
    }
   ],
   "source": [
    "x1 = torch.rand(2, 3)\n",
    "x2 = torch.rand(2, 3)\n",
    "\n",
    "## TODO: Sum up the tensors x1 and x2, and store the result in y\n",
    "y = torch.add(x1, x2)\n",
    "\n",
    "print(\"X1\", x1)\n",
    "print(\"X2\", x2)\n",
    "print(\"Y\", y)"
   ]
  },
  {
   "cell_type": "markdown",
   "metadata": {},
   "source": [
    "Calling `x1 + x2` creates a new tensor containing the sum of the two inputs. However, we can also use in-place operations that are applied directly on the memory of a tensor. We therefore change the values of `x2` without the chance to re-accessing the values of `x2` before the operation. An example is shown below:"
   ]
  },
  {
   "cell_type": "code",
   "execution_count": 1515,
   "metadata": {},
   "outputs": [
    {
     "name": "stdout",
     "output_type": "stream",
     "text": [
      "X1 (before) tensor([[0.5779, 0.9040, 0.5547],\n",
      "        [0.3423, 0.6343, 0.3644]])\n",
      "X2 (before) tensor([[0.7104, 0.9464, 0.7890],\n",
      "        [0.2814, 0.7886, 0.5895]])\n",
      "X1 (after) tensor([[0.5779, 0.9040, 0.5547],\n",
      "        [0.3423, 0.6343, 0.3644]])\n",
      "X2 (after) tensor([[1.2884, 1.8504, 1.3437],\n",
      "        [0.6237, 1.4230, 0.9539]])\n"
     ]
    }
   ],
   "source": [
    "x1 = torch.rand(2, 3)\n",
    "x2 = torch.rand(2, 3)\n",
    "print(\"X1 (before)\", x1)\n",
    "print(\"X2 (before)\", x2)\n",
    "\n",
    "x2.add_(x1)\n",
    "print(\"X1 (after)\", x1)\n",
    "print(\"X2 (after)\", x2)"
   ]
  },
  {
   "cell_type": "markdown",
   "metadata": {},
   "source": [
    "In-place operations are usually marked with a underscore postfix (e.g. \"add_\" instead of \"add\").\n",
    "\n",
    "Another common operation aims at changing the shape of a tensor. A tensor of size (2,3) can be re-organized to any other shape with the same number of elements (e.g. a tensor of size (6), or (3,2), ...). In PyTorch, this operation is called `view`:"
   ]
  },
  {
   "cell_type": "code",
   "execution_count": 1516,
   "metadata": {},
   "outputs": [
    {
     "name": "stdout",
     "output_type": "stream",
     "text": [
      "X tensor([0, 1, 2, 3, 4, 5])\n"
     ]
    }
   ],
   "source": [
    "## TODO: Create a tensor with the input values [0, .., 5] (i.e. a range to 6)\n",
    "x = torch.arange(0,6)\n",
    "print(\"X\", x)"
   ]
  },
  {
   "cell_type": "code",
   "execution_count": 1517,
   "metadata": {},
   "outputs": [
    {
     "name": "stdout",
     "output_type": "stream",
     "text": [
      "X tensor([[0, 1, 2],\n",
      "        [3, 4, 5]])\n"
     ]
    }
   ],
   "source": [
    "x = x.view(2, 3)\n",
    "print(\"X\", x)"
   ]
  },
  {
   "cell_type": "code",
   "execution_count": 1518,
   "metadata": {},
   "outputs": [
    {
     "name": "stdout",
     "output_type": "stream",
     "text": [
      "X tensor([[0, 3],\n",
      "        [1, 4],\n",
      "        [2, 5]])\n"
     ]
    }
   ],
   "source": [
    "x = x.permute(1, 0) # Swapping dimension 0 and 1\n",
    "print(\"X\", x)"
   ]
  },
  {
   "cell_type": "markdown",
   "metadata": {},
   "source": [
    "Other commonly used operations include matrix multiplications, which are essential for neural networks. Quite often, we have an input vector $\\mathbf{x}$, which is transformed using a learned weight matrix $\\mathbf{W}$. There are multiple ways and functions to perform matrix multiplication, some of which we list below:\n",
    "\n",
    "* `torch.matmul`: Performs the matrix product over two tensors, where the specific behavior depends on the dimensions. If both inputs are matrices (2-dimensional tensors), it performs the standard matrix product. For higher dimensional inputs, the function supports broadcasting (for details see the [documentation](https://pytorch.org/docs/stable/generated/torch.matmul.html?highlight=matmul#torch.matmul)). Can also be written as `a @ b`, similar to numpy. \n",
    "* `torch.mm`: Performs the matrix product over two matrices, but doesn't support broadcasting (see [documentation](https://pytorch.org/docs/stable/generated/torch.mm.html?highlight=torch%20mm#torch.mm))\n",
    "* `torch.bmm`: Performs the matrix product with a support batch dimension. If the first tensor $T$ is of shape ($b\\times n\\times m$), and the second tensor $R$ ($b\\times m\\times p$), the output $O$ is of shape ($b\\times n\\times p$), and has been calculated by performing $b$ matrix multiplications of the submatrices of $T$ and $R$: $O_i = T_i @ R_i$\n",
    "* `torch.einsum`: Performs matrix multiplications and more (i.e. sums of products) using the Einstein summation convention. Explanation of the Einstein sum can be found in assignment 1.\n",
    "\n",
    "Usually, we use `torch.matmul` or `torch.bmm`. We can try a matrix multiplication with `torch.matmul` below."
   ]
  },
  {
   "cell_type": "code",
   "execution_count": 1519,
   "metadata": {},
   "outputs": [
    {
     "name": "stdout",
     "output_type": "stream",
     "text": [
      "X tensor([[0, 1, 2],\n",
      "        [3, 4, 5]])\n"
     ]
    }
   ],
   "source": [
    "x = torch.arange(6)\n",
    "x = x.view(2, 3)\n",
    "print(\"X\", x)"
   ]
  },
  {
   "cell_type": "code",
   "execution_count": 1520,
   "metadata": {},
   "outputs": [
    {
     "name": "stdout",
     "output_type": "stream",
     "text": [
      "W tensor([[0, 1, 2],\n",
      "        [3, 4, 5],\n",
      "        [6, 7, 8]])\n"
     ]
    }
   ],
   "source": [
    "W = torch.arange(9).view(3, 3) # We can also stack multiple operations in a single line\n",
    "print(\"W\", W)"
   ]
  },
  {
   "cell_type": "code",
   "execution_count": 1521,
   "metadata": {},
   "outputs": [
    {
     "name": "stdout",
     "output_type": "stream",
     "text": [
      "torch.Size([2, 3]) torch.Size([3, 3])\n",
      "h tensor([[15, 18, 21],\n",
      "        [42, 54, 66]])\n"
     ]
    }
   ],
   "source": [
    "## TODO: Perform a matrix multiplication between x and W\n",
    "print(x.shape, W.shape)\n",
    "h = torch.matmul(x,W) \n",
    "print(\"h\", h)\n",
    "# Verify the result by calculating it by hand too!"
   ]
  },
  {
   "cell_type": "markdown",
   "metadata": {},
   "source": [
    "#### Indexing\n",
    "\n",
    "We often have the situation where we need to select a part of a tensor. Indexing works just like in numpy, so let's try it:"
   ]
  },
  {
   "cell_type": "code",
   "execution_count": 1522,
   "metadata": {},
   "outputs": [
    {
     "name": "stdout",
     "output_type": "stream",
     "text": [
      "X tensor([[ 0,  1,  2,  3],\n",
      "        [ 4,  5,  6,  7],\n",
      "        [ 8,  9, 10, 11]])\n"
     ]
    }
   ],
   "source": [
    "x = torch.arange(12).view(3, 4)\n",
    "print(\"X\", x)"
   ]
  },
  {
   "cell_type": "code",
   "execution_count": 1523,
   "metadata": {},
   "outputs": [
    {
     "name": "stdout",
     "output_type": "stream",
     "text": [
      "tensor([1, 5, 9])\n"
     ]
    }
   ],
   "source": [
    "## TODO: Print the second column of the tensor x\n",
    "print(x[:,1])"
   ]
  },
  {
   "cell_type": "code",
   "execution_count": 1524,
   "metadata": {},
   "outputs": [
    {
     "name": "stdout",
     "output_type": "stream",
     "text": [
      "tensor([0, 1, 2, 3])\n"
     ]
    }
   ],
   "source": [
    "## TODO: Print the first row of the tensor x\n",
    "print(x[0,:])"
   ]
  },
  {
   "cell_type": "code",
   "execution_count": 1525,
   "metadata": {},
   "outputs": [
    {
     "name": "stdout",
     "output_type": "stream",
     "text": [
      "tensor([3, 7])\n"
     ]
    }
   ],
   "source": [
    "## TODO: Print the elements of the tensor x that are both in first two rows and the last column \n",
    "print(x[:2,-1])"
   ]
  },
  {
   "cell_type": "code",
   "execution_count": 1526,
   "metadata": {},
   "outputs": [
    {
     "name": "stdout",
     "output_type": "stream",
     "text": [
      "tensor([[ 1,  2],\n",
      "        [ 5,  6],\n",
      "        [ 9, 10]])\n"
     ]
    }
   ],
   "source": [
    "## TODO: Print the middle two rows of tensor x\n",
    "print(x[:,1:3])"
   ]
  },
  {
   "cell_type": "markdown",
   "metadata": {},
   "source": [
    "### Dynamic Computation Graph and Backpropagation\n",
    "\n",
    "One of the main reasons for using PyTorch in Deep Learning projects is that we can automatically get **gradients/derivatives** of functions that we define. We will mainly use PyTorch for implementing neural networks, and they are just fancy functions. If we use weight matrices in our function that we want to learn, then those are called the **parameters** or simply the **weights**.\n",
    "\n",
    "If our neural network would output a single scalar value, we would talk about taking the **derivative**, but you will see that quite often we will have **multiple** output variables (\"values\"); in that case we talk about **gradients**. It's a more general term.\n",
    "\n",
    "Given an input $\\mathbf{x}$, we define our function by **manipulating** that input, usually by matrix-multiplications with weight matrices and additions with so-called bias vectors. As we manipulate our input, we are automatically creating a **computational graph**. This graph shows how to arrive at our output from our input. \n",
    "PyTorch is a **define-by-run** framework; this means that we can just do our manipulations, and PyTorch will keep track of that graph for us. Thus, we create a dynamic computation graph along the way.\n",
    "\n",
    "So, to recap: the only thing we have to do is to compute the **output**, and then we can ask PyTorch to automatically get the **gradients**. \n",
    "\n",
    "> **Note:  Why do we want gradients?** Consider that we have defined a function, a neural net, that is supposed to compute a certain output $y$ for an input vector $\\mathbf{x}$. We then define an **error measure** that tells us how wrong our network is; how bad it is in predicting output $y$ from input $\\mathbf{x}$. Based on this error measure, we can use the gradients to **update** the weights $\\mathbf{W}$ that were responsible for the output, so that the next time we present input $\\mathbf{x}$ to our network, the output will be closer to what we want.\n",
    "\n",
    "The first thing we have to do is to specify which tensors require gradients. By default, when we create a tensor, it does not require gradients."
   ]
  },
  {
   "cell_type": "code",
   "execution_count": 1527,
   "metadata": {},
   "outputs": [
    {
     "name": "stdout",
     "output_type": "stream",
     "text": [
      "False\n"
     ]
    }
   ],
   "source": [
    "x = torch.ones((3,))\n",
    "print(x.requires_grad)"
   ]
  },
  {
   "cell_type": "markdown",
   "metadata": {},
   "source": [
    "We can change this for an existing tensor using the function `requires_grad_()` (underscore indicating that this is a in-place operation). Alternatively, when creating a tensor, you can pass the argument `requires_grad=True` to most initializers we have seen above."
   ]
  },
  {
   "cell_type": "code",
   "execution_count": 1528,
   "metadata": {},
   "outputs": [
    {
     "name": "stdout",
     "output_type": "stream",
     "text": [
      "True\n"
     ]
    }
   ],
   "source": [
    "x.requires_grad_(True)\n",
    "print(x.requires_grad)"
   ]
  },
  {
   "cell_type": "markdown",
   "metadata": {},
   "source": [
    "In order to get familiar with the concept of a computation graph, we will create one for the following function:\n",
    "\n",
    "$$y = \\frac{1}{|x|}\\sum_i \\left[(x_i + 2)^2 + 3\\right]$$\n",
    "\n",
    "You could imagine that $x$ are our parameters, and we want to optimize (either maximize or minimize) the output $y$. For this, we want to obtain the gradients $\\partial y / \\partial \\mathbf{x}$. For our example, we'll use $\\mathbf{x}=[0,1,2]$ as our input."
   ]
  },
  {
   "cell_type": "code",
   "execution_count": 1529,
   "metadata": {},
   "outputs": [
    {
     "name": "stdout",
     "output_type": "stream",
     "text": [
      "X tensor([0., 1., 2.], requires_grad=True)\n"
     ]
    }
   ],
   "source": [
    "## TODO: Create a tensor with values [0.0, 1.0, 2.0] which is requires gradients\n",
    "# Note that only float tensors can have gradients\n",
    "x = torch.arange(3.0, requires_grad=True)\n",
    "print(\"X\", x)"
   ]
  },
  {
   "cell_type": "markdown",
   "metadata": {},
   "source": [
    "Now let's build the computation graph step by step. You can combine multiple operations in a single line, but we will separate them here to get a better understanding of how each operation is added to the computation graph."
   ]
  },
  {
   "cell_type": "code",
   "execution_count": 1530,
   "metadata": {},
   "outputs": [
    {
     "name": "stdout",
     "output_type": "stream",
     "text": [
      "Y tensor(12.6667, grad_fn=<MeanBackward0>)\n"
     ]
    }
   ],
   "source": [
    "## TODO: Implement the function above in four steps, each representing one single operation (add -> a, square -> b, add -> c, mean -> y)\n",
    "a = x + 2\n",
    "b = a**2\n",
    "c = b + 3\n",
    "y = c.mean()\n",
    "print(\"Y\", y)"
   ]
  },
  {
   "cell_type": "markdown",
   "metadata": {},
   "source": [
    "Using the statements above, we have created a computation graph that looks similar to the figure below:\n",
    "\n",
    "<center style=\"width: 100%\"><img src=\"pytorch_computation_graph.svg\" width=\"200px\"></center>\n",
    "\n",
    "We calculate $a$ based on the inputs $x$ and the constant $2$, $b$ is $a$ squared, and so on. The visualization is an abstraction of the dependencies between inputs and outputs of the operations we have applied.\n",
    "Each node of the computation graph has automatically defined a function for calculating the gradients with respect to its inputs, `grad_fn`. You can see this when we printed the output tensor $y$. This is why the computation graph is usually visualized in the reverse direction (arrows point from the result to the inputs). We can perform backpropagation on the computation graph by calling the function `backward()` on the last output, which effectively calculates the gradients for each tensor that has the property `requires_grad=True`:"
   ]
  },
  {
   "cell_type": "code",
   "execution_count": 1531,
   "metadata": {},
   "outputs": [],
   "source": [
    "y.backward()"
   ]
  },
  {
   "cell_type": "markdown",
   "metadata": {},
   "source": [
    "`x.grad` will now contain the gradient $\\partial y/ \\partial \\mathcal{x}$, and this gradient indicates how a change in $\\mathbf{x}$ will affect output $y$ given the current input $\\mathbf{x}=[0,1,2]$:"
   ]
  },
  {
   "cell_type": "code",
   "execution_count": 1532,
   "metadata": {},
   "outputs": [
    {
     "name": "stdout",
     "output_type": "stream",
     "text": [
      "tensor([1.3333, 2.0000, 2.6667])\n"
     ]
    }
   ],
   "source": [
    "print(x.grad)"
   ]
  },
  {
   "cell_type": "markdown",
   "metadata": {},
   "source": [
    "We can also verify these gradients by hand. We will calculate the gradients using the chain rule, in the same way as PyTorch did it:\n",
    "\n",
    "$$\\frac{\\partial y}{\\partial x_i} = \\frac{\\partial y}{\\partial c_i}\\frac{\\partial c_i}{\\partial b_i}\\frac{\\partial b_i}{\\partial a_i}\\frac{\\partial a_i}{\\partial x_i}$$\n",
    "\n",
    "Note that we have simplified this equation to index notation, and by using the fact that all operation besides the mean do not combine the elements in the tensor. The partial derivatives are:\n",
    "\n",
    "$$\n",
    "\\frac{\\partial a_i}{\\partial x_i} = 1,\\hspace{1cm}\n",
    "\\frac{\\partial b_i}{\\partial a_i} = 2\\cdot a_i\\hspace{1cm}\n",
    "\\frac{\\partial c_i}{\\partial b_i} = 1\\hspace{1cm}\n",
    "\\frac{\\partial y}{\\partial c_i} = \\frac{1}{3}\n",
    "$$\n",
    "\n",
    "Hence, with the input being $\\mathbf{x}=[0,1,2]$, our gradients are $\\partial y/\\partial \\mathbf{x}=[4/3,2,8/3]$. The previous code cell should have printed the same result."
   ]
  },
  {
   "cell_type": "markdown",
   "metadata": {},
   "source": [
    "### GPU support\n",
    "\n",
    "A crucial feature of PyTorch is the support of GPUs, short for Graphics Processing Unit. A GPU can perform many thousands of small operations in parallel, making it very well suitable for performing large matrix operations in neural networks. When comparing GPUs to CPUs, we can list the following main differences (credit: [Kevin Krewell, 2009](https://blogs.nvidia.com/blog/2009/12/16/whats-the-difference-between-a-cpu-and-a-gpu/)) \n",
    "\n",
    "<center style=\"width: 100%\"><img src=\"comparison_CPU_GPU.png\" width=\"700px\"></center>\n",
    "\n",
    "CPUs and GPUs have both different advantages and disadvantages, which is why many computers contain both components and use them for different tasks. In case you are not familiar with GPUs, you can read up more details in this [NVIDIA blog post](https://blogs.nvidia.com/blog/2009/12/16/whats-the-difference-between-a-cpu-and-a-gpu/) or [here](https://www.intel.com/content/www/us/en/products/docs/processors/what-is-a-gpu.html). \n",
    "\n",
    "GPUs can accelerate the training of your network up to a factor of $100$ which is essential for large neural networks. PyTorch implements a lot of functionality for supporting GPUs (mostly those of NVIDIA due to the libraries [CUDA](https://developer.nvidia.com/cuda-zone) and [cuDNN](https://developer.nvidia.com/cudnn)). First, let's check whether you have a GPU available:"
   ]
  },
  {
   "cell_type": "code",
   "execution_count": 1533,
   "metadata": {},
   "outputs": [
    {
     "name": "stdout",
     "output_type": "stream",
     "text": [
      "Is the GPU available? True\n"
     ]
    }
   ],
   "source": [
    "gpu_avail = torch.cuda.is_available()\n",
    "print(\"Is the GPU available? %s\" % str(gpu_avail))"
   ]
  },
  {
   "cell_type": "markdown",
   "metadata": {},
   "source": [
    "If you have a GPU on your computer but the command above returns False, make sure you have the correct CUDA-version installed. The `dl2020` environment comes with the CUDA-toolkit 10.1, which is selected for the Lisa supercomputer. Please change it if necessary (CUDA 10.2 is currently common). On Google Colab, make sure that you have selected a GPU in your runtime setup (in the menu, check under `Runtime -> Change runtime type`). \n",
    "\n",
    "By default, all tensors you create are stored on the CPU. We can push a tensor to the GPU by using the function `.to(...)`, or `.cuda()`. However, it is often a good practice to define a `device` object in your code which points to the GPU if you have one, and otherwise to the CPU. Then, you can write your code with respect to this device object, and it allows you to run the same code on both a CPU-only system, and one with a GPU. Let's try it below. We can specify the device as follows: "
   ]
  },
  {
   "cell_type": "code",
   "execution_count": 1534,
   "metadata": {},
   "outputs": [
    {
     "name": "stdout",
     "output_type": "stream",
     "text": [
      "Device cuda\n"
     ]
    }
   ],
   "source": [
    "device = torch.device(\"cuda\") if torch.cuda.is_available() else torch.device(\"cpu\")\n",
    "print(\"Device\", device)"
   ]
  },
  {
   "cell_type": "markdown",
   "metadata": {},
   "source": [
    "Now let's create a tensor and push it to the device:"
   ]
  },
  {
   "cell_type": "code",
   "execution_count": 1535,
   "metadata": {},
   "outputs": [
    {
     "name": "stdout",
     "output_type": "stream",
     "text": [
      "X tensor([[0., 0., 0.],\n",
      "        [0., 0., 0.]], device='cuda:0')\n"
     ]
    }
   ],
   "source": [
    "x = torch.zeros(2, 3)\n",
    "\n",
    "## TODO: Push the tensor to \"device\"\n",
    "x = x.cuda()\n",
    "print(\"X\", x)"
   ]
  },
  {
   "cell_type": "markdown",
   "metadata": {},
   "source": [
    "In case you have a GPU, you should now see the attribute `device='cuda:0'` being printed next to your tensor. The zero next to cuda indicates that this is the zero-th GPU device on your computer. PyTorch also supports multi-GPU systems, but this you will only need once you have very big networks to train (if interested, see the [PyTorch documentation](https://pytorch.org/docs/stable/distributed.html#distributed-basics)). We can also compare the runtime of a large matrix multiplication on the CPU with a operation on the GPU:"
   ]
  },
  {
   "cell_type": "code",
   "execution_count": 1536,
   "metadata": {},
   "outputs": [
    {
     "name": "stdout",
     "output_type": "stream",
     "text": [
      "CPU time: 1.36964s\n",
      "GPU time: 0.00000s\n"
     ]
    }
   ],
   "source": [
    "x = torch.randn(5000, 5000)\n",
    "\n",
    "## CPU version\n",
    "start_time = time.time()\n",
    "_ = torch.matmul(x, x)\n",
    "end_time = time.time()\n",
    "print(\"CPU time: %6.5fs\" % (end_time - start_time))\n",
    "\n",
    "## GPU version\n",
    "x = x.to(device)\n",
    "# The first operation on a CUDA device can be slow as it has to establish a CPU-GPU communication first. \n",
    "# Hence, we run an arbitrary command first without timing it for a fair comparison.\n",
    "if torch.cuda.is_available():\n",
    "    _ = torch.matmul(x*0.0, x)\n",
    "start_time = time.time()\n",
    "_ = torch.matmul(x, x)\n",
    "end_time = time.time()\n",
    "print(\"GPU time: %6.5fs\" % (end_time - start_time))"
   ]
  },
  {
   "cell_type": "markdown",
   "metadata": {},
   "source": [
    "Depending on the size of the operation and the CPU/GPU in your system, the speedup of this operation can be >500x. As `matmul` operations are very common in neural networks, we can already see the great benefit of training a NN on a GPU. The time estimate can be relatively noisy here because we haven't run it for multiple times. Feel free to extend this, but it also takes longer to run.\n",
    "\n",
    "When generating random numbers, the seed between CPU and GPU is not synchronized. Hence, we need to set the seed on the GPU separately to ensure a reproducible code. Note that due to different GPU architectures, running the same code on different GPUs does not guarantee the same random numbers. Still, we don't want that our code gives us a different output every time we run it on the exact same hardware. Hence, we also set the seed on the GPU:"
   ]
  },
  {
   "cell_type": "code",
   "execution_count": 1537,
   "metadata": {},
   "outputs": [],
   "source": [
    "# GPU operations have a separate seed we also want to set\n",
    "if torch.cuda.is_available(): \n",
    "    torch.cuda.manual_seed(42)\n",
    "    torch.cuda.manual_seed_all(42)\n",
    "    \n",
    "# Additionally, some operations on a GPU are implemented stochastic for efficiency\n",
    "# We want to ensure that all operations are deterministic on GPU (if used) for reproducibility\n",
    "torch.backends.cudnn.deterministic = True\n",
    "torch.backends.cudnn.benchmark = False"
   ]
  },
  {
   "cell_type": "markdown",
   "metadata": {},
   "source": [
    "## Learning by example: Continuous XOR\n",
    "\n",
    "If we want to build a neural network in PyTorch, we could specify all our parameters (weight matrices, bias vectors) using `Tensors` (with `requires_grad=True`), ask PyTorch to calculate the gradients and then adjust the parameters. But things can quickly get cumbersome if we have a lot of parameters. In PyTorch, there is a package called `torch.nn` that makes building neural networks more convenient. \n",
    "\n",
    "We will introduce the libraries and all additional parts you might need to train a neural network in PyTorch, using a simple example classifier on a simple yet well known example: XOR. Given two binary inputs $x_1$ and $x_2$, the label to predict is $1$ if either $x_1$ or $x_2$ is $1$ while the other is $0$, or the label is $0$ in all other cases. The example became famous by the fact that a single neuron, i.e. a linear classifier, cannot learn this simple function.\n",
    "Hence, we will learn how to build a small neural network that can learn this function. \n",
    "To make it a little bit more interesting, we move the XOR into continuous space and introduce some gaussian noise on the binary inputs. Our desired separation of an XOR dataset could look as follows:\n",
    "\n",
    "<center style=\"width: 100%\"><img src=\"continuous_xor.svg\" width=\"350px\"></center>"
   ]
  },
  {
   "cell_type": "markdown",
   "metadata": {},
   "source": [
    "### The model\n",
    "\n",
    "The package `torch.nn` defines a series of useful classes like linear networks layers, activation functions, loss functions etc. A full list can be found [here](https://pytorch.org/docs/stable/nn.html). In case you need a certain network layer, check the documentation of the package first before writing the layer yourself as the package likely contains the code for it already. We import it below:"
   ]
  },
  {
   "cell_type": "code",
   "execution_count": 1538,
   "metadata": {},
   "outputs": [],
   "source": [
    "import torch.nn as nn"
   ]
  },
  {
   "cell_type": "markdown",
   "metadata": {},
   "source": [
    "Additionally to `torch.nn`, there is also `torch.nn.functional`. It contains functions that are used in network layers. This is in contrast to `torch.nn` which defines them as `nn.Modules` (more on it below), and `torch.nn` actually uses a lot of functionalities from `torch.nn.functional`. Hence, the functional package is useful in many situations, and so we import it as well here."
   ]
  },
  {
   "cell_type": "code",
   "execution_count": 1539,
   "metadata": {},
   "outputs": [],
   "source": [
    "import torch.nn.functional as F"
   ]
  },
  {
   "cell_type": "markdown",
   "metadata": {},
   "source": [
    "#### nn.Module\n",
    "\n",
    "In PyTorch, a neural network is build up out of modules. Modules can contain other modules, and a neural network is considered to be a module itself as well. The basic template of a module is as follows:"
   ]
  },
  {
   "cell_type": "code",
   "execution_count": 1540,
   "metadata": {},
   "outputs": [],
   "source": [
    "class MyModule(nn.Module):\n",
    "    \n",
    "    def __init__(self):\n",
    "        super().__init__()\n",
    "        # Some init for my module\n",
    "        \n",
    "    def forward(self, x):\n",
    "        # Function for performing the calculation of the module.\n",
    "        pass"
   ]
  },
  {
   "cell_type": "markdown",
   "metadata": {},
   "source": [
    "The forward function is where the computation of the module is taken place, and is executed when you call the module (`nn = MyModule(); nn(x)`). In the init function, we usually create the parameters of the module, using `nn.Parameter`, or defining other modules that are used in the forward function. The backward calculation is done automatically, but could be overwritten as well if wanted.\n",
    "\n",
    "#### Simple classifier\n",
    "We can now make use of the pre-defined modules in the `torch.nn` package, and define our own small neural network. We will use a minimal network with a input layer, one hidden layer with tanh as activation function, and a output layer. In other words, our networks should look something like this:\n",
    "\n",
    "<center width=\"100%\"><img src=\"small_neural_network.svg\" width=\"300px\"></center>\n",
    "\n",
    "The input neurons are shown in blue, which represent the coordinates $x_1$ and $x_2$ of a data point. The hidden neurons including a tanh activation are shown in white, and the output neuron in red.\n",
    "In PyTorch, we can define this as follows:"
   ]
  },
  {
   "cell_type": "code",
   "execution_count": 1541,
   "metadata": {},
   "outputs": [],
   "source": [
    "class SimpleClassifier(nn.Module):\n",
    "    \n",
    "    def __init__(self, num_inputs, num_hidden, num_outputs):\n",
    "        super().__init__()\n",
    "        # Initialize the modules we need to build the network\n",
    "        ## TODO: Implement the linear layers using nn.Linear(input_neurons, output_neurons)\n",
    "        self.linear1 = nn.Linear(num_inputs, num_hidden) \n",
    "        self.linear2 = nn.Linear(num_hidden, num_hidden) \n",
    "        self.linear3 = nn.Linear(num_hidden, num_outputs) \n",
    "        ## TODO: Implement the activation function using nn.Tanh\n",
    "        \n",
    "        self.act_fn = nn.LeakyReLU(negative_slope=0.2)\n",
    "        \n",
    "    def forward(self, x):\n",
    "        # Perform the calculation of the model to determine the prediction\n",
    "        ## TODO: Execute the NN modules in sequence to build the neural network computation graph\n",
    "        x = self.linear1(x)\n",
    "        x = self.act_fn(x)\n",
    "        x = self.linear2(x)\n",
    "        x = self.act_fn(x)\n",
    "        x = self.linear3(x)\n",
    "        return x"
   ]
  },
  {
   "cell_type": "markdown",
   "metadata": {},
   "source": [
    "For the examples in this notebook, we will use a tiny neural network with two input neurons and four hidden neurons. As we perform binary classification, we will use a single output neuron. Note that we do not apply a sigmoid on the output yet. This is because other functions, especially the loss, are more efficient and precise to calculate on the original outputs instead of the sigmoid output. We will discuss the detailed reason later."
   ]
  },
  {
   "cell_type": "code",
   "execution_count": 1542,
   "metadata": {},
   "outputs": [
    {
     "name": "stdout",
     "output_type": "stream",
     "text": [
      "SimpleClassifier(\n",
      "  (linear1): Linear(in_features=2, out_features=4, bias=True)\n",
      "  (linear2): Linear(in_features=4, out_features=4, bias=True)\n",
      "  (linear3): Linear(in_features=4, out_features=1, bias=True)\n",
      "  (act_fn): LeakyReLU(negative_slope=0.2)\n",
      ")\n"
     ]
    }
   ],
   "source": [
    "model = SimpleClassifier(num_inputs=2, num_hidden=4, num_outputs=1)\n",
    "# Printing a module shows all its submodules\n",
    "print(model)"
   ]
  },
  {
   "cell_type": "markdown",
   "metadata": {},
   "source": [
    "Printing the model lists all submodules it contains. The parameters of a module can be obtained by using its `parameters()` functions, or `named_parameters()` to get a name to each parameter object. For our small neural network, we have the following parameters:"
   ]
  },
  {
   "cell_type": "code",
   "execution_count": 1543,
   "metadata": {},
   "outputs": [
    {
     "name": "stdout",
     "output_type": "stream",
     "text": [
      "Parameter linear1.weight, shape torch.Size([4, 2])\n",
      "Parameter linear1.bias, shape torch.Size([4])\n",
      "Parameter linear2.weight, shape torch.Size([4, 4])\n",
      "Parameter linear2.bias, shape torch.Size([4])\n",
      "Parameter linear3.weight, shape torch.Size([1, 4])\n",
      "Parameter linear3.bias, shape torch.Size([1])\n"
     ]
    }
   ],
   "source": [
    "for name, param in model.named_parameters():\n",
    "    print(\"Parameter %s, shape %s\" % (name, str(param.shape)))"
   ]
  },
  {
   "cell_type": "markdown",
   "metadata": {},
   "source": [
    "Each linear layer has a weight matrix of the shape `[output, input]`, and a bias of the shape `[output]`. The tanh activation function does not have any parameters. Note that parameters are only registered for `nn.Module` objects that are direct object attributes, i.e. `self.a = ...`. If you define a list of modules, the parameters of those are not registered for the outer module and can cause some issues when you try to optimize your module. There are alternatives, like `nn.ModuleList`, `nn.ModuleDict` and `nn.Sequential`, that allow you to have different data structures of modules. We will use them in a few later tutorials and explain them there. "
   ]
  },
  {
   "cell_type": "markdown",
   "metadata": {},
   "source": [
    "### The data\n",
    "\n",
    "PyTorch also provides a few functionalities to load the training and test data efficiently, summarized in the package `torch.utils.data`."
   ]
  },
  {
   "cell_type": "code",
   "execution_count": 1544,
   "metadata": {},
   "outputs": [],
   "source": [
    "import torch.utils.data as data"
   ]
  },
  {
   "cell_type": "markdown",
   "metadata": {},
   "source": [
    "The data package defines two classes which are the standard interface for handling data in PyTorch: `data.Dataset`, and `data.DataLoader`. The dataset class provides an uniform interface to access the training/test data, while the data loader makes sure to efficiently load and stack the data points from the dataset into batches during training."
   ]
  },
  {
   "cell_type": "markdown",
   "metadata": {},
   "source": [
    "#### The dataset class\n",
    "\n",
    "The dataset class summarizes the basic functionality of a dataset in a natural way. To define a dataset in PyTorch, we simply specify two functions: `__getitem__`, and `__len__`. The get-item function has to return the $i$-th data point in the dataset, while the len function returns the size of the dataset. For the XOR dataset, we can define the dataset class as follows:"
   ]
  },
  {
   "cell_type": "code",
   "execution_count": 1545,
   "metadata": {},
   "outputs": [],
   "source": [
    "class XORDataset(data.Dataset):\n",
    "    \n",
    "    def __init__(self, size, std=0.1):\n",
    "        \"\"\"\n",
    "        Inputs:\n",
    "            size - Number of data points we want to generate\n",
    "            std - Standard deviation of the noise (see generate_continuous_xor function)\n",
    "        \"\"\"\n",
    "        super().__init__()\n",
    "        self.size = size\n",
    "        self.std = std\n",
    "        self.generate_continuous_xor()\n",
    "        \n",
    "    def generate_continuous_xor(self):\n",
    "        # Each data point in the XOR dataset has two variables, x and y, that can be either 0 or 1\n",
    "        # The label is their XOR combination, i.e. 1 if only x or only y is 1 while the other is 0.\n",
    "        # If x=y, the label is 0.\n",
    "        data = torch.randint(low=0, high=2, size=(self.size, 2), dtype=torch.float32)\n",
    "        label = (data.sum(dim=1) == 1).to(torch.long)\n",
    "        # To make it slightly more challenging, we add a bit of gaussian noise to the data points.\n",
    "        data += self.std * torch.randn(data.shape)\n",
    "        \n",
    "        self.data = data\n",
    "        self.label = label\n",
    "        \n",
    "    \n",
    "    def __len__(self):\n",
    "        ## TODO: Return the number of data points the data has\n",
    "        return self.size\n",
    "    \n",
    "    \n",
    "    def __getitem__(self, idx):\n",
    "        ## TODO: Return the idx-th data point and label of the dataset\n",
    "        data_point = self.data[idx]\n",
    "        data_label = self.label[idx]\n",
    "        return data_point, data_label"
   ]
  },
  {
   "cell_type": "markdown",
   "metadata": {},
   "source": [
    "Let's try to create such a dataset and inspect it:"
   ]
  },
  {
   "cell_type": "code",
   "execution_count": 1546,
   "metadata": {},
   "outputs": [
    {
     "name": "stdout",
     "output_type": "stream",
     "text": [
      "Size of dataset: 200\n",
      "Data point 0: (tensor([0.2403, 0.9906]), tensor(1))\n"
     ]
    }
   ],
   "source": [
    "dataset = XORDataset(size=200)\n",
    "print(\"Size of dataset:\", len(dataset))\n",
    "print(\"Data point 0:\", dataset[0])"
   ]
  },
  {
   "cell_type": "markdown",
   "metadata": {},
   "source": [
    "To better relate to the dataset, we visualize the samples below. "
   ]
  },
  {
   "cell_type": "code",
   "execution_count": 1547,
   "metadata": {},
   "outputs": [],
   "source": [
    "def visualize_samples(data, label):\n",
    "    if isinstance(data, torch.Tensor):\n",
    "        data = data.cpu().numpy()\n",
    "    if isinstance(label, torch.Tensor):\n",
    "        label = label.cpu().numpy()\n",
    "    data_0 = data[label == 0]\n",
    "    data_1 = data[label == 1]\n",
    "    \n",
    "    plt.figure(figsize=(4,4))\n",
    "    plt.scatter(data_0[:,0], data_0[:,1], edgecolor=\"#333\", label=\"Class 0\")\n",
    "    plt.scatter(data_1[:,0], data_1[:,1], edgecolor=\"#333\", label=\"Class 1\")\n",
    "    plt.title(\"Dataset samples\")\n",
    "    plt.ylabel(r\"$x_2$\")\n",
    "    plt.xlabel(r\"$x_1$\")\n",
    "    plt.legend()"
   ]
  },
  {
   "cell_type": "code",
   "execution_count": 1548,
   "metadata": {},
   "outputs": [
    {
     "data": {
      "application/pdf": "[encoded data removed]",
      "image/svg+xml": "<?xml version=\"1.0\" encoding=\"utf-8\" standalone=\"no\"?>\n<!DOCTYPE svg PUBLIC \"-//W3C//DTD SVG 1.1//EN\"\n  \"http://www.w3.org/Graphics/SVG/1.1/DTD/svg11.dtd\">\n<svg xmlns:xlink=\"http://www.w3.org/1999/xlink\" width=\"283.789062pt\" height=\"285.283594pt\" viewBox=\"0 0 283.789062 285.283594\" xmlns=\"http://www.w3.org/2000/svg\" version=\"1.1\">\n <metadata>\n  <rdf:RDF xmlns:dc=\"http://purl.org/dc/elements/1.1/\" xmlns:cc=\"http://creativecommons.org/ns#\" xmlns:rdf=\"http://www.w3.org/1999/02/22-rdf-syntax-ns#\">\n   <cc:Work>\n    <dc:type rdf:resource=\"http://purl.org/dc/dcmitype/StillImage\"/>\n    <dc:date>2023-02-16T17:15:07.552733</dc:date>\n    <dc:format>image/svg+xml</dc:format>\n    <dc:creator>\n     <cc:Agent>\n      <dc:title>Matplotlib v3.5.3, https://matplotlib.org/</dc:title>\n     </cc:Agent>\n    </dc:creator>\n   </cc:Work>\n  </rdf:RDF>\n </metadata>\n <defs>\n  <style type=\"text/css\">*{stroke-linejoin: round; stroke-linecap: butt}</style>\n </defs>\n <g id=\"figure_1\">\n  <g id=\"patch_1\">\n   <path d=\"M 0 285.283594 \nL 283.789062 285.283594 \nL 283.789062 0 \nL 0 0 \nz\n\" style=\"fill: #ffffff\"/>\n  </g>\n  <g id=\"axes_1\">\n   <g id=\"patch_2\">\n    <path d=\"M 53.389062 243.549375 \nL 276.589063 243.549375 \nL 276.589063 21.789375 \nL 53.389062 21.789375 \nz\n\" style=\"fill: #eaeaf2\"/>\n   </g>\n   <g id=\"matplotlib.axis_1\">\n    <g id=\"xtick_1\">\n     <g id=\"line2d_1\">\n      <path d=\"M 94.979873 243.549375 \nL 94.979873 21.789375 \n\" clip-path=\"url(#p1be1ffe13c)\" style=\"fill: none; stroke: #ffffff; stroke-linecap: round\"/>\n     </g>\n     <g id=\"text_1\">\n      <!-- 0.0 -->\n      <g style=\"fill: #262626\" transform=\"translate(87.334873 260.922969)scale(0.11 -0.11)\">\n       <defs>\n        <path id=\"ArialMT-30\" d=\"M 266 2259 \nQ 266 3072 433 3567 \nQ 600 4063 929 4331 \nQ 1259 4600 1759 4600 \nQ 2128 4600 2406 4451 \nQ 2684 4303 2865 4023 \nQ 3047 3744 3150 3342 \nQ 3253 2941 3253 2259 \nQ 3253 1453 3087 958 \nQ 2922 463 2592 192 \nQ 2263 -78 1759 -78 \nQ 1097 -78 719 397 \nQ 266 969 266 2259 \nz\nM 844 2259 \nQ 844 1131 1108 757 \nQ 1372 384 1759 384 \nQ 2147 384 2411 759 \nQ 2675 1134 2675 2259 \nQ 2675 3391 2411 3762 \nQ 2147 4134 1753 4134 \nQ 1366 4134 1134 3806 \nQ 844 3388 844 2259 \nz\n\" transform=\"scale(0.015625)\"/>\n        <path id=\"ArialMT-2e\" d=\"M 581 0 \nL 581 641 \nL 1222 641 \nL 1222 0 \nL 581 0 \nz\n\" transform=\"scale(0.015625)\"/>\n       </defs>\n       <use xlink:href=\"#ArialMT-30\"/>\n       <use xlink:href=\"#ArialMT-2e\" x=\"55.615234\"/>\n       <use xlink:href=\"#ArialMT-30\" x=\"83.398438\"/>\n      </g>\n     </g>\n    </g>\n    <g id=\"xtick_2\">\n     <g id=\"line2d_2\">\n      <path d=\"M 166.658273 243.549375 \nL 166.658273 21.789375 \n\" clip-path=\"url(#p1be1ffe13c)\" style=\"fill: none; stroke: #ffffff; stroke-linecap: round\"/>\n     </g>\n     <g id=\"text_2\">\n      <!-- 0.5 -->\n      <g style=\"fill: #262626\" transform=\"translate(159.013273 260.922969)scale(0.11 -0.11)\">\n       <defs>\n        <path id=\"ArialMT-35\" d=\"M 266 1200 \nL 856 1250 \nQ 922 819 1161 601 \nQ 1400 384 1738 384 \nQ 2144 384 2425 690 \nQ 2706 997 2706 1503 \nQ 2706 1984 2436 2262 \nQ 2166 2541 1728 2541 \nQ 1456 2541 1237 2417 \nQ 1019 2294 894 2097 \nL 366 2166 \nL 809 4519 \nL 3088 4519 \nL 3088 3981 \nL 1259 3981 \nL 1013 2750 \nQ 1425 3038 1878 3038 \nQ 2478 3038 2890 2622 \nQ 3303 2206 3303 1553 \nQ 3303 931 2941 478 \nQ 2500 -78 1738 -78 \nQ 1113 -78 717 272 \nQ 322 622 266 1200 \nz\n\" transform=\"scale(0.015625)\"/>\n       </defs>\n       <use xlink:href=\"#ArialMT-30\"/>\n       <use xlink:href=\"#ArialMT-2e\" x=\"55.615234\"/>\n       <use xlink:href=\"#ArialMT-35\" x=\"83.398438\"/>\n      </g>\n     </g>\n    </g>\n    <g id=\"xtick_3\">\n     <g id=\"line2d_3\">\n      <path d=\"M 238.336672 243.549375 \nL 238.336672 21.789375 \n\" clip-path=\"url(#p1be1ffe13c)\" style=\"fill: none; stroke: #ffffff; stroke-linecap: round\"/>\n     </g>\n     <g id=\"text_3\">\n      <!-- 1.0 -->\n      <g style=\"fill: #262626\" transform=\"translate(230.691672 260.922969)scale(0.11 -0.11)\">\n       <defs>\n        <path id=\"ArialMT-31\" d=\"M 2384 0 \nL 1822 0 \nL 1822 3584 \nQ 1619 3391 1289 3197 \nQ 959 3003 697 2906 \nL 697 3450 \nQ 1169 3672 1522 3987 \nQ 1875 4303 2022 4600 \nL 2384 4600 \nL 2384 0 \nz\n\" transform=\"scale(0.015625)\"/>\n       </defs>\n       <use xlink:href=\"#ArialMT-31\"/>\n       <use xlink:href=\"#ArialMT-2e\" x=\"55.615234\"/>\n       <use xlink:href=\"#ArialMT-30\" x=\"83.398438\"/>\n      </g>\n     </g>\n    </g>\n    <g id=\"text_4\">\n     <!-- $x_1$ -->\n     <g style=\"fill: #262626\" transform=\"translate(158.569063 275.698594)scale(0.12 -0.12)\">\n      <defs>\n       <path id=\"DejaVuSans-Oblique-78\" d=\"M 3841 3500 \nL 2234 1784 \nL 3219 0 \nL 2559 0 \nL 1819 1388 \nL 531 0 \nL -166 0 \nL 1556 1844 \nL 641 3500 \nL 1300 3500 \nL 1972 2234 \nL 3144 3500 \nL 3841 3500 \nz\n\" transform=\"scale(0.015625)\"/>\n       <path id=\"DejaVuSans-31\" d=\"M 794 531 \nL 1825 531 \nL 1825 4091 \nL 703 3866 \nL 703 4441 \nL 1819 4666 \nL 2450 4666 \nL 2450 531 \nL 3481 531 \nL 3481 0 \nL 794 0 \nL 794 531 \nz\n\" transform=\"scale(0.015625)\"/>\n      </defs>\n      <use xlink:href=\"#DejaVuSans-Oblique-78\" transform=\"translate(0 0.3125)\"/>\n      <use xlink:href=\"#DejaVuSans-31\" transform=\"translate(59.179688 -16.09375)scale(0.7)\"/>\n     </g>\n    </g>\n   </g>\n   <g id=\"matplotlib.axis_2\">\n    <g id=\"ytick_1\">\n     <g id=\"line2d_4\">\n      <path d=\"M 53.389062 227.440892 \nL 276.589063 227.440892 \n\" clip-path=\"url(#p1be1ffe13c)\" style=\"fill: none; stroke: #ffffff; stroke-linecap: round\"/>\n     </g>\n     <g id=\"text_5\">\n      <!-- −0.2 -->\n      <g style=\"fill: #262626\" transform=\"translate(22.174375 231.377689)scale(0.11 -0.11)\">\n       <defs>\n        <path id=\"ArialMT-2212\" d=\"M 3381 1997 \nL 356 1997 \nL 356 2522 \nL 3381 2522 \nL 3381 1997 \nz\n\" transform=\"scale(0.015625)\"/>\n        <path id=\"ArialMT-32\" d=\"M 3222 541 \nL 3222 0 \nL 194 0 \nQ 188 203 259 391 \nQ 375 700 629 1000 \nQ 884 1300 1366 1694 \nQ 2113 2306 2375 2664 \nQ 2638 3022 2638 3341 \nQ 2638 3675 2398 3904 \nQ 2159 4134 1775 4134 \nQ 1369 4134 1125 3890 \nQ 881 3647 878 3216 \nL 300 3275 \nQ 359 3922 746 4261 \nQ 1134 4600 1788 4600 \nQ 2447 4600 2831 4234 \nQ 3216 3869 3216 3328 \nQ 3216 3053 3103 2787 \nQ 2991 2522 2730 2228 \nQ 2469 1934 1863 1422 \nQ 1356 997 1212 845 \nQ 1069 694 975 541 \nL 3222 541 \nz\n\" transform=\"scale(0.015625)\"/>\n       </defs>\n       <use xlink:href=\"#ArialMT-2212\"/>\n       <use xlink:href=\"#ArialMT-30\" x=\"58.398438\"/>\n       <use xlink:href=\"#ArialMT-2e\" x=\"114.013672\"/>\n       <use xlink:href=\"#ArialMT-32\" x=\"141.796875\"/>\n      </g>\n     </g>\n    </g>\n    <g id=\"ytick_2\">\n     <g id=\"line2d_5\">\n      <path d=\"M 53.389062 199.383955 \nL 276.589063 199.383955 \n\" clip-path=\"url(#p1be1ffe13c)\" style=\"fill: none; stroke: #ffffff; stroke-linecap: round\"/>\n     </g>\n     <g id=\"text_6\">\n      <!-- 0.0 -->\n      <g style=\"fill: #262626\" transform=\"translate(28.599062 203.320752)scale(0.11 -0.11)\">\n       <use xlink:href=\"#ArialMT-30\"/>\n       <use xlink:href=\"#ArialMT-2e\" x=\"55.615234\"/>\n       <use xlink:href=\"#ArialMT-30\" x=\"83.398438\"/>\n      </g>\n     </g>\n    </g>\n    <g id=\"ytick_3\">\n     <g id=\"line2d_6\">\n      <path d=\"M 53.389062 171.327018 \nL 276.589063 171.327018 \n\" clip-path=\"url(#p1be1ffe13c)\" style=\"fill: none; stroke: #ffffff; stroke-linecap: round\"/>\n     </g>\n     <g id=\"text_7\">\n      <!-- 0.2 -->\n      <g style=\"fill: #262626\" transform=\"translate(28.599062 175.263815)scale(0.11 -0.11)\">\n       <use xlink:href=\"#ArialMT-30\"/>\n       <use xlink:href=\"#ArialMT-2e\" x=\"55.615234\"/>\n       <use xlink:href=\"#ArialMT-32\" x=\"83.398438\"/>\n      </g>\n     </g>\n    </g>\n    <g id=\"ytick_4\">\n     <g id=\"line2d_7\">\n      <path d=\"M 53.389062 143.270081 \nL 276.589063 143.270081 \n\" clip-path=\"url(#p1be1ffe13c)\" style=\"fill: none; stroke: #ffffff; stroke-linecap: round\"/>\n     </g>\n     <g id=\"text_8\">\n      <!-- 0.4 -->\n      <g style=\"fill: #262626\" transform=\"translate(28.599062 147.206878)scale(0.11 -0.11)\">\n       <defs>\n        <path id=\"ArialMT-34\" d=\"M 2069 0 \nL 2069 1097 \nL 81 1097 \nL 81 1613 \nL 2172 4581 \nL 2631 4581 \nL 2631 1613 \nL 3250 1613 \nL 3250 1097 \nL 2631 1097 \nL 2631 0 \nL 2069 0 \nz\nM 2069 1613 \nL 2069 3678 \nL 634 1613 \nL 2069 1613 \nz\n\" transform=\"scale(0.015625)\"/>\n       </defs>\n       <use xlink:href=\"#ArialMT-30\"/>\n       <use xlink:href=\"#ArialMT-2e\" x=\"55.615234\"/>\n       <use xlink:href=\"#ArialMT-34\" x=\"83.398438\"/>\n      </g>\n     </g>\n    </g>\n    <g id=\"ytick_5\">\n     <g id=\"line2d_8\">\n      <path d=\"M 53.389062 115.213145 \nL 276.589063 115.213145 \n\" clip-path=\"url(#p1be1ffe13c)\" style=\"fill: none; stroke: #ffffff; stroke-linecap: round\"/>\n     </g>\n     <g id=\"text_9\">\n      <!-- 0.6 -->\n      <g style=\"fill: #262626\" transform=\"translate(28.599062 119.149941)scale(0.11 -0.11)\">\n       <defs>\n        <path id=\"ArialMT-36\" d=\"M 3184 3459 \nL 2625 3416 \nQ 2550 3747 2413 3897 \nQ 2184 4138 1850 4138 \nQ 1581 4138 1378 3988 \nQ 1113 3794 959 3422 \nQ 806 3050 800 2363 \nQ 1003 2672 1297 2822 \nQ 1591 2972 1913 2972 \nQ 2475 2972 2870 2558 \nQ 3266 2144 3266 1488 \nQ 3266 1056 3080 686 \nQ 2894 316 2569 119 \nQ 2244 -78 1831 -78 \nQ 1128 -78 684 439 \nQ 241 956 241 2144 \nQ 241 3472 731 4075 \nQ 1159 4600 1884 4600 \nQ 2425 4600 2770 4297 \nQ 3116 3994 3184 3459 \nz\nM 888 1484 \nQ 888 1194 1011 928 \nQ 1134 663 1356 523 \nQ 1578 384 1822 384 \nQ 2178 384 2434 671 \nQ 2691 959 2691 1453 \nQ 2691 1928 2437 2201 \nQ 2184 2475 1800 2475 \nQ 1419 2475 1153 2201 \nQ 888 1928 888 1484 \nz\n\" transform=\"scale(0.015625)\"/>\n       </defs>\n       <use xlink:href=\"#ArialMT-30\"/>\n       <use xlink:href=\"#ArialMT-2e\" x=\"55.615234\"/>\n       <use xlink:href=\"#ArialMT-36\" x=\"83.398438\"/>\n      </g>\n     </g>\n    </g>\n    <g id=\"ytick_6\">\n     <g id=\"line2d_9\">\n      <path d=\"M 53.389062 87.156208 \nL 276.589063 87.156208 \n\" clip-path=\"url(#p1be1ffe13c)\" style=\"fill: none; stroke: #ffffff; stroke-linecap: round\"/>\n     </g>\n     <g id=\"text_10\">\n      <!-- 0.8 -->\n      <g style=\"fill: #262626\" transform=\"translate(28.599062 91.093005)scale(0.11 -0.11)\">\n       <defs>\n        <path id=\"ArialMT-38\" d=\"M 1131 2484 \nQ 781 2613 612 2850 \nQ 444 3088 444 3419 \nQ 444 3919 803 4259 \nQ 1163 4600 1759 4600 \nQ 2359 4600 2725 4251 \nQ 3091 3903 3091 3403 \nQ 3091 3084 2923 2848 \nQ 2756 2613 2416 2484 \nQ 2838 2347 3058 2040 \nQ 3278 1734 3278 1309 \nQ 3278 722 2862 322 \nQ 2447 -78 1769 -78 \nQ 1091 -78 675 323 \nQ 259 725 259 1325 \nQ 259 1772 486 2073 \nQ 713 2375 1131 2484 \nz\nM 1019 3438 \nQ 1019 3113 1228 2906 \nQ 1438 2700 1772 2700 \nQ 2097 2700 2305 2904 \nQ 2513 3109 2513 3406 \nQ 2513 3716 2298 3927 \nQ 2084 4138 1766 4138 \nQ 1444 4138 1231 3931 \nQ 1019 3725 1019 3438 \nz\nM 838 1322 \nQ 838 1081 952 856 \nQ 1066 631 1291 507 \nQ 1516 384 1775 384 \nQ 2178 384 2440 643 \nQ 2703 903 2703 1303 \nQ 2703 1709 2433 1975 \nQ 2163 2241 1756 2241 \nQ 1359 2241 1098 1978 \nQ 838 1716 838 1322 \nz\n\" transform=\"scale(0.015625)\"/>\n       </defs>\n       <use xlink:href=\"#ArialMT-30\"/>\n       <use xlink:href=\"#ArialMT-2e\" x=\"55.615234\"/>\n       <use xlink:href=\"#ArialMT-38\" x=\"83.398438\"/>\n      </g>\n     </g>\n    </g>\n    <g id=\"ytick_7\">\n     <g id=\"line2d_10\">\n      <path d=\"M 53.389062 59.099271 \nL 276.589063 59.099271 \n\" clip-path=\"url(#p1be1ffe13c)\" style=\"fill: none; stroke: #ffffff; stroke-linecap: round\"/>\n     </g>\n     <g id=\"text_11\">\n      <!-- 1.0 -->\n      <g style=\"fill: #262626\" transform=\"translate(28.599062 63.036068)scale(0.11 -0.11)\">\n       <use xlink:href=\"#ArialMT-31\"/>\n       <use xlink:href=\"#ArialMT-2e\" x=\"55.615234\"/>\n       <use xlink:href=\"#ArialMT-30\" x=\"83.398438\"/>\n      </g>\n     </g>\n    </g>\n    <g id=\"ytick_8\">\n     <g id=\"line2d_11\">\n      <path d=\"M 53.389062 31.042334 \nL 276.589063 31.042334 \n\" clip-path=\"url(#p1be1ffe13c)\" style=\"fill: none; stroke: #ffffff; stroke-linecap: round\"/>\n     </g>\n     <g id=\"text_12\">\n      <!-- 1.2 -->\n      <g style=\"fill: #262626\" transform=\"translate(28.599062 34.979131)scale(0.11 -0.11)\">\n       <use xlink:href=\"#ArialMT-31\"/>\n       <use xlink:href=\"#ArialMT-2e\" x=\"55.615234\"/>\n       <use xlink:href=\"#ArialMT-32\" x=\"83.398438\"/>\n      </g>\n     </g>\n    </g>\n    <g id=\"text_13\">\n     <!-- $x_2$ -->\n     <g style=\"fill: #262626\" transform=\"translate(15.789375 139.089375)rotate(-90)scale(0.12 -0.12)\">\n      <defs>\n       <path id=\"DejaVuSans-32\" d=\"M 1228 531 \nL 3431 531 \nL 3431 0 \nL 469 0 \nL 469 531 \nQ 828 903 1448 1529 \nQ 2069 2156 2228 2338 \nQ 2531 2678 2651 2914 \nQ 2772 3150 2772 3378 \nQ 2772 3750 2511 3984 \nQ 2250 4219 1831 4219 \nQ 1534 4219 1204 4116 \nQ 875 4013 500 3803 \nL 500 4441 \nQ 881 4594 1212 4672 \nQ 1544 4750 1819 4750 \nQ 2544 4750 2975 4387 \nQ 3406 4025 3406 3419 \nQ 3406 3131 3298 2873 \nQ 3191 2616 2906 2266 \nQ 2828 2175 2409 1742 \nQ 1991 1309 1228 531 \nz\n\" transform=\"scale(0.015625)\"/>\n      </defs>\n      <use xlink:href=\"#DejaVuSans-Oblique-78\" transform=\"translate(0 0.3125)\"/>\n      <use xlink:href=\"#DejaVuSans-32\" transform=\"translate(59.179688 -16.09375)scale(0.7)\"/>\n     </g>\n    </g>\n   </g>\n   <g id=\"PathCollection_1\">\n    <defs>\n     <path id=\"mea192e53e7\" d=\"M 0 3 \nC 0.795609 3 1.55874 2.683901 2.12132 2.12132 \nC 2.683901 1.55874 3 0.795609 3 0 \nC 3 -0.795609 2.683901 -1.55874 2.12132 -2.12132 \nC 1.55874 -2.683901 0.795609 -3 0 -3 \nC -0.795609 -3 -1.55874 -2.683901 -2.12132 -2.12132 \nC -2.683901 -1.55874 -3 -0.795609 -3 0 \nC -3 0.795609 -2.683901 1.55874 -2.12132 2.12132 \nC -1.55874 2.683901 -0.795609 3 0 3 \nz\n\" style=\"stroke: #333333\"/>\n    </defs>\n    <g clip-path=\"url(#p1be1ffe13c)\">\n     <use xlink:href=\"#mea192e53e7\" x=\"100.562075\" y=\"218.828488\" style=\"fill: #4c72b0; stroke: #333333\"/>\n     <use xlink:href=\"#mea192e53e7\" x=\"86.050777\" y=\"189.093169\" style=\"fill: #4c72b0; stroke: #333333\"/>\n     <use xlink:href=\"#mea192e53e7\" x=\"67.80919\" y=\"192.498359\" style=\"fill: #4c72b0; stroke: #333333\"/>\n     <use xlink:href=\"#mea192e53e7\" x=\"245.477555\" y=\"59.369385\" style=\"fill: #4c72b0; stroke: #333333\"/>\n     <use xlink:href=\"#mea192e53e7\" x=\"234.244139\" y=\"52.127654\" style=\"fill: #4c72b0; stroke: #333333\"/>\n     <use xlink:href=\"#mea192e53e7\" x=\"91.576039\" y=\"207.732898\" style=\"fill: #4c72b0; stroke: #333333\"/>\n     <use xlink:href=\"#mea192e53e7\" x=\"239.951643\" y=\"54.293915\" style=\"fill: #4c72b0; stroke: #333333\"/>\n     <use xlink:href=\"#mea192e53e7\" x=\"101.461025\" y=\"203.422937\" style=\"fill: #4c72b0; stroke: #333333\"/>\n     <use xlink:href=\"#mea192e53e7\" x=\"239.421528\" y=\"51.142505\" style=\"fill: #4c72b0; stroke: #333333\"/>\n     <use xlink:href=\"#mea192e53e7\" x=\"240.488082\" y=\"63.458542\" style=\"fill: #4c72b0; stroke: #333333\"/>\n     <use xlink:href=\"#mea192e53e7\" x=\"256.628327\" y=\"52.550551\" style=\"fill: #4c72b0; stroke: #333333\"/>\n     <use xlink:href=\"#mea192e53e7\" x=\"91.870841\" y=\"215.939976\" style=\"fill: #4c72b0; stroke: #333333\"/>\n     <use xlink:href=\"#mea192e53e7\" x=\"78.053072\" y=\"206.406603\" style=\"fill: #4c72b0; stroke: #333333\"/>\n     <use xlink:href=\"#mea192e53e7\" x=\"254.140597\" y=\"92.142448\" style=\"fill: #4c72b0; stroke: #333333\"/>\n     <use xlink:href=\"#mea192e53e7\" x=\"257.80767\" y=\"84.9668\" style=\"fill: #4c72b0; stroke: #333333\"/>\n     <use xlink:href=\"#mea192e53e7\" x=\"228.134477\" y=\"59.95081\" style=\"fill: #4c72b0; stroke: #333333\"/>\n     <use xlink:href=\"#mea192e53e7\" x=\"99.09795\" y=\"220.315503\" style=\"fill: #4c72b0; stroke: #333333\"/>\n     <use xlink:href=\"#mea192e53e7\" x=\"256.937065\" y=\"33.005435\" style=\"fill: #4c72b0; stroke: #333333\"/>\n     <use xlink:href=\"#mea192e53e7\" x=\"266.443608\" y=\"67.737801\" style=\"fill: #4c72b0; stroke: #333333\"/>\n     <use xlink:href=\"#mea192e53e7\" x=\"112.704824\" y=\"178.55173\" style=\"fill: #4c72b0; stroke: #333333\"/>\n     <use xlink:href=\"#mea192e53e7\" x=\"230.772543\" y=\"32.712059\" style=\"fill: #4c72b0; stroke: #333333\"/>\n     <use xlink:href=\"#mea192e53e7\" x=\"97.572735\" y=\"197.800157\" style=\"fill: #4c72b0; stroke: #333333\"/>\n     <use xlink:href=\"#mea192e53e7\" x=\"229.893401\" y=\"52.193092\" style=\"fill: #4c72b0; stroke: #333333\"/>\n     <use xlink:href=\"#mea192e53e7\" x=\"113.85763\" y=\"208.130058\" style=\"fill: #4c72b0; stroke: #333333\"/>\n     <use xlink:href=\"#mea192e53e7\" x=\"253.582113\" y=\"49.417771\" style=\"fill: #4c72b0; stroke: #333333\"/>\n     <use xlink:href=\"#mea192e53e7\" x=\"244.3146\" y=\"69.413696\" style=\"fill: #4c72b0; stroke: #333333\"/>\n     <use xlink:href=\"#mea192e53e7\" x=\"243.859644\" y=\"68.765369\" style=\"fill: #4c72b0; stroke: #333333\"/>\n     <use xlink:href=\"#mea192e53e7\" x=\"89.883133\" y=\"187.226652\" style=\"fill: #4c72b0; stroke: #333333\"/>\n     <use xlink:href=\"#mea192e53e7\" x=\"102.456334\" y=\"212.976001\" style=\"fill: #4c72b0; stroke: #333333\"/>\n     <use xlink:href=\"#mea192e53e7\" x=\"120.195998\" y=\"210.490395\" style=\"fill: #4c72b0; stroke: #333333\"/>\n     <use xlink:href=\"#mea192e53e7\" x=\"95.468926\" y=\"204.448373\" style=\"fill: #4c72b0; stroke: #333333\"/>\n     <use xlink:href=\"#mea192e53e7\" x=\"110.410842\" y=\"203.989813\" style=\"fill: #4c72b0; stroke: #333333\"/>\n     <use xlink:href=\"#mea192e53e7\" x=\"110.215721\" y=\"199.446391\" style=\"fill: #4c72b0; stroke: #333333\"/>\n     <use xlink:href=\"#mea192e53e7\" x=\"92.863859\" y=\"197.939826\" style=\"fill: #4c72b0; stroke: #333333\"/>\n     <use xlink:href=\"#mea192e53e7\" x=\"215.544038\" y=\"40.114834\" style=\"fill: #4c72b0; stroke: #333333\"/>\n     <use xlink:href=\"#mea192e53e7\" x=\"256.353955\" y=\"65.506487\" style=\"fill: #4c72b0; stroke: #333333\"/>\n     <use xlink:href=\"#mea192e53e7\" x=\"244.848065\" y=\"48.616761\" style=\"fill: #4c72b0; stroke: #333333\"/>\n     <use xlink:href=\"#mea192e53e7\" x=\"101.958723\" y=\"218.957815\" style=\"fill: #4c72b0; stroke: #333333\"/>\n     <use xlink:href=\"#mea192e53e7\" x=\"238.396707\" y=\"48.034224\" style=\"fill: #4c72b0; stroke: #333333\"/>\n     <use xlink:href=\"#mea192e53e7\" x=\"248.766268\" y=\"57.555532\" style=\"fill: #4c72b0; stroke: #333333\"/>\n     <use xlink:href=\"#mea192e53e7\" x=\"95.63726\" y=\"215.432756\" style=\"fill: #4c72b0; stroke: #333333\"/>\n     <use xlink:href=\"#mea192e53e7\" x=\"63.534517\" y=\"223.570494\" style=\"fill: #4c72b0; stroke: #333333\"/>\n     <use xlink:href=\"#mea192e53e7\" x=\"117.724354\" y=\"179.761671\" style=\"fill: #4c72b0; stroke: #333333\"/>\n     <use xlink:href=\"#mea192e53e7\" x=\"229.463789\" y=\"45.641396\" style=\"fill: #4c72b0; stroke: #333333\"/>\n     <use xlink:href=\"#mea192e53e7\" x=\"244.467944\" y=\"53.706278\" style=\"fill: #4c72b0; stroke: #333333\"/>\n     <use xlink:href=\"#mea192e53e7\" x=\"87.89875\" y=\"209.016347\" style=\"fill: #4c72b0; stroke: #333333\"/>\n     <use xlink:href=\"#mea192e53e7\" x=\"232.818784\" y=\"69.450587\" style=\"fill: #4c72b0; stroke: #333333\"/>\n     <use xlink:href=\"#mea192e53e7\" x=\"96.396051\" y=\"204.158236\" style=\"fill: #4c72b0; stroke: #333333\"/>\n     <use xlink:href=\"#mea192e53e7\" x=\"240.99798\" y=\"67.952386\" style=\"fill: #4c72b0; stroke: #333333\"/>\n     <use xlink:href=\"#mea192e53e7\" x=\"126.551407\" y=\"206.877286\" style=\"fill: #4c72b0; stroke: #333333\"/>\n     <use xlink:href=\"#mea192e53e7\" x=\"229.741219\" y=\"77.672692\" style=\"fill: #4c72b0; stroke: #333333\"/>\n     <use xlink:href=\"#mea192e53e7\" x=\"241.629726\" y=\"48.058389\" style=\"fill: #4c72b0; stroke: #333333\"/>\n     <use xlink:href=\"#mea192e53e7\" x=\"67.811341\" y=\"193.56402\" style=\"fill: #4c72b0; stroke: #333333\"/>\n     <use xlink:href=\"#mea192e53e7\" x=\"257.772893\" y=\"60.545981\" style=\"fill: #4c72b0; stroke: #333333\"/>\n     <use xlink:href=\"#mea192e53e7\" x=\"250.083951\" y=\"66.533018\" style=\"fill: #4c72b0; stroke: #333333\"/>\n     <use xlink:href=\"#mea192e53e7\" x=\"80.169403\" y=\"199.879371\" style=\"fill: #4c72b0; stroke: #333333\"/>\n     <use xlink:href=\"#mea192e53e7\" x=\"92.228478\" y=\"233.469375\" style=\"fill: #4c72b0; stroke: #333333\"/>\n     <use xlink:href=\"#mea192e53e7\" x=\"88.948418\" y=\"183.901378\" style=\"fill: #4c72b0; stroke: #333333\"/>\n     <use xlink:href=\"#mea192e53e7\" x=\"74.370011\" y=\"191.858507\" style=\"fill: #4c72b0; stroke: #333333\"/>\n     <use xlink:href=\"#mea192e53e7\" x=\"246.317451\" y=\"64.048496\" style=\"fill: #4c72b0; stroke: #333333\"/>\n     <use xlink:href=\"#mea192e53e7\" x=\"229.732461\" y=\"74.810418\" style=\"fill: #4c72b0; stroke: #333333\"/>\n     <use xlink:href=\"#mea192e53e7\" x=\"230.238873\" y=\"79.674531\" style=\"fill: #4c72b0; stroke: #333333\"/>\n     <use xlink:href=\"#mea192e53e7\" x=\"73.501196\" y=\"188.189902\" style=\"fill: #4c72b0; stroke: #333333\"/>\n     <use xlink:href=\"#mea192e53e7\" x=\"241.355765\" y=\"83.621716\" style=\"fill: #4c72b0; stroke: #333333\"/>\n     <use xlink:href=\"#mea192e53e7\" x=\"252.02769\" y=\"90.971571\" style=\"fill: #4c72b0; stroke: #333333\"/>\n     <use xlink:href=\"#mea192e53e7\" x=\"116.803806\" y=\"221.709895\" style=\"fill: #4c72b0; stroke: #333333\"/>\n     <use xlink:href=\"#mea192e53e7\" x=\"109.262526\" y=\"195.89547\" style=\"fill: #4c72b0; stroke: #333333\"/>\n     <use xlink:href=\"#mea192e53e7\" x=\"92.590376\" y=\"192.969327\" style=\"fill: #4c72b0; stroke: #333333\"/>\n     <use xlink:href=\"#mea192e53e7\" x=\"98.392209\" y=\"181.922077\" style=\"fill: #4c72b0; stroke: #333333\"/>\n     <use xlink:href=\"#mea192e53e7\" x=\"235.060827\" y=\"53.562408\" style=\"fill: #4c72b0; stroke: #333333\"/>\n     <use xlink:href=\"#mea192e53e7\" x=\"254.620161\" y=\"65.470097\" style=\"fill: #4c72b0; stroke: #333333\"/>\n     <use xlink:href=\"#mea192e53e7\" x=\"106.954124\" y=\"198.876719\" style=\"fill: #4c72b0; stroke: #333333\"/>\n     <use xlink:href=\"#mea192e53e7\" x=\"105.024851\" y=\"189.74424\" style=\"fill: #4c72b0; stroke: #333333\"/>\n     <use xlink:href=\"#mea192e53e7\" x=\"98.767856\" y=\"203.854745\" style=\"fill: #4c72b0; stroke: #333333\"/>\n     <use xlink:href=\"#mea192e53e7\" x=\"243.181757\" y=\"65.825675\" style=\"fill: #4c72b0; stroke: #333333\"/>\n     <use xlink:href=\"#mea192e53e7\" x=\"240.756164\" y=\"36.185793\" style=\"fill: #4c72b0; stroke: #333333\"/>\n     <use xlink:href=\"#mea192e53e7\" x=\"91.053822\" y=\"209.095219\" style=\"fill: #4c72b0; stroke: #333333\"/>\n     <use xlink:href=\"#mea192e53e7\" x=\"252.863774\" y=\"38.164838\" style=\"fill: #4c72b0; stroke: #333333\"/>\n     <use xlink:href=\"#mea192e53e7\" x=\"234.598327\" y=\"73.402974\" style=\"fill: #4c72b0; stroke: #333333\"/>\n     <use xlink:href=\"#mea192e53e7\" x=\"250.969989\" y=\"33.969847\" style=\"fill: #4c72b0; stroke: #333333\"/>\n     <use xlink:href=\"#mea192e53e7\" x=\"119.701408\" y=\"201.375069\" style=\"fill: #4c72b0; stroke: #333333\"/>\n     <use xlink:href=\"#mea192e53e7\" x=\"236.573604\" y=\"48.626427\" style=\"fill: #4c72b0; stroke: #333333\"/>\n     <use xlink:href=\"#mea192e53e7\" x=\"101.472415\" y=\"193.655402\" style=\"fill: #4c72b0; stroke: #333333\"/>\n     <use xlink:href=\"#mea192e53e7\" x=\"105.86082\" y=\"207.489006\" style=\"fill: #4c72b0; stroke: #333333\"/>\n     <use xlink:href=\"#mea192e53e7\" x=\"85.11417\" y=\"194.181507\" style=\"fill: #4c72b0; stroke: #333333\"/>\n     <use xlink:href=\"#mea192e53e7\" x=\"223.350555\" y=\"35.262721\" style=\"fill: #4c72b0; stroke: #333333\"/>\n     <use xlink:href=\"#mea192e53e7\" x=\"245.948848\" y=\"42.921311\" style=\"fill: #4c72b0; stroke: #333333\"/>\n     <use xlink:href=\"#mea192e53e7\" x=\"203.884855\" y=\"45.270291\" style=\"fill: #4c72b0; stroke: #333333\"/>\n     <use xlink:href=\"#mea192e53e7\" x=\"108.693187\" y=\"203.260663\" style=\"fill: #4c72b0; stroke: #333333\"/>\n     <use xlink:href=\"#mea192e53e7\" x=\"82.751839\" y=\"206.600263\" style=\"fill: #4c72b0; stroke: #333333\"/>\n     <use xlink:href=\"#mea192e53e7\" x=\"109.499974\" y=\"195.793055\" style=\"fill: #4c72b0; stroke: #333333\"/>\n     <use xlink:href=\"#mea192e53e7\" x=\"227.914083\" y=\"92.032426\" style=\"fill: #4c72b0; stroke: #333333\"/>\n     <use xlink:href=\"#mea192e53e7\" x=\"109.102827\" y=\"193.44234\" style=\"fill: #4c72b0; stroke: #333333\"/>\n     <use xlink:href=\"#mea192e53e7\" x=\"92.533411\" y=\"192.079328\" style=\"fill: #4c72b0; stroke: #333333\"/>\n     <use xlink:href=\"#mea192e53e7\" x=\"88.380653\" y=\"210.573987\" style=\"fill: #4c72b0; stroke: #333333\"/>\n     <use xlink:href=\"#mea192e53e7\" x=\"95.805824\" y=\"214.485517\" style=\"fill: #4c72b0; stroke: #333333\"/>\n     <use xlink:href=\"#mea192e53e7\" x=\"213.119778\" y=\"58.659851\" style=\"fill: #4c72b0; stroke: #333333\"/>\n     <use xlink:href=\"#mea192e53e7\" x=\"222.60096\" y=\"41.994242\" style=\"fill: #4c72b0; stroke: #333333\"/>\n     <use xlink:href=\"#mea192e53e7\" x=\"76.375509\" y=\"211.384537\" style=\"fill: #4c72b0; stroke: #333333\"/>\n     <use xlink:href=\"#mea192e53e7\" x=\"198.530974\" y=\"76.643469\" style=\"fill: #4c72b0; stroke: #333333\"/>\n     <use xlink:href=\"#mea192e53e7\" x=\"82.651566\" y=\"180.624588\" style=\"fill: #4c72b0; stroke: #333333\"/>\n     <use xlink:href=\"#mea192e53e7\" x=\"94.308779\" y=\"199.195063\" style=\"fill: #4c72b0; stroke: #333333\"/>\n     <use xlink:href=\"#mea192e53e7\" x=\"215.872078\" y=\"56.565249\" style=\"fill: #4c72b0; stroke: #333333\"/>\n     <use xlink:href=\"#mea192e53e7\" x=\"90.72896\" y=\"186.17345\" style=\"fill: #4c72b0; stroke: #333333\"/>\n    </g>\n   </g>\n   <g id=\"PathCollection_2\">\n    <defs>\n     <path id=\"mc01bef5487\" d=\"M 0 3 \nC 0.795609 3 1.55874 2.683901 2.12132 2.12132 \nC 2.683901 1.55874 3 0.795609 3 0 \nC 3 -0.795609 2.683901 -1.55874 2.12132 -2.12132 \nC 1.55874 -2.683901 0.795609 -3 0 -3 \nC -0.795609 -3 -1.55874 -2.683901 -2.12132 -2.12132 \nC -2.683901 -1.55874 -3 -0.795609 -3 0 \nC -3 0.795609 -2.683901 1.55874 -2.12132 2.12132 \nC -1.55874 2.683901 -0.795609 3 0 3 \nz\n\" style=\"stroke: #333333\"/>\n    </defs>\n    <g clip-path=\"url(#p1be1ffe13c)\">\n     <use xlink:href=\"#mc01bef5487\" x=\"129.424126\" y=\"60.419111\" style=\"fill: #dd8452; stroke: #333333\"/>\n     <use xlink:href=\"#mc01bef5487\" x=\"250.284069\" y=\"220.58526\" style=\"fill: #dd8452; stroke: #333333\"/>\n     <use xlink:href=\"#mc01bef5487\" x=\"237.506833\" y=\"205.778179\" style=\"fill: #dd8452; stroke: #333333\"/>\n     <use xlink:href=\"#mc01bef5487\" x=\"225.140779\" y=\"214.842676\" style=\"fill: #dd8452; stroke: #333333\"/>\n     <use xlink:href=\"#mc01bef5487\" x=\"80.737409\" y=\"52.338501\" style=\"fill: #dd8452; stroke: #333333\"/>\n     <use xlink:href=\"#mc01bef5487\" x=\"104.328778\" y=\"57.324969\" style=\"fill: #dd8452; stroke: #333333\"/>\n     <use xlink:href=\"#mc01bef5487\" x=\"94.158407\" y=\"77.591258\" style=\"fill: #dd8452; stroke: #333333\"/>\n     <use xlink:href=\"#mc01bef5487\" x=\"79.629743\" y=\"63.040888\" style=\"fill: #dd8452; stroke: #333333\"/>\n     <use xlink:href=\"#mc01bef5487\" x=\"87.344598\" y=\"64.535678\" style=\"fill: #dd8452; stroke: #333333\"/>\n     <use xlink:href=\"#mc01bef5487\" x=\"236.2134\" y=\"204.893906\" style=\"fill: #dd8452; stroke: #333333\"/>\n     <use xlink:href=\"#mc01bef5487\" x=\"246.129757\" y=\"200.85599\" style=\"fill: #dd8452; stroke: #333333\"/>\n     <use xlink:href=\"#mc01bef5487\" x=\"227.969333\" y=\"185.661027\" style=\"fill: #dd8452; stroke: #333333\"/>\n     <use xlink:href=\"#mc01bef5487\" x=\"84.060704\" y=\"56.641574\" style=\"fill: #dd8452; stroke: #333333\"/>\n     <use xlink:href=\"#mc01bef5487\" x=\"213.831238\" y=\"195.127496\" style=\"fill: #dd8452; stroke: #333333\"/>\n     <use xlink:href=\"#mc01bef5487\" x=\"232.532082\" y=\"213.288632\" style=\"fill: #dd8452; stroke: #333333\"/>\n     <use xlink:href=\"#mc01bef5487\" x=\"231.569245\" y=\"182.068726\" style=\"fill: #dd8452; stroke: #333333\"/>\n     <use xlink:href=\"#mc01bef5487\" x=\"224.870278\" y=\"191.644393\" style=\"fill: #dd8452; stroke: #333333\"/>\n     <use xlink:href=\"#mc01bef5487\" x=\"257.610441\" y=\"179.180537\" style=\"fill: #dd8452; stroke: #333333\"/>\n     <use xlink:href=\"#mc01bef5487\" x=\"113.230135\" y=\"38.372591\" style=\"fill: #dd8452; stroke: #333333\"/>\n     <use xlink:href=\"#mc01bef5487\" x=\"254.61259\" y=\"182.162257\" style=\"fill: #dd8452; stroke: #333333\"/>\n     <use xlink:href=\"#mc01bef5487\" x=\"86.086379\" y=\"55.060458\" style=\"fill: #dd8452; stroke: #333333\"/>\n     <use xlink:href=\"#mc01bef5487\" x=\"254.994557\" y=\"209.452526\" style=\"fill: #dd8452; stroke: #333333\"/>\n     <use xlink:href=\"#mc01bef5487\" x=\"68.430199\" y=\"61.212871\" style=\"fill: #dd8452; stroke: #333333\"/>\n     <use xlink:href=\"#mc01bef5487\" x=\"124.259469\" y=\"54.656693\" style=\"fill: #dd8452; stroke: #333333\"/>\n     <use xlink:href=\"#mc01bef5487\" x=\"238.421692\" y=\"203.980336\" style=\"fill: #dd8452; stroke: #333333\"/>\n     <use xlink:href=\"#mc01bef5487\" x=\"216.600047\" y=\"185.966923\" style=\"fill: #dd8452; stroke: #333333\"/>\n     <use xlink:href=\"#mc01bef5487\" x=\"98.011581\" y=\"61.49903\" style=\"fill: #dd8452; stroke: #333333\"/>\n     <use xlink:href=\"#mc01bef5487\" x=\"228.112389\" y=\"191.858888\" style=\"fill: #dd8452; stroke: #333333\"/>\n     <use xlink:href=\"#mc01bef5487\" x=\"98.6074\" y=\"69.499695\" style=\"fill: #dd8452; stroke: #333333\"/>\n     <use xlink:href=\"#mc01bef5487\" x=\"93.568943\" y=\"88.201944\" style=\"fill: #dd8452; stroke: #333333\"/>\n     <use xlink:href=\"#mc01bef5487\" x=\"264.448926\" y=\"212.61813\" style=\"fill: #dd8452; stroke: #333333\"/>\n     <use xlink:href=\"#mc01bef5487\" x=\"257.637323\" y=\"199.711252\" style=\"fill: #dd8452; stroke: #333333\"/>\n     <use xlink:href=\"#mc01bef5487\" x=\"103.592419\" y=\"43.557982\" style=\"fill: #dd8452; stroke: #333333\"/>\n     <use xlink:href=\"#mc01bef5487\" x=\"112.996738\" y=\"58.673464\" style=\"fill: #dd8452; stroke: #333333\"/>\n     <use xlink:href=\"#mc01bef5487\" x=\"66.06213\" y=\"62.617807\" style=\"fill: #dd8452; stroke: #333333\"/>\n     <use xlink:href=\"#mc01bef5487\" x=\"246.971823\" y=\"209.539504\" style=\"fill: #dd8452; stroke: #333333\"/>\n     <use xlink:href=\"#mc01bef5487\" x=\"82.231263\" y=\"60.811413\" style=\"fill: #dd8452; stroke: #333333\"/>\n     <use xlink:href=\"#mc01bef5487\" x=\"264.494316\" y=\"206.159415\" style=\"fill: #dd8452; stroke: #333333\"/>\n     <use xlink:href=\"#mc01bef5487\" x=\"97.660412\" y=\"74.551116\" style=\"fill: #dd8452; stroke: #333333\"/>\n     <use xlink:href=\"#mc01bef5487\" x=\"112.876012\" y=\"83.387758\" style=\"fill: #dd8452; stroke: #333333\"/>\n     <use xlink:href=\"#mc01bef5487\" x=\"122.118875\" y=\"45.787841\" style=\"fill: #dd8452; stroke: #333333\"/>\n     <use xlink:href=\"#mc01bef5487\" x=\"222.134503\" y=\"189.036563\" style=\"fill: #dd8452; stroke: #333333\"/>\n     <use xlink:href=\"#mc01bef5487\" x=\"82.224736\" y=\"78.620038\" style=\"fill: #dd8452; stroke: #333333\"/>\n     <use xlink:href=\"#mc01bef5487\" x=\"100.455045\" y=\"62.103065\" style=\"fill: #dd8452; stroke: #333333\"/>\n     <use xlink:href=\"#mc01bef5487\" x=\"218.823394\" y=\"202.998403\" style=\"fill: #dd8452; stroke: #333333\"/>\n     <use xlink:href=\"#mc01bef5487\" x=\"233.916611\" y=\"198.373067\" style=\"fill: #dd8452; stroke: #333333\"/>\n     <use xlink:href=\"#mc01bef5487\" x=\"100.817991\" y=\"49.313284\" style=\"fill: #dd8452; stroke: #333333\"/>\n     <use xlink:href=\"#mc01bef5487\" x=\"96.578009\" y=\"31.869375\" style=\"fill: #dd8452; stroke: #333333\"/>\n     <use xlink:href=\"#mc01bef5487\" x=\"235.934876\" y=\"192.902715\" style=\"fill: #dd8452; stroke: #333333\"/>\n     <use xlink:href=\"#mc01bef5487\" x=\"211.91521\" y=\"200.879871\" style=\"fill: #dd8452; stroke: #333333\"/>\n     <use xlink:href=\"#mc01bef5487\" x=\"97.928547\" y=\"49.748105\" style=\"fill: #dd8452; stroke: #333333\"/>\n     <use xlink:href=\"#mc01bef5487\" x=\"88.60056\" y=\"36.357374\" style=\"fill: #dd8452; stroke: #333333\"/>\n     <use xlink:href=\"#mc01bef5487\" x=\"89.359615\" y=\"78.580471\" style=\"fill: #dd8452; stroke: #333333\"/>\n     <use xlink:href=\"#mc01bef5487\" x=\"107.600431\" y=\"52.814511\" style=\"fill: #dd8452; stroke: #333333\"/>\n     <use xlink:href=\"#mc01bef5487\" x=\"84.908045\" y=\"64.102387\" style=\"fill: #dd8452; stroke: #333333\"/>\n     <use xlink:href=\"#mc01bef5487\" x=\"94.960409\" y=\"53.774726\" style=\"fill: #dd8452; stroke: #333333\"/>\n     <use xlink:href=\"#mc01bef5487\" x=\"108.251675\" y=\"69.222323\" style=\"fill: #dd8452; stroke: #333333\"/>\n     <use xlink:href=\"#mc01bef5487\" x=\"220.870097\" y=\"212.623925\" style=\"fill: #dd8452; stroke: #333333\"/>\n     <use xlink:href=\"#mc01bef5487\" x=\"76.882323\" y=\"40.3462\" style=\"fill: #dd8452; stroke: #333333\"/>\n     <use xlink:href=\"#mc01bef5487\" x=\"235.013361\" y=\"193.822534\" style=\"fill: #dd8452; stroke: #333333\"/>\n     <use xlink:href=\"#mc01bef5487\" x=\"233.56497\" y=\"196.719005\" style=\"fill: #dd8452; stroke: #333333\"/>\n     <use xlink:href=\"#mc01bef5487\" x=\"216.113382\" y=\"214.591537\" style=\"fill: #dd8452; stroke: #333333\"/>\n     <use xlink:href=\"#mc01bef5487\" x=\"231.101959\" y=\"201.591966\" style=\"fill: #dd8452; stroke: #333333\"/>\n     <use xlink:href=\"#mc01bef5487\" x=\"96.898559\" y=\"70.354562\" style=\"fill: #dd8452; stroke: #333333\"/>\n     <use xlink:href=\"#mc01bef5487\" x=\"214.520798\" y=\"192.75921\" style=\"fill: #dd8452; stroke: #333333\"/>\n     <use xlink:href=\"#mc01bef5487\" x=\"209.19778\" y=\"167.562939\" style=\"fill: #dd8452; stroke: #333333\"/>\n     <use xlink:href=\"#mc01bef5487\" x=\"99.460974\" y=\"62.190035\" style=\"fill: #dd8452; stroke: #333333\"/>\n     <use xlink:href=\"#mc01bef5487\" x=\"106.398665\" y=\"60.67123\" style=\"fill: #dd8452; stroke: #333333\"/>\n     <use xlink:href=\"#mc01bef5487\" x=\"249.755817\" y=\"187.146049\" style=\"fill: #dd8452; stroke: #333333\"/>\n     <use xlink:href=\"#mc01bef5487\" x=\"89.555646\" y=\"52.086465\" style=\"fill: #dd8452; stroke: #333333\"/>\n     <use xlink:href=\"#mc01bef5487\" x=\"101.908471\" y=\"62.430883\" style=\"fill: #dd8452; stroke: #333333\"/>\n     <use xlink:href=\"#mc01bef5487\" x=\"105.423454\" y=\"83.735903\" style=\"fill: #dd8452; stroke: #333333\"/>\n     <use xlink:href=\"#mc01bef5487\" x=\"232.704481\" y=\"179.907364\" style=\"fill: #dd8452; stroke: #333333\"/>\n     <use xlink:href=\"#mc01bef5487\" x=\"240.929195\" y=\"170.535946\" style=\"fill: #dd8452; stroke: #333333\"/>\n     <use xlink:href=\"#mc01bef5487\" x=\"227.280935\" y=\"207.44032\" style=\"fill: #dd8452; stroke: #333333\"/>\n     <use xlink:href=\"#mc01bef5487\" x=\"133.775285\" y=\"60.119999\" style=\"fill: #dd8452; stroke: #333333\"/>\n     <use xlink:href=\"#mc01bef5487\" x=\"248.613061\" y=\"226.23128\" style=\"fill: #dd8452; stroke: #333333\"/>\n     <use xlink:href=\"#mc01bef5487\" x=\"228.956386\" y=\"213.413424\" style=\"fill: #dd8452; stroke: #333333\"/>\n     <use xlink:href=\"#mc01bef5487\" x=\"243.911955\" y=\"184.658616\" style=\"fill: #dd8452; stroke: #333333\"/>\n     <use xlink:href=\"#mc01bef5487\" x=\"85.866786\" y=\"70.788638\" style=\"fill: #dd8452; stroke: #333333\"/>\n     <use xlink:href=\"#mc01bef5487\" x=\"75.948456\" y=\"63.643635\" style=\"fill: #dd8452; stroke: #333333\"/>\n     <use xlink:href=\"#mc01bef5487\" x=\"252.529453\" y=\"215.778386\" style=\"fill: #dd8452; stroke: #333333\"/>\n     <use xlink:href=\"#mc01bef5487\" x=\"108.977568\" y=\"84.385425\" style=\"fill: #dd8452; stroke: #333333\"/>\n     <use xlink:href=\"#mc01bef5487\" x=\"69.427342\" y=\"62.643602\" style=\"fill: #dd8452; stroke: #333333\"/>\n     <use xlink:href=\"#mc01bef5487\" x=\"114.673981\" y=\"49.257595\" style=\"fill: #dd8452; stroke: #333333\"/>\n     <use xlink:href=\"#mc01bef5487\" x=\"87.075667\" y=\"52.281157\" style=\"fill: #dd8452; stroke: #333333\"/>\n     <use xlink:href=\"#mc01bef5487\" x=\"242.206102\" y=\"216.176041\" style=\"fill: #dd8452; stroke: #333333\"/>\n     <use xlink:href=\"#mc01bef5487\" x=\"210.800798\" y=\"194.932675\" style=\"fill: #dd8452; stroke: #333333\"/>\n     <use xlink:href=\"#mc01bef5487\" x=\"95.875388\" y=\"45.141388\" style=\"fill: #dd8452; stroke: #333333\"/>\n     <use xlink:href=\"#mc01bef5487\" x=\"257.604682\" y=\"210.791565\" style=\"fill: #dd8452; stroke: #333333\"/>\n     <use xlink:href=\"#mc01bef5487\" x=\"119.265261\" y=\"70.529612\" style=\"fill: #dd8452; stroke: #333333\"/>\n     <use xlink:href=\"#mc01bef5487\" x=\"247.462411\" y=\"160.608679\" style=\"fill: #dd8452; stroke: #333333\"/>\n     <use xlink:href=\"#mc01bef5487\" x=\"219.342769\" y=\"213.203068\" style=\"fill: #dd8452; stroke: #333333\"/>\n     <use xlink:href=\"#mc01bef5487\" x=\"253.330812\" y=\"198.099556\" style=\"fill: #dd8452; stroke: #333333\"/>\n     <use xlink:href=\"#mc01bef5487\" x=\"101.093675\" y=\"60.807265\" style=\"fill: #dd8452; stroke: #333333\"/>\n     <use xlink:href=\"#mc01bef5487\" x=\"110.905935\" y=\"48.892494\" style=\"fill: #dd8452; stroke: #333333\"/>\n    </g>\n   </g>\n   <g id=\"patch_3\">\n    <path d=\"M 53.389062 243.549375 \nL 53.389062 21.789375 \n\" style=\"fill: none; stroke: #ffffff; stroke-width: 1.25; stroke-linejoin: miter; stroke-linecap: square\"/>\n   </g>\n   <g id=\"patch_4\">\n    <path d=\"M 276.589063 243.549375 \nL 276.589063 21.789375 \n\" style=\"fill: none; stroke: #ffffff; stroke-width: 1.25; stroke-linejoin: miter; stroke-linecap: square\"/>\n   </g>\n   <g id=\"patch_5\">\n    <path d=\"M 53.389063 243.549375 \nL 276.589063 243.549375 \n\" style=\"fill: none; stroke: #ffffff; stroke-width: 1.25; stroke-linejoin: miter; stroke-linecap: square\"/>\n   </g>\n   <g id=\"patch_6\">\n    <path d=\"M 53.389063 21.789375 \nL 276.589063 21.789375 \n\" style=\"fill: none; stroke: #ffffff; stroke-width: 1.25; stroke-linejoin: miter; stroke-linecap: square\"/>\n   </g>\n   <g id=\"text_14\">\n    <!-- Dataset samples -->\n    <g style=\"fill: #262626\" transform=\"translate(120.305 15.789375)scale(0.12 -0.12)\">\n     <defs>\n      <path id=\"ArialMT-44\" d=\"M 494 0 \nL 494 4581 \nL 2072 4581 \nQ 2606 4581 2888 4516 \nQ 3281 4425 3559 4188 \nQ 3922 3881 4101 3404 \nQ 4281 2928 4281 2316 \nQ 4281 1794 4159 1391 \nQ 4038 988 3847 723 \nQ 3656 459 3429 307 \nQ 3203 156 2883 78 \nQ 2563 0 2147 0 \nL 494 0 \nz\nM 1100 541 \nL 2078 541 \nQ 2531 541 2789 625 \nQ 3047 709 3200 863 \nQ 3416 1078 3536 1442 \nQ 3656 1806 3656 2325 \nQ 3656 3044 3420 3430 \nQ 3184 3816 2847 3947 \nQ 2603 4041 2063 4041 \nL 1100 4041 \nL 1100 541 \nz\n\" transform=\"scale(0.015625)\"/>\n      <path id=\"ArialMT-61\" d=\"M 2588 409 \nQ 2275 144 1986 34 \nQ 1697 -75 1366 -75 \nQ 819 -75 525 192 \nQ 231 459 231 875 \nQ 231 1119 342 1320 \nQ 453 1522 633 1644 \nQ 813 1766 1038 1828 \nQ 1203 1872 1538 1913 \nQ 2219 1994 2541 2106 \nQ 2544 2222 2544 2253 \nQ 2544 2597 2384 2738 \nQ 2169 2928 1744 2928 \nQ 1347 2928 1158 2789 \nQ 969 2650 878 2297 \nL 328 2372 \nQ 403 2725 575 2942 \nQ 747 3159 1072 3276 \nQ 1397 3394 1825 3394 \nQ 2250 3394 2515 3294 \nQ 2781 3194 2906 3042 \nQ 3031 2891 3081 2659 \nQ 3109 2516 3109 2141 \nL 3109 1391 \nQ 3109 606 3145 398 \nQ 3181 191 3288 0 \nL 2700 0 \nQ 2613 175 2588 409 \nz\nM 2541 1666 \nQ 2234 1541 1622 1453 \nQ 1275 1403 1131 1340 \nQ 988 1278 909 1158 \nQ 831 1038 831 891 \nQ 831 666 1001 516 \nQ 1172 366 1500 366 \nQ 1825 366 2078 508 \nQ 2331 650 2450 897 \nQ 2541 1088 2541 1459 \nL 2541 1666 \nz\n\" transform=\"scale(0.015625)\"/>\n      <path id=\"ArialMT-74\" d=\"M 1650 503 \nL 1731 6 \nQ 1494 -44 1306 -44 \nQ 1000 -44 831 53 \nQ 663 150 594 308 \nQ 525 466 525 972 \nL 525 2881 \nL 113 2881 \nL 113 3319 \nL 525 3319 \nL 525 4141 \nL 1084 4478 \nL 1084 3319 \nL 1650 3319 \nL 1650 2881 \nL 1084 2881 \nL 1084 941 \nQ 1084 700 1114 631 \nQ 1144 563 1211 522 \nQ 1278 481 1403 481 \nQ 1497 481 1650 503 \nz\n\" transform=\"scale(0.015625)\"/>\n      <path id=\"ArialMT-73\" d=\"M 197 991 \nL 753 1078 \nQ 800 744 1014 566 \nQ 1228 388 1613 388 \nQ 2000 388 2187 545 \nQ 2375 703 2375 916 \nQ 2375 1106 2209 1216 \nQ 2094 1291 1634 1406 \nQ 1016 1563 777 1677 \nQ 538 1791 414 1992 \nQ 291 2194 291 2438 \nQ 291 2659 392 2848 \nQ 494 3038 669 3163 \nQ 800 3259 1026 3326 \nQ 1253 3394 1513 3394 \nQ 1903 3394 2198 3281 \nQ 2494 3169 2634 2976 \nQ 2775 2784 2828 2463 \nL 2278 2388 \nQ 2241 2644 2061 2787 \nQ 1881 2931 1553 2931 \nQ 1166 2931 1000 2803 \nQ 834 2675 834 2503 \nQ 834 2394 903 2306 \nQ 972 2216 1119 2156 \nQ 1203 2125 1616 2013 \nQ 2213 1853 2448 1751 \nQ 2684 1650 2818 1456 \nQ 2953 1263 2953 975 \nQ 2953 694 2789 445 \nQ 2625 197 2315 61 \nQ 2006 -75 1616 -75 \nQ 969 -75 630 194 \nQ 291 463 197 991 \nz\n\" transform=\"scale(0.015625)\"/>\n      <path id=\"ArialMT-65\" d=\"M 2694 1069 \nL 3275 997 \nQ 3138 488 2766 206 \nQ 2394 -75 1816 -75 \nQ 1088 -75 661 373 \nQ 234 822 234 1631 \nQ 234 2469 665 2931 \nQ 1097 3394 1784 3394 \nQ 2450 3394 2872 2941 \nQ 3294 2488 3294 1666 \nQ 3294 1616 3291 1516 \nL 816 1516 \nQ 847 969 1125 678 \nQ 1403 388 1819 388 \nQ 2128 388 2347 550 \nQ 2566 713 2694 1069 \nz\nM 847 1978 \nL 2700 1978 \nQ 2663 2397 2488 2606 \nQ 2219 2931 1791 2931 \nQ 1403 2931 1139 2672 \nQ 875 2413 847 1978 \nz\n\" transform=\"scale(0.015625)\"/>\n      <path id=\"ArialMT-20\" transform=\"scale(0.015625)\"/>\n      <path id=\"ArialMT-6d\" d=\"M 422 0 \nL 422 3319 \nL 925 3319 \nL 925 2853 \nQ 1081 3097 1340 3245 \nQ 1600 3394 1931 3394 \nQ 2300 3394 2536 3241 \nQ 2772 3088 2869 2813 \nQ 3263 3394 3894 3394 \nQ 4388 3394 4653 3120 \nQ 4919 2847 4919 2278 \nL 4919 0 \nL 4359 0 \nL 4359 2091 \nQ 4359 2428 4304 2576 \nQ 4250 2725 4106 2815 \nQ 3963 2906 3769 2906 \nQ 3419 2906 3187 2673 \nQ 2956 2441 2956 1928 \nL 2956 0 \nL 2394 0 \nL 2394 2156 \nQ 2394 2531 2256 2718 \nQ 2119 2906 1806 2906 \nQ 1569 2906 1367 2781 \nQ 1166 2656 1075 2415 \nQ 984 2175 984 1722 \nL 984 0 \nL 422 0 \nz\n\" transform=\"scale(0.015625)\"/>\n      <path id=\"ArialMT-70\" d=\"M 422 -1272 \nL 422 3319 \nL 934 3319 \nL 934 2888 \nQ 1116 3141 1344 3267 \nQ 1572 3394 1897 3394 \nQ 2322 3394 2647 3175 \nQ 2972 2956 3137 2557 \nQ 3303 2159 3303 1684 \nQ 3303 1175 3120 767 \nQ 2938 359 2589 142 \nQ 2241 -75 1856 -75 \nQ 1575 -75 1351 44 \nQ 1128 163 984 344 \nL 984 -1272 \nL 422 -1272 \nz\nM 931 1641 \nQ 931 1000 1190 694 \nQ 1450 388 1819 388 \nQ 2194 388 2461 705 \nQ 2728 1022 2728 1688 \nQ 2728 2322 2467 2637 \nQ 2206 2953 1844 2953 \nQ 1484 2953 1207 2617 \nQ 931 2281 931 1641 \nz\n\" transform=\"scale(0.015625)\"/>\n      <path id=\"ArialMT-6c\" d=\"M 409 0 \nL 409 4581 \nL 972 4581 \nL 972 0 \nL 409 0 \nz\n\" transform=\"scale(0.015625)\"/>\n     </defs>\n     <use xlink:href=\"#ArialMT-44\"/>\n     <use xlink:href=\"#ArialMT-61\" x=\"72.216797\"/>\n     <use xlink:href=\"#ArialMT-74\" x=\"127.832031\"/>\n     <use xlink:href=\"#ArialMT-61\" x=\"155.615234\"/>\n     <use xlink:href=\"#ArialMT-73\" x=\"211.230469\"/>\n     <use xlink:href=\"#ArialMT-65\" x=\"261.230469\"/>\n     <use xlink:href=\"#ArialMT-74\" x=\"316.845703\"/>\n     <use xlink:href=\"#ArialMT-20\" x=\"344.628906\"/>\n     <use xlink:href=\"#ArialMT-73\" x=\"372.412109\"/>\n     <use xlink:href=\"#ArialMT-61\" x=\"422.412109\"/>\n     <use xlink:href=\"#ArialMT-6d\" x=\"478.027344\"/>\n     <use xlink:href=\"#ArialMT-70\" x=\"561.328125\"/>\n     <use xlink:href=\"#ArialMT-6c\" x=\"616.943359\"/>\n     <use xlink:href=\"#ArialMT-65\" x=\"639.160156\"/>\n     <use xlink:href=\"#ArialMT-73\" x=\"694.775391\"/>\n    </g>\n   </g>\n   <g id=\"legend_1\">\n    <g id=\"patch_7\">\n     <path d=\"M 197.010937 149.879219 \nL 268.889063 149.879219 \nQ 271.089063 149.879219 271.089063 147.679219 \nL 271.089063 117.659531 \nQ 271.089063 115.459531 268.889063 115.459531 \nL 197.010937 115.459531 \nQ 194.810937 115.459531 194.810937 117.659531 \nL 194.810937 147.679219 \nQ 194.810937 149.879219 197.010937 149.879219 \nz\n\" style=\"fill: #eaeaf2; opacity: 0.8; stroke: #cccccc; stroke-linejoin: miter\"/>\n    </g>\n    <g id=\"PathCollection_3\">\n     <g>\n      <use xlink:href=\"#mea192e53e7\" x=\"210.210938\" y=\"124.845625\" style=\"fill: #4c72b0; stroke: #333333\"/>\n     </g>\n    </g>\n    <g id=\"text_15\">\n     <!-- Class 0 -->\n     <g style=\"fill: #262626\" transform=\"translate(230.010938 127.733125)scale(0.11 -0.11)\">\n      <defs>\n       <path id=\"ArialMT-43\" d=\"M 3763 1606 \nL 4369 1453 \nQ 4178 706 3683 314 \nQ 3188 -78 2472 -78 \nQ 1731 -78 1267 223 \nQ 803 525 561 1097 \nQ 319 1669 319 2325 \nQ 319 3041 592 3573 \nQ 866 4106 1370 4382 \nQ 1875 4659 2481 4659 \nQ 3169 4659 3637 4309 \nQ 4106 3959 4291 3325 \nL 3694 3184 \nQ 3534 3684 3231 3912 \nQ 2928 4141 2469 4141 \nQ 1941 4141 1586 3887 \nQ 1231 3634 1087 3207 \nQ 944 2781 944 2328 \nQ 944 1744 1114 1308 \nQ 1284 872 1643 656 \nQ 2003 441 2422 441 \nQ 2931 441 3284 734 \nQ 3638 1028 3763 1606 \nz\n\" transform=\"scale(0.015625)\"/>\n      </defs>\n      <use xlink:href=\"#ArialMT-43\"/>\n      <use xlink:href=\"#ArialMT-6c\" x=\"72.216797\"/>\n      <use xlink:href=\"#ArialMT-61\" x=\"94.433594\"/>\n      <use xlink:href=\"#ArialMT-73\" x=\"150.048828\"/>\n      <use xlink:href=\"#ArialMT-73\" x=\"200.048828\"/>\n      <use xlink:href=\"#ArialMT-20\" x=\"250.048828\"/>\n      <use xlink:href=\"#ArialMT-30\" x=\"277.832031\"/>\n     </g>\n    </g>\n    <g id=\"PathCollection_4\">\n     <g>\n      <use xlink:href=\"#mc01bef5487\" x=\"210.210938\" y=\"140.405469\" style=\"fill: #dd8452; stroke: #333333\"/>\n     </g>\n    </g>\n    <g id=\"text_16\">\n     <!-- Class 1 -->\n     <g style=\"fill: #262626\" transform=\"translate(230.010938 143.292969)scale(0.11 -0.11)\">\n      <use xlink:href=\"#ArialMT-43\"/>\n      <use xlink:href=\"#ArialMT-6c\" x=\"72.216797\"/>\n      <use xlink:href=\"#ArialMT-61\" x=\"94.433594\"/>\n      <use xlink:href=\"#ArialMT-73\" x=\"150.048828\"/>\n      <use xlink:href=\"#ArialMT-73\" x=\"200.048828\"/>\n      <use xlink:href=\"#ArialMT-20\" x=\"250.048828\"/>\n      <use xlink:href=\"#ArialMT-31\" x=\"277.832031\"/>\n     </g>\n    </g>\n   </g>\n  </g>\n </g>\n <defs>\n  <clipPath id=\"p1be1ffe13c\">\n   <rect x=\"53.389062\" y=\"21.789375\" width=\"223.2\" height=\"221.76\"/>\n  </clipPath>\n </defs>\n</svg>\n",
      "text/plain": [
       "<Figure size 400x400 with 1 Axes>"
      ]
     },
     "metadata": {},
     "output_type": "display_data"
    }
   ],
   "source": [
    "visualize_samples(dataset.data, dataset.label)\n",
    "plt.show()"
   ]
  },
  {
   "cell_type": "markdown",
   "metadata": {},
   "source": [
    "#### The data loader class\n",
    "\n",
    "The class `torch.utils.data.DataLoader` represents a Python iterable over a dataset with support for automatic batching, multi-process data loading and many more features. The data loader communicates with the dataset using the function `__getitem__`, and stacks its outputs as tensors over the first dimension to form a batch.\n",
    "In contrast to the dataset class, we usually don't have to define our own data loader class, but can just create an object of it with the dataset as input. Additionally, we can configure our data loader with the following input arguments (only a selection, see full list [here](https://pytorch.org/docs/stable/data.html#torch.utils.data.DataLoader)):\n",
    "\n",
    "* `batch_size`: Number of samples to stack per batch\n",
    "* `shuffle`: If True, the data is returned in a random order. This is important during training for introducing stochasticity. \n",
    "* `num_workers`: Number of subprocesses to use for data loading. The default, 0, means that the data will be loaded in the main process which can slow down training for datasets where loading a data point takes a considerable amount of time (e.g. large images). More workers are recommended for those, but can cause issues on Windows computers. For tiny datasets as ours, 0 workers are usually faster.\n",
    "* `pin_memory`: If True, the data loader will copy Tensors into CUDA pinned memory before returning them. This can save some time for large data points on GPUs. Usually a good practice to use for a training set, but not necessarily for validation and test to save memory on the GPU.\n",
    "* `drop_last`: If True, the last batch is dropped in case it is smaller than the specified batch size. This occurs when the dataset size is not a multiple of the batch size. Only potentially helpful during training to keep a consistent batch size.\n",
    "\n",
    "Let's create a simple data loader below:"
   ]
  },
  {
   "cell_type": "code",
   "execution_count": 1549,
   "metadata": {},
   "outputs": [],
   "source": [
    "data_loader = data.DataLoader(dataset, batch_size=8, shuffle=True)"
   ]
  },
  {
   "cell_type": "code",
   "execution_count": 1550,
   "metadata": {},
   "outputs": [
    {
     "name": "stdout",
     "output_type": "stream",
     "text": [
      "Data inputs torch.Size([8, 2]) \n",
      " tensor([[-0.0098,  0.7925],\n",
      "        [ 0.0453,  0.0408],\n",
      "        [-0.0889,  0.9878],\n",
      "        [ 0.0957, -0.0276],\n",
      "        [ 0.9435,  0.8533],\n",
      "        [-0.0551,  1.0486],\n",
      "        [ 1.0602, -0.0724],\n",
      "        [ 1.0728,  1.0110]])\n",
      "Data labels torch.Size([8]) \n",
      " tensor([1, 0, 1, 0, 0, 1, 1, 0])\n"
     ]
    }
   ],
   "source": [
    "# next(iter(...)) catches the first batch of the data loader\n",
    "# If shuffle is True, this will return a different batch every time we run this cell\n",
    "# For iterating over the whole dataset, we can simple use \"for batch in data_loader: ...\"\n",
    "data_inputs, data_labels = next(iter(data_loader))\n",
    "\n",
    "# The shape of the outputs are [batch_size, d_1,...,d_N] where d_1,...,d_N are the \n",
    "# dimensions of the data point returned from the dataset class\n",
    "print(\"Data inputs\", data_inputs.shape, \"\\n\", data_inputs)\n",
    "print(\"Data labels\", data_labels.shape, \"\\n\", data_labels)"
   ]
  },
  {
   "cell_type": "markdown",
   "metadata": {},
   "source": [
    "### Optimization\n",
    "\n",
    "After defining the model and the dataset, it is time to prepare the optimization of the model. During training, we will perform the following steps:\n",
    "\n",
    "1. Get a batch from the data loader\n",
    "2. Obtain the predictions from the model for the batch\n",
    "3. Calculate the loss based on the difference between predictions and labels\n",
    "4. Backpropagation: calculate the gradients for every parameter with respect to the loss\n",
    "5. Update the parameters of the model in the direction of the gradients\n",
    "\n",
    "We have seen how we can do step 1, 2 and 4 in PyTorch. Now, we will look at step 3 and 5."
   ]
  },
  {
   "cell_type": "markdown",
   "metadata": {},
   "source": [
    "#### Loss modules\n",
    "\n",
    "We can calculate the loss for a batch by simply performing a few tensor operations as those are automatically added to the computation graph. For instance, for binary classification, we can use Binary Cross Entropy (BCE) which is defined as follows:\n",
    "\n",
    "$$\\mathcal{L}_{BCE} = \\sum_i y_i \\log x_i + (1 - y_i) \\log (1 - x_i)$$\n",
    "\n",
    "where $y$ are our labels, and $x$ our predictions, both in the range of $[0,1]$. However, PyTorch already provides a list of predefined loss functions which we can use (see [here](https://pytorch.org/docs/stable/nn.html#loss-functions) for a full list). For instance, for BCE, PyTorch has two modules: `nn.BCELoss()`, `nn.BCEWithLogitsLoss()`. While `nn.BCELoss` expects the inputs $x$ to be in the range $[0,1]$, i.e. the output of a sigmoid, `nn.BCEWithLogitsLoss` combines a sigmoid layer and the BCE loss in a single class. This version is numerically more stable than using a plain Sigmoid followed by a BCE loss because of the logarithms applied in the loss function. Hence, it is adviced to use loss functions applied on \"logits\" where possible (remember to not apply a sigmoid on the output of the model in this case!). For our model defined above, we therefore use the module `nn.BCEWithLogitsLoss`. "
   ]
  },
  {
   "cell_type": "code",
   "execution_count": 1551,
   "metadata": {},
   "outputs": [],
   "source": [
    "loss_module = nn.BCEWithLogitsLoss()"
   ]
  },
  {
   "cell_type": "markdown",
   "metadata": {},
   "source": [
    "#### Stochastic Gradient Descent\n",
    "\n",
    "For updating the parameters, PyTorch provides the package `torch.optim` that has most popular optimizers implemented. We will discuss the specific optimizers and their differences later in the course, but will for now use the simplest of them: `torch.optim.SGD`. Stochastic Gradient Descent updates parameters by multiplying the gradients with a small constant, called learning rate, and subtracting those from the parameters (hence minimizing the loss). Therefore, we slowly move towards the direction of minimizing the loss. A good default value of the learning rate for a small network as ours is 0.1. "
   ]
  },
  {
   "cell_type": "code",
   "execution_count": 1552,
   "metadata": {},
   "outputs": [],
   "source": [
    "# Input to the optimizer are the parameters of the model: model.parameters()\n",
    "optimizer = torch.optim.SGD(model.parameters(), lr=0.05)"
   ]
  },
  {
   "cell_type": "markdown",
   "metadata": {},
   "source": [
    "The optimizer provides two useful functions: `optimizer.step()`, and `optimizer.zero_grad()`. The step function updates the parameters based on the gradients as explained above. The function `optimizer.zero_grad()` sets the gradients of all parameters to zero. While this function seems less relevant at first, it is a crucial pre-step before performing backpropagation. If we would call the `backward` function on the loss while the parameter gradients are non-zero from the previous batch, the new gradients would actually be added to the previous ones instead of overwriting them. This is done because a parameter might occur multiple times in a computation graph, and we need to sum the gradients in this case instead of replacing them. Hence, remember to call `optimizer.zero_grad()` before calculating the gradients of a batch."
   ]
  },
  {
   "cell_type": "markdown",
   "metadata": {},
   "source": [
    "### Training\n",
    "\n",
    "Finally, we are ready to train our model. As a first step, we create a slightly larger dataset and specify a data loader with a larger batch size. "
   ]
  },
  {
   "cell_type": "code",
   "execution_count": 1553,
   "metadata": {},
   "outputs": [],
   "source": [
    "train_dataset = XORDataset(size=1000)\n",
    "train_data_loader = data.DataLoader(train_dataset, batch_size=64, shuffle=True)"
   ]
  },
  {
   "cell_type": "markdown",
   "metadata": {},
   "source": [
    "Now, we can write a small training function. Remember our five steps: load a batch, obtain the predictions, calculate the loss, backpropagate, and update. Additionally, we have to push all data and model parameters to the device of our choice (GPU if available). For the tiny neural network we have, communicating the data to the GPU actually takes much more time than we could save from running the operation on GPU. For large networks, the communication time is significantly smaller than the actual runtime making a GPU crucial in these cases. Still, to practice, we will push the data to GPU here. "
   ]
  },
  {
   "cell_type": "code",
   "execution_count": 1554,
   "metadata": {},
   "outputs": [
    {
     "data": {
      "text/plain": [
       "SimpleClassifier(\n",
       "  (linear1): Linear(in_features=2, out_features=4, bias=True)\n",
       "  (linear2): Linear(in_features=4, out_features=4, bias=True)\n",
       "  (linear3): Linear(in_features=4, out_features=1, bias=True)\n",
       "  (act_fn): LeakyReLU(negative_slope=0.2)\n",
       ")"
      ]
     },
     "execution_count": 1554,
     "metadata": {},
     "output_type": "execute_result"
    }
   ],
   "source": [
    "# Push model to device. Has to be only done once\n",
    "model.to(device)"
   ]
  },
  {
   "cell_type": "markdown",
   "metadata": {},
   "source": [
    "In addition, we set our model to training mode. This is done by calling `model.train()`. There exist certain modules that need to perform a different forward step during training than during testing (e.g. BatchNorm and Dropout), and we can switch between them using `model.train()` and `model.eval()`."
   ]
  },
  {
   "cell_type": "code",
   "execution_count": 1555,
   "metadata": {},
   "outputs": [
    {
     "data": {
      "application/json": {
       "ascii": false,
       "bar_format": null,
       "colour": null,
       "elapsed": 0.007997274398803711,
       "initial": 0,
       "n": 0,
       "ncols": null,
       "nrows": null,
       "postfix": null,
       "prefix": "",
       "rate": null,
       "total": 200,
       "unit": "it",
       "unit_divisor": 1000,
       "unit_scale": false
      },
      "application/vnd.jupyter.widget-view+json": {
       "model_id": "1d5d2ba065a445cb95a88bf00cb39e6a",
       "version_major": 2,
       "version_minor": 0
      },
      "text/plain": [
       "  0%|          | 0/200 [00:00<?, ?it/s]"
      ]
     },
     "metadata": {},
     "output_type": "display_data"
    },
    {
     "name": "stdout",
     "output_type": "stream",
     "text": [
      "Epoch 10, loss: 11.072156\n",
      "Epoch 20, loss: 10.955697\n",
      "Epoch 30, loss: 10.725983\n",
      "Epoch 40, loss: 10.220934\n",
      "Epoch 50, loss: 9.470874\n",
      "Epoch 60, loss: 8.853914\n",
      "Epoch 70, loss: 8.386898\n",
      "Epoch 80, loss: 7.861664\n",
      "Epoch 90, loss: 6.937947\n",
      "Epoch 100, loss: 5.243261\n",
      "Epoch 110, loss: 3.116147\n",
      "Epoch 120, loss: 1.593768\n",
      "Epoch 130, loss: 0.847388\n",
      "Epoch 140, loss: 0.493731\n",
      "Epoch 150, loss: 0.331905\n",
      "Epoch 160, loss: 0.235870\n",
      "Epoch 170, loss: 0.180302\n",
      "Epoch 180, loss: 0.149589\n",
      "Epoch 190, loss: 0.128906\n",
      "Epoch 200, loss: 0.115233\n"
     ]
    }
   ],
   "source": [
    "def train_model(model, optimizer, data_loader, loss_module, num_epochs=100):\n",
    "    # Set model to train mode\n",
    "    model.train() \n",
    "    \n",
    "    epoch_loss = 0.0\n",
    "    # Tensorboard writter\n",
    "    # Logging dir\n",
    "    log_dir = \"logs\"\n",
    "    if not os.path.exists(log_dir):\n",
    "        os.mkdir(log_dir)\n",
    "    writer = SummaryWriter(log_dir)\n",
    "    \n",
    "    # Training loop\n",
    "    for epoch in tqdm(range(num_epochs)):\n",
    "        for data_inputs, data_labels in data_loader:\n",
    "            \n",
    "            optimizer.zero_grad()\n",
    "\n",
    "            ## TODO: Step 1 - Move input data to device\n",
    "            data_inputs, data_labels = data_inputs.to(device), data_labels.to(device)\n",
    "        \n",
    "            ## TODO: Step 2 - Run the model on the input data\n",
    "            preds = model(data_inputs)\n",
    "            preds = preds.squeeze(dim=1)\n",
    "\n",
    "            ## TODO: Step 3 - Calculate the loss using the module loss_module\n",
    "            loss = loss_module(preds, data_labels.float())\n",
    "            \n",
    "            ## TODO: Step 4 - Perform backpropagation\n",
    "            loss.backward()\n",
    "            \n",
    "            ## TODO: Step 5 - Update parameters\n",
    "            optimizer.step()\n",
    "\n",
    "            epoch_loss += loss.item()\n",
    "            writer.add_scalar(\"Loss/train\", loss.item(), epoch)\n",
    "        \n",
    "        # Print loss every 10 epochs\n",
    "        if (epoch+1) % 10 == 0:\n",
    "            print(\"Epoch %d, loss: %f\" % (epoch + 1, epoch_loss / 10))\n",
    "            epoch_loss = 0.0\n",
    "    \n",
    "    writer.close()\n",
    "\n",
    "train_model(model, optimizer, train_data_loader, loss_module, 200)"
   ]
  },
  {
   "cell_type": "markdown",
   "metadata": {},
   "source": [
    "#### Saving a model\n",
    "\n",
    "After finish training a model, we save the model to disk so that we can load the same weights at a later time. For this, we extract the so-called `state_dict` from the model which contains all learnable parameters. For our simple model, the state dict contains the following entries:"
   ]
  },
  {
   "cell_type": "code",
   "execution_count": 1556,
   "metadata": {},
   "outputs": [
    {
     "name": "stdout",
     "output_type": "stream",
     "text": [
      "OrderedDict([('linear1.weight', tensor([[-0.2677,  0.5403],\n",
      "        [ 1.1726, -3.1858],\n",
      "        [-1.9402,  1.3357],\n",
      "        [-1.1862, -1.2242]], device='cuda:0')), ('linear1.bias', tensor([-0.5304, -0.1315,  0.3051,  1.2628], device='cuda:0')), ('linear2.weight', tensor([[-8.4082e-01,  2.7934e+00,  2.3086e+00, -1.6349e+00],\n",
      "        [-6.2243e-02, -1.7152e+00, -5.1956e-01,  8.6093e-01],\n",
      "        [-1.2883e-01,  1.8396e-01, -4.7422e-01,  2.1636e-03],\n",
      "        [-3.2127e-01, -1.1812e-01, -1.9334e-01,  1.1284e+00]], device='cuda:0')), ('linear2.bias', tensor([ 0.8719,  1.1517, -0.3505, -0.0300], device='cuda:0')), ('linear3.weight', tensor([[ 4.1107, -2.2425, -0.0598, -1.0781]], device='cuda:0')), ('linear3.bias', tensor([-0.7313], device='cuda:0'))])\n"
     ]
    }
   ],
   "source": [
    "state_dict = model.state_dict()\n",
    "print(state_dict)"
   ]
  },
  {
   "cell_type": "markdown",
   "metadata": {},
   "source": [
    "To save the state dictionary, we can use `torch.save`:"
   ]
  },
  {
   "cell_type": "code",
   "execution_count": 1557,
   "metadata": {},
   "outputs": [],
   "source": [
    "# torch.save(object, filename). For the filename, any extension can be used\n",
    "torch.save(state_dict, \"our_model.pth\")"
   ]
  },
  {
   "cell_type": "markdown",
   "metadata": {},
   "source": [
    "To load a model from a state dict, we use the function `torch.load` to load the state dict from the disk, and the module function `load_state_dict` to overwrite our parameters with the new values:"
   ]
  },
  {
   "cell_type": "code",
   "execution_count": 1558,
   "metadata": {},
   "outputs": [
    {
     "name": "stdout",
     "output_type": "stream",
     "text": [
      "Original model\n",
      " OrderedDict([('linear1.weight', tensor([[-0.2677,  0.5403],\n",
      "        [ 1.1726, -3.1858],\n",
      "        [-1.9402,  1.3357],\n",
      "        [-1.1862, -1.2242]], device='cuda:0')), ('linear1.bias', tensor([-0.5304, -0.1315,  0.3051,  1.2628], device='cuda:0')), ('linear2.weight', tensor([[-8.4082e-01,  2.7934e+00,  2.3086e+00, -1.6349e+00],\n",
      "        [-6.2243e-02, -1.7152e+00, -5.1956e-01,  8.6093e-01],\n",
      "        [-1.2883e-01,  1.8396e-01, -4.7422e-01,  2.1636e-03],\n",
      "        [-3.2127e-01, -1.1812e-01, -1.9334e-01,  1.1284e+00]], device='cuda:0')), ('linear2.bias', tensor([ 0.8719,  1.1517, -0.3505, -0.0300], device='cuda:0')), ('linear3.weight', tensor([[ 4.1107, -2.2425, -0.0598, -1.0781]], device='cuda:0')), ('linear3.bias', tensor([-0.7313], device='cuda:0'))])\n",
      "\n",
      "Loaded model\n",
      " OrderedDict([('linear1.weight', tensor([[-0.2677,  0.5403],\n",
      "        [ 1.1726, -3.1858],\n",
      "        [-1.9402,  1.3357],\n",
      "        [-1.1862, -1.2242]])), ('linear1.bias', tensor([-0.5304, -0.1315,  0.3051,  1.2628])), ('linear2.weight', tensor([[-8.4082e-01,  2.7934e+00,  2.3086e+00, -1.6349e+00],\n",
      "        [-6.2243e-02, -1.7152e+00, -5.1956e-01,  8.6093e-01],\n",
      "        [-1.2883e-01,  1.8396e-01, -4.7422e-01,  2.1636e-03],\n",
      "        [-3.2127e-01, -1.1812e-01, -1.9334e-01,  1.1284e+00]])), ('linear2.bias', tensor([ 0.8719,  1.1517, -0.3505, -0.0300])), ('linear3.weight', tensor([[ 4.1107, -2.2425, -0.0598, -1.0781]])), ('linear3.bias', tensor([-0.7313]))])\n"
     ]
    }
   ],
   "source": [
    "# Load state dict from the disk (make sure it is the same name as above)\n",
    "state_dict = torch.load(\"our_model.pth\")\n",
    "\n",
    "# Create a new model and load the state\n",
    "new_model = SimpleClassifier(num_inputs=2, num_hidden=4, num_outputs=1)\n",
    "new_model.load_state_dict(state_dict)\n",
    "\n",
    "# Verify that the parameters are the same\n",
    "print(\"Original model\\n\", model.state_dict())\n",
    "print(\"\\nLoaded model\\n\", new_model.state_dict())"
   ]
  },
  {
   "cell_type": "markdown",
   "metadata": {},
   "source": [
    "A detailed tutorial on saving and loading models in PyTorch can be found [here](https://pytorch.org/tutorials/beginner/saving_loading_models.html)."
   ]
  },
  {
   "cell_type": "markdown",
   "metadata": {},
   "source": [
    "### Evaluation\n",
    "\n",
    "Once we have trained a model, it is time to evaluate it on a held-out test set. As our dataset consist of randomly generated data points, we need to first create a test set with a corresponding data loader."
   ]
  },
  {
   "cell_type": "code",
   "execution_count": 1559,
   "metadata": {},
   "outputs": [],
   "source": [
    "test_dataset = XORDataset(size=500)\n",
    "# drop_last -> Don't drop the last batch although it is smaller than 128\n",
    "test_data_loader = data.DataLoader(test_dataset, batch_size=128, shuffle=False, drop_last=False) "
   ]
  },
  {
   "cell_type": "markdown",
   "metadata": {},
   "source": [
    "As metric, we will use accuracy which is calculated as follows:\n",
    "\n",
    "$$acc = \\frac{\\#\\text{correct predictions}}{\\#\\text{all predictions}} = \\frac{TP+TN}{TP+TN+FP+FN}$$\n",
    "\n",
    "where TP are the true positives, TN true negatives, FP false positives, and FN the fale negatives. \n",
    "\n",
    "When evaluating the model, we don't need to keep track of the computation graph as we don't intend to calculate the gradients. This reduces the required memory and speed up the model. In PyTorch, we can deactivate the computation graph using `with torch.no_grad(): ...`. Remember to additionally set the model to eval mode."
   ]
  },
  {
   "cell_type": "code",
   "execution_count": 1560,
   "metadata": {},
   "outputs": [
    {
     "name": "stdout",
     "output_type": "stream",
     "text": [
      "tensor([ 6.6445, 14.3054, -4.6752, -6.7048, -7.0242,  6.7487,  6.3178,  7.7090,\n",
      "        -4.6233, 14.8306, -7.2000,  7.8104, -6.2619, -6.5317,  7.6371, 16.9655,\n",
      "         7.4707, -4.9333,  5.9878, -7.7475, 13.0213, 13.5090, 14.1899, -7.0484,\n",
      "         6.9610, 17.3922, 10.3876, 10.7673, -7.1253,  7.7456, -4.5804, -5.6627,\n",
      "        10.5674,  6.7759, -6.2380,  6.2843,  7.2826, -4.5163, -6.7416, -4.7209,\n",
      "        -7.3931, -7.4247,  8.2396, 11.0932, -7.0322,  6.7685,  1.4028, 16.9907,\n",
      "        -4.4064, -4.8899, -3.4505, -4.8946, -7.5459, -4.5798, -6.7747,  5.4815,\n",
      "        -4.1409, -4.8821, -4.1739, 11.7476, -3.8192, -6.6373, -3.9034, -3.9057,\n",
      "        -4.7310,  7.7635, 10.1028,  7.5050,  6.6462, -5.9984, -6.9655, -7.3040,\n",
      "        -5.8198, -4.2191, -4.5512, -6.5719, -3.7719, -6.0727, -7.5359, -6.7150,\n",
      "        -4.6235,  9.6202, -6.8244,  6.2976, -4.9458, 11.7537,  8.0134,  8.7088,\n",
      "        -4.4866,  5.4784, -7.5249,  5.4668, 10.0790,  6.0584,  6.6044, -3.3932,\n",
      "        12.1007,  8.2634, -7.0434,  7.3946,  8.3879,  8.0405, -4.5568, -4.2277,\n",
      "         5.0109, 12.9755,  6.9324, -4.9803, -4.5416, 11.9291,  8.0986,  7.6026,\n",
      "         9.4268, -7.0902,  9.7701, -6.7250,  5.5616,  5.4631,  6.5767, -4.3235,\n",
      "        16.9443, -7.8455,  6.5035,  9.8225,  7.2589, 17.0414, -7.4131, -6.5979],\n",
      "       device='cuda:0')\n",
      "tensor([-4.6483, -6.9967, -4.5222, 12.1186, -4.4985,  7.8123, -7.3852, -4.5865,\n",
      "        -6.0653, -2.7518, 10.7910,  4.8137,  9.6298,  6.7799, -7.3675, -7.6290,\n",
      "        -7.4079,  6.3141, 15.0287, 17.8333, -4.4582, -4.5250,  8.4442, -7.3301,\n",
      "         6.4741,  9.4966, -7.5487, -4.6990, -4.3675, 12.3483,  6.9530,  6.3863,\n",
      "         6.2877,  6.0429, -7.8345, -4.3999, -4.4302, -7.2322, -6.4598, -4.0246,\n",
      "         5.9165, -4.7843, -3.9602, 16.5749,  7.8753, 13.2833, -7.3295, -4.9448,\n",
      "        -6.8012,  5.7789,  8.8167, 12.9362, -4.9261, 12.8139, -6.2338, -6.6697,\n",
      "         8.4712,  3.5443,  5.0015,  5.7226, -7.0169, -7.1050,  6.1207, -4.8323,\n",
      "         8.2747,  8.0750, -4.3124, -7.0554,  8.7926,  4.7046, -7.2137, -4.5698,\n",
      "        -4.3896,  7.3703, -4.1962, -5.0814,  7.2444,  7.7554, -7.4930,  7.2182,\n",
      "         7.3988, 13.0458, -5.1800, 12.8924, -3.9151, -7.9657, 14.0519, -7.2228,\n",
      "        -7.3188,  7.5528, -5.1665,  6.2071, -4.6329, 13.5888, -6.4238,  5.3774,\n",
      "        -4.5881, -7.6813,  7.0188, -7.4124, 12.0464,  5.5181, 15.2557, -6.6165,\n",
      "         6.5380, 11.9040, 13.0320,  7.1786,  7.3204, -6.8678,  4.9612, 14.9798,\n",
      "        12.4444,  7.9514,  6.3187, -4.3641, -6.8133,  8.6693, -6.7911, -4.5324,\n",
      "        12.1322, -3.9767, 16.1349,  7.7877, -5.3978, -4.6240,  6.6205, -7.2732],\n",
      "       device='cuda:0')\n",
      "tensor([-7.7080, -7.3430, -7.0204, -4.3033, -4.1307, -3.8955,  6.5598, 12.3021,\n",
      "         9.2452, -4.7513, -4.4635, -7.3459, -4.4533, 11.2786, -4.6853,  9.3608,\n",
      "        -4.6118, -4.1030, -6.6665, -4.7421, -7.4163, -6.0401, -6.5792,  5.8608,\n",
      "        -4.0464,  7.7459,  8.8724, 12.6490, -6.9329, -4.5081, -7.2613, -7.5044,\n",
      "        -4.8697,  7.8584,  6.5342, -6.4459, -3.9740, -7.7100, -7.4687, -4.5881,\n",
      "        -3.2310, -4.6215, -4.5203, -7.5605, -3.7095, -4.6600,  7.3008,  3.8162,\n",
      "        -7.6646,  7.6828, -7.7238, -7.1144, -7.1328, 15.2028, -6.7303, -4.1719,\n",
      "        -6.5749, -4.6553,  7.6547, 10.3562, 11.4841, -4.6338, -4.6515,  5.0777,\n",
      "        -4.4908, -4.4670, -7.3153, -4.2779, 10.9399, -6.9578, 14.6005,  4.3934,\n",
      "        -7.1647,  6.3652, 14.3349, 11.7119,  5.0743, -4.4335, 15.5603, -7.0793,\n",
      "        11.9889, 11.7793, -4.6630, -7.0662,  5.1110, -7.2466, -6.8437,  7.1106,\n",
      "        -7.9142,  6.6554, -6.9274, -6.5742, -7.0067,  5.1404,  7.1748,  5.5037,\n",
      "        13.9803, -7.0348, -7.6270,  7.1686, -7.0331, -4.7847, -7.2072, 19.7628,\n",
      "         6.2997,  6.6659,  3.8062, -6.9664, -3.8444, 11.1903, -5.4289, 10.4975,\n",
      "        -4.6050, -6.1895,  9.9633, 10.2740,  8.3724, 12.9793, -7.3498, -6.9283,\n",
      "        10.5238,  4.7909, -4.7794,  9.2313, -4.9759,  4.3202,  8.8964,  8.2025],\n",
      "       device='cuda:0')\n",
      "tensor([-6.4666e+00,  5.9539e+00,  1.3416e+01,  3.8687e+00,  7.4507e+00,\n",
      "         8.0844e+00, -4.7817e+00, -4.9468e+00, -7.8379e+00, -4.0195e+00,\n",
      "         7.4869e+00,  1.6569e+01,  1.3183e+01, -4.5741e+00,  1.4144e+01,\n",
      "         1.6520e+01, -7.5982e+00, -4.5572e+00,  1.6383e+01, -6.6011e+00,\n",
      "        -7.8269e+00,  4.2955e+00,  8.7540e+00,  1.2559e+01,  1.2121e+01,\n",
      "         8.1882e+00,  8.0563e+00,  9.1775e+00, -4.4541e+00,  8.5463e+00,\n",
      "         1.1874e+01, -6.6184e+00,  8.7264e+00, -7.7142e+00, -6.9906e+00,\n",
      "        -4.3639e+00, -4.8348e+00, -6.6532e+00,  7.4751e+00,  7.7718e+00,\n",
      "        -4.5901e+00,  1.7598e+01,  3.9537e+00, -4.4521e+00, -4.9086e+00,\n",
      "        -5.5735e+00,  1.2528e+01, -5.3255e+00,  1.3318e+01, -7.4191e-01,\n",
      "        -6.7472e+00,  7.9677e+00, -4.4209e+00, -7.3129e+00, -7.3439e+00,\n",
      "         2.3915e+00, -4.0525e+00, -5.9804e+00, -4.7578e+00, -4.7238e+00,\n",
      "         8.9466e+00, -4.1500e+00,  5.5652e+00,  6.4905e+00,  6.2223e+00,\n",
      "        -4.6688e+00, -4.5422e+00, -4.5504e+00, -1.2939e-02,  9.7741e+00,\n",
      "        -6.8588e+00,  1.1690e+01, -6.3330e+00, -7.2446e+00,  1.0679e+01,\n",
      "        -6.9478e+00,  2.1178e+01,  1.6926e+01, -4.8781e+00,  8.8501e+00,\n",
      "        -3.6303e+00, -4.6358e+00,  1.4911e+01, -4.1363e+00, -4.9400e+00,\n",
      "         6.9180e+00,  7.8188e+00,  5.3097e+00, -4.8068e+00,  7.5673e+00,\n",
      "         1.2349e+01, -6.2567e+00,  1.0891e+01, -7.5762e+00,  6.1391e+00,\n",
      "         7.1626e+00,  1.7743e+01, -6.5316e+00, -6.5469e+00, -4.7265e+00,\n",
      "        -4.5015e+00, -4.8101e+00,  7.7185e+00, -6.9347e+00, -4.2994e+00,\n",
      "        -4.4955e+00, -6.8138e+00, -4.5255e+00, -4.0681e+00,  1.4339e+01,\n",
      "        -4.6582e+00,  1.0341e+01,  5.6510e+00, -6.9069e+00, -4.0599e+00,\n",
      "         7.6632e+00], device='cuda:0')\n",
      "Accuracy of the model: 99.80%\n"
     ]
    }
   ],
   "source": [
    "def eval_model(model, data_loader):\n",
    "    model.eval() # Set model to eval mode\n",
    "    true_preds, num_preds = 0., 0.\n",
    "    \n",
    "    with torch.no_grad(): # Deactivate gradients for the following code\n",
    "        for i, (data_inputs, data_labels) in enumerate(data_loader):\n",
    "            \n",
    "            ## TODO: Step 1 - Move data to device\n",
    "            data_inputs, data_labels = data_inputs.to(device), data_labels.to(device)\n",
    "            \n",
    "            ## TODO: Step 2 - Run the model on the input data\n",
    "            preds = model(data_inputs)\n",
    "            preds = preds.squeeze()\n",
    "            \n",
    "            ## TODO: Step 3 - Determine binary predictions of the model\n",
    "            print(preds)\n",
    "            preds = (preds > 0.5).float()\n",
    "\n",
    "            ## TODO: Step 4 - Keep records of predictions for the accuracy metric (true_preds=TP+TN, num_preds=TP+TN+FP+FN)\n",
    "            true_preds += (preds == data_labels).sum().item()\n",
    "            num_preds += preds.shape[0]\n",
    "            \n",
    "    acc = true_preds / num_preds\n",
    "    print(\"Accuracy of the model: %4.2f%%\" % (100.0*acc))\n",
    "\n",
    "eval_model(model, test_data_loader)"
   ]
  },
  {
   "cell_type": "markdown",
   "metadata": {},
   "source": [
    "If we trained our model correctly, we should see a score close to 100% accuracy. However, this is only possible because of our simple task, and unfortunately, we usually don't get such high scores on test sets of more complex tasks."
   ]
  },
  {
   "cell_type": "markdown",
   "metadata": {},
   "source": [
    "#### Visualizing classification boundaries\n",
    "\n",
    "To visualize what our model has learned, we can perform a prediction for every data point in a range of $[-0.5, 1.5]$, and visualize the predicted class as in the sample figure at the beginning of this section. This shows where the model has created decision boundaries, and which points would be classified as $0$, and which as $1$. We therefore get a background image out of blue (class 0) and orange (class 1). The spots where the model is uncertain we will see a blurry overlap. The specific code is less relevant compared to the output figure which should hopefully show us a clear separation of classes:"
   ]
  },
  {
   "cell_type": "code",
   "execution_count": 1561,
   "metadata": {},
   "outputs": [
    {
     "data": {
      "application/pdf": "[encoded data removed]",
      "image/svg+xml": "<?xml version=\"1.0\" encoding=\"utf-8\" standalone=\"no\"?>\n<!DOCTYPE svg PUBLIC \"-//W3C//DTD SVG 1.1//EN\"\n  \"http://www.w3.org/Graphics/SVG/1.1/DTD/svg11.dtd\">\n<svg xmlns:xlink=\"http://www.w3.org/1999/xlink\" width=\"296.111094pt\" height=\"285.283594pt\" viewBox=\"0 0 296.111094 285.283594\" xmlns=\"http://www.w3.org/2000/svg\" version=\"1.1\">\n <metadata>\n  <rdf:RDF xmlns:dc=\"http://purl.org/dc/elements/1.1/\" xmlns:cc=\"http://creativecommons.org/ns#\" xmlns:rdf=\"http://www.w3.org/1999/02/22-rdf-syntax-ns#\">\n   <cc:Work>\n    <dc:type rdf:resource=\"http://purl.org/dc/dcmitype/StillImage\"/>\n    <dc:date>2023-02-16T17:15:16.774313</dc:date>\n    <dc:format>image/svg+xml</dc:format>\n    <dc:creator>\n     <cc:Agent>\n      <dc:title>Matplotlib v3.5.3, https://matplotlib.org/</dc:title>\n     </cc:Agent>\n    </dc:creator>\n   </cc:Work>\n  </rdf:RDF>\n </metadata>\n <defs>\n  <style type=\"text/css\">*{stroke-linejoin: round; stroke-linecap: butt}</style>\n </defs>\n <g id=\"figure_1\">\n  <g id=\"patch_1\">\n   <path d=\"M 0 285.283594 \nL 296.111094 285.283594 \nL 296.111094 0 \nL 0 0 \nz\n\" style=\"fill: #ffffff\"/>\n  </g>\n  <g id=\"axes_1\">\n   <g id=\"patch_2\">\n    <path d=\"M 59.506094 243.549375 \nL 281.266094 243.549375 \nL 281.266094 21.789375 \nL 59.506094 21.789375 \nz\n\" style=\"fill: #eaeaf2\"/>\n   </g>\n   <g clip-path=\"url(#pa3fe032b56)\">\n    <image xlink:href=\"data:image/png;base64,\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\" id=\"imagee785aafd42\" transform=\"scale(1 -1)translate(0 -221.76)\" x=\"59.506094\" y=\"-21.789375\" width=\"222.48\" height=\"221.76\"/>\n   </g>\n   <g id=\"matplotlib.axis_1\">\n    <g id=\"xtick_1\">\n     <g id=\"text_1\">\n      <!-- −0.5 -->\n      <g style=\"fill: #262626\" transform=\"translate(48.64875 260.922969)scale(0.11 -0.11)\">\n       <defs>\n        <path id=\"ArialMT-2212\" d=\"M 3381 1997 \nL 356 1997 \nL 356 2522 \nL 3381 2522 \nL 3381 1997 \nz\n\" transform=\"scale(0.015625)\"/>\n        <path id=\"ArialMT-30\" d=\"M 266 2259 \nQ 266 3072 433 3567 \nQ 600 4063 929 4331 \nQ 1259 4600 1759 4600 \nQ 2128 4600 2406 4451 \nQ 2684 4303 2865 4023 \nQ 3047 3744 3150 3342 \nQ 3253 2941 3253 2259 \nQ 3253 1453 3087 958 \nQ 2922 463 2592 192 \nQ 2263 -78 1759 -78 \nQ 1097 -78 719 397 \nQ 266 969 266 2259 \nz\nM 844 2259 \nQ 844 1131 1108 757 \nQ 1372 384 1759 384 \nQ 2147 384 2411 759 \nQ 2675 1134 2675 2259 \nQ 2675 3391 2411 3762 \nQ 2147 4134 1753 4134 \nQ 1366 4134 1134 3806 \nQ 844 3388 844 2259 \nz\n\" transform=\"scale(0.015625)\"/>\n        <path id=\"ArialMT-2e\" d=\"M 581 0 \nL 581 641 \nL 1222 641 \nL 1222 0 \nL 581 0 \nz\n\" transform=\"scale(0.015625)\"/>\n        <path id=\"ArialMT-35\" d=\"M 266 1200 \nL 856 1250 \nQ 922 819 1161 601 \nQ 1400 384 1738 384 \nQ 2144 384 2425 690 \nQ 2706 997 2706 1503 \nQ 2706 1984 2436 2262 \nQ 2166 2541 1728 2541 \nQ 1456 2541 1237 2417 \nQ 1019 2294 894 2097 \nL 366 2166 \nL 809 4519 \nL 3088 4519 \nL 3088 3981 \nL 1259 3981 \nL 1013 2750 \nQ 1425 3038 1878 3038 \nQ 2478 3038 2890 2622 \nQ 3303 2206 3303 1553 \nQ 3303 931 2941 478 \nQ 2500 -78 1738 -78 \nQ 1113 -78 717 272 \nQ 322 622 266 1200 \nz\n\" transform=\"scale(0.015625)\"/>\n       </defs>\n       <use xlink:href=\"#ArialMT-2212\"/>\n       <use xlink:href=\"#ArialMT-30\" x=\"58.398438\"/>\n       <use xlink:href=\"#ArialMT-2e\" x=\"114.013672\"/>\n       <use xlink:href=\"#ArialMT-35\" x=\"141.796875\"/>\n      </g>\n     </g>\n    </g>\n    <g id=\"xtick_2\">\n     <g id=\"text_2\">\n      <!-- 0.0 -->\n      <g style=\"fill: #262626\" transform=\"translate(107.301094 260.922969)scale(0.11 -0.11)\">\n       <use xlink:href=\"#ArialMT-30\"/>\n       <use xlink:href=\"#ArialMT-2e\" x=\"55.615234\"/>\n       <use xlink:href=\"#ArialMT-30\" x=\"83.398438\"/>\n      </g>\n     </g>\n    </g>\n    <g id=\"xtick_3\">\n     <g id=\"text_3\">\n      <!-- 0.5 -->\n      <g style=\"fill: #262626\" transform=\"translate(162.741094 260.922969)scale(0.11 -0.11)\">\n       <use xlink:href=\"#ArialMT-30\"/>\n       <use xlink:href=\"#ArialMT-2e\" x=\"55.615234\"/>\n       <use xlink:href=\"#ArialMT-35\" x=\"83.398438\"/>\n      </g>\n     </g>\n    </g>\n    <g id=\"xtick_4\">\n     <g id=\"text_4\">\n      <!-- 1.0 -->\n      <g style=\"fill: #262626\" transform=\"translate(218.181094 260.922969)scale(0.11 -0.11)\">\n       <defs>\n        <path id=\"ArialMT-31\" d=\"M 2384 0 \nL 1822 0 \nL 1822 3584 \nQ 1619 3391 1289 3197 \nQ 959 3003 697 2906 \nL 697 3450 \nQ 1169 3672 1522 3987 \nQ 1875 4303 2022 4600 \nL 2384 4600 \nL 2384 0 \nz\n\" transform=\"scale(0.015625)\"/>\n       </defs>\n       <use xlink:href=\"#ArialMT-31\"/>\n       <use xlink:href=\"#ArialMT-2e\" x=\"55.615234\"/>\n       <use xlink:href=\"#ArialMT-30\" x=\"83.398438\"/>\n      </g>\n     </g>\n    </g>\n    <g id=\"xtick_5\">\n     <g id=\"text_5\">\n      <!-- 1.5 -->\n      <g style=\"fill: #262626\" transform=\"translate(273.621094 260.922969)scale(0.11 -0.11)\">\n       <use xlink:href=\"#ArialMT-31\"/>\n       <use xlink:href=\"#ArialMT-2e\" x=\"55.615234\"/>\n       <use xlink:href=\"#ArialMT-35\" x=\"83.398438\"/>\n      </g>\n     </g>\n    </g>\n    <g id=\"text_6\">\n     <!-- $x_1$ -->\n     <g style=\"fill: #262626\" transform=\"translate(163.966094 275.698594)scale(0.12 -0.12)\">\n      <defs>\n       <path id=\"DejaVuSans-Oblique-78\" d=\"M 3841 3500 \nL 2234 1784 \nL 3219 0 \nL 2559 0 \nL 1819 1388 \nL 531 0 \nL -166 0 \nL 1556 1844 \nL 641 3500 \nL 1300 3500 \nL 1972 2234 \nL 3144 3500 \nL 3841 3500 \nz\n\" transform=\"scale(0.015625)\"/>\n       <path id=\"DejaVuSans-31\" d=\"M 794 531 \nL 1825 531 \nL 1825 4091 \nL 703 3866 \nL 703 4441 \nL 1819 4666 \nL 2450 4666 \nL 2450 531 \nL 3481 531 \nL 3481 0 \nL 794 0 \nL 794 531 \nz\n\" transform=\"scale(0.015625)\"/>\n      </defs>\n      <use xlink:href=\"#DejaVuSans-Oblique-78\" transform=\"translate(0 0.3125)\"/>\n      <use xlink:href=\"#DejaVuSans-31\" transform=\"translate(59.179688 -16.09375)scale(0.7)\"/>\n     </g>\n    </g>\n   </g>\n   <g id=\"matplotlib.axis_2\">\n    <g id=\"ytick_1\">\n     <g id=\"text_7\">\n      <!-- −0.50 -->\n      <g style=\"fill: #262626\" transform=\"translate(22.174375 247.486172)scale(0.11 -0.11)\">\n       <use xlink:href=\"#ArialMT-2212\"/>\n       <use xlink:href=\"#ArialMT-30\" x=\"58.398438\"/>\n       <use xlink:href=\"#ArialMT-2e\" x=\"114.013672\"/>\n       <use xlink:href=\"#ArialMT-35\" x=\"141.796875\"/>\n       <use xlink:href=\"#ArialMT-30\" x=\"197.412109\"/>\n      </g>\n     </g>\n    </g>\n    <g id=\"ytick_2\">\n     <g id=\"text_8\">\n      <!-- −0.25 -->\n      <g style=\"fill: #262626\" transform=\"translate(22.174375 219.766172)scale(0.11 -0.11)\">\n       <defs>\n        <path id=\"ArialMT-32\" d=\"M 3222 541 \nL 3222 0 \nL 194 0 \nQ 188 203 259 391 \nQ 375 700 629 1000 \nQ 884 1300 1366 1694 \nQ 2113 2306 2375 2664 \nQ 2638 3022 2638 3341 \nQ 2638 3675 2398 3904 \nQ 2159 4134 1775 4134 \nQ 1369 4134 1125 3890 \nQ 881 3647 878 3216 \nL 300 3275 \nQ 359 3922 746 4261 \nQ 1134 4600 1788 4600 \nQ 2447 4600 2831 4234 \nQ 3216 3869 3216 3328 \nQ 3216 3053 3103 2787 \nQ 2991 2522 2730 2228 \nQ 2469 1934 1863 1422 \nQ 1356 997 1212 845 \nQ 1069 694 975 541 \nL 3222 541 \nz\n\" transform=\"scale(0.015625)\"/>\n       </defs>\n       <use xlink:href=\"#ArialMT-2212\"/>\n       <use xlink:href=\"#ArialMT-30\" x=\"58.398438\"/>\n       <use xlink:href=\"#ArialMT-2e\" x=\"114.013672\"/>\n       <use xlink:href=\"#ArialMT-32\" x=\"141.796875\"/>\n       <use xlink:href=\"#ArialMT-35\" x=\"197.412109\"/>\n      </g>\n     </g>\n    </g>\n    <g id=\"ytick_3\">\n     <g id=\"text_9\">\n      <!-- 0.00 -->\n      <g style=\"fill: #262626\" transform=\"translate(28.599062 192.046172)scale(0.11 -0.11)\">\n       <use xlink:href=\"#ArialMT-30\"/>\n       <use xlink:href=\"#ArialMT-2e\" x=\"55.615234\"/>\n       <use xlink:href=\"#ArialMT-30\" x=\"83.398438\"/>\n       <use xlink:href=\"#ArialMT-30\" x=\"139.013672\"/>\n      </g>\n     </g>\n    </g>\n    <g id=\"ytick_4\">\n     <g id=\"text_10\">\n      <!-- 0.25 -->\n      <g style=\"fill: #262626\" transform=\"translate(28.599062 164.326172)scale(0.11 -0.11)\">\n       <use xlink:href=\"#ArialMT-30\"/>\n       <use xlink:href=\"#ArialMT-2e\" x=\"55.615234\"/>\n       <use xlink:href=\"#ArialMT-32\" x=\"83.398438\"/>\n       <use xlink:href=\"#ArialMT-35\" x=\"139.013672\"/>\n      </g>\n     </g>\n    </g>\n    <g id=\"ytick_5\">\n     <g id=\"text_11\">\n      <!-- 0.50 -->\n      <g style=\"fill: #262626\" transform=\"translate(28.599062 136.606172)scale(0.11 -0.11)\">\n       <use xlink:href=\"#ArialMT-30\"/>\n       <use xlink:href=\"#ArialMT-2e\" x=\"55.615234\"/>\n       <use xlink:href=\"#ArialMT-35\" x=\"83.398438\"/>\n       <use xlink:href=\"#ArialMT-30\" x=\"139.013672\"/>\n      </g>\n     </g>\n    </g>\n    <g id=\"ytick_6\">\n     <g id=\"text_12\">\n      <!-- 0.75 -->\n      <g style=\"fill: #262626\" transform=\"translate(28.599062 108.886172)scale(0.11 -0.11)\">\n       <defs>\n        <path id=\"ArialMT-37\" d=\"M 303 3981 \nL 303 4522 \nL 3269 4522 \nL 3269 4084 \nQ 2831 3619 2401 2847 \nQ 1972 2075 1738 1259 \nQ 1569 684 1522 0 \nL 944 0 \nQ 953 541 1156 1306 \nQ 1359 2072 1739 2783 \nQ 2119 3494 2547 3981 \nL 303 3981 \nz\n\" transform=\"scale(0.015625)\"/>\n       </defs>\n       <use xlink:href=\"#ArialMT-30\"/>\n       <use xlink:href=\"#ArialMT-2e\" x=\"55.615234\"/>\n       <use xlink:href=\"#ArialMT-37\" x=\"83.398438\"/>\n       <use xlink:href=\"#ArialMT-35\" x=\"139.013672\"/>\n      </g>\n     </g>\n    </g>\n    <g id=\"ytick_7\">\n     <g id=\"text_13\">\n      <!-- 1.00 -->\n      <g style=\"fill: #262626\" transform=\"translate(28.599062 81.166172)scale(0.11 -0.11)\">\n       <use xlink:href=\"#ArialMT-31\"/>\n       <use xlink:href=\"#ArialMT-2e\" x=\"55.615234\"/>\n       <use xlink:href=\"#ArialMT-30\" x=\"83.398438\"/>\n       <use xlink:href=\"#ArialMT-30\" x=\"139.013672\"/>\n      </g>\n     </g>\n    </g>\n    <g id=\"ytick_8\">\n     <g id=\"text_14\">\n      <!-- 1.25 -->\n      <g style=\"fill: #262626\" transform=\"translate(28.599062 53.446172)scale(0.11 -0.11)\">\n       <use xlink:href=\"#ArialMT-31\"/>\n       <use xlink:href=\"#ArialMT-2e\" x=\"55.615234\"/>\n       <use xlink:href=\"#ArialMT-32\" x=\"83.398438\"/>\n       <use xlink:href=\"#ArialMT-35\" x=\"139.013672\"/>\n      </g>\n     </g>\n    </g>\n    <g id=\"ytick_9\">\n     <g id=\"text_15\">\n      <!-- 1.50 -->\n      <g style=\"fill: #262626\" transform=\"translate(28.599062 25.726172)scale(0.11 -0.11)\">\n       <use xlink:href=\"#ArialMT-31\"/>\n       <use xlink:href=\"#ArialMT-2e\" x=\"55.615234\"/>\n       <use xlink:href=\"#ArialMT-35\" x=\"83.398438\"/>\n       <use xlink:href=\"#ArialMT-30\" x=\"139.013672\"/>\n      </g>\n     </g>\n    </g>\n    <g id=\"text_16\">\n     <!-- $x_2$ -->\n     <g style=\"fill: #262626\" transform=\"translate(15.789375 139.089375)rotate(-90)scale(0.12 -0.12)\">\n      <defs>\n       <path id=\"DejaVuSans-32\" d=\"M 1228 531 \nL 3431 531 \nL 3431 0 \nL 469 0 \nL 469 531 \nQ 828 903 1448 1529 \nQ 2069 2156 2228 2338 \nQ 2531 2678 2651 2914 \nQ 2772 3150 2772 3378 \nQ 2772 3750 2511 3984 \nQ 2250 4219 1831 4219 \nQ 1534 4219 1204 4116 \nQ 875 4013 500 3803 \nL 500 4441 \nQ 881 4594 1212 4672 \nQ 1544 4750 1819 4750 \nQ 2544 4750 2975 4387 \nQ 3406 4025 3406 3419 \nQ 3406 3131 3298 2873 \nQ 3191 2616 2906 2266 \nQ 2828 2175 2409 1742 \nQ 1991 1309 1228 531 \nz\n\" transform=\"scale(0.015625)\"/>\n      </defs>\n      <use xlink:href=\"#DejaVuSans-Oblique-78\" transform=\"translate(0 0.3125)\"/>\n      <use xlink:href=\"#DejaVuSans-32\" transform=\"translate(59.179688 -16.09375)scale(0.7)\"/>\n     </g>\n    </g>\n   </g>\n   <g id=\"PathCollection_1\">\n    <defs>\n     <path id=\"m255c7fe476\" d=\"M 0 3 \nC 0.795609 3 1.55874 2.683901 2.12132 2.12132 \nC 2.683901 1.55874 3 0.795609 3 0 \nC 3 -0.795609 2.683901 -1.55874 2.12132 -2.12132 \nC 1.55874 -2.683901 0.795609 -3 0 -3 \nC -0.795609 -3 -1.55874 -2.683901 -2.12132 -2.12132 \nC -2.683901 -1.55874 -3 -0.795609 -3 0 \nC -3 0.795609 -2.683901 1.55874 -2.12132 2.12132 \nC -1.55874 2.683901 -0.795609 3 0 3 \nz\n\" style=\"stroke: #333333\"/>\n    </defs>\n    <g clip-path=\"url(#pa3fe032b56)\">\n     <use xlink:href=\"#m255c7fe476\" x=\"119.263674\" y=\"203.478193\" style=\"fill: #4c72b0; stroke: #333333\"/>\n     <use xlink:href=\"#m255c7fe476\" x=\"108.039842\" y=\"179.975612\" style=\"fill: #4c72b0; stroke: #333333\"/>\n     <use xlink:href=\"#m255c7fe476\" x=\"93.930799\" y=\"182.66705\" style=\"fill: #4c72b0; stroke: #333333\"/>\n     <use xlink:href=\"#m255c7fe476\" x=\"231.349244\" y=\"77.442871\" style=\"fill: #4c72b0; stroke: #333333\"/>\n     <use xlink:href=\"#m255c7fe476\" x=\"222.660704\" y=\"71.71906\" style=\"fill: #4c72b0; stroke: #333333\"/>\n     <use xlink:href=\"#m255c7fe476\" x=\"112.313382\" y=\"194.708319\" style=\"fill: #4c72b0; stroke: #333333\"/>\n     <use xlink:href=\"#m255c7fe476\" x=\"227.075201\" y=\"73.431257\" style=\"fill: #4c72b0; stroke: #333333\"/>\n     <use xlink:href=\"#m255c7fe476\" x=\"119.958972\" y=\"191.301757\" style=\"fill: #4c72b0; stroke: #333333\"/>\n     <use xlink:href=\"#m255c7fe476\" x=\"226.665181\" y=\"70.940405\" style=\"fill: #4c72b0; stroke: #333333\"/>\n     <use xlink:href=\"#m255c7fe476\" x=\"227.490112\" y=\"80.674912\" style=\"fill: #4c72b0; stroke: #333333\"/>\n     <use xlink:href=\"#m255c7fe476\" x=\"239.973861\" y=\"72.053314\" style=\"fill: #4c72b0; stroke: #333333\"/>\n     <use xlink:href=\"#m255c7fe476\" x=\"112.541398\" y=\"201.195134\" style=\"fill: #4c72b0; stroke: #333333\"/>\n     <use xlink:href=\"#m255c7fe476\" x=\"101.853978\" y=\"193.660025\" style=\"fill: #4c72b0; stroke: #333333\"/>\n     <use xlink:href=\"#m255c7fe476\" x=\"238.049715\" y=\"103.346464\" style=\"fill: #4c72b0; stroke: #333333\"/>\n     <use xlink:href=\"#m255c7fe476\" x=\"240.88603\" y=\"97.674883\" style=\"fill: #4c72b0; stroke: #333333\"/>\n     <use xlink:href=\"#m255c7fe476\" x=\"217.935157\" y=\"77.902425\" style=\"fill: #4c72b0; stroke: #333333\"/>\n     <use xlink:href=\"#m255c7fe476\" x=\"118.13124\" y=\"204.653519\" style=\"fill: #4c72b0; stroke: #333333\"/>\n     <use xlink:href=\"#m255c7fe476\" x=\"240.212656\" y=\"56.604996\" style=\"fill: #4c72b0; stroke: #333333\"/>\n     <use xlink:href=\"#m255c7fe476\" x=\"247.565537\" y=\"84.057207\" style=\"fill: #4c72b0; stroke: #333333\"/>\n     <use xlink:href=\"#m255c7fe476\" x=\"128.655542\" y=\"171.643735\" style=\"fill: #4c72b0; stroke: #333333\"/>\n     <use xlink:href=\"#m255c7fe476\" x=\"219.975582\" y=\"56.373114\" style=\"fill: #4c72b0; stroke: #333333\"/>\n     <use xlink:href=\"#m255c7fe476\" x=\"116.951555\" y=\"186.857553\" style=\"fill: #4c72b0; stroke: #333333\"/>\n     <use xlink:href=\"#m255c7fe476\" x=\"219.295606\" y=\"71.770781\" style=\"fill: #4c72b0; stroke: #333333\"/>\n     <use xlink:href=\"#m255c7fe476\" x=\"129.547185\" y=\"195.022231\" style=\"fill: #4c72b0; stroke: #333333\"/>\n     <use xlink:href=\"#m255c7fe476\" x=\"237.617753\" y=\"69.577187\" style=\"fill: #4c72b0; stroke: #333333\"/>\n     <use xlink:href=\"#m255c7fe476\" x=\"230.449751\" y=\"85.381822\" style=\"fill: #4c72b0; stroke: #333333\"/>\n     <use xlink:href=\"#m255c7fe476\" x=\"230.097863\" y=\"84.869389\" style=\"fill: #4c72b0; stroke: #333333\"/>\n     <use xlink:href=\"#m255c7fe476\" x=\"111.003996\" y=\"178.50033\" style=\"fill: #4c72b0; stroke: #333333\"/>\n     <use xlink:href=\"#m255c7fe476\" x=\"120.728798\" y=\"198.852429\" style=\"fill: #4c72b0; stroke: #333333\"/>\n     <use xlink:href=\"#m255c7fe476\" x=\"134.449626\" y=\"196.887825\" style=\"fill: #4c72b0; stroke: #333333\"/>\n     <use xlink:href=\"#m255c7fe476\" x=\"115.324355\" y=\"192.112254\" style=\"fill: #4c72b0; stroke: #333333\"/>\n     <use xlink:href=\"#m255c7fe476\" x=\"126.881251\" y=\"191.749812\" style=\"fill: #4c72b0; stroke: #333333\"/>\n     <use xlink:href=\"#m255c7fe476\" x=\"126.730333\" y=\"188.158724\" style=\"fill: #4c72b0; stroke: #333333\"/>\n     <use xlink:href=\"#m255c7fe476\" x=\"113.309452\" y=\"186.967946\" style=\"fill: #4c72b0; stroke: #333333\"/>\n     <use xlink:href=\"#m255c7fe476\" x=\"208.197022\" y=\"62.224214\" style=\"fill: #4c72b0; stroke: #333333\"/>\n     <use xlink:href=\"#m255c7fe476\" x=\"239.761647\" y=\"82.293592\" style=\"fill: #4c72b0; stroke: #333333\"/>\n     <use xlink:href=\"#m255c7fe476\" x=\"230.862361\" y=\"68.944075\" style=\"fill: #4c72b0; stroke: #333333\"/>\n     <use xlink:href=\"#m255c7fe476\" x=\"120.343919\" y=\"203.580412\" style=\"fill: #4c72b0; stroke: #333333\"/>\n     <use xlink:href=\"#m255c7fe476\" x=\"225.872528\" y=\"68.483642\" style=\"fill: #4c72b0; stroke: #333333\"/>\n     <use xlink:href=\"#m255c7fe476\" x=\"233.892915\" y=\"76.009215\" style=\"fill: #4c72b0; stroke: #333333\"/>\n     <use xlink:href=\"#m255c7fe476\" x=\"115.454553\" y=\"200.794231\" style=\"fill: #4c72b0; stroke: #333333\"/>\n     <use xlink:href=\"#m255c7fe476\" x=\"90.624533\" y=\"207.22624\" style=\"fill: #4c72b0; stroke: #333333\"/>\n     <use xlink:href=\"#m255c7fe476\" x=\"132.537921\" y=\"172.600064\" style=\"fill: #4c72b0; stroke: #333333\"/>\n     <use xlink:href=\"#m255c7fe476\" x=\"218.96332\" y=\"66.592368\" style=\"fill: #4c72b0; stroke: #333333\"/>\n     <use xlink:href=\"#m255c7fe476\" x=\"230.568355\" y=\"72.966792\" style=\"fill: #4c72b0; stroke: #333333\"/>\n     <use xlink:href=\"#m255c7fe476\" x=\"109.469165\" y=\"195.722748\" style=\"fill: #4c72b0; stroke: #333333\"/>\n     <use xlink:href=\"#m255c7fe476\" x=\"221.558257\" y=\"85.41098\" style=\"fill: #4c72b0; stroke: #333333\"/>\n     <use xlink:href=\"#m255c7fe476\" x=\"116.041444\" y=\"191.882932\" style=\"fill: #4c72b0; stroke: #333333\"/>\n     <use xlink:href=\"#m255c7fe476\" x=\"227.884495\" y=\"84.226813\" style=\"fill: #4c72b0; stroke: #333333\"/>\n     <use xlink:href=\"#m255c7fe476\" x=\"139.365247\" y=\"194.03205\" style=\"fill: #4c72b0; stroke: #333333\"/>\n     <use xlink:href=\"#m255c7fe476\" x=\"219.1779\" y=\"91.909673\" style=\"fill: #4c72b0; stroke: #333333\"/>\n     <use xlink:href=\"#m255c7fe476\" x=\"228.373122\" y=\"68.502742\" style=\"fill: #4c72b0; stroke: #333333\"/>\n     <use xlink:href=\"#m255c7fe476\" x=\"93.932463\" y=\"183.509341\" style=\"fill: #4c72b0; stroke: #333333\"/>\n     <use xlink:href=\"#m255c7fe476\" x=\"240.859132\" y=\"78.372845\" style=\"fill: #4c72b0; stroke: #333333\"/>\n     <use xlink:href=\"#m255c7fe476\" x=\"234.912083\" y=\"83.104955\" style=\"fill: #4c72b0; stroke: #333333\"/>\n     <use xlink:href=\"#m255c7fe476\" x=\"103.490865\" y=\"188.500948\" style=\"fill: #4c72b0; stroke: #333333\"/>\n     <use xlink:href=\"#m255c7fe476\" x=\"112.818014\" y=\"215.050244\" style=\"fill: #4c72b0; stroke: #333333\"/>\n     <use xlink:href=\"#m255c7fe476\" x=\"110.281036\" y=\"175.872058\" style=\"fill: #4c72b0; stroke: #333333\"/>\n     <use xlink:href=\"#m255c7fe476\" x=\"99.005298\" y=\"182.161315\" style=\"fill: #4c72b0; stroke: #333333\"/>\n     <use xlink:href=\"#m255c7fe476\" x=\"231.998865\" y=\"81.141207\" style=\"fill: #4c72b0; stroke: #333333\"/>\n     <use xlink:href=\"#m255c7fe476\" x=\"219.171126\" y=\"89.647352\" style=\"fill: #4c72b0; stroke: #333333\"/>\n     <use xlink:href=\"#m255c7fe476\" x=\"219.562813\" y=\"93.491911\" style=\"fill: #4c72b0; stroke: #333333\"/>\n     <use xlink:href=\"#m255c7fe476\" x=\"98.333309\" y=\"179.261676\" style=\"fill: #4c72b0; stroke: #333333\"/>\n     <use xlink:href=\"#m255c7fe476\" x=\"228.161225\" y=\"96.611739\" style=\"fill: #4c72b0; stroke: #333333\"/>\n     <use xlink:href=\"#m255c7fe476\" x=\"236.415477\" y=\"102.42101\" style=\"fill: #4c72b0; stroke: #333333\"/>\n     <use xlink:href=\"#m255c7fe476\" x=\"131.825919\" y=\"205.755637\" style=\"fill: #4c72b0; stroke: #333333\"/>\n     <use xlink:href=\"#m255c7fe476\" x=\"125.99308\" y=\"185.352102\" style=\"fill: #4c72b0; stroke: #333333\"/>\n     <use xlink:href=\"#m255c7fe476\" x=\"113.097926\" y=\"183.0393\" style=\"fill: #4c72b0; stroke: #333333\"/>\n     <use xlink:href=\"#m255c7fe476\" x=\"117.585381\" y=\"174.307633\" style=\"fill: #4c72b0; stroke: #333333\"/>\n     <use xlink:href=\"#m255c7fe476\" x=\"223.292376\" y=\"72.853078\" style=\"fill: #4c72b0; stroke: #333333\"/>\n     <use xlink:href=\"#m255c7fe476\" x=\"238.420636\" y=\"82.26483\" style=\"fill: #4c72b0; stroke: #333333\"/>\n     <use xlink:href=\"#m255c7fe476\" x=\"124.207635\" y=\"187.708459\" style=\"fill: #4c72b0; stroke: #333333\"/>\n     <use xlink:href=\"#m255c7fe476\" x=\"122.71543\" y=\"180.490214\" style=\"fill: #4c72b0; stroke: #333333\"/>\n     <use xlink:href=\"#m255c7fe476\" x=\"117.875927\" y=\"191.643055\" style=\"fill: #4c72b0; stroke: #333333\"/>\n     <use xlink:href=\"#m255c7fe476\" x=\"229.573548\" y=\"82.545876\" style=\"fill: #4c72b0; stroke: #333333\"/>\n     <use xlink:href=\"#m255c7fe476\" x=\"227.697461\" y=\"59.118728\" style=\"fill: #4c72b0; stroke: #333333\"/>\n     <use xlink:href=\"#m255c7fe476\" x=\"111.909471\" y=\"195.785087\" style=\"fill: #4c72b0; stroke: #333333\"/>\n     <use xlink:href=\"#m255c7fe476\" x=\"237.06215\" y=\"60.68295\" style=\"fill: #4c72b0; stroke: #333333\"/>\n     <use xlink:href=\"#m255c7fe476\" x=\"222.934653\" y=\"88.534918\" style=\"fill: #4c72b0; stroke: #333333\"/>\n     <use xlink:href=\"#m255c7fe476\" x=\"235.597393\" y=\"57.36726\" style=\"fill: #4c72b0; stroke: #333333\"/>\n     <use xlink:href=\"#m255c7fe476\" x=\"134.067083\" y=\"189.683137\" style=\"fill: #4c72b0; stroke: #333333\"/>\n     <use xlink:href=\"#m255c7fe476\" x=\"224.46244\" y=\"68.951715\" style=\"fill: #4c72b0; stroke: #333333\"/>\n     <use xlink:href=\"#m255c7fe476\" x=\"119.967781\" y=\"183.581568\" style=\"fill: #4c72b0; stroke: #333333\"/>\n     <use xlink:href=\"#m255c7fe476\" x=\"123.362014\" y=\"194.515549\" style=\"fill: #4c72b0; stroke: #333333\"/>\n     <use xlink:href=\"#m255c7fe476\" x=\"107.315419\" y=\"183.997398\" style=\"fill: #4c72b0; stroke: #333333\"/>\n     <use xlink:href=\"#m255c7fe476\" x=\"214.23501\" y=\"58.389138\" style=\"fill: #4c72b0; stroke: #333333\"/>\n     <use xlink:href=\"#m255c7fe476\" x=\"231.713768\" y=\"64.442433\" style=\"fill: #4c72b0; stroke: #333333\"/>\n     <use xlink:href=\"#m255c7fe476\" x=\"199.179171\" y=\"66.299049\" style=\"fill: #4c72b0; stroke: #333333\"/>\n     <use xlink:href=\"#m255c7fe476\" x=\"125.552722\" y=\"191.173497\" style=\"fill: #4c72b0; stroke: #333333\"/>\n     <use xlink:href=\"#m255c7fe476\" x=\"105.488263\" y=\"193.813093\" style=\"fill: #4c72b0; stroke: #333333\"/>\n     <use xlink:href=\"#m255c7fe476\" x=\"126.176735\" y=\"185.271154\" style=\"fill: #4c72b0; stroke: #333333\"/>\n     <use xlink:href=\"#m255c7fe476\" x=\"217.764692\" y=\"103.259503\" style=\"fill: #4c72b0; stroke: #333333\"/>\n     <use xlink:href=\"#m255c7fe476\" x=\"125.86956\" y=\"183.413165\" style=\"fill: #4c72b0; stroke: #333333\"/>\n     <use xlink:href=\"#m255c7fe476\" x=\"113.053866\" y=\"182.33585\" style=\"fill: #4c72b0; stroke: #333333\"/>\n     <use xlink:href=\"#m255c7fe476\" x=\"109.841896\" y=\"196.953895\" style=\"fill: #4c72b0; stroke: #333333\"/>\n     <use xlink:href=\"#m255c7fe476\" x=\"115.58493\" y=\"200.045541\" style=\"fill: #4c72b0; stroke: #333333\"/>\n     <use xlink:href=\"#m255c7fe476\" x=\"206.321967\" y=\"76.882061\" style=\"fill: #4c72b0; stroke: #333333\"/>\n     <use xlink:href=\"#m255c7fe476\" x=\"213.655232\" y=\"63.709684\" style=\"fill: #4c72b0; stroke: #333333\"/>\n     <use xlink:href=\"#m255c7fe476\" x=\"100.55646\" y=\"197.594548\" style=\"fill: #4c72b0; stroke: #333333\"/>\n     <use xlink:href=\"#m255c7fe476\" x=\"195.038187\" y=\"91.096182\" style=\"fill: #4c72b0; stroke: #333333\"/>\n     <use xlink:href=\"#m255c7fe476\" x=\"105.410706\" y=\"173.282107\" style=\"fill: #4c72b0; stroke: #333333\"/>\n     <use xlink:href=\"#m255c7fe476\" x=\"114.427033\" y=\"187.960076\" style=\"fill: #4c72b0; stroke: #333333\"/>\n     <use xlink:href=\"#m255c7fe476\" x=\"208.450747\" y=\"75.226502\" style=\"fill: #4c72b0; stroke: #333333\"/>\n     <use xlink:href=\"#m255c7fe476\" x=\"111.658205\" y=\"177.667888\" style=\"fill: #4c72b0; stroke: #333333\"/>\n    </g>\n   </g>\n   <g id=\"PathCollection_2\">\n    <defs>\n     <path id=\"m49d29e93bf\" d=\"M 0 3 \nC 0.795609 3 1.55874 2.683901 2.12132 2.12132 \nC 2.683901 1.55874 3 0.795609 3 0 \nC 3 -0.795609 2.683901 -1.55874 2.12132 -2.12132 \nC 1.55874 -2.683901 0.795609 -3 0 -3 \nC -0.795609 -3 -1.55874 -2.683901 -2.12132 -2.12132 \nC -2.683901 -1.55874 -3 -0.795609 -3 0 \nC -3 0.795609 -2.683901 1.55874 -2.12132 2.12132 \nC -1.55874 2.683901 -0.795609 3 0 3 \nz\n\" style=\"stroke: #333333\"/>\n    </defs>\n    <g clip-path=\"url(#pa3fe032b56)\">\n     <use xlink:href=\"#m49d29e93bf\" x=\"141.587166\" y=\"78.272567\" style=\"fill: #dd8452; stroke: #333333\"/>\n     <use xlink:href=\"#m49d29e93bf\" x=\"235.066865\" y=\"204.866733\" style=\"fill: #dd8452; stroke: #333333\"/>\n     <use xlink:href=\"#m49d29e93bf\" x=\"225.184251\" y=\"193.163323\" style=\"fill: #dd8452; stroke: #333333\"/>\n     <use xlink:href=\"#m49d29e93bf\" x=\"215.619667\" y=\"200.327836\" style=\"fill: #dd8452; stroke: #333333\"/>\n     <use xlink:href=\"#m49d29e93bf\" x=\"103.930192\" y=\"71.885711\" style=\"fill: #dd8452; stroke: #333333\"/>\n     <use xlink:href=\"#m49d29e93bf\" x=\"122.177049\" y=\"75.826979\" style=\"fill: #dd8452; stroke: #333333\"/>\n     <use xlink:href=\"#m49d29e93bf\" x=\"114.310727\" y=\"91.845308\" style=\"fill: #dd8452; stroke: #333333\"/>\n     <use xlink:href=\"#m49d29e93bf\" x=\"103.073463\" y=\"80.344801\" style=\"fill: #dd8452; stroke: #333333\"/>\n     <use xlink:href=\"#m49d29e93bf\" x=\"109.040554\" y=\"81.526272\" style=\"fill: #dd8452; stroke: #333333\"/>\n     <use xlink:href=\"#m49d29e93bf\" x=\"224.183839\" y=\"192.4644\" style=\"fill: #dd8452; stroke: #333333\"/>\n     <use xlink:href=\"#m49d29e93bf\" x=\"231.853693\" y=\"189.27286\" style=\"fill: #dd8452; stroke: #333333\"/>\n     <use xlink:href=\"#m49d29e93bf\" x=\"217.807426\" y=\"177.262872\" style=\"fill: #dd8452; stroke: #333333\"/>\n     <use xlink:href=\"#m49d29e93bf\" x=\"106.500611\" y=\"75.286829\" style=\"fill: #dd8452; stroke: #333333\"/>\n     <use xlink:href=\"#m49d29e93bf\" x=\"206.872249\" y=\"184.745101\" style=\"fill: #dd8452; stroke: #333333\"/>\n     <use xlink:href=\"#m49d29e93bf\" x=\"221.336506\" y=\"199.099531\" style=\"fill: #dd8452; stroke: #333333\"/>\n     <use xlink:href=\"#m49d29e93bf\" x=\"220.591795\" y=\"174.423543\" style=\"fill: #dd8452; stroke: #333333\"/>\n     <use xlink:href=\"#m49d29e93bf\" x=\"215.410447\" y=\"181.992081\" style=\"fill: #dd8452; stroke: #333333\"/>\n     <use xlink:href=\"#m49d29e93bf\" x=\"240.733482\" y=\"172.140739\" style=\"fill: #dd8452; stroke: #333333\"/>\n     <use xlink:href=\"#m49d29e93bf\" x=\"129.061846\" y=\"60.847157\" style=\"fill: #dd8452; stroke: #333333\"/>\n     <use xlink:href=\"#m49d29e93bf\" x=\"238.41478\" y=\"174.49747\" style=\"fill: #dd8452; stroke: #333333\"/>\n     <use xlink:href=\"#m49d29e93bf\" x=\"108.067378\" y=\"74.037127\" style=\"fill: #dd8452; stroke: #333333\"/>\n     <use xlink:href=\"#m49d29e93bf\" x=\"238.710214\" y=\"196.067501\" style=\"fill: #dd8452; stroke: #333333\"/>\n     <use xlink:href=\"#m49d29e93bf\" x=\"94.411122\" y=\"78.899949\" style=\"fill: #dd8452; stroke: #333333\"/>\n     <use xlink:href=\"#m49d29e93bf\" x=\"137.592537\" y=\"73.717993\" style=\"fill: #dd8452; stroke: #333333\"/>\n     <use xlink:href=\"#m49d29e93bf\" x=\"225.891853\" y=\"191.742322\" style=\"fill: #dd8452; stroke: #333333\"/>\n     <use xlink:href=\"#m49d29e93bf\" x=\"209.013797\" y=\"177.504649\" style=\"fill: #dd8452; stroke: #333333\"/>\n     <use xlink:href=\"#m49d29e93bf\" x=\"117.290983\" y=\"79.126128\" style=\"fill: #dd8452; stroke: #333333\"/>\n     <use xlink:href=\"#m49d29e93bf\" x=\"217.918073\" y=\"182.161616\" style=\"fill: #dd8452; stroke: #333333\"/>\n     <use xlink:href=\"#m49d29e93bf\" x=\"117.751822\" y=\"85.449795\" style=\"fill: #dd8452; stroke: #333333\"/>\n     <use xlink:href=\"#m49d29e93bf\" x=\"113.854803\" y=\"100.231917\" style=\"fill: #dd8452; stroke: #333333\"/>\n     <use xlink:href=\"#m49d29e93bf\" x=\"246.022741\" y=\"198.569571\" style=\"fill: #dd8452; stroke: #333333\"/>\n     <use xlink:href=\"#m49d29e93bf\" x=\"240.754274\" y=\"188.368068\" style=\"fill: #dd8452; stroke: #333333\"/>\n     <use xlink:href=\"#m49d29e93bf\" x=\"121.607508\" y=\"64.945652\" style=\"fill: #dd8452; stroke: #333333\"/>\n     <use xlink:href=\"#m49d29e93bf\" x=\"128.881324\" y=\"76.89282\" style=\"fill: #dd8452; stroke: #333333\"/>\n     <use xlink:href=\"#m49d29e93bf\" x=\"92.579527\" y=\"80.0104\" style=\"fill: #dd8452; stroke: #333333\"/>\n     <use xlink:href=\"#m49d29e93bf\" x=\"232.504993\" y=\"196.136247\" style=\"fill: #dd8452; stroke: #333333\"/>\n     <use xlink:href=\"#m49d29e93bf\" x=\"105.085621\" y=\"78.582639\" style=\"fill: #dd8452; stroke: #333333\"/>\n     <use xlink:href=\"#m49d29e93bf\" x=\"246.057848\" y=\"193.464649\" style=\"fill: #dd8452; stroke: #333333\"/>\n     <use xlink:href=\"#m49d29e93bf\" x=\"117.01937\" y=\"89.442402\" style=\"fill: #dd8452; stroke: #333333\"/>\n     <use xlink:href=\"#m49d29e93bf\" x=\"128.787948\" y=\"96.42682\" style=\"fill: #dd8452; stroke: #333333\"/>\n     <use xlink:href=\"#m49d29e93bf\" x=\"135.936884\" y=\"66.708117\" style=\"fill: #dd8452; stroke: #333333\"/>\n     <use xlink:href=\"#m49d29e93bf\" x=\"213.294449\" y=\"179.930871\" style=\"fill: #dd8452; stroke: #333333\"/>\n     <use xlink:href=\"#m49d29e93bf\" x=\"105.080572\" y=\"92.658449\" style=\"fill: #dd8452; stroke: #333333\"/>\n     <use xlink:href=\"#m49d29e93bf\" x=\"119.180891\" y=\"79.603552\" style=\"fill: #dd8452; stroke: #333333\"/>\n     <use xlink:href=\"#m49d29e93bf\" x=\"210.733456\" y=\"190.966209\" style=\"fill: #dd8452; stroke: #333333\"/>\n     <use xlink:href=\"#m49d29e93bf\" x=\"222.407376\" y=\"187.310376\" style=\"fill: #dd8452; stroke: #333333\"/>\n     <use xlink:href=\"#m49d29e93bf\" x=\"119.461614\" y=\"69.494602\" style=\"fill: #dd8452; stroke: #333333\"/>\n     <use xlink:href=\"#m49d29e93bf\" x=\"116.182179\" y=\"55.707062\" style=\"fill: #dd8452; stroke: #333333\"/>\n     <use xlink:href=\"#m49d29e93bf\" x=\"223.968413\" y=\"182.98665\" style=\"fill: #dd8452; stroke: #333333\"/>\n     <use xlink:href=\"#m49d29e93bf\" x=\"205.390288\" y=\"189.291736\" style=\"fill: #dd8452; stroke: #333333\"/>\n     <use xlink:href=\"#m49d29e93bf\" x=\"117.22676\" y=\"69.838281\" style=\"fill: #dd8452; stroke: #333333\"/>\n     <use xlink:href=\"#m49d29e93bf\" x=\"110.011984\" y=\"59.254344\" style=\"fill: #dd8452; stroke: #333333\"/>\n     <use xlink:href=\"#m49d29e93bf\" x=\"110.599078\" y=\"92.627175\" style=\"fill: #dd8452; stroke: #333333\"/>\n     <use xlink:href=\"#m49d29e93bf\" x=\"124.707525\" y=\"72.261946\" style=\"fill: #dd8452; stroke: #333333\"/>\n     <use xlink:href=\"#m49d29e93bf\" x=\"107.15599\" y=\"81.183802\" style=\"fill: #dd8452; stroke: #333333\"/>\n     <use xlink:href=\"#m49d29e93bf\" x=\"114.931039\" y=\"73.020893\" style=\"fill: #dd8452; stroke: #333333\"/>\n     <use xlink:href=\"#m49d29e93bf\" x=\"125.211233\" y=\"85.230562\" style=\"fill: #dd8452; stroke: #333333\"/>\n     <use xlink:href=\"#m49d29e93bf\" x=\"212.316488\" y=\"198.574152\" style=\"fill: #dd8452; stroke: #333333\"/>\n     <use xlink:href=\"#m49d29e93bf\" x=\"100.948457\" y=\"62.407084\" style=\"fill: #dd8452; stroke: #333333\"/>\n     <use xlink:href=\"#m49d29e93bf\" x=\"223.255663\" y=\"183.713668\" style=\"fill: #dd8452; stroke: #333333\"/>\n     <use xlink:href=\"#m49d29e93bf\" x=\"222.135398\" y=\"186.003018\" style=\"fill: #dd8452; stroke: #333333\"/>\n     <use xlink:href=\"#m49d29e93bf\" x=\"208.637384\" y=\"200.129338\" style=\"fill: #dd8452; stroke: #333333\"/>\n     <use xlink:href=\"#m49d29e93bf\" x=\"220.230371\" y=\"189.854571\" style=\"fill: #dd8452; stroke: #333333\"/>\n     <use xlink:href=\"#m49d29e93bf\" x=\"116.430111\" y=\"86.125475\" style=\"fill: #dd8452; stroke: #333333\"/>\n     <use xlink:href=\"#m49d29e93bf\" x=\"207.405592\" y=\"182.873224\" style=\"fill: #dd8452; stroke: #333333\"/>\n     <use xlink:href=\"#m49d29e93bf\" x=\"203.288479\" y=\"162.958274\" style=\"fill: #dd8452; stroke: #333333\"/>\n     <use xlink:href=\"#m49d29e93bf\" x=\"118.412023\" y=\"79.672292\" style=\"fill: #dd8452; stroke: #333333\"/>\n     <use xlink:href=\"#m49d29e93bf\" x=\"123.778013\" y=\"78.47184\" style=\"fill: #dd8452; stroke: #333333\"/>\n     <use xlink:href=\"#m49d29e93bf\" x=\"234.658285\" y=\"178.436622\" style=\"fill: #dd8452; stroke: #333333\"/>\n     <use xlink:href=\"#m49d29e93bf\" x=\"110.7507\" y=\"71.686504\" style=\"fill: #dd8452; stroke: #333333\"/>\n     <use xlink:href=\"#m49d29e93bf\" x=\"120.305051\" y=\"79.862657\" style=\"fill: #dd8452; stroke: #333333\"/>\n     <use xlink:href=\"#m49d29e93bf\" x=\"123.023731\" y=\"96.701991\" style=\"fill: #dd8452; stroke: #333333\"/>\n     <use xlink:href=\"#m49d29e93bf\" x=\"221.469849\" y=\"172.715218\" style=\"fill: #dd8452; stroke: #333333\"/>\n     <use xlink:href=\"#m49d29e93bf\" x=\"227.831293\" y=\"165.308117\" style=\"fill: #dd8452; stroke: #333333\"/>\n     <use xlink:href=\"#m49d29e93bf\" x=\"217.274981\" y=\"194.477068\" style=\"fill: #dd8452; stroke: #333333\"/>\n     <use xlink:href=\"#m49d29e93bf\" x=\"144.95259\" y=\"78.036151\" style=\"fill: #dd8452; stroke: #333333\"/>\n     <use xlink:href=\"#m49d29e93bf\" x=\"233.774416\" y=\"209.329306\" style=\"fill: #dd8452; stroke: #333333\"/>\n     <use xlink:href=\"#m49d29e93bf\" x=\"218.570867\" y=\"199.198166\" style=\"fill: #dd8452; stroke: #333333\"/>\n     <use xlink:href=\"#m49d29e93bf\" x=\"230.138323\" y=\"176.470573\" style=\"fill: #dd8452; stroke: #333333\"/>\n     <use xlink:href=\"#m49d29e93bf\" x=\"107.897533\" y=\"86.468567\" style=\"fill: #dd8452; stroke: #333333\"/>\n     <use xlink:href=\"#m49d29e93bf\" x=\"100.226154\" y=\"80.821208\" style=\"fill: #dd8452; stroke: #333333\"/>\n     <use xlink:href=\"#m49d29e93bf\" x=\"236.803568\" y=\"201.067414\" style=\"fill: #dd8452; stroke: #333333\"/>\n     <use xlink:href=\"#m49d29e93bf\" x=\"125.772678\" y=\"97.215368\" style=\"fill: #dd8452; stroke: #333333\"/>\n     <use xlink:href=\"#m49d29e93bf\" x=\"95.182367\" y=\"80.030789\" style=\"fill: #dd8452; stroke: #333333\"/>\n     <use xlink:href=\"#m49d29e93bf\" x=\"130.178595\" y=\"69.450586\" style=\"fill: #dd8452; stroke: #333333\"/>\n     <use xlink:href=\"#m49d29e93bf\" x=\"108.832548\" y=\"71.840387\" style=\"fill: #dd8452; stroke: #333333\"/>\n     <use xlink:href=\"#m49d29e93bf\" x=\"228.818923\" y=\"201.381718\" style=\"fill: #dd8452; stroke: #333333\"/>\n     <use xlink:href=\"#m49d29e93bf\" x=\"204.52834\" y=\"184.591115\" style=\"fill: #dd8452; stroke: #333333\"/>\n     <use xlink:href=\"#m49d29e93bf\" x=\"115.638734\" y=\"66.197165\" style=\"fill: #dd8452; stroke: #333333\"/>\n     <use xlink:href=\"#m49d29e93bf\" x=\"240.729028\" y=\"197.125868\" style=\"fill: #dd8452; stroke: #333333\"/>\n     <use xlink:href=\"#m49d29e93bf\" x=\"133.729743\" y=\"86.263834\" style=\"fill: #dd8452; stroke: #333333\"/>\n     <use xlink:href=\"#m49d29e93bf\" x=\"232.88444\" y=\"157.461677\" style=\"fill: #dd8452; stroke: #333333\"/>\n     <use xlink:href=\"#m49d29e93bf\" x=\"211.135169\" y=\"199.031902\" style=\"fill: #dd8452; stroke: #333333\"/>\n     <use xlink:href=\"#m49d29e93bf\" x=\"237.423383\" y=\"187.094195\" style=\"fill: #dd8452; stroke: #333333\"/>\n     <use xlink:href=\"#m49d29e93bf\" x=\"119.674843\" y=\"78.579361\" style=\"fill: #dd8452; stroke: #333333\"/>\n     <use xlink:href=\"#m49d29e93bf\" x=\"127.264182\" y=\"69.162012\" style=\"fill: #dd8452; stroke: #333333\"/>\n    </g>\n   </g>\n   <g id=\"patch_3\">\n    <path d=\"M 59.506094 243.549375 \nL 59.506094 21.789375 \n\" style=\"fill: none; stroke: #ffffff; stroke-width: 1.25; stroke-linejoin: miter; stroke-linecap: square\"/>\n   </g>\n   <g id=\"patch_4\">\n    <path d=\"M 281.266094 243.549375 \nL 281.266094 21.789375 \n\" style=\"fill: none; stroke: #ffffff; stroke-width: 1.25; stroke-linejoin: miter; stroke-linecap: square\"/>\n   </g>\n   <g id=\"patch_5\">\n    <path d=\"M 59.506094 243.549375 \nL 281.266094 243.549375 \n\" style=\"fill: none; stroke: #ffffff; stroke-width: 1.25; stroke-linejoin: miter; stroke-linecap: square\"/>\n   </g>\n   <g id=\"patch_6\">\n    <path d=\"M 59.506094 21.789375 \nL 281.266094 21.789375 \n\" style=\"fill: none; stroke: #ffffff; stroke-width: 1.25; stroke-linejoin: miter; stroke-linecap: square\"/>\n   </g>\n   <g id=\"text_17\">\n    <!-- Dataset samples -->\n    <g style=\"fill: #262626\" transform=\"translate(125.702031 15.789375)scale(0.12 -0.12)\">\n     <defs>\n      <path id=\"ArialMT-44\" d=\"M 494 0 \nL 494 4581 \nL 2072 4581 \nQ 2606 4581 2888 4516 \nQ 3281 4425 3559 4188 \nQ 3922 3881 4101 3404 \nQ 4281 2928 4281 2316 \nQ 4281 1794 4159 1391 \nQ 4038 988 3847 723 \nQ 3656 459 3429 307 \nQ 3203 156 2883 78 \nQ 2563 0 2147 0 \nL 494 0 \nz\nM 1100 541 \nL 2078 541 \nQ 2531 541 2789 625 \nQ 3047 709 3200 863 \nQ 3416 1078 3536 1442 \nQ 3656 1806 3656 2325 \nQ 3656 3044 3420 3430 \nQ 3184 3816 2847 3947 \nQ 2603 4041 2063 4041 \nL 1100 4041 \nL 1100 541 \nz\n\" transform=\"scale(0.015625)\"/>\n      <path id=\"ArialMT-61\" d=\"M 2588 409 \nQ 2275 144 1986 34 \nQ 1697 -75 1366 -75 \nQ 819 -75 525 192 \nQ 231 459 231 875 \nQ 231 1119 342 1320 \nQ 453 1522 633 1644 \nQ 813 1766 1038 1828 \nQ 1203 1872 1538 1913 \nQ 2219 1994 2541 2106 \nQ 2544 2222 2544 2253 \nQ 2544 2597 2384 2738 \nQ 2169 2928 1744 2928 \nQ 1347 2928 1158 2789 \nQ 969 2650 878 2297 \nL 328 2372 \nQ 403 2725 575 2942 \nQ 747 3159 1072 3276 \nQ 1397 3394 1825 3394 \nQ 2250 3394 2515 3294 \nQ 2781 3194 2906 3042 \nQ 3031 2891 3081 2659 \nQ 3109 2516 3109 2141 \nL 3109 1391 \nQ 3109 606 3145 398 \nQ 3181 191 3288 0 \nL 2700 0 \nQ 2613 175 2588 409 \nz\nM 2541 1666 \nQ 2234 1541 1622 1453 \nQ 1275 1403 1131 1340 \nQ 988 1278 909 1158 \nQ 831 1038 831 891 \nQ 831 666 1001 516 \nQ 1172 366 1500 366 \nQ 1825 366 2078 508 \nQ 2331 650 2450 897 \nQ 2541 1088 2541 1459 \nL 2541 1666 \nz\n\" transform=\"scale(0.015625)\"/>\n      <path id=\"ArialMT-74\" d=\"M 1650 503 \nL 1731 6 \nQ 1494 -44 1306 -44 \nQ 1000 -44 831 53 \nQ 663 150 594 308 \nQ 525 466 525 972 \nL 525 2881 \nL 113 2881 \nL 113 3319 \nL 525 3319 \nL 525 4141 \nL 1084 4478 \nL 1084 3319 \nL 1650 3319 \nL 1650 2881 \nL 1084 2881 \nL 1084 941 \nQ 1084 700 1114 631 \nQ 1144 563 1211 522 \nQ 1278 481 1403 481 \nQ 1497 481 1650 503 \nz\n\" transform=\"scale(0.015625)\"/>\n      <path id=\"ArialMT-73\" d=\"M 197 991 \nL 753 1078 \nQ 800 744 1014 566 \nQ 1228 388 1613 388 \nQ 2000 388 2187 545 \nQ 2375 703 2375 916 \nQ 2375 1106 2209 1216 \nQ 2094 1291 1634 1406 \nQ 1016 1563 777 1677 \nQ 538 1791 414 1992 \nQ 291 2194 291 2438 \nQ 291 2659 392 2848 \nQ 494 3038 669 3163 \nQ 800 3259 1026 3326 \nQ 1253 3394 1513 3394 \nQ 1903 3394 2198 3281 \nQ 2494 3169 2634 2976 \nQ 2775 2784 2828 2463 \nL 2278 2388 \nQ 2241 2644 2061 2787 \nQ 1881 2931 1553 2931 \nQ 1166 2931 1000 2803 \nQ 834 2675 834 2503 \nQ 834 2394 903 2306 \nQ 972 2216 1119 2156 \nQ 1203 2125 1616 2013 \nQ 2213 1853 2448 1751 \nQ 2684 1650 2818 1456 \nQ 2953 1263 2953 975 \nQ 2953 694 2789 445 \nQ 2625 197 2315 61 \nQ 2006 -75 1616 -75 \nQ 969 -75 630 194 \nQ 291 463 197 991 \nz\n\" transform=\"scale(0.015625)\"/>\n      <path id=\"ArialMT-65\" d=\"M 2694 1069 \nL 3275 997 \nQ 3138 488 2766 206 \nQ 2394 -75 1816 -75 \nQ 1088 -75 661 373 \nQ 234 822 234 1631 \nQ 234 2469 665 2931 \nQ 1097 3394 1784 3394 \nQ 2450 3394 2872 2941 \nQ 3294 2488 3294 1666 \nQ 3294 1616 3291 1516 \nL 816 1516 \nQ 847 969 1125 678 \nQ 1403 388 1819 388 \nQ 2128 388 2347 550 \nQ 2566 713 2694 1069 \nz\nM 847 1978 \nL 2700 1978 \nQ 2663 2397 2488 2606 \nQ 2219 2931 1791 2931 \nQ 1403 2931 1139 2672 \nQ 875 2413 847 1978 \nz\n\" transform=\"scale(0.015625)\"/>\n      <path id=\"ArialMT-20\" transform=\"scale(0.015625)\"/>\n      <path id=\"ArialMT-6d\" d=\"M 422 0 \nL 422 3319 \nL 925 3319 \nL 925 2853 \nQ 1081 3097 1340 3245 \nQ 1600 3394 1931 3394 \nQ 2300 3394 2536 3241 \nQ 2772 3088 2869 2813 \nQ 3263 3394 3894 3394 \nQ 4388 3394 4653 3120 \nQ 4919 2847 4919 2278 \nL 4919 0 \nL 4359 0 \nL 4359 2091 \nQ 4359 2428 4304 2576 \nQ 4250 2725 4106 2815 \nQ 3963 2906 3769 2906 \nQ 3419 2906 3187 2673 \nQ 2956 2441 2956 1928 \nL 2956 0 \nL 2394 0 \nL 2394 2156 \nQ 2394 2531 2256 2718 \nQ 2119 2906 1806 2906 \nQ 1569 2906 1367 2781 \nQ 1166 2656 1075 2415 \nQ 984 2175 984 1722 \nL 984 0 \nL 422 0 \nz\n\" transform=\"scale(0.015625)\"/>\n      <path id=\"ArialMT-70\" d=\"M 422 -1272 \nL 422 3319 \nL 934 3319 \nL 934 2888 \nQ 1116 3141 1344 3267 \nQ 1572 3394 1897 3394 \nQ 2322 3394 2647 3175 \nQ 2972 2956 3137 2557 \nQ 3303 2159 3303 1684 \nQ 3303 1175 3120 767 \nQ 2938 359 2589 142 \nQ 2241 -75 1856 -75 \nQ 1575 -75 1351 44 \nQ 1128 163 984 344 \nL 984 -1272 \nL 422 -1272 \nz\nM 931 1641 \nQ 931 1000 1190 694 \nQ 1450 388 1819 388 \nQ 2194 388 2461 705 \nQ 2728 1022 2728 1688 \nQ 2728 2322 2467 2637 \nQ 2206 2953 1844 2953 \nQ 1484 2953 1207 2617 \nQ 931 2281 931 1641 \nz\n\" transform=\"scale(0.015625)\"/>\n      <path id=\"ArialMT-6c\" d=\"M 409 0 \nL 409 4581 \nL 972 4581 \nL 972 0 \nL 409 0 \nz\n\" transform=\"scale(0.015625)\"/>\n     </defs>\n     <use xlink:href=\"#ArialMT-44\"/>\n     <use xlink:href=\"#ArialMT-61\" x=\"72.216797\"/>\n     <use xlink:href=\"#ArialMT-74\" x=\"127.832031\"/>\n     <use xlink:href=\"#ArialMT-61\" x=\"155.615234\"/>\n     <use xlink:href=\"#ArialMT-73\" x=\"211.230469\"/>\n     <use xlink:href=\"#ArialMT-65\" x=\"261.230469\"/>\n     <use xlink:href=\"#ArialMT-74\" x=\"316.845703\"/>\n     <use xlink:href=\"#ArialMT-20\" x=\"344.628906\"/>\n     <use xlink:href=\"#ArialMT-73\" x=\"372.412109\"/>\n     <use xlink:href=\"#ArialMT-61\" x=\"422.412109\"/>\n     <use xlink:href=\"#ArialMT-6d\" x=\"478.027344\"/>\n     <use xlink:href=\"#ArialMT-70\" x=\"561.328125\"/>\n     <use xlink:href=\"#ArialMT-6c\" x=\"616.943359\"/>\n     <use xlink:href=\"#ArialMT-65\" x=\"639.160156\"/>\n     <use xlink:href=\"#ArialMT-73\" x=\"694.775391\"/>\n    </g>\n   </g>\n   <g id=\"legend_1\">\n    <g id=\"patch_7\">\n     <path d=\"M 201.687969 149.879219 \nL 273.566094 149.879219 \nQ 275.766094 149.879219 275.766094 147.679219 \nL 275.766094 117.659531 \nQ 275.766094 115.459531 273.566094 115.459531 \nL 201.687969 115.459531 \nQ 199.487969 115.459531 199.487969 117.659531 \nL 199.487969 147.679219 \nQ 199.487969 149.879219 201.687969 149.879219 \nz\n\" style=\"fill: #eaeaf2; opacity: 0.8; stroke: #cccccc; stroke-linejoin: miter\"/>\n    </g>\n    <g id=\"PathCollection_3\">\n     <g>\n      <use xlink:href=\"#m255c7fe476\" x=\"214.887969\" y=\"124.845625\" style=\"fill: #4c72b0; stroke: #333333\"/>\n     </g>\n    </g>\n    <g id=\"text_18\">\n     <!-- Class 0 -->\n     <g style=\"fill: #262626\" transform=\"translate(234.687969 127.733125)scale(0.11 -0.11)\">\n      <defs>\n       <path id=\"ArialMT-43\" d=\"M 3763 1606 \nL 4369 1453 \nQ 4178 706 3683 314 \nQ 3188 -78 2472 -78 \nQ 1731 -78 1267 223 \nQ 803 525 561 1097 \nQ 319 1669 319 2325 \nQ 319 3041 592 3573 \nQ 866 4106 1370 4382 \nQ 1875 4659 2481 4659 \nQ 3169 4659 3637 4309 \nQ 4106 3959 4291 3325 \nL 3694 3184 \nQ 3534 3684 3231 3912 \nQ 2928 4141 2469 4141 \nQ 1941 4141 1586 3887 \nQ 1231 3634 1087 3207 \nQ 944 2781 944 2328 \nQ 944 1744 1114 1308 \nQ 1284 872 1643 656 \nQ 2003 441 2422 441 \nQ 2931 441 3284 734 \nQ 3638 1028 3763 1606 \nz\n\" transform=\"scale(0.015625)\"/>\n      </defs>\n      <use xlink:href=\"#ArialMT-43\"/>\n      <use xlink:href=\"#ArialMT-6c\" x=\"72.216797\"/>\n      <use xlink:href=\"#ArialMT-61\" x=\"94.433594\"/>\n      <use xlink:href=\"#ArialMT-73\" x=\"150.048828\"/>\n      <use xlink:href=\"#ArialMT-73\" x=\"200.048828\"/>\n      <use xlink:href=\"#ArialMT-20\" x=\"250.048828\"/>\n      <use xlink:href=\"#ArialMT-30\" x=\"277.832031\"/>\n     </g>\n    </g>\n    <g id=\"PathCollection_4\">\n     <g>\n      <use xlink:href=\"#m49d29e93bf\" x=\"214.887969\" y=\"140.405469\" style=\"fill: #dd8452; stroke: #333333\"/>\n     </g>\n    </g>\n    <g id=\"text_19\">\n     <!-- Class 1 -->\n     <g style=\"fill: #262626\" transform=\"translate(234.687969 143.292969)scale(0.11 -0.11)\">\n      <use xlink:href=\"#ArialMT-43\"/>\n      <use xlink:href=\"#ArialMT-6c\" x=\"72.216797\"/>\n      <use xlink:href=\"#ArialMT-61\" x=\"94.433594\"/>\n      <use xlink:href=\"#ArialMT-73\" x=\"150.048828\"/>\n      <use xlink:href=\"#ArialMT-73\" x=\"200.048828\"/>\n      <use xlink:href=\"#ArialMT-20\" x=\"250.048828\"/>\n      <use xlink:href=\"#ArialMT-31\" x=\"277.832031\"/>\n     </g>\n    </g>\n   </g>\n  </g>\n </g>\n <defs>\n  <clipPath id=\"pa3fe032b56\">\n   <rect x=\"59.506094\" y=\"21.789375\" width=\"221.76\" height=\"221.76\"/>\n  </clipPath>\n </defs>\n</svg>\n",
      "text/plain": [
       "<Figure size 400x400 with 1 Axes>"
      ]
     },
     "metadata": {},
     "output_type": "display_data"
    }
   ],
   "source": [
    "@torch.no_grad() # Decorator, same effect as \"with torch.no_grad(): ...\" over the whole function.\n",
    "def visualize_classification(model, data, label):\n",
    "    if isinstance(data, torch.Tensor):\n",
    "        data = data.cpu().numpy()\n",
    "    if isinstance(label, torch.Tensor):\n",
    "        label = label.cpu().numpy()\n",
    "    data_0 = data[label == 0]\n",
    "    data_1 = data[label == 1]\n",
    "    \n",
    "    plt.figure(figsize=(4,4))\n",
    "    plt.scatter(data_0[:,0], data_0[:,1], edgecolor=\"#333\", label=\"Class 0\")\n",
    "    plt.scatter(data_1[:,0], data_1[:,1], edgecolor=\"#333\", label=\"Class 1\")\n",
    "    plt.title(\"Dataset samples\")\n",
    "    plt.ylabel(r\"$x_2$\")\n",
    "    plt.xlabel(r\"$x_1$\")\n",
    "    plt.legend()\n",
    "    \n",
    "    # Let's make use of a lot of operations we have learned above\n",
    "    model.to(device)\n",
    "    c0 = torch.Tensor(to_rgba(\"C0\")).to(device)\n",
    "    c1 = torch.Tensor(to_rgba(\"C1\")).to(device)\n",
    "    x1 = torch.arange(-0.5, 1.5, step=0.01, device=device)\n",
    "    x2 = torch.arange(-0.5, 1.5, step=0.01, device=device)\n",
    "    xx1, xx2 = torch.meshgrid(x1, x2) # Meshgrid function as in numpy\n",
    "    model_inputs = torch.stack([xx1, xx2], dim=-1)\n",
    "    preds = model(model_inputs)\n",
    "    preds = torch.sigmoid(preds)\n",
    "    output_image = preds * c0[None,None] + (1 - preds) * c1[None,None] # Specifying \"None\" in a dimension creates a new one\n",
    "    output_image = output_image.cpu().numpy() # Convert to numpy array. This only works for tensors on CPU, hence first push to CPU\n",
    "    plt.imshow(output_image, origin='upper', extent=(-0.5, 1.5, -0.5, 1.5))\n",
    "    plt.grid(False)\n",
    "\n",
    "visualize_classification(model, dataset.data, dataset.label)\n",
    "plt.show()"
   ]
  },
  {
   "cell_type": "markdown",
   "metadata": {},
   "source": [
    "The decision boundaries might not look exactly as in the figure in the preamble of this section which can be caused by running it on CPU or a different GPU architecture. Nevertheless, the result on the accuracy metric should be the approximately the same. "
   ]
  },
  {
   "cell_type": "code",
   "execution_count": 1563,
   "metadata": {},
   "outputs": [
    {
     "data": {
      "text/plain": [
       "Reusing TensorBoard on port 6006 (pid 22208), started 0:00:09 ago. (Use '!kill 22208' to kill it.)"
      ]
     },
     "metadata": {},
     "output_type": "display_data"
    },
    {
     "data": {
      "text/html": [
       "\n",
       "      <iframe id=\"tensorboard-frame-2433edfd2ded32f1\" width=\"100%\" height=\"800\" frameborder=\"0\">\n",
       "      </iframe>\n",
       "      <script>\n",
       "        (function() {\n",
       "          const frame = document.getElementById(\"tensorboard-frame-2433edfd2ded32f1\");\n",
       "          const url = new URL(\"http://localhost\");\n",
       "          const port = 6006;\n",
       "          if (port) {\n",
       "            url.port = port;\n",
       "          }\n",
       "          frame.src = url;\n",
       "        })();\n",
       "      </script>\n",
       "    "
      ],
      "text/plain": [
       "<IPython.core.display.HTML object>"
      ]
     },
     "metadata": {},
     "output_type": "display_data"
    }
   ],
   "source": [
    "# Run tensorboard logs\n",
    "%load_ext tensorboard\n",
    "%tensorboard --logdir logs"
   ]
  }
 ],
 "metadata": {
  "kernelspec": {
   "display_name": "Python 3",
   "language": "python",
   "name": "python3"
  },
  "language_info": {
   "codemirror_mode": {
    "name": "ipython",
    "version": 3
   },
   "file_extension": ".py",
   "mimetype": "text/x-python",
   "name": "python",
   "nbconvert_exporter": "python",
   "pygments_lexer": "ipython3",
   "version": "3.9.13"
  },
  "vscode": {
   "interpreter": {
    "hash": "d36eb4ffb1b509eac7c8ec69a0f00740540681bdf210a10d1e2607102c088e08"
   }
  }
 },
 "nbformat": 4,
 "nbformat_minor": 4
}
