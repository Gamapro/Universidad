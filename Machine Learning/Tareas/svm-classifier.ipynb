{
 "cells": [
  {
   "cell_type": "code",
   "execution_count": 1,
   "metadata": {},
   "outputs": [],
   "source": [
    "import numpy as np\n",
    "import pandas\n",
    "import matplotlib.pyplot as plt\n",
    "from mpl_toolkits.mplot3d import Axes3D\n",
    "import cv2\n",
    "from sklearn.svm import LinearSVC, SVC\n",
    "import os\n",
    "import warnings\n",
    "from sklearn.exceptions import ConvergenceWarning\n",
    "import scipy.misc"
   ]
  },
  {
   "cell_type": "code",
   "execution_count": 2,
   "metadata": {},
   "outputs": [],
   "source": [
    "path = '../datasets/imagenes_segmentacion'\n",
    "img_path  = '/images/'\n",
    "mark_path = '/bordes_mr/'\n",
    "real_path = '/bordes_real/' \n",
    "file_names = os.listdir(path+img_path)"
   ]
  },
  {
   "cell_type": "code",
   "execution_count": null,
   "metadata": {},
   "outputs": [],
   "source": [
    "with warnings.catch_warnings():\n",
    "    warnings.filterwarnings(\"ignore\", category=ConvergenceWarning)\n",
    "\n",
    "    acc_linear, acc_svc = 0,0\n",
    "    n,m = 0,0\n",
    "\n",
    "    for idx, filename in enumerate(file_names):\n",
    "\n",
    "        # if idx > 2: break\n",
    "\n",
    "        img = cv2.imread(path+img_path+filename)\n",
    "        mark = cv2.imread(path+mark_path+filename)\n",
    "        real = cv2.imread(path+real_path+filename)\n",
    "\n",
    "        img = cv2.cvtColor(img, cv2.COLOR_BGR2RGB)\n",
    "        real = cv2.cvtColor(real, cv2.COLOR_BGR2GRAY)\n",
    "        mark = cv2.GaussianBlur(mark,(5,5),0)\n",
    "\n",
    "        nrows,ncols,nch = img.shape\n",
    "        # Image vectorization\n",
    "        Ximg = np.reshape(img,(nrows*ncols,nch))\n",
    "        Xmask = np.reshape(mark,(nrows*ncols,nch))[:,0]\n",
    "\n",
    "        values = np.unique(Xmask)\n",
    "\n",
    "        Xobj = Ximg[ Xmask==255, : ]\n",
    "        Xbck = Ximg[ Xmask==64, :]\n",
    "        Xtrain = np.concatenate((Xobj,Xbck),axis=0)\n",
    "\n",
    "        Yobj = np.ones((len(Xobj)))*255\n",
    "        Ybck = np.zeros((len(Xbck)))\n",
    "        Ytrain = np.concatenate((Yobj,Ybck),axis=0)\n",
    "\n",
    "        modelL = LinearSVC()\n",
    "        modelL.fit(Xtrain,Ytrain)\n",
    "        XpredL = modelL.predict(Ximg)\n",
    "        predL = np.reshape(XpredL,(nrows,ncols))\n",
    "        \n",
    "        #predL = cv2.merge((predL,predL,predL))\n",
    "        #predL = cv2.cvtColor(predL.astype('uint8'), cv2.COLOR_GRAY2BGR)\n",
    "        #predL = cv2.fastNlMeansDenoisingColored(predL,None,10,10,7,21)\n",
    "        #predL = cv2.cvtColor(predL, cv2.COLOR_RGB2GRAY)\n",
    "        \n",
    "        model = SVC()\n",
    "        model.fit(Xtrain,Ytrain)\n",
    "        Xpred = model.predict(Ximg)\n",
    "        pred = np.reshape(Xpred,(nrows,ncols))\n",
    "\n",
    "        #holes = cv2.floodFill(predL.copy(), mask, (0, 0), 255)[1]\n",
    "        #holes = ~holes\n",
    "        #predL[holes == 255] = 255\n",
    "\n",
    "        acc_linear += np.sum( predL.astype(int) == real )\n",
    "        acc_svc    += np.sum( predL.astype(int) == real )\n",
    "\n",
    "        n+=real.size\n",
    "        m+=real.size\n",
    "        \n",
    "        #plt.figure(figsize=(10,10))\n",
    "        #plt.subplot(2,2,1)\n",
    "        #plt.imshow(img)\n",
    "        #plt.subplot(2,2,2)\n",
    "        #plt.imshow(real,cmap='gray')\n",
    "        #plt.subplot(2,2,3)\n",
    "        #plt.title('LinearSVC')\n",
    "        #plt.imshow(predL,cmap='gray')\n",
    "        #plt.subplot(2,2,4)\n",
    "        #plt.title('SVC')\n",
    "        #plt.imshow(pred,cmap='gray')\n",
    "        #plt.show()\n"
   ]
  },
  {
   "cell_type": "code",
   "execution_count": 4,
   "metadata": {},
   "outputs": [
    {
     "name": "stdout",
     "output_type": "stream",
     "text": [
      "Accuracy LinearSVC  0.8689925347222223\n",
      "Accuracy SVC  0.8689925347222223\n"
     ]
    }
   ],
   "source": [
    "print('Accuracy LinearSVC ', acc_linear/n)\n",
    "print('Accuracy SVC ', acc_svc/m)"
   ]
  }
 ],
 "metadata": {
  "kernelspec": {
   "display_name": "Python 3.9.13 64-bit",
   "language": "python",
   "name": "python3"
  },
  "language_info": {
   "codemirror_mode": {
    "name": "ipython",
    "version": 3
   },
   "file_extension": ".py",
   "mimetype": "text/x-python",
   "name": "python",
   "nbconvert_exporter": "python",
   "pygments_lexer": "ipython3",
   "version": "3.9.13"
  },
  "orig_nbformat": 4,
  "vscode": {
   "interpreter": {
    "hash": "d36eb4ffb1b509eac7c8ec69a0f00740540681bdf210a10d1e2607102c088e08"
   }
  }
 },
 "nbformat": 4,
 "nbformat_minor": 2
}
