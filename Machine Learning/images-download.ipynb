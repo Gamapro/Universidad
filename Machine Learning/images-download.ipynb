{
 "cells": [
  {
   "cell_type": "code",
   "execution_count": 14,
   "metadata": {},
   "outputs": [],
   "source": [
    "from google_images_download import google_images_download   #importing the library\n",
    "\n",
    "response = google_images_download.googleimagesdownload()   #class instantiation\n",
    "\n",
    "def downloadimages(query, limit):\n",
    "    # keywords is the search query\n",
    "    # format is the image file format\n",
    "    # limit is the number of images to be downloaded\n",
    "    # print urs is to print the image file url\n",
    "    # size is the image size which can\n",
    "    # be specified manually (\"large, medium, icon\")\n",
    "    # aspect ratio denotes the height width ratio\n",
    "    # of images to download. (\"tall, square, wide, panoramic\")\n",
    "    arguments = {\"keywords\": query,\n",
    "                 # \"format\": \"jpg\",\n",
    "                 \"limit\":limit,\n",
    "                 \"print_urls\":True,\n",
    "                 \"size\": \"medium\",\n",
    "                 \"aspect_ratio\":\"panoramic\"}\n",
    "    try:\n",
    "        response.download(arguments)\n",
    "      \n",
    "    # Handling File NotFound Error    \n",
    "    except FileNotFoundError: \n",
    "        arguments = {\"keywords\": query,\n",
    "                     # \"format\": \"jpg\",\n",
    "                     \"limit\":limit,\n",
    "                     \"print_urls\":True, \n",
    "                     \"size\": \"medium\"}\n",
    "        # Providing arguments for the searched query\n",
    "        try:\n",
    "            # Downloading the photos based\n",
    "            # on the given arguments\n",
    "            response.download(arguments) \n",
    "        except:\n",
    "            pass"
   ]
  },
  {
   "cell_type": "code",
   "execution_count": 15,
   "metadata": {},
   "outputs": [
    {
     "name": "stdout",
     "output_type": "stream",
     "text": [
      "\n",
      "Item no.: 1 --> Item name = The pop up selfie camera is placed aligning with the rear cameras.\n",
      "Evaluating...\n",
      "Starting Download...\n",
      "\n",
      "\n",
      "Unfortunately all 5 could not be downloaded because some images were not downloadable. 0 is all we got for this search filter!\n",
      "\n",
      "Errors: 0\n",
      "\n",
      "\n"
     ]
    }
   ],
   "source": [
    "search_queries = [\n",
    "'The pop up selfie camera is placed aligning with the rear cameras.'\n",
    "]\n",
    "  \n",
    "for query in search_queries:\n",
    "    downloadimages(query, 5) \n",
    "    print() "
   ]
  }
 ],
 "metadata": {
  "interpreter": {
   "hash": "eea840d32bf56a928ee27a035e52aac990f88e7d3a2b564ede6a6b77b7629b2f"
  },
  "kernelspec": {
   "display_name": "Python 3.8.10 64-bit",
   "language": "python",
   "name": "python3"
  },
  "language_info": {
   "codemirror_mode": {
    "name": "ipython",
    "version": 3
   },
   "file_extension": ".py",
   "mimetype": "text/x-python",
   "name": "python",
   "nbconvert_exporter": "python",
   "pygments_lexer": "ipython3",
   "version": "3.8.10"
  },
  "orig_nbformat": 4
 },
 "nbformat": 4,
 "nbformat_minor": 2
}
