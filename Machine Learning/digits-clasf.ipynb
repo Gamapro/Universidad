{
 "cells": [
  {
   "cell_type": "code",
   "execution_count": 1,
   "metadata": {},
   "outputs": [],
   "source": [
    "from sklearn.datasets import load_digits\n",
    "\n",
    "from sklearn.naive_bayes import GaussianNB\n",
    "from sklearn.linear_model import LogisticRegression\n",
    "from sklearn.tree import DecisionTreeClassifier\n",
    "\n",
    "import warnings\n",
    "from sklearn.exceptions import ConvergenceWarning\n",
    "\n",
    "from sklearn.model_selection import train_test_split, KFold\n",
    "from sklearn.metrics import confusion_matrix, f1_score\n",
    "\n",
    "import numpy as np\n",
    "import pandas as pd\n",
    "import matplotlib.pyplot as plt\n",
    "import seaborn as sb"
   ]
  },
  {
   "cell_type": "markdown",
   "metadata": {},
   "source": [
    "Space Invaders\t(Arcade)\n",
    "PAC-MAN\t(Arcade)\n",
    "Donkey Kong\t(Arcade)\n",
    "Pitfall!\t(Atari)\n",
    "Mario Bros.\t(NES)\n",
    "The Legend of Zelda\t(NES)\n",
    "Tetris\t(GameBoy)\n",
    "Dig Dug\t(Arcade)\n",
    "Blockout\t(Arcade)\n",
    "Frogger\t(Arcade)\n",
    "Kung Fu\t(NES)\n",
    "Asteroids\t(Arcade)\n",
    "Joust\t(Arcade)\n",
    "Gun.Smoke\t(NES)\n",
    "Combat\t(Atari)\n",
    "Spy Hunter\t(NES)\n",
    "Gauntlet\t(Arcade)\n",
    "1942\t(Arcade)\n",
    "\t\n",
    "Double Dragon\t(NES)\n",
    "Altered Beast\t(Arcade)\n",
    "River City Ransom\t(NES)\n",
    "Prince of Persia\t(PC)\n"
   ]
  },
  {
   "cell_type": "code",
   "execution_count": 2,
   "metadata": {},
   "outputs": [
    {
     "data": {
      "text/plain": [
       "((1797, 64), (1797,))"
      ]
     },
     "execution_count": 2,
     "metadata": {},
     "output_type": "execute_result"
    }
   ],
   "source": [
    "data, labels = load_digits(return_X_y=True)\n",
    "data.shape, labels.shape"
   ]
  },
  {
   "cell_type": "code",
   "execution_count": 3,
   "metadata": {},
   "outputs": [
    {
     "data": {
      "text/plain": [
       "((1257, 64), (1257,), (540, 64), (540,))"
      ]
     },
     "execution_count": 3,
     "metadata": {},
     "output_type": "execute_result"
    }
   ],
   "source": [
    "train_data, test_data, train_labels, test_labels = train_test_split(data, labels, test_size=0.3, shuffle=True, random_state=0)\n",
    "train_data.shape, train_labels.shape, test_data.shape, test_labels.shape"
   ]
  },
  {
   "cell_type": "code",
   "execution_count": 4,
   "metadata": {},
   "outputs": [],
   "source": [
    "def accuracy(pred, real):\n",
    "    return np.sum( pred == real )/pred.size"
   ]
  },
  {
   "cell_type": "markdown",
   "metadata": {},
   "source": [
    "# First Experiment"
   ]
  },
  {
   "cell_type": "code",
   "execution_count": 5,
   "metadata": {},
   "outputs": [],
   "source": [
    "model_gauss = GaussianNB()\n",
    "model_regression = LogisticRegression()\n",
    "model_tree = DecisionTreeClassifier()\n",
    "\n",
    "values = dict()\n",
    "cf_matrices = dict()"
   ]
  },
  {
   "cell_type": "markdown",
   "metadata": {},
   "source": [
    "### Gauss model"
   ]
  },
  {
   "cell_type": "code",
   "execution_count": 6,
   "metadata": {},
   "outputs": [
    {
     "name": "stdout",
     "output_type": "stream",
     "text": [
      "Accuracy: 0.8240740740740741  Macro-F1: 0.8241827842292786\n"
     ]
    }
   ],
   "source": [
    "model_gauss.fit(train_data, train_labels)\n",
    "pred_labels = model_gauss.predict(test_data)\n",
    "acc = accuracy(pred_labels, test_labels)\n",
    "f1 = f1_score(pred_labels,test_labels,average='macro')\n",
    "cf_matrices['Gauss'] = confusion_matrix(pred_labels,test_labels)\n",
    "values['Gauss'] = {'Acc':acc, 'Macro-f1':f1}\n",
    "print(f'Accuracy: {acc}  Macro-F1: {f1}')"
   ]
  },
  {
   "cell_type": "markdown",
   "metadata": {},
   "source": [
    "### Logistic Regression model"
   ]
  },
  {
   "cell_type": "code",
   "execution_count": 7,
   "metadata": {},
   "outputs": [
    {
     "name": "stdout",
     "output_type": "stream",
     "text": [
      "Accuracy: 0.9537037037037037  Macro-F1: 0.955208755711063\n"
     ]
    }
   ],
   "source": [
    "with warnings.catch_warnings():\n",
    "    warnings.filterwarnings(\"ignore\", category=ConvergenceWarning)\n",
    "    model_regression.fit(train_data, train_labels)\n",
    "pred_labels = model_regression.predict(test_data)\n",
    "acc = accuracy(pred_labels, test_labels)\n",
    "f1 = f1_score(pred_labels,test_labels,average='macro')\n",
    "cf_matrices['Logistic-regression'] = confusion_matrix(pred_labels,test_labels)\n",
    "values['Logistic-regression'] = {'Acc':acc, 'Macro-f1':f1}\n",
    "print(f'Accuracy: {acc}  Macro-F1: {f1}')"
   ]
  },
  {
   "cell_type": "markdown",
   "metadata": {},
   "source": [
    "### Decision Tree model"
   ]
  },
  {
   "cell_type": "code",
   "execution_count": 8,
   "metadata": {},
   "outputs": [
    {
     "name": "stdout",
     "output_type": "stream",
     "text": [
      "Accuracy: 0.85  Macro-F1: 0.8518560931985416\n"
     ]
    }
   ],
   "source": [
    "model_tree.fit(train_data, train_labels)\n",
    "pred_labels = model_tree.predict(test_data)\n",
    "acc = accuracy(pred_labels, test_labels)\n",
    "f1 = f1_score(pred_labels,test_labels,average='macro')\n",
    "cf_matrices['Decision-Tree'] = confusion_matrix(pred_labels,test_labels)\n",
    "values['Decision-Tree'] = {'Acc':acc, 'Macro-f1':f1}\n",
    "print(f'Accuracy: {acc}  Macro-F1: {f1}')"
   ]
  },
  {
   "cell_type": "code",
   "execution_count": 9,
   "metadata": {},
   "outputs": [
    {
     "data": {
      "text/html": [
       "<div>\n",
       "<style scoped>\n",
       "    .dataframe tbody tr th:only-of-type {\n",
       "        vertical-align: middle;\n",
       "    }\n",
       "\n",
       "    .dataframe tbody tr th {\n",
       "        vertical-align: top;\n",
       "    }\n",
       "\n",
       "    .dataframe thead th {\n",
       "        text-align: right;\n",
       "    }\n",
       "</style>\n",
       "<table border=\"1\" class=\"dataframe\">\n",
       "  <thead>\n",
       "    <tr style=\"text-align: right;\">\n",
       "      <th></th>\n",
       "      <th>Gauss</th>\n",
       "      <th>Logistic-regression</th>\n",
       "      <th>Decision-Tree</th>\n",
       "    </tr>\n",
       "  </thead>\n",
       "  <tbody>\n",
       "    <tr>\n",
       "      <th>Acc</th>\n",
       "      <td>0.824074</td>\n",
       "      <td>0.953704</td>\n",
       "      <td>0.850000</td>\n",
       "    </tr>\n",
       "    <tr>\n",
       "      <th>Macro-f1</th>\n",
       "      <td>0.824183</td>\n",
       "      <td>0.955209</td>\n",
       "      <td>0.851856</td>\n",
       "    </tr>\n",
       "  </tbody>\n",
       "</table>\n",
       "</div>"
      ],
      "text/plain": [
       "             Gauss  Logistic-regression  Decision-Tree\n",
       "Acc       0.824074             0.953704       0.850000\n",
       "Macro-f1  0.824183             0.955209       0.851856"
      ]
     },
     "execution_count": 9,
     "metadata": {},
     "output_type": "execute_result"
    }
   ],
   "source": [
    "df_metrics = pd.DataFrame(values)\n",
    "df_metrics"
   ]
  },
  {
   "cell_type": "code",
   "execution_count": 10,
   "metadata": {},
   "outputs": [
    {
     "data": {
      "text/plain": [
       "<AxesSubplot:>"
      ]
     },
     "execution_count": 10,
     "metadata": {},
     "output_type": "execute_result"
    },
    {
     "data": {
      "image/png": "[encoded data removed]",
      "text/plain": [
       "<Figure size 432x288 with 2 Axes>"
      ]
     },
     "metadata": {
      "needs_background": "light"
     },
     "output_type": "display_data"
    }
   ],
   "source": [
    "sb.heatmap(df_metrics, annot=True, vmin=0, vmax=1)"
   ]
  },
  {
   "cell_type": "code",
   "execution_count": 11,
   "metadata": {},
   "outputs": [
    {
     "data": {
      "image/png": "[encoded data removed]",
      "text/plain": [
       "<Figure size 432x864 with 6 Axes>"
      ]
     },
     "metadata": {
      "needs_background": "light"
     },
     "output_type": "display_data"
    }
   ],
   "source": [
    "fig, axs = plt.subplots(3, figsize=(6,12))\n",
    "for i, key in enumerate(cf_matrices.keys()):\n",
    "    sb.heatmap(cf_matrices[key], annot=True, ax=axs[i])\n",
    "    axs[i].set_title(key)"
   ]
  },
  {
   "cell_type": "markdown",
   "metadata": {},
   "source": [
    "# Second Experiment"
   ]
  },
  {
   "cell_type": "code",
   "execution_count": 12,
   "metadata": {},
   "outputs": [],
   "source": [
    "kf = KFold(n_splits=30, random_state=0, shuffle=True)\n",
    "values = dict()\n",
    "for i, (train_idx, test_idx) in enumerate(kf.split(data)):\n",
    "    with warnings.catch_warnings():\n",
    "        warnings.filterwarnings(\"ignore\", category=ConvergenceWarning)\n",
    "        train_data, train_labels = data[train_idx,:], labels[train_idx]\n",
    "        test_data, test_labels = data[test_idx,:], labels[test_idx]\n",
    "        model_gauss, model_regression, model_tree = GaussianNB(), LogisticRegression(), DecisionTreeClassifier()\n",
    "        model_gauss.fit(train_data, train_labels)\n",
    "        model_regression.fit(train_data, train_labels)\n",
    "        model_tree.fit(train_data, train_labels)\n",
    "        values[f'It {i+1}'] = {\n",
    "            'Gauss': f1_score( model_gauss.predict(test_data) ,test_labels,average='macro'),\n",
    "            'LogisticRegression': f1_score( model_regression.predict(test_data) ,test_labels,average='macro'),\n",
    "            'DecisionTree': f1_score( model_tree.predict(test_data) ,test_labels,average='macro')\n",
    "        }"
   ]
  },
  {
   "cell_type": "code",
   "execution_count": 13,
   "metadata": {},
   "outputs": [
    {
     "data": {
      "text/html": [
       "<div>\n",
       "<style scoped>\n",
       "    .dataframe tbody tr th:only-of-type {\n",
       "        vertical-align: middle;\n",
       "    }\n",
       "\n",
       "    .dataframe tbody tr th {\n",
       "        vertical-align: top;\n",
       "    }\n",
       "\n",
       "    .dataframe thead th {\n",
       "        text-align: right;\n",
       "    }\n",
       "</style>\n",
       "<table border=\"1\" class=\"dataframe\">\n",
       "  <thead>\n",
       "    <tr style=\"text-align: right;\">\n",
       "      <th></th>\n",
       "      <th>Gauss</th>\n",
       "      <th>LogisticRegression</th>\n",
       "      <th>DecisionTree</th>\n",
       "    </tr>\n",
       "  </thead>\n",
       "  <tbody>\n",
       "    <tr>\n",
       "      <th>It 1</th>\n",
       "      <td>0.941424</td>\n",
       "      <td>1.000000</td>\n",
       "      <td>0.888663</td>\n",
       "    </tr>\n",
       "    <tr>\n",
       "      <th>It 2</th>\n",
       "      <td>0.816835</td>\n",
       "      <td>0.940955</td>\n",
       "      <td>0.833409</td>\n",
       "    </tr>\n",
       "    <tr>\n",
       "      <th>It 3</th>\n",
       "      <td>0.713413</td>\n",
       "      <td>0.965959</td>\n",
       "      <td>0.893598</td>\n",
       "    </tr>\n",
       "    <tr>\n",
       "      <th>It 4</th>\n",
       "      <td>0.806752</td>\n",
       "      <td>0.946911</td>\n",
       "      <td>0.838388</td>\n",
       "    </tr>\n",
       "    <tr>\n",
       "      <th>It 5</th>\n",
       "      <td>0.814630</td>\n",
       "      <td>1.000000</td>\n",
       "      <td>0.859679</td>\n",
       "    </tr>\n",
       "  </tbody>\n",
       "</table>\n",
       "</div>"
      ],
      "text/plain": [
       "         Gauss  LogisticRegression  DecisionTree\n",
       "It 1  0.941424            1.000000      0.888663\n",
       "It 2  0.816835            0.940955      0.833409\n",
       "It 3  0.713413            0.965959      0.893598\n",
       "It 4  0.806752            0.946911      0.838388\n",
       "It 5  0.814630            1.000000      0.859679"
      ]
     },
     "execution_count": 13,
     "metadata": {},
     "output_type": "execute_result"
    }
   ],
   "source": [
    "df_f1 = pd.DataFrame(values)\n",
    "df_f1 = df_f1.T\n",
    "df_f1.head()"
   ]
  },
  {
   "cell_type": "code",
   "execution_count": 14,
   "metadata": {},
   "outputs": [
    {
     "data": {
      "text/html": [
       "<div>\n",
       "<style scoped>\n",
       "    .dataframe tbody tr th:only-of-type {\n",
       "        vertical-align: middle;\n",
       "    }\n",
       "\n",
       "    .dataframe tbody tr th {\n",
       "        vertical-align: top;\n",
       "    }\n",
       "\n",
       "    .dataframe thead th {\n",
       "        text-align: right;\n",
       "    }\n",
       "</style>\n",
       "<table border=\"1\" class=\"dataframe\">\n",
       "  <thead>\n",
       "    <tr style=\"text-align: right;\">\n",
       "      <th></th>\n",
       "      <th>Gauss</th>\n",
       "      <th>LogisticRegression</th>\n",
       "      <th>DecisionTree</th>\n",
       "    </tr>\n",
       "  </thead>\n",
       "  <tbody>\n",
       "    <tr>\n",
       "      <th>count</th>\n",
       "      <td>30.000000</td>\n",
       "      <td>30.000000</td>\n",
       "      <td>30.000000</td>\n",
       "    </tr>\n",
       "    <tr>\n",
       "      <th>mean</th>\n",
       "      <td>0.833999</td>\n",
       "      <td>0.959923</td>\n",
       "      <td>0.858934</td>\n",
       "    </tr>\n",
       "    <tr>\n",
       "      <th>std</th>\n",
       "      <td>0.049738</td>\n",
       "      <td>0.022879</td>\n",
       "      <td>0.033853</td>\n",
       "    </tr>\n",
       "    <tr>\n",
       "      <th>min</th>\n",
       "      <td>0.713413</td>\n",
       "      <td>0.917893</td>\n",
       "      <td>0.794199</td>\n",
       "    </tr>\n",
       "    <tr>\n",
       "      <th>25%</th>\n",
       "      <td>0.793210</td>\n",
       "      <td>0.945981</td>\n",
       "      <td>0.834828</td>\n",
       "    </tr>\n",
       "    <tr>\n",
       "      <th>50%</th>\n",
       "      <td>0.840605</td>\n",
       "      <td>0.955977</td>\n",
       "      <td>0.859050</td>\n",
       "    </tr>\n",
       "    <tr>\n",
       "      <th>75%</th>\n",
       "      <td>0.865529</td>\n",
       "      <td>0.975195</td>\n",
       "      <td>0.877972</td>\n",
       "    </tr>\n",
       "    <tr>\n",
       "      <th>max</th>\n",
       "      <td>0.941424</td>\n",
       "      <td>1.000000</td>\n",
       "      <td>0.928904</td>\n",
       "    </tr>\n",
       "  </tbody>\n",
       "</table>\n",
       "</div>"
      ],
      "text/plain": [
       "           Gauss  LogisticRegression  DecisionTree\n",
       "count  30.000000           30.000000     30.000000\n",
       "mean    0.833999            0.959923      0.858934\n",
       "std     0.049738            0.022879      0.033853\n",
       "min     0.713413            0.917893      0.794199\n",
       "25%     0.793210            0.945981      0.834828\n",
       "50%     0.840605            0.955977      0.859050\n",
       "75%     0.865529            0.975195      0.877972\n",
       "max     0.941424            1.000000      0.928904"
      ]
     },
     "execution_count": 14,
     "metadata": {},
     "output_type": "execute_result"
    }
   ],
   "source": [
    "index = ['count', 'mean', 'std', 'min', '25%', '50%', '75%', 'max']\n",
    "columns = df_f1.columns\n",
    "nDatos = len(columns)\n",
    "nStats = len(index)\n",
    "values = np.zeros((nDatos, nStats))\n",
    "for i,column in enumerate(columns):\n",
    "    values[i] = df_f1[column].describe().to_numpy()\n",
    "values = values.T\n",
    "df_stats = pd.DataFrame(values, index=index, columns=columns)\n",
    "df_stats"
   ]
  },
  {
   "cell_type": "code",
   "execution_count": 41,
   "metadata": {},
   "outputs": [
    {
     "data": {
      "image/png": "[encoded data removed]",
      "text/plain": [
       "<Figure size 720x360 with 3 Axes>"
      ]
     },
     "metadata": {
      "needs_background": "light"
     },
     "output_type": "display_data"
    }
   ],
   "source": [
    "with warnings.catch_warnings():\n",
    "        warnings.filterwarnings(\"ignore\", category=FutureWarning)\n",
    "        fig, axs = plt.subplots(3, figsize=(10,5)) \n",
    "        for i, key in enumerate(df_f1.columns):\n",
    "                sb.boxplot(df_f1[key], ax=axs[i])\n",
    "                # axs[i].set_title(key)\n",
    "        for i, key in enumerate(df_f1.columns):\n",
    "                axs[i].set_xlim([0.7,1.0])\n",
    "fig.tight_layout(pad=0.5)\n",
    "plt.show()"
   ]
  },
  {
   "cell_type": "markdown",
   "metadata": {},
   "source": [
    "# Conclusions\n",
    "\n",
    "By the results, we can conclude that the Logistic Regression model is more constant and provides better results than the other 2 models.\n",
    "\n",
    "In both experiments, this model shows a better perfomance being more constant than the others, and always reaching higher metrics.\n",
    "\n",
    "Looking at the results, Gaussian and TreeDecision models showed almost the same performance, as their metrics values always being between 0.9 and 0.75, with a few exceptions. \n",
    "\n",
    "At the confussion matrices, we can see that Gaussian model was who struggle the most, as it struggles a lot when classifing 9 and 2. The other two models seems to work better but with Logistic Regression having better results.\n",
    "\n",
    "<table border=\"1\" class=\"dataframe\">  <thead>    <tr style=\"text-align: right;\">      <th></th>      <th>Gauss</th>      <th>LogisticRegression</th>      <th>DecisionTree</th>    </tr>  </thead>  <tbody>    <tr>      <th>count</th>      <td>30.000000</td>      <td>30.000000</td>      <td>30.000000</td>    </tr>    <tr>      <th>mean</th>      <td>0.833999</td>      <td>0.959923</td>      <td>0.849276</td>    </tr>    <tr>      <th>std</th>      <td>0.049738</td>      <td>0.022879</td>      <td>0.038216</td>    </tr>    <tr>      <th>min</th>      <td>0.713413</td>      <td>0.917893</td>      <td>0.737611</td>    </tr>    <tr>      <th>25%</th>      <td>0.793210</td>      <td>0.945981</td>      <td>0.824747</td>    </tr>    <tr>      <th>50%</th>      <td>0.840605</td>      <td>0.955977</td>      <td>0.851650</td>    </tr>    <tr>      <th>75%</th>      <td>0.865529</td>      <td>0.975195</td>      <td>0.876353</td>    </tr>    <tr>      <th>max</th>      <td>0.941424</td>      <td>1.000000</td>      <td>0.912159</td>    </tr>  </tbody></table>\n",
    "\n",
    "We can see that the distribution of the values is better in the Logistic method. The mean is higher, and even the min value is higher that most of the values on the other models."
   ]
  }
 ],
 "metadata": {
  "interpreter": {
   "hash": "e894deadfd4b30d448a9bc52e207157e775da87da9484ede22f806dbadb00fe3"
  },
  "kernelspec": {
   "display_name": "Python 3.8.0 64-bit",
   "language": "python",
   "name": "python3"
  },
  "language_info": {
   "codemirror_mode": {
    "name": "ipython",
    "version": 3
   },
   "file_extension": ".py",
   "mimetype": "text/x-python",
   "name": "python",
   "nbconvert_exporter": "python",
   "pygments_lexer": "ipython3",
   "version": "3.8.0"
  },
  "orig_nbformat": 4
 },
 "nbformat": 4,
 "nbformat_minor": 2
}
