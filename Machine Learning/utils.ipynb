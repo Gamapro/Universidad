{
 "cells": [
  {
   "cell_type": "code",
   "execution_count": null,
   "metadata": {},
   "outputs": [],
   "source": [
    "import numpy as np"
   ]
  },
  {
   "cell_type": "markdown",
   "metadata": {},
   "source": [
    "$ H(X) = -\\sum_x P(x) log_2 P(x) $ \n",
    "\n",
    "$ IM(X, Y) = \\sum_x \\sum_y P(x,y) log_2 \\frac{P(x,y)}{P(y)} $ "
   ]
  },
  {
   "cell_type": "code",
   "execution_count": null,
   "metadata": {},
   "outputs": [],
   "source": [
    "def entropia(H):\n",
    "    h = 0\n",
    "    cat, cont = np.unique(H, return_counts=True)\n",
    "    total = len(H)\n",
    "    PX = cont/total\n",
    "    h = -np.sum( PX * np.log2(PX) )\n",
    "\n",
    "    n_cat = len(cat)\n",
    "    hmax = -np.log2(1/n_cat)\n",
    "\n",
    "    return h, hmax\n"
   ]
  }
 ],
 "metadata": {
  "language_info": {
   "name": "python"
  },
  "orig_nbformat": 4
 },
 "nbformat": 4,
 "nbformat_minor": 2
}
