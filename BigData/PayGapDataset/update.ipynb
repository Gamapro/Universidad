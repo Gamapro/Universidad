{
 "cells": [
  {
   "attachments": {},
   "cell_type": "markdown",
   "metadata": {},
   "source": [
    "## Dataset (https://www.kaggle.com/datasets/fedesoriano/gender-pay-gap-dataset?select=CurrentPopulationSurvey.csv)"
   ]
  },
  {
   "cell_type": "code",
   "execution_count": 1,
   "metadata": {},
   "outputs": [],
   "source": [
    "import numpy as np\n",
    "import pandas as pd\n",
    "import os"
   ]
  },
  {
   "cell_type": "code",
   "execution_count": 2,
   "metadata": {},
   "outputs": [],
   "source": [
    "# df = pd.read_csv('CurrentPopulationSurvey.csv')\n",
    "# df.to_csv('CurrentPopulationSurvey_BACKUP.csv', index=False)"
   ]
  },
  {
   "cell_type": "code",
   "execution_count": 3,
   "metadata": {},
   "outputs": [
    {
     "data": {
      "text/plain": [
       "Index(['Year', 'Serial_number', 'Household', 'Quarters status', 'Region',\n",
       "       'FIPS code', 'County', 'Month', 'Supplement Weight', 'Relationship',\n",
       "       'Age', 'Gender', 'Race', 'Marital status', 'Birthplace',\n",
       "       'Year of immigration', 'Citizenship status', 'Foreign birthplace',\n",
       "       'Hispanic', 'Educational attainment recode', 'Employment status',\n",
       "       'Occupation', 'Industry', 'Class of worker', 'Weeks worked',\n",
       "       'Hours worked', 'Union', 'Wage', 'Earnings from other work',\n",
       "       'Family Type', 'White', 'Black', 'Hispanic.1', 'Other Race',\n",
       "       'Self Employed', 'Annual work hours', 'Full time', 'Hourly Wage',\n",
       "       'Inflation Rate', 'basesamp', 'wagesamp', 'northeast', 'northcentral',\n",
       "       'south', 'west', 'female', 'adj_occ2name', 'Agriculture',\n",
       "       'miningconstruction', 'durables', 'nondurables', 'Transport',\n",
       "       'Utilities', 'Communications', 'retailtrade', 'wholesaletrade',\n",
       "       'finance', 'SocArtOther', 'hotelsrestaurants', 'Medical', 'Education',\n",
       "       'professional', 'publicadmin', 'manager', 'business', 'financialop',\n",
       "       'computer', 'architect', 'scientist', 'socialworker', 'postseceduc',\n",
       "       'legaleduc', 'artist', 'lawyerphysician', 'healthcare', 'healthsupport',\n",
       "       'protective', 'foodcare', 'building', 'sales', 'officeadmin', 'farmer',\n",
       "       'constructextractinstall', 'production', 'transport',\n",
       "       'Less than or equal to high school'],\n",
       "      dtype='object')"
      ]
     },
     "execution_count": 3,
     "metadata": {},
     "output_type": "execute_result"
    }
   ],
   "source": [
    "df = pd.read_csv('CurrentPopulationSurvey.csv')\n",
    "df.columns"
   ]
  },
  {
   "cell_type": "code",
   "execution_count": 4,
   "metadata": {},
   "outputs": [
    {
     "data": {
      "text/plain": [
       "(array([1981, 1990, 1999, 2007, 2009, 2011, 2013], dtype=int64), (7,))"
      ]
     },
     "execution_count": 4,
     "metadata": {},
     "output_type": "execute_result"
    }
   ],
   "source": [
    "years = np.unique(df['Year'])\n",
    "years, years.shape"
   ]
  },
  {
   "cell_type": "code",
   "execution_count": 5,
   "metadata": {},
   "outputs": [],
   "source": [
    "df = df.sample(frac=1).reset_index(drop=True)"
   ]
  },
  {
   "cell_type": "code",
   "execution_count": 6,
   "metadata": {},
   "outputs": [],
   "source": [
    "if not os.path.exists('ByYear'):\n",
    "    os.makedirs('ByYear')\n",
    "\n",
    "for year in years:\n",
    "    df_year = df[df['Year'] == year] \n",
    "    # print(np.unique(df_year['Gender'],return_counts=True))\n",
    "    df_year.to_csv('ByYear/' + str(year) + 'GenderPayGap.csv', index=False)"
   ]
  },
  {
   "cell_type": "code",
   "execution_count": 18,
   "metadata": {},
   "outputs": [
    {
     "name": "stdout",
     "output_type": "stream",
     "text": [
      "0         1\n",
      "1         1\n",
      "2         1\n",
      "3         1\n",
      "4         1\n",
      "         ..\n",
      "344282    1\n",
      "344283    1\n",
      "344284    1\n",
      "344285    1\n",
      "344286    1\n",
      "Length: 344287, dtype: int64\n",
      "1 1\n"
     ]
    }
   ],
   "source": [
    "# set the sum from values on \n",
    "\n",
    "columnsss = [\n",
    "    \n",
    "    'Agriculture',\n",
    "    'miningconstruction', 'durables', 'nondurables', 'Transport',\n",
    "    'Utilities', 'Communications', 'retailtrade', 'wholesaletrade',\n",
    "    'finance', 'SocArtOther', 'hotelsrestaurants', 'Medical', 'Education',\n",
    "    'professional', 'publicadmin',\n",
    "\n",
    "]\n",
    "\n",
    "columns2= [\n",
    "        'manager', 'business', 'financialop',\n",
    "       'computer', 'architect', 'scientist', 'socialworker', 'postseceduc',\n",
    "       'legaleduc', 'artist', 'lawyerphysician', 'healthcare', 'healthsupport',\n",
    "       'protective', 'foodcare', 'building', 'sales', 'officeadmin', 'farmer',\n",
    "       'constructextractinstall', 'production', 'transport']\n",
    "\n",
    "\n",
    "suma = df[columnsss].sum(axis=1)\n",
    "\n",
    "print(suma)\n",
    "print(np.max(suma), np.min(suma))\n"
   ]
  },
  {
   "cell_type": "code",
   "execution_count": 8,
   "metadata": {},
   "outputs": [
    {
     "data": {
      "text/plain": [
       "1.3419401249997354"
      ]
     },
     "execution_count": 8,
     "metadata": {},
     "output_type": "execute_result"
    }
   ],
   "source": [
    "# https://www.usinflationcalculator.com/inflation/current-inflation-rates/\n",
    "\n",
    "arr = {\n",
    "    2022: [7.5, 7.9, 8.5, 8.3, 8.6, 9.1, 8.5, 8.3, 8.2, 7.7, 7.1, 6.5, 8.0],\n",
    "    2021: [1.4, 1.7, 2.6, 4.2, 5.0, 5.4, 5.4, 5.3, 5.4, 6.2, 6.8, 7.0, 4.7],\n",
    "    2020: [2.5, 2.3, 1.5, 0.3, 0.1, 0.6, 1.0, 1.3, 1.4, 1.2, 1.2, 1.4, 1.2],\n",
    "    2019: [1.6, 1.5, 1.9, 2.0, 1.8, 1.6, 1.8, 1.7, 1.7, 1.8, 2.1, 2.3, 1.8],\n",
    "    2018: [2.1, 2.2, 2.4, 2.5, 2.8, 2.9, 2.9, 2.7, 2.3, 2.5, 2.2, 1.9, 2.4],\n",
    "    2017: [2.5, 2.7, 2.4, 2.2, 1.9, 1.6, 1.7, 1.9, 2.2, 2.0, 2.2, 2.1, 2.1],\n",
    "    2016: [1.4, 1.0, 0.9, 1.1, 1.0, 1.0, 0.8, 1.1, 1.5, 1.6, 1.7, 2.1, 1.3],\n",
    "    2015: [-0.1, 0.0, -0.1, -0.2, 0.0, 0.1, 0.2, 0.2, 0.0, 0.2, 0.5, 0.7, 0.1],\n",
    "    2014: [1.6, 1.1, 1.5, 2.0, 2.1, 2.1, 2.0, 1.7, 1.7, 1.7, 1.3, 0.8, 1.6],\n",
    "    2013: [1.6, 2.0, 1.5, 1.1, 1.4, 1.8, 2.0, 1.5, 1.2, 1.0, 1.2, 1.5, 1.5],\n",
    "    2012: [2.9, 2.9, 2.7, 2.3, 1.7, 1.7, 1.4, 1.7, 2.0, 2.2, 1.8, 1.7, 2.1],\n",
    "    2011: [1.6, 2.1, 2.7, 3.2, 3.6, 3.6, 3.6, 3.8, 3.9, 3.5, 3.4, 3.0, 3.2],\n",
    "}\n",
    "\n",
    "inflation_rate = 1.0\n",
    "\n",
    "for year in arr:\n",
    "    inflation_rate *= (1.0 + (arr[year][12])/100.0)\n",
    "\n",
    "inflation_rate"
   ]
  }
 ],
 "metadata": {
  "kernelspec": {
   "display_name": "Python 3",
   "language": "python",
   "name": "python3"
  },
  "language_info": {
   "codemirror_mode": {
    "name": "ipython",
    "version": 3
   },
   "file_extension": ".py",
   "mimetype": "text/x-python",
   "name": "python",
   "nbconvert_exporter": "python",
   "pygments_lexer": "ipython3",
   "version": "3.9.13"
  },
  "orig_nbformat": 4,
  "vscode": {
   "interpreter": {
    "hash": "d36eb4ffb1b509eac7c8ec69a0f00740540681bdf210a10d1e2607102c088e08"
   }
  }
 },
 "nbformat": 4,
 "nbformat_minor": 2
}
