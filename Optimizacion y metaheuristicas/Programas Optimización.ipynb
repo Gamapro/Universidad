{
 "cells": [
  {
   "cell_type": "markdown",
   "source": [
    "## David Gamaliel Arcos Bravo\r\n",
    "### Programas Optimización y Metaheurísticas 1er Parcial"
   ],
   "metadata": {}
  },
  {
   "cell_type": "markdown",
   "source": [
    "## Librerias"
   ],
   "metadata": {}
  },
  {
   "cell_type": "code",
   "execution_count": 22,
   "source": [
    "from random import random\r\n",
    "import numpy as np\r\n",
    "import matplotlib.pyplot as plt"
   ],
   "outputs": [],
   "metadata": {}
  },
  {
   "cell_type": "markdown",
   "source": [
    "## Gráfica 2D"
   ],
   "metadata": {}
  },
  {
   "cell_type": "code",
   "execution_count": 55,
   "source": [
    "def grafica2D():\r\n",
    "    n = 100\r\n",
    "    X = np.linspace(-4,4,n)\r\n",
    "    Y = np.linspace(-4,4,n)\r\n",
    "    Z = np.zeros((n,n))\r\n",
    "    for ix,x in enumerate(X):\r\n",
    "        for iy,y in enumerate(Y):\r\n",
    "            Z[ix,iy] = funcion((x,y))\r\n",
    "    plt.contourf(X,Y,Z,10)\r\n",
    "    plt.colorbar()\r\n",
    "    plt.show()\r\n",
    "    return\r\n",
    "grafica2D()"
   ],
   "outputs": [
    {
     "output_type": "display_data",
     "data": {
      "image/png": "[encoded data removed]",
      "text/plain": [
       "<Figure size 432x288 with 2 Axes>"
      ]
     },
     "metadata": {
      "needs_background": "light"
     }
    }
   ],
   "metadata": {}
  },
  {
   "cell_type": "markdown",
   "source": [
    "## Funcion y Variables"
   ],
   "metadata": {}
  },
  {
   "cell_type": "code",
   "execution_count": 70,
   "source": [
    "f = lambda x : ((x[0]**4 - 16*x[0]**2 + 5*x[0]) + (x[1]**4 - 16*x[1]**2 + 5*x[1]))/2 \r\n",
    "\r\n",
    "def funcion(variables):\r\n",
    "    x1, x2 = variables\r\n",
    "    return ((x1**4 - 16*x1**2 + 5*x1) + (x2**4 - 16*x2**2 + 5*x2))/2\r\n",
    "\r\n",
    "x0 = (4,4)\r\n",
    "K = 500"
   ],
   "outputs": [],
   "metadata": {}
  },
  {
   "cell_type": "markdown",
   "source": [
    "## Búsqueda Aleatoria Simple"
   ],
   "metadata": {}
  },
  {
   "cell_type": "code",
   "execution_count": 51,
   "source": [
    "def BusquedaAleatoriaSimple(K=100,dim=2,des=1.5):\r\n",
    "    # Crear vector inicial de forma aleatoria\r\n",
    "    v = np.array(dim)\r\n",
    "    for _ in range(dim):\r\n",
    "        v[_] = random(0,2)\r\n",
    "    # Repetir K veces\r\n",
    "    for _ in range(K):\r\n",
    "        # Generar otro vector independiente aleatorio\r\n",
    "        dk = np.copy(v)\r\n",
    "        for _ in range(dim):\r\n",
    "            dk[_] = random(0,2)\r\n",
    "        # Sumar anterior con aleatorio\r\n",
    "        nuevo = np.add(dk,v)\r\n",
    "        if f(nuevo) < f(v):\r\n",
    "            v = np.copy(nuevo)\r\n",
    "    return v"
   ],
   "outputs": [],
   "metadata": {}
  },
  {
   "cell_type": "markdown",
   "source": [
    "## Búsqueda Aleatoria Localizada"
   ],
   "metadata": {}
  },
  {
   "cell_type": "code",
   "execution_count": 50,
   "source": [
    "def BusquedaAleatoriaLocalizada(K=100,dim=2,des=1.5):\r\n",
    "    # Crear vector inicial de forma aleatoria\r\n",
    "    v = np.array(dim)\r\n",
    "    for _ in range(dim):\r\n",
    "        v[_] = random()\r\n",
    "    # Repetir K veces\r\n",
    "    for _ in range(K):\r\n",
    "        # Generar otro vector independiente aleatorio\r\n",
    "        dk = np.copy(v)\r\n",
    "        for _ in range(dim):\r\n",
    "            dk[_] = np.random.normal(0,des)\r\n",
    "        # Sumar anterior con aleatorio\r\n",
    "        nuevo = np.add(dk,v)\r\n",
    "        if f(nuevo) < f(v):\r\n",
    "            v = np.copy(nuevo)\r\n",
    "    return v"
   ],
   "outputs": [],
   "metadata": {}
  },
  {
   "cell_type": "markdown",
   "source": [
    "## Búsqueda de mínimos por intervalos"
   ],
   "metadata": {}
  },
  {
   "cell_type": "code",
   "execution_count": 104,
   "source": [
    "def BusquedaMinimosIntervalos(eps=1e-6,step=(1.0,1.0),a=(-4.0,-4.0),k=1.01):\r\n",
    "    a = np.array(a,dtype=np.float32)\r\n",
    "    step = np.array(step, dtype=np.float32)\r\n",
    "    paro = False\r\n",
    "    b = np.add(a,step)\r\n",
    "    if f(b) > f(a):\r\n",
    "        a, b, step = b, a, -step\r\n",
    "    while not paro and abs(f(a)-f(b)) > eps:\r\n",
    "        c = b = np.add(b,step)\r\n",
    "        if f(c) > f(b) and a > c:\r\n",
    "            a, c = c, a\r\n",
    "            paro = True\r\n",
    "        a, b, step = b, c, step*k\r\n",
    "    print(b)\r\n",
    "    return a,c"
   ],
   "outputs": [],
   "metadata": {}
  }
 ],
 "metadata": {
  "kernelspec": {
   "display_name": "Python 3",
   "language": "python",
   "name": "python3"
  },
  "language_info": {
   "codemirror_mode": {
    "name": "ipython",
    "version": 3
   },
   "file_extension": ".py",
   "mimetype": "text/x-python",
   "name": "python",
   "nbconvert_exporter": "python",
   "pygments_lexer": "ipython3",
   "version": "3.9.2"
  }
 },
 "nbformat": 4,
 "nbformat_minor": 5
}