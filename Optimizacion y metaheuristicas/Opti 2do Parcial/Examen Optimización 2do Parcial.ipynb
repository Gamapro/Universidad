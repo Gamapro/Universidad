{
 "cells": [
  {
   "cell_type": "markdown",
   "id": "measured-pixel",
   "metadata": {},
   "source": [
    "## David Gamaliel Arcos Bravo\n",
    "### Examen Optimización y Metaheurísticas 2do Parcial"
   ]
  },
  {
   "cell_type": "markdown",
   "id": "simple-theme",
   "metadata": {},
   "source": [
    "## Librerias"
   ]
  },
  {
   "cell_type": "code",
   "execution_count": 15,
   "id": "specialized-angel",
   "metadata": {},
   "outputs": [],
   "source": [
    "from random import random, shuffle\n",
    "import numpy as np\n",
    "import matplotlib.pyplot as plt\n",
    "from matplotlib.animation import FuncAnimation, ArtistAnimation\n",
    "import matplotlib.gridspec as gridspec\n",
    "from IPython import display\n",
    "import sympy as sp\n",
    "import matplotlib._color_data as mcd"
   ]
  },
  {
   "cell_type": "markdown",
   "id": "designed-clear",
   "metadata": {},
   "source": [
    "## Objeto punto"
   ]
  },
  {
   "cell_type": "code",
   "execution_count": 2,
   "id": "ideal-fitness",
   "metadata": {},
   "outputs": [],
   "source": [
    "class Point:\n",
    "    \n",
    "    def __init__(self, x, y, id):\n",
    "        self.ID = id\n",
    "        self.X = x\n",
    "        self.Y = y\n",
    "\n",
    "    def __str__(self):\n",
    "        return \"Point(%s,%s,%s)\"%(self.ID,self.X, self.Y) \n",
    "\n",
    "    def distance(self, p):\n",
    "        dx = self.X - p.X\n",
    "        dy = self.Y - p.Y\n",
    "        return np.hypot(dx, dy)"
   ]
  },
  {
   "cell_type": "markdown",
   "id": "cardiac-dimension",
   "metadata": {},
   "source": [
    "## Save Files"
   ]
  },
  {
   "cell_type": "code",
   "execution_count": 3,
   "id": "mineral-monitoring",
   "metadata": {},
   "outputs": [],
   "source": [
    "def solToFile(value, dist, idx='best'):\n",
    "    f = open(f\"out-iteracion-{idx}.txt\", 'w')\n",
    "    \n",
    "    centros = [ dist[i][0].ID for i in range(len(dist))  ]\n",
    "    f.write(\"Centros: \"+str(centros)+'\\n\\n')\n",
    "    \n",
    "    sumas = [ 0 for _ in range(len(dist)) ]\n",
    "    for i in range(len(dist)):\n",
    "        pts = []\n",
    "        centro = dist[i][0]\n",
    "        for p in dist[i]:\n",
    "            sumas[i] += centro.distance(p)\n",
    "            pts.append(p.ID)\n",
    "        f.write(f\"Puntos centro {i+1}: \"+str(pts)+'\\n')\n",
    "    f.write('\\n')\n",
    "    \n",
    "    for i in range(len(dist)):\n",
    "        f.write(f\"Suma conjunto {i+1}: \"+str(sumas[i])+'\\n')\n",
    "    f.write('\\n')\n",
    "    \n",
    "    f.write(f\"Suma total : \"+str(value)+'\\n')\n",
    "    f.write('\\n')\n",
    "    \n",
    "    f.close()\n",
    "    return"
   ]
  },
  {
   "cell_type": "markdown",
   "id": "starting-alpha",
   "metadata": {},
   "source": [
    "## Recocido Simulado"
   ]
  },
  {
   "cell_type": "code",
   "execution_count": 1,
   "id": "prerequisite-rolling",
   "metadata": {},
   "outputs": [],
   "source": [
    "class RecocidoSimulado:\n",
    "    \n",
    "    def __init__(self, _n_centros=0, _n_puntos=0, _iteraciones=2000, _T_ini=2000, _T_minima = 0, _show=False):\n",
    "        self.it = _iteraciones\n",
    "        self.T_ini = _T_ini\n",
    "        self.T_minima = _T_minima\n",
    "        self.show = _show\n",
    "        self.n_centros = _n_centros\n",
    "        self.n_puntos = _n_puntos\n",
    "        self.pts = []\n",
    "        self.a = 1.0\n",
    "        self.b = 0.0\n",
    "        return\n",
    "    \n",
    "    def setProbabilities(self, _a=1.0, _b=0.0):\n",
    "        self.a = _a\n",
    "        self.b = _b\n",
    "        return\n",
    "    \n",
    "    ## Solo en el formato especifico del profe\n",
    "    def readDocument(self, fileName=\"hola.txt\"):\n",
    "        f = open(fileName, \"r\")\n",
    "        self.n_puntos, self.n_centros = map(int, f.readline().split())\n",
    "        f.readline()\n",
    "        for i in range(self.n_puntos):\n",
    "            _id, x, y = map(int, f.readline().split())\n",
    "            p = Point(x,y,_id)\n",
    "            self.pts.append(p)\n",
    "        f.close()\n",
    "        return\n",
    "    \n",
    "    def fObjetivo(self, sol):\n",
    "        total = 0\n",
    "        for i in range(self.n_centros):\n",
    "            if len(sol[i]) == 0: continue\n",
    "            centro = sol[i][0]\n",
    "            for p in sol[i]:\n",
    "                total += centro.distance(p)\n",
    "        return total\n",
    "    \n",
    "    def newTemp( self, Tmp):\n",
    "        lr_aum = 1.01\n",
    "        lr_dec = 0.99\n",
    "        # 15% de probabilidad de aumentar la temperatura\n",
    "        if np.random.uniform() < 0.1: Tmp = Tmp * lr_aum\n",
    "        # 85% de probabilidad de disminuir la temperatura\n",
    "        else:                          Tmp = Tmp * lr_dec\n",
    "        return Tmp\n",
    "    \n",
    "    def getRandomVector(self):\n",
    "        vec = [ [] for _ in range(self.n_centros) ]\n",
    "        pts = self.pts\n",
    "        shuffle(pts)\n",
    "        # Asignar puntos\n",
    "        for i, p in enumerate(pts[:self.n_centros]):\n",
    "            vec[i].append(p)\n",
    "        for p in pts[self.n_centros:]:\n",
    "            dist = vec[0][0].distance(p)\n",
    "            idx = 0\n",
    "            for i in range(len(vec)):\n",
    "                centro = vec[i][0]\n",
    "                if centro.distance(p) < dist: \n",
    "                    dist, idx = centro.distance(p), i\n",
    "            vec[idx].append(p)\n",
    "            \n",
    "        return vec\n",
    "    \n",
    "    def shuffleRandomCenter(self, vec, index = None):\n",
    "        for index in len(vec):\n",
    "            idx = 0\n",
    "            centro = vec[index][0]\n",
    "            ant = -1\n",
    "            for i, center in enumerate(vec[index]):\n",
    "                suma = 0\n",
    "                for p in vec[index]:\n",
    "                    suma += center.distance(p)\n",
    "                if ant == -1: ant = suma\n",
    "                elif suma < ant: \n",
    "                    ant, centro, idx = suma, center, i\n",
    "            vec[index][idx], vec[index][0] = vec[index][0], vec[index][idx]  \n",
    "        return vec\n",
    "    \n",
    "    def changeRandomPoint(self, vec):\n",
    "        index1 = np.random.randint(self.n_centros, size=1)[0]\n",
    "        while len(vec[index1]) < 2:\n",
    "            index1 = np.random.randint(self.n_centros, size=1)[0]\n",
    "        index2 = index1\n",
    "        while index2 == index1:\n",
    "            index2 = np.random.randint(self.n_centros, size=1)[0]\n",
    "        val = np.random.randint(len(vec[index1]), size=1)[0]\n",
    "        p = vec[index1].pop(val)\n",
    "        vec[index2].append(p)\n",
    "        return vec\n",
    "    \n",
    "    def run(self, show=False):\n",
    "        # Paso 0: Vector inicial; A cada operacion se le asigna la máquina que más le convenga\n",
    "        #Elegimos un vector solucion de manera aleatoria\n",
    "        distSol  = self.getRandomVector()\n",
    "        bestSol  = distSol\n",
    "        Temp = self.T_ini\n",
    "        \n",
    "        # Paso 4: Iterar hasta un maximo de iteraciones o alcanzar un valor minimo de T\n",
    "        for i in range(self.it):\n",
    "            if Temp < self.T_minima: break\n",
    "\n",
    "            # Paso 1: Generar vector propuesta\n",
    "            \n",
    "            prob = np.random.uniform()\n",
    "            # Propuesta 1: # Probar valores random\n",
    "            if prob <= self.a:               distPropuesta = self.getRandomVector()\n",
    "            # Propuesta 2: # cambiar centro\n",
    "            elif prob <= self.a + self.b:    distPropuesta = self.shuffleRandomCenter(distSol)\n",
    "            # Propuesta 3: # cambiar punto\n",
    "            else:                            distPropuesta = self.changeRandomPoint(distSol)\n",
    "\n",
    "            # Paso 2: Si f(xPropuesta) < f(xActual), definir xk+1 ← xActual. \n",
    "            # En caso contrario, si U(0, 1) < exp[(f(xActual) − f(xPropuesta))/T] definir xk+1 ← xPropuesta; si no xk+1 ← xActual.\n",
    "            fObjPropuesta = self.fObjetivo(distPropuesta)\n",
    "            fObjActual    = self.fObjetivo(distSol)\n",
    "            expValue = ( fObjActual - fObjPropuesta ) / Temp  \n",
    "\n",
    "            if fObjPropuesta <  fObjActual or np.random.uniform() < np.exp(expValue) :\n",
    "                distSol = distPropuesta\n",
    "        \n",
    "            if self.fObjetivo(distSol) < self.fObjetivo(bestSol):\n",
    "                bestSol = distSol\n",
    "        \n",
    "            if show: print(bestSol, \": \", self.fObjetivo(bestSol))\n",
    "        \n",
    "            # Paso 3: Enfriamento de la temperatura segun una funcion de enfriamiento\n",
    "            Temp = self.newTemp(Temp)\n",
    "            \n",
    "        # print(\"Dist: \",bestSol)  \n",
    "        print(\"Valor minimo\" , self.fObjetivo(bestSol))  \n",
    "        return bestSol, self.fObjetivo(bestSol)"
   ]
  },
  {
   "cell_type": "markdown",
   "id": "unusual-rouge",
   "metadata": {},
   "source": [
    "## Run"
   ]
  },
  {
   "cell_type": "code",
   "execution_count": 55,
   "id": "adjacent-translation",
   "metadata": {},
   "outputs": [],
   "source": [
    "values = []\n",
    "dists  = []\n",
    "rec = RecocidoSimulado()\n",
    "rec.readDocument(\"input-examen.txt\")"
   ]
  },
  {
   "cell_type": "markdown",
   "id": "micro-secretariat",
   "metadata": {},
   "source": [
    "### Probabilidades: \n",
    "### Random            = 100%\n",
    "### Cambiar centro =     0%\n",
    "### Swap puntos     =     0%\n",
    "### Iteraciones        =     10"
   ]
  },
  {
   "cell_type": "code",
   "execution_count": 68,
   "id": "future-fetish",
   "metadata": {},
   "outputs": [
    {
     "name": "stdout",
     "output_type": "stream",
     "text": [
      "Valor minimo 30986.522975398835\n",
      "Valor minimo 31332.68374067273\n",
      "Valor minimo 30859.414013357844\n",
      "Valor minimo 29185.279434974444\n",
      "Valor minimo 30798.98687098963\n",
      "Valor minimo 29888.472378449555\n",
      "Valor minimo 31043.975635098748\n",
      "Valor minimo 31252.677264922942\n",
      "Valor minimo 30971.234340318977\n",
      "Valor minimo 30219.837875478184\n"
     ]
    }
   ],
   "source": [
    "rec.setProbabilities(1.0, 0.0)\n",
    "for i in range(1,11):\n",
    "    dist, val = rec.run()\n",
    "    values.append(val)\n",
    "    dists.append(dist)\n",
    "    solToFile(val, dist, i)"
   ]
  },
  {
   "cell_type": "markdown",
   "id": "signal-selection",
   "metadata": {},
   "source": [
    "### Probabilidades: \n",
    "### Random            =   50%\n",
    "### Cambiar centro =   25%\n",
    "### Swap puntos     =   25%\n",
    "### Iteraciones        =   10"
   ]
  },
  {
   "cell_type": "code",
   "execution_count": 69,
   "id": "objective-bracelet",
   "metadata": {
    "scrolled": true
   },
   "outputs": [
    {
     "name": "stdout",
     "output_type": "stream",
     "text": [
      "Valor minimo 33246.440724126245\n",
      "Valor minimo 32227.557600055534\n",
      "Valor minimo 34838.06772570154\n",
      "Valor minimo 32002.14485251196\n",
      "Valor minimo 32219.51962394675\n",
      "Valor minimo 35789.25979416325\n",
      "Valor minimo 35489.191167867175\n",
      "Valor minimo 34924.11192188987\n",
      "Valor minimo 38622.4925269519\n",
      "Valor minimo 35162.62160049943\n"
     ]
    }
   ],
   "source": [
    "rec.setProbabilities(0.5, 0.25)\n",
    "for i in range(11,21):\n",
    "    dist, val = rec.run()\n",
    "    values.append(val)\n",
    "    dists.append(dist)\n",
    "    solToFile(val, dist, i)"
   ]
  },
  {
   "cell_type": "markdown",
   "id": "adequate-jordan",
   "metadata": {},
   "source": [
    "### Probabilidades: \n",
    "### Random            =   33%\n",
    "### Cambiar centro =   33%\n",
    "### Swap puntos     =   33%\n",
    "### Iteraciones        =   10"
   ]
  },
  {
   "cell_type": "code",
   "execution_count": 70,
   "id": "amber-virtue",
   "metadata": {},
   "outputs": [
    {
     "name": "stdout",
     "output_type": "stream",
     "text": [
      "Valor minimo 32907.988561838356\n",
      "Valor minimo 36400.8002599195\n",
      "Valor minimo 34003.782361249534\n",
      "Valor minimo 34939.617454216524\n",
      "Valor minimo 35782.50426935764\n",
      "Valor minimo 37926.374590500585\n",
      "Valor minimo 35968.58748812016\n",
      "Valor minimo 34076.29478125568\n",
      "Valor minimo 32704.708873408938\n",
      "Valor minimo 36840.16068570834\n"
     ]
    }
   ],
   "source": [
    "rec.setProbabilities(0.33, 0.33)\n",
    "for i in range(21,31):\n",
    "    dist, val = rec.run()\n",
    "    values.append(val)\n",
    "    dists.append(dist)\n",
    "    solToFile(val, dist, i)"
   ]
  },
  {
   "cell_type": "markdown",
   "id": "front-defendant",
   "metadata": {},
   "source": [
    "### Probabilidades: \n",
    "### Random            =   10%\n",
    "### Cambiar centro =   45%\n",
    "### Swap puntos     =   45%\n",
    "### Iteraciones        =   10"
   ]
  },
  {
   "cell_type": "code",
   "execution_count": 71,
   "id": "thermal-surge",
   "metadata": {},
   "outputs": [
    {
     "name": "stdout",
     "output_type": "stream",
     "text": [
      "Valor minimo 36979.23902975905\n",
      "Valor minimo 35405.27430718329\n",
      "Valor minimo 37489.31302360105\n",
      "Valor minimo 37926.25103301785\n",
      "Valor minimo 45180.58373035967\n",
      "Valor minimo 41974.173025211334\n",
      "Valor minimo 38092.2721309246\n",
      "Valor minimo 37861.870792954265\n",
      "Valor minimo 38876.31759486931\n",
      "Valor minimo 34784.96933860769\n"
     ]
    }
   ],
   "source": [
    "rec.setProbabilities(0.10, 0.45)\n",
    "for i in range(31,41):\n",
    "    dist, val = rec.run()\n",
    "    values.append(val)\n",
    "    dists.append(dist)\n",
    "    solToFile(val, dist, i)"
   ]
  },
  {
   "cell_type": "markdown",
   "id": "phantom-occurrence",
   "metadata": {},
   "source": [
    "### Probabilidades: \n",
    "### Random            =     0%\n",
    "### Cambiar centro =   50%\n",
    "### Swap puntos     =   50%\n",
    "### Iteraciones        =   10"
   ]
  },
  {
   "cell_type": "code",
   "execution_count": 79,
   "id": "handled-interaction",
   "metadata": {},
   "outputs": [
    {
     "name": "stdout",
     "output_type": "stream",
     "text": [
      "Valor minimo 40367.70765761708\n",
      "Valor minimo 35669.958624347\n",
      "Valor minimo 38788.85740114743\n",
      "Valor minimo 36255.36092049476\n",
      "Valor minimo 40732.73751400692\n",
      "Valor minimo 35225.48856983673\n",
      "Valor minimo 36310.351786777544\n",
      "Valor minimo 37425.699289830554\n",
      "Valor minimo 37609.66866993572\n",
      "Valor minimo 34675.42889371525\n"
     ]
    }
   ],
   "source": [
    "rec.setProbabilities(0.25, 0.05)\n",
    "for i in range(41,51):\n",
    "    dist, val = rec.run()\n",
    "    values.append(val)\n",
    "    dists.append(dist)\n",
    "    solToFile(val, dist, i)"
   ]
  },
  {
   "cell_type": "markdown",
   "id": "elementary-module",
   "metadata": {},
   "source": [
    "## Save Best Solution"
   ]
  },
  {
   "cell_type": "code",
   "execution_count": 83,
   "id": "martial-arrow",
   "metadata": {},
   "outputs": [],
   "source": [
    "ind = 0\n",
    "m = values[0]\n",
    "for i, val in enumerate(values):\n",
    "    if val < m:\n",
    "        m = val\n",
    "        ind = i\n",
    "solToFile(values[ind], dists[ind])\n",
    "best = dists[ind]\n",
    "bestValue = values[ind]"
   ]
  },
  {
   "cell_type": "markdown",
   "id": "hungry-northern",
   "metadata": {},
   "source": [
    "## Grafica"
   ]
  },
  {
   "cell_type": "code",
   "execution_count": 74,
   "id": "affected-climb",
   "metadata": {},
   "outputs": [],
   "source": [
    "class Graph1D:\n",
    "    \n",
    "    def __init__(self, xLim, yLim, title=None, colors=['red']):\n",
    "        assert(len(xLim) == 2)\n",
    "        assert(len(yLim) == 2)\n",
    "        self.colors = colors\n",
    "        self._range = 500\n",
    "        self._fig, self._ax = plt.subplots()\n",
    "        if title: self._ax.set_title(title, fontsize=20)\n",
    "        self._fig.set_size_inches(10,7)\n",
    "        self._ax.set_xlim(xLim)\n",
    "        self._ax.set_ylim(yLim)\n",
    "        return\n",
    "        \n",
    "    def setLegends(self):\n",
    "        self._ax.legend()\n",
    "    \n",
    "    def add_point(self, point, color='r', text=None, dt=0.0, label=None):\n",
    "        x1, x2 = point\n",
    "        if label != None: self._ax.scatter(x1,x2,c=color,label=label,alpha=1.0)\n",
    "        else:             self._ax.scatter(x1,x2,c=color,alpha=0.75)   \n",
    "        if text:\n",
    "            self._ax.text(x1,x2+dt,str(text))\n",
    "    \n",
    "    def getfig(self):\n",
    "        return self._fig, self._ax"
   ]
  },
  {
   "cell_type": "code",
   "execution_count": 75,
   "id": "alien-language",
   "metadata": {},
   "outputs": [],
   "source": [
    "color_names = {name for name in mcd.CSS4_COLORS\n",
    "           if \"xkcd:\" + name in mcd.XKCD_COLORS}\n",
    "colors = [ color for color in color_names]\n",
    "shuffle(colors)"
   ]
  },
  {
   "cell_type": "code",
   "execution_count": 84,
   "id": "accomplished-equation",
   "metadata": {},
   "outputs": [
    {
     "data": {
      "image/png": "[encoded data removed]",
      "text/plain": [
       "<Figure size 720x504 with 1 Axes>"
      ]
     },
     "metadata": {
      "needs_background": "light"
     },
     "output_type": "display_data"
    }
   ],
   "source": [
    "limX = (-5,1245)\n",
    "limY = (-5,1005)\n",
    "colors = colors[:rec.n_centros]\n",
    "grafica = Graph1D(limX, limY, title=\"Distribucion de puntos\", colors=colors)\n",
    "idx = 0\n",
    "for pts, color in zip(best, colors):\n",
    "    idx+=1\n",
    "    for i, p in enumerate(pts):\n",
    "        if i == 0:  grafica.add_point((p.X,p.Y), color, \"K\"+str(idx), label=\"Conjunto \"+str(idx))\n",
    "        else:       grafica.add_point((p.X,p.Y), color)\n",
    "grafica.setLegends()"
   ]
  },
  {
   "cell_type": "code",
   "execution_count": 87,
   "id": "greatest-feelings",
   "metadata": {},
   "outputs": [
    {
     "data": {
      "text/plain": [
       "29185.279434974444"
      ]
     },
     "execution_count": 87,
     "metadata": {},
     "output_type": "execute_result"
    }
   ],
   "source": [
    "bestValue"
   ]
  }
 ],
 "metadata": {
  "kernelspec": {
   "display_name": "Python 3",
   "language": "python",
   "name": "python3"
  },
  "language_info": {
   "codemirror_mode": {
    "name": "ipython",
    "version": 3
   },
   "file_extension": ".py",
   "mimetype": "text/x-python",
   "name": "python",
   "nbconvert_exporter": "python",
   "pygments_lexer": "ipython3",
   "version": "3.9.2"
  }
 },
 "nbformat": 4,
 "nbformat_minor": 5
}
