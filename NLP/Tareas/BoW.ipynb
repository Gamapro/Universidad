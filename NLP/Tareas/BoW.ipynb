{
 "cells": [
  {
   "attachments": {},
   "cell_type": "markdown",
   "metadata": {},
   "source": [
    "## David Gamaliel Arcos Bravo\n",
    "### Practica BoW"
   ]
  },
  {
   "cell_type": "code",
   "execution_count": 101,
   "metadata": {},
   "outputs": [],
   "source": [
    "import numpy as np\n",
    "import matplotlib.pyplot as plt\n",
    "import nltk\n",
    "\n",
    "from sklearn import metrics\n",
    "from nltk.tokenize import TweetTokenizer\n",
    "from collections import Counter"
   ]
  },
  {
   "cell_type": "code",
   "execution_count": 102,
   "metadata": {},
   "outputs": [],
   "source": [
    "def get_files(PATH_TRAIN, PATH_TRAIN_LABELS):\n",
    "    train, train_labels = [], []\n",
    "    with open(PATH_TRAIN, 'r', encoding=\"utf8\") as f:\n",
    "        train = [ line for line in f]\n",
    "    with open(PATH_TRAIN_LABELS, 'r', encoding=\"utf8\") as f:\n",
    "        train_labels = f.readlines()\n",
    "    return train, train_labels"
   ]
  },
  {
   "cell_type": "code",
   "execution_count": 103,
   "metadata": {},
   "outputs": [
    {
     "data": {
      "text/plain": [
       "((5544,), (5544,))"
      ]
     },
     "execution_count": 103,
     "metadata": {},
     "output_type": "execute_result"
    }
   ],
   "source": [
    "PATH_TRAIN = 'DatasetAgresividad/mex_train.txt'\n",
    "PATH_LABELS = 'DatasetAgresividad/mex_train_labels.txt'\n",
    "tr_txt, tr_y = get_files(PATH_TRAIN, PATH_LABELS)\n",
    "\n",
    "tr_txt = np.array(tr_txt)\n",
    "tr_y = np.array(tr_y)\n",
    "\n",
    "tr_txt.shape, tr_y.shape"
   ]
  },
  {
   "cell_type": "code",
   "execution_count": 104,
   "metadata": {},
   "outputs": [
    {
     "name": "stdout",
     "output_type": "stream",
     "text": [
      "Counter({'0\\n': 3562, '1\\n': 1981, '0': 1})\n"
     ]
    },
    {
     "data": {
      "image/png": "[encoded data removed]",
      "text/plain": [
       "<Figure size 640x480 with 1 Axes>"
      ]
     },
     "metadata": {},
     "output_type": "display_data"
    }
   ],
   "source": [
    "print(Counter(tr_y))\n",
    "plt.hist(tr_y, bins=2, edgecolor='black', linewidth=1.2) # , color=['red', 'blue'])\n",
    "plt.show()"
   ]
  },
  {
   "cell_type": "code",
   "execution_count": 105,
   "metadata": {},
   "outputs": [
    {
     "name": "stdout",
     "output_type": "stream",
     "text": [
      "['vete', 'a', 'la', 'verga', 'skyalert', '!', '!', 'me', 'dormí', 'a', 'las', '3', 'y', 'sales', 'con', 'tus', 'putas', 'mamadas', '!', '!', '!']\n"
     ]
    }
   ],
   "source": [
    "tokenizer = TweetTokenizer()\n",
    "idx = np.random.randint(0, len(tr_txt))\n",
    "tr_txt[idx]\n",
    "tokens = tokenizer.tokenize(tr_txt[idx])\n",
    "print(tokens)"
   ]
  },
  {
   "cell_type": "code",
   "execution_count": 106,
   "metadata": {},
   "outputs": [
    {
     "name": "stdout",
     "output_type": "stream",
     "text": [
      "13580\n"
     ]
    }
   ],
   "source": [
    "corpus_words = []\n",
    "for txt in tr_txt:\n",
    "    corpus_words += tokenizer.tokenize(txt)\n",
    "print(len(set(corpus_words)))"
   ]
  },
  {
   "cell_type": "code",
   "execution_count": 107,
   "metadata": {},
   "outputs": [
    {
     "data": {
      "text/plain": [
       "[(3383, 'que'),\n",
       " (3357, 'de'),\n",
       " (2774, '.'),\n",
       " (2629, 'a'),\n",
       " (2433, 'la'),\n",
       " (2266, 'y'),\n",
       " (1824, 'no'),\n",
       " (1613, 'me'),\n",
       " (1505, '!'),\n",
       " (1303, 'el')]"
      ]
     },
     "execution_count": 107,
     "metadata": {},
     "output_type": "execute_result"
    }
   ],
   "source": [
    "fdist = nltk.FreqDist(corpus_words)\n",
    "aux = [(fdist[key], key) for key in fdist]\n",
    "aux.sort()\n",
    "aux.reverse()\n",
    "fdist = aux\n",
    "fdist[:10]"
   ]
  },
  {
   "cell_type": "code",
   "execution_count": 108,
   "metadata": {},
   "outputs": [
    {
     "name": "stdout",
     "output_type": "stream",
     "text": [
      "0\n"
     ]
    }
   ],
   "source": [
    "idx_dict = dict()\n",
    "for i, (freq, word) in enumerate(fdist):\n",
    "    idx_dict[word] = i\n",
    "print(idx_dict['que'])"
   ]
  },
  {
   "cell_type": "code",
   "execution_count": 109,
   "metadata": {},
   "outputs": [
    {
     "data": {
      "text/plain": [
       "(5544, 13580)"
      ]
     },
     "execution_count": 109,
     "metadata": {},
     "output_type": "execute_result"
    }
   ],
   "source": [
    "def build_bow(tr_txt, V, idx_dict, binary=False):\n",
    "    X = np.zeros((len(tr_txt), len(V)))\n",
    "    for i, txt in enumerate(tr_txt):\n",
    "        tokens = tokenizer.tokenize(txt)\n",
    "        for token in tokens:\n",
    "            if token in idx_dict:\n",
    "                if binary:\n",
    "                    X[i, idx_dict[token]] = 1\n",
    "                else:\n",
    "                    X[i, idx_dict[token]] += 1\n",
    "    return X\n",
    "\n",
    "def build_tfidf(tr_txt, V, idx_dict):\n",
    "    X = build_bow(tr_txt, V, idx_dict, binary=False)\n",
    "    # TF\n",
    "    X = X / X.sum(axis=1, keepdims=True)\n",
    "    # IDF\n",
    "    df = np.zeros((len(V),))\n",
    "    for i, txt in enumerate(tr_txt):\n",
    "        tokens = tokenizer.tokenize(txt)\n",
    "        for token in tokens:\n",
    "            if token in idx_dict:\n",
    "                df[idx_dict[token]] += 1\n",
    "    idf = np.log(X.shape[0] / ( df + 1e-9) )\n",
    "    X = X * idf\n",
    "    return X\n",
    "\n",
    "bow = build_bow(tr_txt, fdist, idx_dict)\n",
    "bow.shape"
   ]
  },
  {
   "attachments": {},
   "cell_type": "markdown",
   "metadata": {},
   "source": [
    "## Bolsa de validacion"
   ]
  },
  {
   "cell_type": "code",
   "execution_count": 110,
   "metadata": {},
   "outputs": [
    {
     "name": "stdout",
     "output_type": "stream",
     "text": [
      "Counter({'0\\n': 396, '1\\n': 219, '0': 1})\n"
     ]
    },
    {
     "data": {
      "image/png": "[encoded data removed]",
      "text/plain": [
       "<Figure size 640x480 with 1 Axes>"
      ]
     },
     "metadata": {},
     "output_type": "display_data"
    },
    {
     "data": {
      "text/plain": [
       "(616, 13580)"
      ]
     },
     "execution_count": 110,
     "metadata": {},
     "output_type": "execute_result"
    }
   ],
   "source": [
    "val_txt, val_y = get_files(\n",
    "    'DatasetAgresividad/mex_val.txt',\n",
    "    'DatasetAgresividad/mex_val_labels.txt'\n",
    ")\n",
    "\n",
    "val_txt = np.array(val_txt)\n",
    "val_y = np.array(val_y)\n",
    "\n",
    "print(Counter(val_y))\n",
    "plt.hist(val_y, bins=len(set(val_y))-1)\n",
    "plt.show()\n",
    "\n",
    "\n",
    "val_bow = build_bow(val_txt, fdist, idx_dict)\n",
    "val_bow.shape"
   ]
  },
  {
   "attachments": {},
   "cell_type": "markdown",
   "metadata": {},
   "source": [
    "# Clasificacion"
   ]
  },
  {
   "cell_type": "code",
   "execution_count": 120,
   "metadata": {},
   "outputs": [],
   "source": [
    "from sklearn import svm\n",
    "from sklearn.model_selection import GridSearchCV\n",
    "from sklearn.metrics import accuracy_score, confusion_matrix, precision_recall_fscore_support, f1_score\n",
    "\n",
    "import warnings"
   ]
  },
  {
   "cell_type": "code",
   "execution_count": 112,
   "metadata": {},
   "outputs": [],
   "source": [
    "bow_non_binary = build_bow(tr_txt, fdist, idx_dict, binary=False)\n",
    "val_bow_non_binary = build_bow(val_txt, fdist, idx_dict, binary=False)\n",
    "\n",
    "bow_binary = build_bow(tr_txt, fdist, idx_dict, binary=True)\n",
    "val_bow_binary = build_bow(val_txt, fdist, idx_dict, binary=True)\n",
    "\n",
    "tfidf = build_tfidf(tr_txt, fdist, idx_dict)\n",
    "val_tfidf = build_tfidf(val_txt, fdist, idx_dict)"
   ]
  },
  {
   "cell_type": "code",
   "execution_count": 113,
   "metadata": {},
   "outputs": [
    {
     "data": {
      "text/plain": [
       "(array([0, 0, 0, 1, 0]), array([1, 1, 1, 0, 1]))"
      ]
     },
     "execution_count": 113,
     "metadata": {},
     "output_type": "execute_result"
    }
   ],
   "source": [
    "tr_y = np.array([int(y) for y in tr_y])\n",
    "val_y = np.array([int(y) for y in val_y])\n",
    "\n",
    "tr_y[:5], val_y[:5]"
   ]
  },
  {
   "cell_type": "code",
   "execution_count": 121,
   "metadata": {},
   "outputs": [],
   "source": [
    "def classify(bow, tr_y, val_bow, val_y):\n",
    "\n",
    "    parameters = {'C' : [0.05, 0.25, 1.0, 2.0]}\n",
    "    svr = svm.LinearSVC(class_weight='balanced')\n",
    "    grid = GridSearchCV(svr, parameters, cv=5, scoring='f1_macro')\n",
    "    \n",
    "    with warnings.catch_warnings():\n",
    "        warnings.simplefilter('ignore')\n",
    "        grid.fit(bow, tr_y)\n",
    "    y_pred = grid.predict(val_bow)\n",
    "\n",
    "    p, r, f, _ = precision_recall_fscore_support(val_y, y_pred, average=\"macro\")\n",
    "\n",
    "    return accuracy_score(val_y, y_pred), p, r, f, y_pred"
   ]
  },
  {
   "cell_type": "code",
   "execution_count": 123,
   "metadata": {},
   "outputs": [
    {
     "name": "stdout",
     "output_type": "stream",
     "text": [
      "Non binary\n",
      "              precision    recall  f1-score   support\n",
      "\n",
      "           0       0.87      0.85      0.86       397\n",
      "           1       0.74      0.77      0.75       219\n",
      "\n",
      "    accuracy                           0.82       616\n",
      "   macro avg       0.80      0.81      0.81       616\n",
      "weighted avg       0.82      0.82      0.82       616\n",
      "\n",
      "Binary\n",
      "              precision    recall  f1-score   support\n",
      "\n",
      "           0       0.87      0.84      0.85       397\n",
      "           1       0.73      0.77      0.75       219\n",
      "\n",
      "    accuracy                           0.81       616\n",
      "   macro avg       0.80      0.80      0.80       616\n",
      "weighted avg       0.82      0.81      0.82       616\n",
      "\n",
      "TF-IDF\n",
      "              precision    recall  f1-score   support\n",
      "\n",
      "           0       0.85      0.82      0.84       397\n",
      "           1       0.70      0.74      0.72       219\n",
      "\n",
      "    accuracy                           0.79       616\n",
      "   macro avg       0.77      0.78      0.78       616\n",
      "weighted avg       0.80      0.79      0.79       616\n",
      "\n"
     ]
    }
   ],
   "source": [
    "print(\"Non binary\")\n",
    "\n",
    "acc, p, r, f, non_binary_y_pred = classify(bow_non_binary, tr_y, val_bow_non_binary, val_y)\n",
    "print(metrics.classification_report(val_y, non_binary_y_pred))\n",
    "\n",
    "print(\"Binary\")\n",
    "\n",
    "acc, p, r, f, binary_y_pred = classify(bow_binary, tr_y, val_bow_binary, val_y)\n",
    "print(metrics.classification_report(val_y, binary_y_pred))\n",
    "\n",
    "print(\"TF-IDF\")\n",
    "\n",
    "acc, p, r, f, tf_idf_y_pred = classify(tfidf, tr_y, val_tfidf, val_y)\n",
    "print(metrics.classification_report(val_y, tf_idf_y_pred))\n"
   ]
  },
  {
   "attachments": {},
   "cell_type": "markdown",
   "metadata": {},
   "source": [
    "## Tweets clasificados como no agresivos que si lo eran"
   ]
  },
  {
   "cell_type": "code",
   "execution_count": 129,
   "metadata": {},
   "outputs": [
    {
     "name": "stdout",
     "output_type": "stream",
     "text": [
      "Tweet:  así debería ser siempre para que se mueran a la verga\n",
      "\n",
      "Tweet:  cada día me siento como un perro ovejero tratando de cuidar sus ovejas vale madre pinches rateros póngase a trabajar.😤\n",
      "\n",
      "Tweet:  ya a cualquier prieto le dicen licenciado peludito tengan madre\n",
      "\n",
      "Tweet:  su \"pura vida\" quedó en \"pura verga\" que se tragaron pinches ticos piojosos\n",
      "\n",
      "Tweet:  no vayas por el mundo presumiendo tus muchos amores eso es de muy putas.\n",
      "\n",
      "Tweet:  la que se veía súper mal era demi lovato porque se mamo con el escote y el peinado le quedo feo\n",
      "\n",
      "Tweet:  ya traigo mi actitud de lunes al cien pinches putos.  me pelan la verga todos\n",
      "\n",
      "Tweet:  por qué verga mis compañeros de proyecto tienen que ser los más ineptos de todos\n",
      "\n",
      "Tweet:  una novia intelectual una putona y otra luchona. para que entre las 3 se complementen.\n",
      "\n",
      "Tweet:  putos locos yo llevo 6 horas y aún no salgo de la segunda isla no mamen.\n",
      "\n",
      "Tweet:  no me gusta el fútbol pero por putos &gt;:v #noerapenal\n",
      "\n",
      "Tweet:  no  jajaja ya tiene mucho eso pero tan joto es el mugroso greñudo que bloquea gente 😂\n",
      "\n",
      "Tweet:  porque ponen equis frase \"de mi amor? están putos retrasados? 🙄🙄🙄?\n",
      "\n",
      "Tweet:  conmigo no funciona la indiferencia.  a mí me ignoras y te vas a la verga .l.\n",
      "\n",
      "Tweet:  yo a este lo veo medio joto. hasta como que se parece a fabiruchis. 😂😂😂😂\n",
      "\n",
      "Tweet:  voy a hacer una sección de la luchona y me voy a reír de la luchona pendeja que tengo en face.\n",
      "\n",
      "Tweet:  vengo a que me pelen la verga todos o no @usuario\n",
      "\n",
      "Tweet:  hay pinche viejito reumatico mal cogido  ... no lo mando a la verga nomas por que es mi jefe  🤦🏻‍♂😡😡😤\n",
      "\n",
      "Tweet:  pinche hocicón... ya acepta la voluntad de tu madre... sí es que tienes que lo dudo tu misma madre te mando a la verga del testamento...\n",
      "\n",
      "Tweet:  que bandera más bonita y que raro que un enfermo maricón la llame suya.\n",
      "\n",
      "Tweet:  no quería mentarte la madre tan temprano pinche maricón il \"buasap\" pinche millenial cacha moscas\n",
      "\n",
      "Tweet:  una buena cogida desde atras empujandote la verga con fuerza mientra te manoseo las tetas haciendote…\n",
      "\n",
      "Tweet:  lo bueno de que ya haga frío es que ya no van a tener pretexto para subir sus puterias dando los buenos días en calzones. putas.\n",
      "\n",
      "Tweet:  los putos a chin.... a su madre! ya me harté de seguir todo el mundo seguiré lo que yo quiera.\n",
      "\n",
      "Tweet:  hace 544 años copernico nos enseño que la tierra gira alrededor del sol y no de ti #hdp #miercolesdeganarseguidores #yotambien\n",
      "\n",
      "Tweet:  estoy a unas horas de mandarte a la mierda prepárate. 😉\n",
      "\n",
      "Tweet:  @usuario no tienen abuela madre vergüenza....\n",
      "\n",
      "Tweet:  chingas a tu madre sí no cumples la promesa que me hiciste hace tiempo.\n",
      "\n",
      "Tweet:  que clase de enfermo se hace cuentas para insultar y estar de puto ardido después de que lo bloqueaste. neta muerete o algo victor 😡😒✊\n",
      "\n",
      "Tweet:  mamá luchona tamalera niño héroe y americanista de corazón. #mastechefmx\n",
      "\n",
      "Tweet:  me caga que los putos artistas extranjeros vengan a nuestro a país a decirnos que es lo que está mal y debemos cambiad.\n",
      "\n",
      "Tweet:  no mames con el tipo de alado  parece que se está orgasmeando  y es perturbante ? aparte habla un inglés de la verga.\n",
      "\n",
      "Tweet:  siempre le apuestas al que pierde ya se llevó verga al buzz 😂\n",
      "\n",
      "Tweet:  @usuario le dices machorra machorrita cuando ella es una bella señorita gata eso es tratarla mal así que ia sabes en que categoría entras\n",
      "\n",
      "Tweet:  when te convencen de ver narcos gonorrea malparido ijueputa marica no me salgas con tus guevonadas @usuario 😅\n",
      "\n",
      "Tweet:  ni madres si se quiere ir que se vaya alv. a rogar a la iglesia. no mereces miserias!!!\n",
      "\n",
      "Tweet:  mis vecinos son lo suficientemente putos para dejarme notas anónimas de que \"no les gusta mi música\". hoy hay playlist de maná todo el día.\n",
      "\n",
      "Tweet:  yo quiero que me barras pero mi verga con tu pichita putimadurita\n",
      "\n",
      "Tweet:  bato eso es algo que a mí y a tus 12 followers nos vale verga.\n",
      "\n",
      "Tweet:  para ti solo tengo un \"vete a la verga\" y es eterno.\n",
      "\n",
      "Tweet:  chingas a tu madre!!! me subiste 100 el gas! idiota yo soy pobre con twitter pero pobre!!\n",
      "\n",
      "Tweet:  porque putas gallardo de lateral derecho que verga esta pasando aquí si de por si es una gran caca aaaahh\n",
      "\n",
      "Tweet:  ya te estás pasando de verga con tus cejas amiga date cuenta (todas las mujeres)\n",
      "\n",
      "Tweet:  xq me mienten de que el suero no da hambre estoy muriendo de dolor del estómago por hambre putos de mierdas\n",
      "\n",
      "Tweet:  wey en todos lados está de la verga...pero sí pinche #establodeméxico 😪😪😪\n",
      "\n",
      "Tweet:  ya chingo a su madre la güera loca de trump como lider munfial ya nadie confia en el ni en los gringos...juar...juar...juar...!!!\n",
      "\n",
      "Tweet:  esto si es no tener madre no tener respeto por absolutamente nada. una cosa es ejecutar al enemigo pero matar con saña a civiles indigna. <url>\n",
      "\n",
      "Tweet:  nada peor que un joto con el que no quisiste coger. y todo ardido empieza a ofender y hacer un drama 🙎🏼‍♂️\n",
      "\n",
      "Tweet:  hombres que se ofrecen para cazar putas?....que se puede esperar ? 🤷🏻‍♀️\n",
      "\n",
      "Tweet:  gallardo ratón verde se te doblan las patas maricón\n",
      "\n",
      "Tweet:  maricon emo y sexualmente teraotaku  me voy a hacer cortes de manga\n",
      "\n"
     ]
    }
   ],
   "source": [
    "for i, (y, y_pred) in enumerate(zip(val_y, binary_y_pred)):\n",
    "    if y == 1 and y_pred == 0:\n",
    "        print(\"Tweet: \", val_txt[i])"
   ]
  }
 ],
 "metadata": {
  "kernelspec": {
   "display_name": "Python 3",
   "language": "python",
   "name": "python3"
  },
  "language_info": {
   "codemirror_mode": {
    "name": "ipython",
    "version": 3
   },
   "file_extension": ".py",
   "mimetype": "text/x-python",
   "name": "python",
   "nbconvert_exporter": "python",
   "pygments_lexer": "ipython3",
   "version": "3.9.13"
  },
  "orig_nbformat": 4,
  "vscode": {
   "interpreter": {
    "hash": "d36eb4ffb1b509eac7c8ec69a0f00740540681bdf210a10d1e2607102c088e08"
   }
  }
 },
 "nbformat": 4,
 "nbformat_minor": 2
}
