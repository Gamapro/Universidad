{
 "cells": [
  {
   "attachments": {},
   "cell_type": "markdown",
   "metadata": {},
   "source": [
    "# David Gamaliel Arcos Bravo"
   ]
  },
  {
   "attachments": {},
   "cell_type": "markdown",
   "metadata": {},
   "source": [
    "GRU Implementation"
   ]
  },
  {
   "cell_type": "code",
   "execution_count": 1,
   "metadata": {},
   "outputs": [
    {
     "name": "stderr",
     "output_type": "stream",
     "text": [
      "[nltk_data] Downloading package punkt to C:\\Users\\David\n",
      "[nltk_data]     Arcos\\AppData\\Roaming\\nltk_data...\n",
      "[nltk_data]   Package punkt is already up-to-date!\n"
     ]
    }
   ],
   "source": [
    "import pandas as pd\n",
    "import pickle\n",
    "import numpy as np\n",
    "import nltk\n",
    "nltk.download('punkt')\n",
    "from tqdm.auto import tqdm\n",
    "import copy\n",
    "import os\n",
    "import matplotlib\n",
    "import matplotlib.pyplot as plt\n",
    "\n",
    "import torch\n",
    "from torch import nn, optim\n",
    "from torch.utils.data import Dataset, DataLoader\n",
    "from torch.nn.utils.rnn import pad_sequence, pack_padded_sequence, pad_packed_sequence\n",
    "import torch.nn.functional as F\n",
    "\n",
    "from IPython.display import display, HTML\n",
    "from sklearn.metrics import f1_score"
   ]
  },
  {
   "attachments": {},
   "cell_type": "markdown",
   "metadata": {},
   "source": [
    "## Preprocesar datasets"
   ]
  },
  {
   "cell_type": "code",
   "execution_count": 2,
   "metadata": {},
   "outputs": [],
   "source": [
    "def txt_to_csv(path_text, path_labels, save_path, split=False, dist=0.00, save_path_split=None):\n",
    "    with open(path_text, 'r', encoding='utf-8') as f:\n",
    "        text = f.readlines()\n",
    "        text = [t[:-1] for t in text]\n",
    "    with open(path_labels, 'r', encoding='utf-8') as f:\n",
    "        labels = f.readlines()\n",
    "        labels = [l[:-1] for l in labels]\n",
    "    if split:\n",
    "        labels, text = np.array(labels), np.array(text)\n",
    "        idx = np.arange(len(labels))\n",
    "        np.random.shuffle(idx)\n",
    "        labels, text = labels[idx], text[idx]\n",
    "        n = int(dist*len(labels))\n",
    "        train_labels, train_text = labels[:-n], text[:-n]\n",
    "        test_labels, test_text = labels[-n:], text[-n:]\n",
    "        df_train = pd.DataFrame({'text': train_text, 'target': train_labels})\n",
    "        df_test = pd.DataFrame({'text': test_text, 'target': test_labels})\n",
    "        df_train = df_train[df_train['target'] != '']\n",
    "        df_test = df_test[df_test['target'] != '']\n",
    "        df_train.to_csv(save_path, index=False)\n",
    "        df_test.to_csv(save_path_split, index=False)\n",
    "    else:\n",
    "        df = pd.DataFrame({'text': text, 'target': labels})\n",
    "        df = df[df['target'] != '']\n",
    "        df.to_csv(save_path, index=False)\n",
    "\n",
    "txt_to_csv('DatasetAgresividad/mex_train.txt', 'DatasetAgresividad/mex_train_labels.txt', 'train.csv', split=True, dist=0.25, save_path_split='test.csv')\n",
    "txt_to_csv('DatasetAgresividad/mex_val.txt', 'DatasetAgresividad/mex_val_labels.txt', 'val.csv', split=False)"
   ]
  },
  {
   "cell_type": "code",
   "execution_count": 3,
   "metadata": {},
   "outputs": [
    {
     "name": "stdout",
     "output_type": "stream",
     "text": [
      "[1 0]\n",
      "[1 0]\n",
      "[1 0]\n"
     ]
    }
   ],
   "source": [
    "df = pd.read_csv('train.csv')\n",
    "print(df['target'].unique())\n",
    "df = pd.read_csv('val.csv')\n",
    "print(df['target'].unique())\n",
    "df = pd.read_csv('test.csv')\n",
    "print(df['target'].unique())"
   ]
  },
  {
   "cell_type": "code",
   "execution_count": 4,
   "metadata": {},
   "outputs": [],
   "source": [
    "class Agression_dataset(Dataset):\n",
    "\n",
    "    def __init__(self, split):\n",
    "        super(Dataset, self).__init__()\n",
    "        self.load_data(split)\n",
    "        self.vocab, self.emb_mat = self.load_vocab_embeddings()\n",
    "\n",
    "    def __len__(self):\n",
    "        return len(self.data)    \n",
    "\n",
    "    def __getitem__(self, index):\n",
    "        label = self.data.iloc[index]['target']\n",
    "        words, word_ids = self.preprocessed_text(index)\n",
    "        return word_ids, label, words\n",
    "    \n",
    "    def preprocessed_text(self, index):\n",
    "        text = self.data.iloc[index]['text']\n",
    "        words = nltk.word_tokenize(text)\n",
    "        word_ids = [self.vocab[word] if word in self.vocab.keys() else \n",
    "                    self.emb_mat.shape[0]-1\n",
    "                    for word in words]\n",
    "        return words, word_ids\n",
    "\n",
    "    def load_data(self, split):\n",
    "        \"\"\"Texto en columna text y categorias en target\"\"\"\n",
    "        self.data = pd.read_csv('%s.csv'%(split))\n",
    "\n",
    "    def load_vocab_embeddings(self):\n",
    "        \"\"\"Carga vocabulario y matriz de embeddings entrenados en twitter\"\"\"\n",
    "        embeddings_list = []\n",
    "        self.vocab_dict = {}\n",
    "        vocab = {}\n",
    "        with open('word2vec_col.txt', 'r', encoding='utf-8') as f:\n",
    "            for i, line in enumerate(f):\n",
    "                if i != 0:\n",
    "                    values = line.split()\n",
    "                    self.vocab_dict[i+1] = values[0]\n",
    "                    vocab[values[0]] = i+1\n",
    "                    vector = np.asarray(values[1:], \"float32\")\n",
    "                    embeddings_list.append(vector)\n",
    "        embeddings_list.insert(0, np.mean(np.vstack(embeddings_list), axis=0))\n",
    "        embeddings_list.append(np.zeros(100))\n",
    "        self.vocab_dict[0] = 'PAD'\n",
    "        self.vocab_dict[1] = 'UNK'\n",
    "        vocab['PAD'] = 0\n",
    "        vocab['UNK'] = 1\n",
    "        emb_mat = np.vstack(embeddings_list)\n",
    "        return vocab, emb_mat\n",
    "        \n",
    "    def get_weights(self):\n",
    "        '''Devuelve pesos inversos para cada categoría. Mayor peso para la categoría con menos observaciones.'''\n",
    "        cat_0 = len(self.data[self.data['target']==0])\n",
    "        cat_1 = len(self.data[self.data['target']==1])\n",
    "        maxi = max(cat_0, cat_1)\n",
    "        return torch.tensor([maxi/cat_0, maxi/cat_1])\n",
    "\n",
    "    def collate_fn(self, batch):\n",
    "        '''Función que ejecuta el dataloader para formar batches de datos.'''\n",
    "        zipped_batch = list(zip(*batch))\n",
    "        word_ids = [torch.tensor(t) for t in zipped_batch[0]]\n",
    "        word_ids = torch.cat(word_ids, dim=0)\n",
    "        lengths = torch.tensor([len(t) for t in zipped_batch[0]])\n",
    "        labels = torch.tensor(zipped_batch[1])\n",
    "        words = zipped_batch[2]\n",
    "        return word_ids, lengths, labels, words"
   ]
  },
  {
   "cell_type": "code",
   "execution_count": 5,
   "metadata": {},
   "outputs": [],
   "source": [
    "class SimpleRNN(nn.Module):\n",
    "\n",
    "    def __init__(self, input_size=100, hidden_size=128, num_layers=1, bidirectional=False, emb_mat=None, dense_hidden_size=256):\n",
    "        super(SimpleRNN, self).__init__()\n",
    "        self.embeddings = nn.Embedding.from_pretrained(\n",
    "            torch.FloatTensor(emb_mat), freeze=False)\n",
    "        self.gru = nn.GRU(input_size, hidden_size, num_layers, bidirectional=bidirectional)\n",
    "        self.dense = nn.Linear(hidden_size, dense_hidden_size)  \n",
    "        directions = 2 if bidirectional else 1\n",
    "        self.classifier = nn.Sequential(\n",
    "            nn.Linear(hidden_size*directions, dense_hidden_size),\n",
    "            nn.BatchNorm1d(dense_hidden_size),\n",
    "            nn.ReLU(),\n",
    "            nn.Linear(dense_hidden_size, 2),\n",
    "        )\n",
    "\n",
    "    def forward(self, x, lengths):\n",
    "        # Embedding por palabra\n",
    "        x = self.embeddings(x)\n",
    "        # Forma las secuencias de palabras \n",
    "        x = x.split(lengths.tolist())\n",
    "        # Padding y secuencias (mayor velocidad de computo)\n",
    "        x = pad_sequence(x)\n",
    "        x = pack_padded_sequence(x, lengths=lengths.tolist(), enforce_sorted=False)\n",
    "        # GRU\n",
    "        output, hn = self.gru(x)\n",
    "        hn = torch.cat([h for h in hn], dim=-1)\n",
    "        x = self.classifier(hn)\n",
    "        return x, None"
   ]
  },
  {
   "cell_type": "code",
   "execution_count": 19,
   "metadata": {},
   "outputs": [],
   "source": [
    "def eval_model(model, dataloader, criterion, device):\n",
    "    model.eval()\n",
    "    with torch.no_grad():\n",
    "        losses = []\n",
    "        preds = torch.empty(0).long()\n",
    "        targets = torch.empty(0).long()\n",
    "        scores_list, words_list, pred_list = [], [], []\n",
    "        for data in tqdm(dataloader):\n",
    "            torch.cuda.empty_cache()\n",
    "            seq, seq_len, labels, words = data\n",
    "            seq, labels = seq.to(device), labels.to(device)\n",
    "            output, scores = model(seq, seq_len)\n",
    "            output = F.log_softmax(output, dim=1)\n",
    "            if labels.dtype != torch.long:\n",
    "                labels = labels.type(torch.LongTensor)\n",
    "            output, labels = output.to(device), labels.to(device)\n",
    "            loss = criterion(output, labels)\n",
    "            losses.append(loss.item())\n",
    "            predictions = torch.argmax(output, dim=1)\n",
    "            preds = torch.cat([preds, predictions.cpu()], dim=0)\n",
    "            targets = torch.cat([targets, labels.cpu()], dim=0)\n",
    "            if scores is not None:\n",
    "                pred_list += predictions.tolist()\n",
    "                scores_list += scores.cpu().squeeze(2).tolist()\n",
    "                words_list += words\n",
    "\n",
    "        model.train()\n",
    "        torch.cuda.empty_cache()\n",
    "        preds = preds.numpy()\n",
    "        targets = targets.numpy()\n",
    "        f1 = f1_score(targets, preds, average='binary')\n",
    "\n",
    "    return np.mean(losses), f1, scores_list, words_list, pred_list"
   ]
  },
  {
   "cell_type": "code",
   "execution_count": 7,
   "metadata": {},
   "outputs": [],
   "source": [
    "batch_size = 128"
   ]
  },
  {
   "cell_type": "code",
   "execution_count": 8,
   "metadata": {},
   "outputs": [],
   "source": [
    "# load datasets\n",
    "train_dataset = Agression_dataset('train')\n",
    "val_dataset = Agression_dataset('val')\n",
    "test_dataset = Agression_dataset('test')\n",
    "# load dataloaders\n",
    "train_loader = DataLoader(train_dataset, batch_size=batch_size, shuffle=True, collate_fn=train_dataset.collate_fn)\n",
    "val_loader = DataLoader(val_dataset, batch_size=batch_size, shuffle=False, collate_fn=val_dataset.collate_fn)\n",
    "test_loader = DataLoader(test_dataset, batch_size=batch_size, shuffle=False, collate_fn=test_dataset.collate_fn)"
   ]
  },
  {
   "cell_type": "code",
   "execution_count": 9,
   "metadata": {},
   "outputs": [
    {
     "data": {
      "text/plain": [
       "device(type='cuda')"
      ]
     },
     "execution_count": 9,
     "metadata": {},
     "output_type": "execute_result"
    }
   ],
   "source": [
    "lr = 0.001\n",
    "epochs = 10\n",
    "weight_decay = 0.001\n",
    "beta_1 = 0\n",
    "beta_2 = 0.999\n",
    "device = torch.device('cuda' if torch.cuda.is_available() else 'cpu')\n",
    "# device = torch.device('cpu')\n",
    "# os.environ['CUDA_LAUNCH_BLOCKING'] = \"1\"\n",
    "device"
   ]
  },
  {
   "cell_type": "code",
   "execution_count": 10,
   "metadata": {},
   "outputs": [],
   "source": [
    "model = SimpleRNN(emb_mat=train_dataset.emb_mat, bidirectional=False).to(device)\n",
    "optimizer = optim.Adam(model.parameters(), lr=lr, weight_decay=weight_decay, betas=(beta_1, beta_2))\n",
    "weight=train_dataset.get_weights().to(device)\n",
    "criterion = nn.NLLLoss(weight=weight)"
   ]
  },
  {
   "cell_type": "code",
   "execution_count": 11,
   "metadata": {},
   "outputs": [
    {
     "data": {
      "application/json": {
       "ascii": false,
       "bar_format": null,
       "colour": null,
       "elapsed": 0.010000228881835938,
       "initial": 0,
       "n": 0,
       "ncols": null,
       "nrows": null,
       "postfix": null,
       "prefix": "",
       "rate": null,
       "total": 33,
       "unit": "it",
       "unit_divisor": 1000,
       "unit_scale": false
      },
      "application/vnd.jupyter.widget-view+json": {
       "model_id": "48536dd80db2466e88bc5dd39daaa538",
       "version_major": 2,
       "version_minor": 0
      },
      "text/plain": [
       "  0%|          | 0/33 [00:00<?, ?it/s]"
      ]
     },
     "metadata": {},
     "output_type": "display_data"
    },
    {
     "data": {
      "application/json": {
       "ascii": false,
       "bar_format": null,
       "colour": null,
       "elapsed": 0.009002447128295898,
       "initial": 0,
       "n": 0,
       "ncols": null,
       "nrows": null,
       "postfix": null,
       "prefix": "",
       "rate": null,
       "total": 33,
       "unit": "it",
       "unit_divisor": 1000,
       "unit_scale": false
      },
      "application/vnd.jupyter.widget-view+json": {
       "model_id": "9efec077ccf641b0aef7464d563d6a09",
       "version_major": 2,
       "version_minor": 0
      },
      "text/plain": [
       "  0%|          | 0/33 [00:00<?, ?it/s]"
      ]
     },
     "metadata": {},
     "output_type": "display_data"
    },
    {
     "data": {
      "application/json": {
       "ascii": false,
       "bar_format": null,
       "colour": null,
       "elapsed": 0.010006427764892578,
       "initial": 0,
       "n": 0,
       "ncols": null,
       "nrows": null,
       "postfix": null,
       "prefix": "",
       "rate": null,
       "total": 5,
       "unit": "it",
       "unit_divisor": 1000,
       "unit_scale": false
      },
      "application/vnd.jupyter.widget-view+json": {
       "model_id": "86ec5eaec43747d8a7418571be7ce303",
       "version_major": 2,
       "version_minor": 0
      },
      "text/plain": [
       "  0%|          | 0/5 [00:00<?, ?it/s]"
      ]
     },
     "metadata": {},
     "output_type": "display_data"
    },
    {
     "name": "stdout",
     "output_type": "stream",
     "text": [
      "Epoch 1/10 - train_loss: 0.5988 - train_f1: 0.6327 - val_loss: 0.6749 - val_f1: 0.5148\n"
     ]
    },
    {
     "data": {
      "application/json": {
       "ascii": false,
       "bar_format": null,
       "colour": null,
       "elapsed": 0.010996103286743164,
       "initial": 0,
       "n": 0,
       "ncols": null,
       "nrows": null,
       "postfix": null,
       "prefix": "",
       "rate": null,
       "total": 33,
       "unit": "it",
       "unit_divisor": 1000,
       "unit_scale": false
      },
      "application/vnd.jupyter.widget-view+json": {
       "model_id": "6e9086961018445aad1561cfaf37e686",
       "version_major": 2,
       "version_minor": 0
      },
      "text/plain": [
       "  0%|          | 0/33 [00:00<?, ?it/s]"
      ]
     },
     "metadata": {},
     "output_type": "display_data"
    },
    {
     "data": {
      "application/json": {
       "ascii": false,
       "bar_format": null,
       "colour": null,
       "elapsed": 0.010000467300415039,
       "initial": 0,
       "n": 0,
       "ncols": null,
       "nrows": null,
       "postfix": null,
       "prefix": "",
       "rate": null,
       "total": 33,
       "unit": "it",
       "unit_divisor": 1000,
       "unit_scale": false
      },
      "application/vnd.jupyter.widget-view+json": {
       "model_id": "e8a6f04345a84a9d845211f36e288f15",
       "version_major": 2,
       "version_minor": 0
      },
      "text/plain": [
       "  0%|          | 0/33 [00:00<?, ?it/s]"
      ]
     },
     "metadata": {},
     "output_type": "display_data"
    },
    {
     "data": {
      "application/json": {
       "ascii": false,
       "bar_format": null,
       "colour": null,
       "elapsed": 0.00900125503540039,
       "initial": 0,
       "n": 0,
       "ncols": null,
       "nrows": null,
       "postfix": null,
       "prefix": "",
       "rate": null,
       "total": 5,
       "unit": "it",
       "unit_divisor": 1000,
       "unit_scale": false
      },
      "application/vnd.jupyter.widget-view+json": {
       "model_id": "78532b5166e04c6b8d5a28067cfeaeea",
       "version_major": 2,
       "version_minor": 0
      },
      "text/plain": [
       "  0%|          | 0/5 [00:00<?, ?it/s]"
      ]
     },
     "metadata": {},
     "output_type": "display_data"
    },
    {
     "name": "stdout",
     "output_type": "stream",
     "text": [
      "Epoch 2/10 - train_loss: 0.4894 - train_f1: 0.7021 - val_loss: 0.6807 - val_f1: 0.5068\n"
     ]
    },
    {
     "data": {
      "application/json": {
       "ascii": false,
       "bar_format": null,
       "colour": null,
       "elapsed": 0.00999903678894043,
       "initial": 0,
       "n": 0,
       "ncols": null,
       "nrows": null,
       "postfix": null,
       "prefix": "",
       "rate": null,
       "total": 33,
       "unit": "it",
       "unit_divisor": 1000,
       "unit_scale": false
      },
      "application/vnd.jupyter.widget-view+json": {
       "model_id": "5ef4a78b7031401f916dd306778cb4f0",
       "version_major": 2,
       "version_minor": 0
      },
      "text/plain": [
       "  0%|          | 0/33 [00:00<?, ?it/s]"
      ]
     },
     "metadata": {},
     "output_type": "display_data"
    },
    {
     "data": {
      "application/json": {
       "ascii": false,
       "bar_format": null,
       "colour": null,
       "elapsed": 0.010002851486206055,
       "initial": 0,
       "n": 0,
       "ncols": null,
       "nrows": null,
       "postfix": null,
       "prefix": "",
       "rate": null,
       "total": 33,
       "unit": "it",
       "unit_divisor": 1000,
       "unit_scale": false
      },
      "application/vnd.jupyter.widget-view+json": {
       "model_id": "c545e12592b14fb5a96b1cf2569eef58",
       "version_major": 2,
       "version_minor": 0
      },
      "text/plain": [
       "  0%|          | 0/33 [00:00<?, ?it/s]"
      ]
     },
     "metadata": {},
     "output_type": "display_data"
    },
    {
     "data": {
      "application/json": {
       "ascii": false,
       "bar_format": null,
       "colour": null,
       "elapsed": 0.008999824523925781,
       "initial": 0,
       "n": 0,
       "ncols": null,
       "nrows": null,
       "postfix": null,
       "prefix": "",
       "rate": null,
       "total": 5,
       "unit": "it",
       "unit_divisor": 1000,
       "unit_scale": false
      },
      "application/vnd.jupyter.widget-view+json": {
       "model_id": "f45bed0cc1674fc1ab238ba2e0507f81",
       "version_major": 2,
       "version_minor": 0
      },
      "text/plain": [
       "  0%|          | 0/5 [00:00<?, ?it/s]"
      ]
     },
     "metadata": {},
     "output_type": "display_data"
    },
    {
     "name": "stdout",
     "output_type": "stream",
     "text": [
      "Epoch 3/10 - train_loss: 0.4146 - train_f1: 0.7499 - val_loss: 0.6610 - val_f1: 0.5646\n"
     ]
    },
    {
     "data": {
      "application/json": {
       "ascii": false,
       "bar_format": null,
       "colour": null,
       "elapsed": 0.009001493453979492,
       "initial": 0,
       "n": 0,
       "ncols": null,
       "nrows": null,
       "postfix": null,
       "prefix": "",
       "rate": null,
       "total": 33,
       "unit": "it",
       "unit_divisor": 1000,
       "unit_scale": false
      },
      "application/vnd.jupyter.widget-view+json": {
       "model_id": "1ede083ebbf04aadb452ed764abe1e17",
       "version_major": 2,
       "version_minor": 0
      },
      "text/plain": [
       "  0%|          | 0/33 [00:00<?, ?it/s]"
      ]
     },
     "metadata": {},
     "output_type": "display_data"
    },
    {
     "data": {
      "application/json": {
       "ascii": false,
       "bar_format": null,
       "colour": null,
       "elapsed": 0.010001659393310547,
       "initial": 0,
       "n": 0,
       "ncols": null,
       "nrows": null,
       "postfix": null,
       "prefix": "",
       "rate": null,
       "total": 33,
       "unit": "it",
       "unit_divisor": 1000,
       "unit_scale": false
      },
      "application/vnd.jupyter.widget-view+json": {
       "model_id": "90cd3e08d8bc4363b58db944b1d15954",
       "version_major": 2,
       "version_minor": 0
      },
      "text/plain": [
       "  0%|          | 0/33 [00:00<?, ?it/s]"
      ]
     },
     "metadata": {},
     "output_type": "display_data"
    },
    {
     "data": {
      "application/json": {
       "ascii": false,
       "bar_format": null,
       "colour": null,
       "elapsed": 0.008994340896606445,
       "initial": 0,
       "n": 0,
       "ncols": null,
       "nrows": null,
       "postfix": null,
       "prefix": "",
       "rate": null,
       "total": 5,
       "unit": "it",
       "unit_divisor": 1000,
       "unit_scale": false
      },
      "application/vnd.jupyter.widget-view+json": {
       "model_id": "b88620567a3a48e688f472f178ce070e",
       "version_major": 2,
       "version_minor": 0
      },
      "text/plain": [
       "  0%|          | 0/5 [00:00<?, ?it/s]"
      ]
     },
     "metadata": {},
     "output_type": "display_data"
    },
    {
     "name": "stdout",
     "output_type": "stream",
     "text": [
      "Epoch 4/10 - train_loss: 0.3213 - train_f1: 0.8393 - val_loss: 0.6700 - val_f1: 0.5450\n"
     ]
    },
    {
     "data": {
      "application/json": {
       "ascii": false,
       "bar_format": null,
       "colour": null,
       "elapsed": 0.009995460510253906,
       "initial": 0,
       "n": 0,
       "ncols": null,
       "nrows": null,
       "postfix": null,
       "prefix": "",
       "rate": null,
       "total": 33,
       "unit": "it",
       "unit_divisor": 1000,
       "unit_scale": false
      },
      "application/vnd.jupyter.widget-view+json": {
       "model_id": "ae9bddc296e44f47bcdf649e6da8426e",
       "version_major": 2,
       "version_minor": 0
      },
      "text/plain": [
       "  0%|          | 0/33 [00:00<?, ?it/s]"
      ]
     },
     "metadata": {},
     "output_type": "display_data"
    },
    {
     "data": {
      "application/json": {
       "ascii": false,
       "bar_format": null,
       "colour": null,
       "elapsed": 0.009001970291137695,
       "initial": 0,
       "n": 0,
       "ncols": null,
       "nrows": null,
       "postfix": null,
       "prefix": "",
       "rate": null,
       "total": 33,
       "unit": "it",
       "unit_divisor": 1000,
       "unit_scale": false
      },
      "application/vnd.jupyter.widget-view+json": {
       "model_id": "69815b2a274a4bafb3615ef4c508b9b8",
       "version_major": 2,
       "version_minor": 0
      },
      "text/plain": [
       "  0%|          | 0/33 [00:00<?, ?it/s]"
      ]
     },
     "metadata": {},
     "output_type": "display_data"
    },
    {
     "data": {
      "application/json": {
       "ascii": false,
       "bar_format": null,
       "colour": null,
       "elapsed": 0.008999824523925781,
       "initial": 0,
       "n": 0,
       "ncols": null,
       "nrows": null,
       "postfix": null,
       "prefix": "",
       "rate": null,
       "total": 5,
       "unit": "it",
       "unit_divisor": 1000,
       "unit_scale": false
      },
      "application/vnd.jupyter.widget-view+json": {
       "model_id": "afd8254311fd4691a5da90c0c80d46f8",
       "version_major": 2,
       "version_minor": 0
      },
      "text/plain": [
       "  0%|          | 0/5 [00:00<?, ?it/s]"
      ]
     },
     "metadata": {},
     "output_type": "display_data"
    },
    {
     "name": "stdout",
     "output_type": "stream",
     "text": [
      "Epoch 5/10 - train_loss: 0.3316 - train_f1: 0.7978 - val_loss: 0.7889 - val_f1: 0.5771\n"
     ]
    },
    {
     "data": {
      "application/json": {
       "ascii": false,
       "bar_format": null,
       "colour": null,
       "elapsed": 0.008998870849609375,
       "initial": 0,
       "n": 0,
       "ncols": null,
       "nrows": null,
       "postfix": null,
       "prefix": "",
       "rate": null,
       "total": 33,
       "unit": "it",
       "unit_divisor": 1000,
       "unit_scale": false
      },
      "application/vnd.jupyter.widget-view+json": {
       "model_id": "c7f109bb080349de9bd8a7eb9e4d2570",
       "version_major": 2,
       "version_minor": 0
      },
      "text/plain": [
       "  0%|          | 0/33 [00:00<?, ?it/s]"
      ]
     },
     "metadata": {},
     "output_type": "display_data"
    },
    {
     "data": {
      "application/json": {
       "ascii": false,
       "bar_format": null,
       "colour": null,
       "elapsed": 0.00899958610534668,
       "initial": 0,
       "n": 0,
       "ncols": null,
       "nrows": null,
       "postfix": null,
       "prefix": "",
       "rate": null,
       "total": 33,
       "unit": "it",
       "unit_divisor": 1000,
       "unit_scale": false
      },
      "application/vnd.jupyter.widget-view+json": {
       "model_id": "6d9dd805ce754d49aa624a356bc8997b",
       "version_major": 2,
       "version_minor": 0
      },
      "text/plain": [
       "  0%|          | 0/33 [00:00<?, ?it/s]"
      ]
     },
     "metadata": {},
     "output_type": "display_data"
    },
    {
     "data": {
      "application/json": {
       "ascii": false,
       "bar_format": null,
       "colour": null,
       "elapsed": 0.008002519607543945,
       "initial": 0,
       "n": 0,
       "ncols": null,
       "nrows": null,
       "postfix": null,
       "prefix": "",
       "rate": null,
       "total": 5,
       "unit": "it",
       "unit_divisor": 1000,
       "unit_scale": false
      },
      "application/vnd.jupyter.widget-view+json": {
       "model_id": "5d27ac52a1084181afe16283cfe92638",
       "version_major": 2,
       "version_minor": 0
      },
      "text/plain": [
       "  0%|          | 0/5 [00:00<?, ?it/s]"
      ]
     },
     "metadata": {},
     "output_type": "display_data"
    },
    {
     "name": "stdout",
     "output_type": "stream",
     "text": [
      "Epoch 6/10 - train_loss: 0.2191 - train_f1: 0.8917 - val_loss: 0.8561 - val_f1: 0.5556\n"
     ]
    },
    {
     "data": {
      "application/json": {
       "ascii": false,
       "bar_format": null,
       "colour": null,
       "elapsed": 0.009511470794677734,
       "initial": 0,
       "n": 0,
       "ncols": null,
       "nrows": null,
       "postfix": null,
       "prefix": "",
       "rate": null,
       "total": 33,
       "unit": "it",
       "unit_divisor": 1000,
       "unit_scale": false
      },
      "application/vnd.jupyter.widget-view+json": {
       "model_id": "546a377307c045a29d94d14cde6e6dfb",
       "version_major": 2,
       "version_minor": 0
      },
      "text/plain": [
       "  0%|          | 0/33 [00:00<?, ?it/s]"
      ]
     },
     "metadata": {},
     "output_type": "display_data"
    },
    {
     "data": {
      "application/json": {
       "ascii": false,
       "bar_format": null,
       "colour": null,
       "elapsed": 0.00850367546081543,
       "initial": 0,
       "n": 0,
       "ncols": null,
       "nrows": null,
       "postfix": null,
       "prefix": "",
       "rate": null,
       "total": 33,
       "unit": "it",
       "unit_divisor": 1000,
       "unit_scale": false
      },
      "application/vnd.jupyter.widget-view+json": {
       "model_id": "8028a3cf5d6c40fdb36121a8f4aa0086",
       "version_major": 2,
       "version_minor": 0
      },
      "text/plain": [
       "  0%|          | 0/33 [00:00<?, ?it/s]"
      ]
     },
     "metadata": {},
     "output_type": "display_data"
    },
    {
     "data": {
      "application/json": {
       "ascii": false,
       "bar_format": null,
       "colour": null,
       "elapsed": 0.008522272109985352,
       "initial": 0,
       "n": 0,
       "ncols": null,
       "nrows": null,
       "postfix": null,
       "prefix": "",
       "rate": null,
       "total": 5,
       "unit": "it",
       "unit_divisor": 1000,
       "unit_scale": false
      },
      "application/vnd.jupyter.widget-view+json": {
       "model_id": "77ab6d3b985b4a9db5d8e02d7d1ea2dc",
       "version_major": 2,
       "version_minor": 0
      },
      "text/plain": [
       "  0%|          | 0/5 [00:00<?, ?it/s]"
      ]
     },
     "metadata": {},
     "output_type": "display_data"
    },
    {
     "name": "stdout",
     "output_type": "stream",
     "text": [
      "Epoch 7/10 - train_loss: 0.1771 - train_f1: 0.9056 - val_loss: 0.8489 - val_f1: 0.5720\n"
     ]
    },
    {
     "data": {
      "application/json": {
       "ascii": false,
       "bar_format": null,
       "colour": null,
       "elapsed": 0.008229494094848633,
       "initial": 0,
       "n": 0,
       "ncols": null,
       "nrows": null,
       "postfix": null,
       "prefix": "",
       "rate": null,
       "total": 33,
       "unit": "it",
       "unit_divisor": 1000,
       "unit_scale": false
      },
      "application/vnd.jupyter.widget-view+json": {
       "model_id": "bdf42b9e44df445db33c19b171fa48a8",
       "version_major": 2,
       "version_minor": 0
      },
      "text/plain": [
       "  0%|          | 0/33 [00:00<?, ?it/s]"
      ]
     },
     "metadata": {},
     "output_type": "display_data"
    },
    {
     "data": {
      "application/json": {
       "ascii": false,
       "bar_format": null,
       "colour": null,
       "elapsed": 0.010514259338378906,
       "initial": 0,
       "n": 0,
       "ncols": null,
       "nrows": null,
       "postfix": null,
       "prefix": "",
       "rate": null,
       "total": 33,
       "unit": "it",
       "unit_divisor": 1000,
       "unit_scale": false
      },
      "application/vnd.jupyter.widget-view+json": {
       "model_id": "6ca3b9338098466f9d19504ddfc48dce",
       "version_major": 2,
       "version_minor": 0
      },
      "text/plain": [
       "  0%|          | 0/33 [00:00<?, ?it/s]"
      ]
     },
     "metadata": {},
     "output_type": "display_data"
    },
    {
     "data": {
      "application/json": {
       "ascii": false,
       "bar_format": null,
       "colour": null,
       "elapsed": 0.008513450622558594,
       "initial": 0,
       "n": 0,
       "ncols": null,
       "nrows": null,
       "postfix": null,
       "prefix": "",
       "rate": null,
       "total": 5,
       "unit": "it",
       "unit_divisor": 1000,
       "unit_scale": false
      },
      "application/vnd.jupyter.widget-view+json": {
       "model_id": "9f5077606412476f9f38f2863d5975d5",
       "version_major": 2,
       "version_minor": 0
      },
      "text/plain": [
       "  0%|          | 0/5 [00:00<?, ?it/s]"
      ]
     },
     "metadata": {},
     "output_type": "display_data"
    },
    {
     "name": "stdout",
     "output_type": "stream",
     "text": [
      "Epoch 8/10 - train_loss: 0.1121 - train_f1: 0.9473 - val_loss: 0.9048 - val_f1: 0.6154\n"
     ]
    },
    {
     "data": {
      "application/json": {
       "ascii": false,
       "bar_format": null,
       "colour": null,
       "elapsed": 0.01151132583618164,
       "initial": 0,
       "n": 0,
       "ncols": null,
       "nrows": null,
       "postfix": null,
       "prefix": "",
       "rate": null,
       "total": 33,
       "unit": "it",
       "unit_divisor": 1000,
       "unit_scale": false
      },
      "application/vnd.jupyter.widget-view+json": {
       "model_id": "437f84a09cfe43e585e2ad94c15644f8",
       "version_major": 2,
       "version_minor": 0
      },
      "text/plain": [
       "  0%|          | 0/33 [00:00<?, ?it/s]"
      ]
     },
     "metadata": {},
     "output_type": "display_data"
    },
    {
     "data": {
      "application/json": {
       "ascii": false,
       "bar_format": null,
       "colour": null,
       "elapsed": 0.010519981384277344,
       "initial": 0,
       "n": 0,
       "ncols": null,
       "nrows": null,
       "postfix": null,
       "prefix": "",
       "rate": null,
       "total": 33,
       "unit": "it",
       "unit_divisor": 1000,
       "unit_scale": false
      },
      "application/vnd.jupyter.widget-view+json": {
       "model_id": "67eddeade50547df9bc594d2919fbbc6",
       "version_major": 2,
       "version_minor": 0
      },
      "text/plain": [
       "  0%|          | 0/33 [00:00<?, ?it/s]"
      ]
     },
     "metadata": {},
     "output_type": "display_data"
    },
    {
     "data": {
      "application/json": {
       "ascii": false,
       "bar_format": null,
       "colour": null,
       "elapsed": 0.00850677490234375,
       "initial": 0,
       "n": 0,
       "ncols": null,
       "nrows": null,
       "postfix": null,
       "prefix": "",
       "rate": null,
       "total": 5,
       "unit": "it",
       "unit_divisor": 1000,
       "unit_scale": false
      },
      "application/vnd.jupyter.widget-view+json": {
       "model_id": "94d12cec61214eff992e3febb9c40233",
       "version_major": 2,
       "version_minor": 0
      },
      "text/plain": [
       "  0%|          | 0/5 [00:00<?, ?it/s]"
      ]
     },
     "metadata": {},
     "output_type": "display_data"
    },
    {
     "name": "stdout",
     "output_type": "stream",
     "text": [
      "Epoch 9/10 - train_loss: 0.1232 - train_f1: 0.9496 - val_loss: 1.1592 - val_f1: 0.5516\n"
     ]
    },
    {
     "data": {
      "application/json": {
       "ascii": false,
       "bar_format": null,
       "colour": null,
       "elapsed": 0.010108709335327148,
       "initial": 0,
       "n": 0,
       "ncols": null,
       "nrows": null,
       "postfix": null,
       "prefix": "",
       "rate": null,
       "total": 33,
       "unit": "it",
       "unit_divisor": 1000,
       "unit_scale": false
      },
      "application/vnd.jupyter.widget-view+json": {
       "model_id": "cb06cef7a35446d395b29152421753a2",
       "version_major": 2,
       "version_minor": 0
      },
      "text/plain": [
       "  0%|          | 0/33 [00:00<?, ?it/s]"
      ]
     },
     "metadata": {},
     "output_type": "display_data"
    },
    {
     "data": {
      "application/json": {
       "ascii": false,
       "bar_format": null,
       "colour": null,
       "elapsed": 0.009302377700805664,
       "initial": 0,
       "n": 0,
       "ncols": null,
       "nrows": null,
       "postfix": null,
       "prefix": "",
       "rate": null,
       "total": 33,
       "unit": "it",
       "unit_divisor": 1000,
       "unit_scale": false
      },
      "application/vnd.jupyter.widget-view+json": {
       "model_id": "80862a9c863f4fa3bbe753dcd3199be5",
       "version_major": 2,
       "version_minor": 0
      },
      "text/plain": [
       "  0%|          | 0/33 [00:00<?, ?it/s]"
      ]
     },
     "metadata": {},
     "output_type": "display_data"
    },
    {
     "data": {
      "application/json": {
       "ascii": false,
       "bar_format": null,
       "colour": null,
       "elapsed": 0.010519981384277344,
       "initial": 0,
       "n": 0,
       "ncols": null,
       "nrows": null,
       "postfix": null,
       "prefix": "",
       "rate": null,
       "total": 5,
       "unit": "it",
       "unit_divisor": 1000,
       "unit_scale": false
      },
      "application/vnd.jupyter.widget-view+json": {
       "model_id": "c85b8e2e25854c39a589849e7845d828",
       "version_major": 2,
       "version_minor": 0
      },
      "text/plain": [
       "  0%|          | 0/5 [00:00<?, ?it/s]"
      ]
     },
     "metadata": {},
     "output_type": "display_data"
    },
    {
     "name": "stdout",
     "output_type": "stream",
     "text": [
      "Epoch 10/10 - train_loss: 0.0690 - train_f1: 0.9770 - val_loss: 1.1604 - val_f1: 0.5479\n"
     ]
    }
   ],
   "source": [
    "torch.cuda.empty_cache()\n",
    "best_val_f1 = 0\n",
    "model.train()\n",
    "for epoch in range(epochs):\n",
    "    for data in tqdm(train_loader):\n",
    "        torch.cuda.empty_cache()\n",
    "        seq, seq_len, labels, words = data\n",
    "        seq, labels = seq.to(device), labels.to(device)\n",
    "        optimizer.zero_grad()\n",
    "        output, _ = model(seq, seq_len)\n",
    "        output = F.log_softmax(output, dim=1)\n",
    "        if labels.dtype != torch.long:\n",
    "            labels = labels.type(torch.LongTensor)\n",
    "        output, labels = output.to(device), labels.to(device)\n",
    "        loss = criterion(output, labels)\n",
    "        loss.backward()\n",
    "        optimizer.step()\n",
    "    train_loss, train_f1, _, _, _ = eval_model(model, train_loader, criterion, device)\n",
    "    val_loss, val_f1, _, _, _ = eval_model(model, val_loader, criterion, device)\n",
    "    print(f'Epoch {epoch+1}/{epochs} - train_loss: {train_loss:.4f} - train_f1: {train_f1:.4f} - val_loss: {val_loss:.4f} - val_f1: {val_f1:.4f}')\n",
    "    if val_f1 > best_val_f1:\n",
    "        best_val_f1 = val_f1\n",
    "        best_state_dict = copy.deepcopy(model.state_dict())"
   ]
  },
  {
   "cell_type": "code",
   "execution_count": 12,
   "metadata": {},
   "outputs": [
    {
     "name": "stdout",
     "output_type": "stream",
     "text": [
      "PyTorch version: 1.13.1+cu116\n",
      "CUDA version: 11.6\n",
      "Memoria asignada actualmente: 1862.60 MB\n",
      "Memoria libre en cuda: 1116.01 MB\n"
     ]
    }
   ],
   "source": [
    "print(f\"PyTorch version: {torch.__version__}\")\n",
    "print(f\"CUDA version: {torch.version.cuda}\")\n",
    "\n",
    "memory_allocated = torch.cuda.memory_allocated()\n",
    "print(f\"Memoria asignada actualmente: {memory_allocated / 1024**2:.2f} MB\")\n",
    "\n",
    "allocated_memory = torch.cuda.memory_allocated(device=device)\n",
    "max_allocated_memory = torch.cuda.max_memory_allocated(device=device)\n",
    "free_memory = max_allocated_memory - allocated_memory\n",
    "print(f\"Memoria libre en {device}: {free_memory / 1024**2:.2f} MB\")"
   ]
  },
  {
   "cell_type": "code",
   "execution_count": 13,
   "metadata": {},
   "outputs": [
    {
     "data": {
      "application/json": {
       "ascii": false,
       "bar_format": null,
       "colour": null,
       "elapsed": 0.010030746459960938,
       "initial": 0,
       "n": 0,
       "ncols": null,
       "nrows": null,
       "postfix": null,
       "prefix": "",
       "rate": null,
       "total": 33,
       "unit": "it",
       "unit_divisor": 1000,
       "unit_scale": false
      },
      "application/vnd.jupyter.widget-view+json": {
       "model_id": "3d72e0e9e528471483ba6b763d7a7017",
       "version_major": 2,
       "version_minor": 0
      },
      "text/plain": [
       "  0%|          | 0/33 [00:00<?, ?it/s]"
      ]
     },
     "metadata": {},
     "output_type": "display_data"
    },
    {
     "data": {
      "application/json": {
       "ascii": false,
       "bar_format": null,
       "colour": null,
       "elapsed": 0.009021997451782227,
       "initial": 0,
       "n": 0,
       "ncols": null,
       "nrows": null,
       "postfix": null,
       "prefix": "",
       "rate": null,
       "total": 5,
       "unit": "it",
       "unit_divisor": 1000,
       "unit_scale": false
      },
      "application/vnd.jupyter.widget-view+json": {
       "model_id": "396a939ff3124e788b940b7ba7273a9c",
       "version_major": 2,
       "version_minor": 0
      },
      "text/plain": [
       "  0%|          | 0/5 [00:00<?, ?it/s]"
      ]
     },
     "metadata": {},
     "output_type": "display_data"
    },
    {
     "data": {
      "application/json": {
       "ascii": false,
       "bar_format": null,
       "colour": null,
       "elapsed": 0.008512496948242188,
       "initial": 0,
       "n": 0,
       "ncols": null,
       "nrows": null,
       "postfix": null,
       "prefix": "",
       "rate": null,
       "total": 11,
       "unit": "it",
       "unit_divisor": 1000,
       "unit_scale": false
      },
      "application/vnd.jupyter.widget-view+json": {
       "model_id": "cdab106035714bb2ae37dfa85705443c",
       "version_major": 2,
       "version_minor": 0
      },
      "text/plain": [
       "  0%|          | 0/11 [00:00<?, ?it/s]"
      ]
     },
     "metadata": {},
     "output_type": "display_data"
    },
    {
     "name": "stdout",
     "output_type": "stream",
     "text": [
      "Best val f1: 0.6154\n",
      "Train loss: 0.1127 - Train f1: 0.9473\n",
      "Val loss: 0.9048 - Val f1: 0.6154\n",
      "Test loss: 0.8888 - Test f1: 0.6059\n"
     ]
    }
   ],
   "source": [
    "model.load_state_dict(best_state_dict)\n",
    "train_loss, train_f1, _, _, _ = eval_model(model, train_loader, criterion, device)\n",
    "val_loss, val_f1, _, _, _ = eval_model(model, val_loader, criterion, device)\n",
    "test_loss, test_f1, _, _, _ = eval_model(model, test_loader, criterion, device)\n",
    "\n",
    "print(f'Best val f1: {best_val_f1:.4f}')\n",
    "print(f'Train loss: {train_loss:.4f} - Train f1: {train_f1:.4f}')\n",
    "print(f'Val loss: {val_loss:.4f} - Val f1: {val_f1:.4f}')\n",
    "print(f'Test loss: {test_loss:.4f} - Test f1: {test_f1:.4f}')   "
   ]
  },
  {
   "attachments": {},
   "cell_type": "markdown",
   "metadata": {},
   "source": [
    "# GRU con Atencion"
   ]
  },
  {
   "cell_type": "code",
   "execution_count": 14,
   "metadata": {},
   "outputs": [],
   "source": [
    "class AttnModule(nn.Module):\n",
    "\n",
    "    def __init__(self, input_size, attn_hidden_size=128):\n",
    "        super(AttnModule, self).__init__()\n",
    "        self.fc1 = nn.Linear(input_size, attn_hidden_size)\n",
    "        self.fc2 = nn.Linear(attn_hidden_size, 1, bias=False)\n",
    "\n",
    "    def forward(self, seq, lengths):\n",
    "        x = pad_packed_sequence(seq)[0]\n",
    "        seq_len, batch_size, nhid = x.size()\n",
    "        u = self.fc1(x.view(batch_size*seq_len, nhid))\n",
    "        u = torch.tanh(u)\n",
    "        scores = self.fc2(u)\n",
    "        scores = scores.view(seq_len, batch_size , 1)\n",
    "        scores = nn.utils.rnn.pack_padded_sequence(scores, lengths=lengths, enforce_sorted=False)\n",
    "        scores = nn.utils.rnn.pad_packed_sequence(scores, padding_value=-100)[0]\n",
    "        scores= F.softmax(scores, dim=0)\n",
    "        scores = scores.transpose(0,1)\n",
    "        x = x.transpose(0,1).transpose(1,2)\n",
    "        x = torch.bmm(x,scores)\n",
    "        return x.squeeze(2), scores"
   ]
  },
  {
   "cell_type": "code",
   "execution_count": 15,
   "metadata": {},
   "outputs": [],
   "source": [
    "class AttnRNN(nn.Module):\n",
    "\n",
    "    def __init__(self, input_size=100, hidden_size=128, num_layers=1, \n",
    "                 bidirectional=False, emb_mat=None, dense_hidden_size=256,\n",
    "                 attn_hidden_size=128):\n",
    "        super(AttnRNN, self).__init__()\n",
    "        self.embeddings = nn.Embedding.from_pretrained(torch.FloatTensor(emb_mat), freeze=False)\n",
    "        self.gru = nn.GRU(input_size, hidden_size, num_layers, bidirectional=bidirectional)\n",
    "        directions = 2 if bidirectional else 1\n",
    "        self.attn = AttnModule(input_size=hidden_size*directions)\n",
    "        self.classifier = nn.Sequential(\n",
    "            nn.Linear(hidden_size*directions, dense_hidden_size),\n",
    "            nn.BatchNorm1d(dense_hidden_size),\n",
    "            nn.ReLU(),\n",
    "            nn.Linear(dense_hidden_size, 2)\n",
    "        )\n",
    "\n",
    "    def forward(self, input_seq, lengths):\n",
    "        x = self.embeddings(input_seq)\n",
    "        x = x.split(lengths.tolist())\n",
    "        x = pad_sequence(x)\n",
    "        x = pack_padded_sequence(x, lengths=lengths.tolist(), enforce_sorted=False)\n",
    "        output, hn = self.gru(x)\n",
    "        x, scores = self.attn(output, lengths)\n",
    "        x = self.classifier(x)\n",
    "        return x.squeeze(), scores #.detach()"
   ]
  },
  {
   "cell_type": "code",
   "execution_count": 16,
   "metadata": {},
   "outputs": [],
   "source": [
    "lr = 0.0001\n",
    "epochs = 20\n",
    "device = torch.device('cuda' if torch.cuda.is_available() else 'cpu')\n",
    "weight_decay = 0.0001\n",
    "beta_1 = 0\n",
    "beta_2 = 0.999"
   ]
  },
  {
   "cell_type": "code",
   "execution_count": 17,
   "metadata": {},
   "outputs": [],
   "source": [
    "model = AttnRNN(emb_mat=train_dataset.emb_mat).to(device)\n",
    "optimizer = optim.Adam(model.parameters(), lr=lr, weight_decay=weight_decay, betas=(beta_1, beta_2))\n",
    "weight = train_dataset.get_weights().to(device)\n",
    "criterion = nn.NLLLoss(weight=weight)"
   ]
  },
  {
   "cell_type": "code",
   "execution_count": 20,
   "metadata": {},
   "outputs": [
    {
     "data": {
      "application/json": {
       "ascii": false,
       "bar_format": null,
       "colour": null,
       "elapsed": 0.013006210327148438,
       "initial": 0,
       "n": 0,
       "ncols": null,
       "nrows": null,
       "postfix": null,
       "prefix": "",
       "rate": null,
       "total": 33,
       "unit": "it",
       "unit_divisor": 1000,
       "unit_scale": false
      },
      "application/vnd.jupyter.widget-view+json": {
       "model_id": "723cdadcaa064ec18b270ee4fcf70d9e",
       "version_major": 2,
       "version_minor": 0
      },
      "text/plain": [
       "  0%|          | 0/33 [00:00<?, ?it/s]"
      ]
     },
     "metadata": {},
     "output_type": "display_data"
    },
    {
     "data": {
      "application/json": {
       "ascii": false,
       "bar_format": null,
       "colour": null,
       "elapsed": 0.010161399841308594,
       "initial": 0,
       "n": 0,
       "ncols": null,
       "nrows": null,
       "postfix": null,
       "prefix": "",
       "rate": null,
       "total": 33,
       "unit": "it",
       "unit_divisor": 1000,
       "unit_scale": false
      },
      "application/vnd.jupyter.widget-view+json": {
       "model_id": "545e3e8408064090b5aafec5bc9eda32",
       "version_major": 2,
       "version_minor": 0
      },
      "text/plain": [
       "  0%|          | 0/33 [00:00<?, ?it/s]"
      ]
     },
     "metadata": {},
     "output_type": "display_data"
    },
    {
     "data": {
      "application/json": {
       "ascii": false,
       "bar_format": null,
       "colour": null,
       "elapsed": 0.010001182556152344,
       "initial": 0,
       "n": 0,
       "ncols": null,
       "nrows": null,
       "postfix": null,
       "prefix": "",
       "rate": null,
       "total": 5,
       "unit": "it",
       "unit_divisor": 1000,
       "unit_scale": false
      },
      "application/vnd.jupyter.widget-view+json": {
       "model_id": "a2c6a89061114467baabdb7d4f23c9b7",
       "version_major": 2,
       "version_minor": 0
      },
      "text/plain": [
       "  0%|          | 0/5 [00:00<?, ?it/s]"
      ]
     },
     "metadata": {},
     "output_type": "display_data"
    },
    {
     "name": "stdout",
     "output_type": "stream",
     "text": [
      "Epoch 1/20 - train_loss: 0.5927 - train_f1: 0.6308 - val_loss: 0.6145 - val_f1: 0.5709\n"
     ]
    },
    {
     "data": {
      "application/json": {
       "ascii": false,
       "bar_format": null,
       "colour": null,
       "elapsed": 0.011001348495483398,
       "initial": 0,
       "n": 0,
       "ncols": null,
       "nrows": null,
       "postfix": null,
       "prefix": "",
       "rate": null,
       "total": 33,
       "unit": "it",
       "unit_divisor": 1000,
       "unit_scale": false
      },
      "application/vnd.jupyter.widget-view+json": {
       "model_id": "b984121a7da249a080c245c61d91cfe7",
       "version_major": 2,
       "version_minor": 0
      },
      "text/plain": [
       "  0%|          | 0/33 [00:00<?, ?it/s]"
      ]
     },
     "metadata": {},
     "output_type": "display_data"
    },
    {
     "data": {
      "application/json": {
       "ascii": false,
       "bar_format": null,
       "colour": null,
       "elapsed": 0.012999296188354492,
       "initial": 0,
       "n": 0,
       "ncols": null,
       "nrows": null,
       "postfix": null,
       "prefix": "",
       "rate": null,
       "total": 33,
       "unit": "it",
       "unit_divisor": 1000,
       "unit_scale": false
      },
      "application/vnd.jupyter.widget-view+json": {
       "model_id": "3d3940ba5d214f31b1a45995c14eec71",
       "version_major": 2,
       "version_minor": 0
      },
      "text/plain": [
       "  0%|          | 0/33 [00:00<?, ?it/s]"
      ]
     },
     "metadata": {},
     "output_type": "display_data"
    },
    {
     "data": {
      "application/json": {
       "ascii": false,
       "bar_format": null,
       "colour": null,
       "elapsed": 0.011519908905029297,
       "initial": 0,
       "n": 0,
       "ncols": null,
       "nrows": null,
       "postfix": null,
       "prefix": "",
       "rate": null,
       "total": 5,
       "unit": "it",
       "unit_divisor": 1000,
       "unit_scale": false
      },
      "application/vnd.jupyter.widget-view+json": {
       "model_id": "f16786aa2dcf4c9d916c406bc7d382bd",
       "version_major": 2,
       "version_minor": 0
      },
      "text/plain": [
       "  0%|          | 0/5 [00:00<?, ?it/s]"
      ]
     },
     "metadata": {},
     "output_type": "display_data"
    },
    {
     "name": "stdout",
     "output_type": "stream",
     "text": [
      "Epoch 2/20 - train_loss: 0.5591 - train_f1: 0.6498 - val_loss: 0.5901 - val_f1: 0.6004\n"
     ]
    },
    {
     "data": {
      "application/json": {
       "ascii": false,
       "bar_format": null,
       "colour": null,
       "elapsed": 0.013997554779052734,
       "initial": 0,
       "n": 0,
       "ncols": null,
       "nrows": null,
       "postfix": null,
       "prefix": "",
       "rate": null,
       "total": 33,
       "unit": "it",
       "unit_divisor": 1000,
       "unit_scale": false
      },
      "application/vnd.jupyter.widget-view+json": {
       "model_id": "ba79c70b3bc34381a6b56c8a5f667ece",
       "version_major": 2,
       "version_minor": 0
      },
      "text/plain": [
       "  0%|          | 0/33 [00:00<?, ?it/s]"
      ]
     },
     "metadata": {},
     "output_type": "display_data"
    },
    {
     "data": {
      "application/json": {
       "ascii": false,
       "bar_format": null,
       "colour": null,
       "elapsed": 0.009001016616821289,
       "initial": 0,
       "n": 0,
       "ncols": null,
       "nrows": null,
       "postfix": null,
       "prefix": "",
       "rate": null,
       "total": 33,
       "unit": "it",
       "unit_divisor": 1000,
       "unit_scale": false
      },
      "application/vnd.jupyter.widget-view+json": {
       "model_id": "176bfb8f4b7c432aae6a19cedceb50c2",
       "version_major": 2,
       "version_minor": 0
      },
      "text/plain": [
       "  0%|          | 0/33 [00:00<?, ?it/s]"
      ]
     },
     "metadata": {},
     "output_type": "display_data"
    },
    {
     "data": {
      "application/json": {
       "ascii": false,
       "bar_format": null,
       "colour": null,
       "elapsed": 0.009000062942504883,
       "initial": 0,
       "n": 0,
       "ncols": null,
       "nrows": null,
       "postfix": null,
       "prefix": "",
       "rate": null,
       "total": 5,
       "unit": "it",
       "unit_divisor": 1000,
       "unit_scale": false
      },
      "application/vnd.jupyter.widget-view+json": {
       "model_id": "85a4d216f1fd4a3da55a67e9e97a3152",
       "version_major": 2,
       "version_minor": 0
      },
      "text/plain": [
       "  0%|          | 0/5 [00:00<?, ?it/s]"
      ]
     },
     "metadata": {},
     "output_type": "display_data"
    },
    {
     "name": "stdout",
     "output_type": "stream",
     "text": [
      "Epoch 3/20 - train_loss: 0.5356 - train_f1: 0.6629 - val_loss: 0.5751 - val_f1: 0.6338\n"
     ]
    },
    {
     "data": {
      "application/json": {
       "ascii": false,
       "bar_format": null,
       "colour": null,
       "elapsed": 0.009001731872558594,
       "initial": 0,
       "n": 0,
       "ncols": null,
       "nrows": null,
       "postfix": null,
       "prefix": "",
       "rate": null,
       "total": 33,
       "unit": "it",
       "unit_divisor": 1000,
       "unit_scale": false
      },
      "application/vnd.jupyter.widget-view+json": {
       "model_id": "fb2a661b9e63439485873da0e9031fc9",
       "version_major": 2,
       "version_minor": 0
      },
      "text/plain": [
       "  0%|          | 0/33 [00:00<?, ?it/s]"
      ]
     },
     "metadata": {},
     "output_type": "display_data"
    },
    {
     "data": {
      "application/json": {
       "ascii": false,
       "bar_format": null,
       "colour": null,
       "elapsed": 0.009998083114624023,
       "initial": 0,
       "n": 0,
       "ncols": null,
       "nrows": null,
       "postfix": null,
       "prefix": "",
       "rate": null,
       "total": 33,
       "unit": "it",
       "unit_divisor": 1000,
       "unit_scale": false
      },
      "application/vnd.jupyter.widget-view+json": {
       "model_id": "4cee682e55d344e08ba4ec88c6a9f9c2",
       "version_major": 2,
       "version_minor": 0
      },
      "text/plain": [
       "  0%|          | 0/33 [00:00<?, ?it/s]"
      ]
     },
     "metadata": {},
     "output_type": "display_data"
    },
    {
     "data": {
      "application/json": {
       "ascii": false,
       "bar_format": null,
       "colour": null,
       "elapsed": 0.010001182556152344,
       "initial": 0,
       "n": 0,
       "ncols": null,
       "nrows": null,
       "postfix": null,
       "prefix": "",
       "rate": null,
       "total": 5,
       "unit": "it",
       "unit_divisor": 1000,
       "unit_scale": false
      },
      "application/vnd.jupyter.widget-view+json": {
       "model_id": "b3f728ef51b04382ad01089205053119",
       "version_major": 2,
       "version_minor": 0
      },
      "text/plain": [
       "  0%|          | 0/5 [00:00<?, ?it/s]"
      ]
     },
     "metadata": {},
     "output_type": "display_data"
    },
    {
     "name": "stdout",
     "output_type": "stream",
     "text": [
      "Epoch 4/20 - train_loss: 0.5120 - train_f1: 0.6898 - val_loss: 0.5646 - val_f1: 0.6395\n"
     ]
    },
    {
     "data": {
      "application/json": {
       "ascii": false,
       "bar_format": null,
       "colour": null,
       "elapsed": 0.009999990463256836,
       "initial": 0,
       "n": 0,
       "ncols": null,
       "nrows": null,
       "postfix": null,
       "prefix": "",
       "rate": null,
       "total": 33,
       "unit": "it",
       "unit_divisor": 1000,
       "unit_scale": false
      },
      "application/vnd.jupyter.widget-view+json": {
       "model_id": "56c37303b2cc4db5a51825f7637f59b6",
       "version_major": 2,
       "version_minor": 0
      },
      "text/plain": [
       "  0%|          | 0/33 [00:00<?, ?it/s]"
      ]
     },
     "metadata": {},
     "output_type": "display_data"
    },
    {
     "data": {
      "application/json": {
       "ascii": false,
       "bar_format": null,
       "colour": null,
       "elapsed": 0.010002613067626953,
       "initial": 0,
       "n": 0,
       "ncols": null,
       "nrows": null,
       "postfix": null,
       "prefix": "",
       "rate": null,
       "total": 33,
       "unit": "it",
       "unit_divisor": 1000,
       "unit_scale": false
      },
      "application/vnd.jupyter.widget-view+json": {
       "model_id": "a08d3c8719e645959e4a159ff4926455",
       "version_major": 2,
       "version_minor": 0
      },
      "text/plain": [
       "  0%|          | 0/33 [00:00<?, ?it/s]"
      ]
     },
     "metadata": {},
     "output_type": "display_data"
    },
    {
     "data": {
      "application/json": {
       "ascii": false,
       "bar_format": null,
       "colour": null,
       "elapsed": 0.010010480880737305,
       "initial": 0,
       "n": 0,
       "ncols": null,
       "nrows": null,
       "postfix": null,
       "prefix": "",
       "rate": null,
       "total": 5,
       "unit": "it",
       "unit_divisor": 1000,
       "unit_scale": false
      },
      "application/vnd.jupyter.widget-view+json": {
       "model_id": "c87ab679b7a04ab2a76ed7ef7d8acf89",
       "version_major": 2,
       "version_minor": 0
      },
      "text/plain": [
       "  0%|          | 0/5 [00:00<?, ?it/s]"
      ]
     },
     "metadata": {},
     "output_type": "display_data"
    },
    {
     "name": "stdout",
     "output_type": "stream",
     "text": [
      "Epoch 5/20 - train_loss: 0.4940 - train_f1: 0.7127 - val_loss: 0.5565 - val_f1: 0.6364\n"
     ]
    },
    {
     "data": {
      "application/json": {
       "ascii": false,
       "bar_format": null,
       "colour": null,
       "elapsed": 0.008999347686767578,
       "initial": 0,
       "n": 0,
       "ncols": null,
       "nrows": null,
       "postfix": null,
       "prefix": "",
       "rate": null,
       "total": 33,
       "unit": "it",
       "unit_divisor": 1000,
       "unit_scale": false
      },
      "application/vnd.jupyter.widget-view+json": {
       "model_id": "66eb0aee02bf45d297a8dd276862fec3",
       "version_major": 2,
       "version_minor": 0
      },
      "text/plain": [
       "  0%|          | 0/33 [00:00<?, ?it/s]"
      ]
     },
     "metadata": {},
     "output_type": "display_data"
    },
    {
     "data": {
      "application/json": {
       "ascii": false,
       "bar_format": null,
       "colour": null,
       "elapsed": 0.00900125503540039,
       "initial": 0,
       "n": 0,
       "ncols": null,
       "nrows": null,
       "postfix": null,
       "prefix": "",
       "rate": null,
       "total": 33,
       "unit": "it",
       "unit_divisor": 1000,
       "unit_scale": false
      },
      "application/vnd.jupyter.widget-view+json": {
       "model_id": "cc6a18b7caa6453aa7c583b2806c49d1",
       "version_major": 2,
       "version_minor": 0
      },
      "text/plain": [
       "  0%|          | 0/33 [00:00<?, ?it/s]"
      ]
     },
     "metadata": {},
     "output_type": "display_data"
    },
    {
     "data": {
      "application/json": {
       "ascii": false,
       "bar_format": null,
       "colour": null,
       "elapsed": 0.008997917175292969,
       "initial": 0,
       "n": 0,
       "ncols": null,
       "nrows": null,
       "postfix": null,
       "prefix": "",
       "rate": null,
       "total": 5,
       "unit": "it",
       "unit_divisor": 1000,
       "unit_scale": false
      },
      "application/vnd.jupyter.widget-view+json": {
       "model_id": "11f6e9c940814f07b60ea355d9ca7cbf",
       "version_major": 2,
       "version_minor": 0
      },
      "text/plain": [
       "  0%|          | 0/5 [00:00<?, ?it/s]"
      ]
     },
     "metadata": {},
     "output_type": "display_data"
    },
    {
     "name": "stdout",
     "output_type": "stream",
     "text": [
      "Epoch 6/20 - train_loss: 0.4754 - train_f1: 0.7236 - val_loss: 0.5498 - val_f1: 0.6253\n"
     ]
    },
    {
     "data": {
      "application/json": {
       "ascii": false,
       "bar_format": null,
       "colour": null,
       "elapsed": 0.007993698120117188,
       "initial": 0,
       "n": 0,
       "ncols": null,
       "nrows": null,
       "postfix": null,
       "prefix": "",
       "rate": null,
       "total": 33,
       "unit": "it",
       "unit_divisor": 1000,
       "unit_scale": false
      },
      "application/vnd.jupyter.widget-view+json": {
       "model_id": "cde3765748414aa1806e7d1b7e5b6eec",
       "version_major": 2,
       "version_minor": 0
      },
      "text/plain": [
       "  0%|          | 0/33 [00:00<?, ?it/s]"
      ]
     },
     "metadata": {},
     "output_type": "display_data"
    },
    {
     "data": {
      "application/json": {
       "ascii": false,
       "bar_format": null,
       "colour": null,
       "elapsed": 0.00951075553894043,
       "initial": 0,
       "n": 0,
       "ncols": null,
       "nrows": null,
       "postfix": null,
       "prefix": "",
       "rate": null,
       "total": 33,
       "unit": "it",
       "unit_divisor": 1000,
       "unit_scale": false
      },
      "application/vnd.jupyter.widget-view+json": {
       "model_id": "31029da244d7488d93c09c7aa8de3b98",
       "version_major": 2,
       "version_minor": 0
      },
      "text/plain": [
       "  0%|          | 0/33 [00:00<?, ?it/s]"
      ]
     },
     "metadata": {},
     "output_type": "display_data"
    },
    {
     "data": {
      "application/json": {
       "ascii": false,
       "bar_format": null,
       "colour": null,
       "elapsed": 0.008996248245239258,
       "initial": 0,
       "n": 0,
       "ncols": null,
       "nrows": null,
       "postfix": null,
       "prefix": "",
       "rate": null,
       "total": 5,
       "unit": "it",
       "unit_divisor": 1000,
       "unit_scale": false
      },
      "application/vnd.jupyter.widget-view+json": {
       "model_id": "2fca13cecdd74f1a9d029fd9bd0d18bf",
       "version_major": 2,
       "version_minor": 0
      },
      "text/plain": [
       "  0%|          | 0/5 [00:00<?, ?it/s]"
      ]
     },
     "metadata": {},
     "output_type": "display_data"
    },
    {
     "name": "stdout",
     "output_type": "stream",
     "text": [
      "Epoch 7/20 - train_loss: 0.4606 - train_f1: 0.7338 - val_loss: 0.5487 - val_f1: 0.6438\n"
     ]
    },
    {
     "data": {
      "application/json": {
       "ascii": false,
       "bar_format": null,
       "colour": null,
       "elapsed": 0.009996652603149414,
       "initial": 0,
       "n": 0,
       "ncols": null,
       "nrows": null,
       "postfix": null,
       "prefix": "",
       "rate": null,
       "total": 33,
       "unit": "it",
       "unit_divisor": 1000,
       "unit_scale": false
      },
      "application/vnd.jupyter.widget-view+json": {
       "model_id": "71f79b9ddbf243efad545c64260b0c65",
       "version_major": 2,
       "version_minor": 0
      },
      "text/plain": [
       "  0%|          | 0/33 [00:00<?, ?it/s]"
      ]
     },
     "metadata": {},
     "output_type": "display_data"
    },
    {
     "data": {
      "application/json": {
       "ascii": false,
       "bar_format": null,
       "colour": null,
       "elapsed": 0.009997844696044922,
       "initial": 0,
       "n": 0,
       "ncols": null,
       "nrows": null,
       "postfix": null,
       "prefix": "",
       "rate": null,
       "total": 33,
       "unit": "it",
       "unit_divisor": 1000,
       "unit_scale": false
      },
      "application/vnd.jupyter.widget-view+json": {
       "model_id": "d48e0155a8404075a980586871475448",
       "version_major": 2,
       "version_minor": 0
      },
      "text/plain": [
       "  0%|          | 0/33 [00:00<?, ?it/s]"
      ]
     },
     "metadata": {},
     "output_type": "display_data"
    },
    {
     "data": {
      "application/json": {
       "ascii": false,
       "bar_format": null,
       "colour": null,
       "elapsed": 0.011008024215698242,
       "initial": 0,
       "n": 0,
       "ncols": null,
       "nrows": null,
       "postfix": null,
       "prefix": "",
       "rate": null,
       "total": 5,
       "unit": "it",
       "unit_divisor": 1000,
       "unit_scale": false
      },
      "application/vnd.jupyter.widget-view+json": {
       "model_id": "bafcff8868b840989b41a20f652550fa",
       "version_major": 2,
       "version_minor": 0
      },
      "text/plain": [
       "  0%|          | 0/5 [00:00<?, ?it/s]"
      ]
     },
     "metadata": {},
     "output_type": "display_data"
    },
    {
     "name": "stdout",
     "output_type": "stream",
     "text": [
      "Epoch 8/20 - train_loss: 0.4420 - train_f1: 0.7561 - val_loss: 0.5443 - val_f1: 0.6379\n"
     ]
    },
    {
     "data": {
      "application/json": {
       "ascii": false,
       "bar_format": null,
       "colour": null,
       "elapsed": 0.009003877639770508,
       "initial": 0,
       "n": 0,
       "ncols": null,
       "nrows": null,
       "postfix": null,
       "prefix": "",
       "rate": null,
       "total": 33,
       "unit": "it",
       "unit_divisor": 1000,
       "unit_scale": false
      },
      "application/vnd.jupyter.widget-view+json": {
       "model_id": "0f2a2b3a10cf4a818da32f2b23909e1a",
       "version_major": 2,
       "version_minor": 0
      },
      "text/plain": [
       "  0%|          | 0/33 [00:00<?, ?it/s]"
      ]
     },
     "metadata": {},
     "output_type": "display_data"
    },
    {
     "data": {
      "application/json": {
       "ascii": false,
       "bar_format": null,
       "colour": null,
       "elapsed": 0.013004541397094727,
       "initial": 0,
       "n": 0,
       "ncols": null,
       "nrows": null,
       "postfix": null,
       "prefix": "",
       "rate": null,
       "total": 33,
       "unit": "it",
       "unit_divisor": 1000,
       "unit_scale": false
      },
      "application/vnd.jupyter.widget-view+json": {
       "model_id": "65785704dc69493ca54c9230c7766b4f",
       "version_major": 2,
       "version_minor": 0
      },
      "text/plain": [
       "  0%|          | 0/33 [00:00<?, ?it/s]"
      ]
     },
     "metadata": {},
     "output_type": "display_data"
    },
    {
     "data": {
      "application/json": {
       "ascii": false,
       "bar_format": null,
       "colour": null,
       "elapsed": 0.009999275207519531,
       "initial": 0,
       "n": 0,
       "ncols": null,
       "nrows": null,
       "postfix": null,
       "prefix": "",
       "rate": null,
       "total": 5,
       "unit": "it",
       "unit_divisor": 1000,
       "unit_scale": false
      },
      "application/vnd.jupyter.widget-view+json": {
       "model_id": "db6ec6b53e0442619bfa5da04aaeb482",
       "version_major": 2,
       "version_minor": 0
      },
      "text/plain": [
       "  0%|          | 0/5 [00:00<?, ?it/s]"
      ]
     },
     "metadata": {},
     "output_type": "display_data"
    },
    {
     "name": "stdout",
     "output_type": "stream",
     "text": [
      "Epoch 9/20 - train_loss: 0.4306 - train_f1: 0.7620 - val_loss: 0.5486 - val_f1: 0.6391\n"
     ]
    },
    {
     "data": {
      "application/json": {
       "ascii": false,
       "bar_format": null,
       "colour": null,
       "elapsed": 0.009003400802612305,
       "initial": 0,
       "n": 0,
       "ncols": null,
       "nrows": null,
       "postfix": null,
       "prefix": "",
       "rate": null,
       "total": 33,
       "unit": "it",
       "unit_divisor": 1000,
       "unit_scale": false
      },
      "application/vnd.jupyter.widget-view+json": {
       "model_id": "08c6832825264c38bcc28bb2d410adb9",
       "version_major": 2,
       "version_minor": 0
      },
      "text/plain": [
       "  0%|          | 0/33 [00:00<?, ?it/s]"
      ]
     },
     "metadata": {},
     "output_type": "display_data"
    },
    {
     "data": {
      "application/json": {
       "ascii": false,
       "bar_format": null,
       "colour": null,
       "elapsed": 0.009002447128295898,
       "initial": 0,
       "n": 0,
       "ncols": null,
       "nrows": null,
       "postfix": null,
       "prefix": "",
       "rate": null,
       "total": 33,
       "unit": "it",
       "unit_divisor": 1000,
       "unit_scale": false
      },
      "application/vnd.jupyter.widget-view+json": {
       "model_id": "7f60a0beaacd4beaa9d61fb74688a2f8",
       "version_major": 2,
       "version_minor": 0
      },
      "text/plain": [
       "  0%|          | 0/33 [00:00<?, ?it/s]"
      ]
     },
     "metadata": {},
     "output_type": "display_data"
    },
    {
     "data": {
      "application/json": {
       "ascii": false,
       "bar_format": null,
       "colour": null,
       "elapsed": 0.008999347686767578,
       "initial": 0,
       "n": 0,
       "ncols": null,
       "nrows": null,
       "postfix": null,
       "prefix": "",
       "rate": null,
       "total": 5,
       "unit": "it",
       "unit_divisor": 1000,
       "unit_scale": false
      },
      "application/vnd.jupyter.widget-view+json": {
       "model_id": "444f07660d1149728a30a066b68d5973",
       "version_major": 2,
       "version_minor": 0
      },
      "text/plain": [
       "  0%|          | 0/5 [00:00<?, ?it/s]"
      ]
     },
     "metadata": {},
     "output_type": "display_data"
    },
    {
     "name": "stdout",
     "output_type": "stream",
     "text": [
      "Epoch 10/20 - train_loss: 0.4084 - train_f1: 0.7759 - val_loss: 0.5424 - val_f1: 0.6442\n"
     ]
    },
    {
     "data": {
      "application/json": {
       "ascii": false,
       "bar_format": null,
       "colour": null,
       "elapsed": 0.009002685546875,
       "initial": 0,
       "n": 0,
       "ncols": null,
       "nrows": null,
       "postfix": null,
       "prefix": "",
       "rate": null,
       "total": 33,
       "unit": "it",
       "unit_divisor": 1000,
       "unit_scale": false
      },
      "application/vnd.jupyter.widget-view+json": {
       "model_id": "1d9d6fc7ef2943ce8e61b11c4c1e4c03",
       "version_major": 2,
       "version_minor": 0
      },
      "text/plain": [
       "  0%|          | 0/33 [00:00<?, ?it/s]"
      ]
     },
     "metadata": {},
     "output_type": "display_data"
    },
    {
     "data": {
      "application/json": {
       "ascii": false,
       "bar_format": null,
       "colour": null,
       "elapsed": 0.009001970291137695,
       "initial": 0,
       "n": 0,
       "ncols": null,
       "nrows": null,
       "postfix": null,
       "prefix": "",
       "rate": null,
       "total": 33,
       "unit": "it",
       "unit_divisor": 1000,
       "unit_scale": false
      },
      "application/vnd.jupyter.widget-view+json": {
       "model_id": "22b6d82b981b48e3b9d1739d55ce7f13",
       "version_major": 2,
       "version_minor": 0
      },
      "text/plain": [
       "  0%|          | 0/33 [00:00<?, ?it/s]"
      ]
     },
     "metadata": {},
     "output_type": "display_data"
    },
    {
     "data": {
      "application/json": {
       "ascii": false,
       "bar_format": null,
       "colour": null,
       "elapsed": 0.00899648666381836,
       "initial": 0,
       "n": 0,
       "ncols": null,
       "nrows": null,
       "postfix": null,
       "prefix": "",
       "rate": null,
       "total": 5,
       "unit": "it",
       "unit_divisor": 1000,
       "unit_scale": false
      },
      "application/vnd.jupyter.widget-view+json": {
       "model_id": "11b3063b7117438ea0eea09eb5037775",
       "version_major": 2,
       "version_minor": 0
      },
      "text/plain": [
       "  0%|          | 0/5 [00:00<?, ?it/s]"
      ]
     },
     "metadata": {},
     "output_type": "display_data"
    },
    {
     "name": "stdout",
     "output_type": "stream",
     "text": [
      "Epoch 11/20 - train_loss: 0.3964 - train_f1: 0.7834 - val_loss: 0.5483 - val_f1: 0.6287\n"
     ]
    },
    {
     "data": {
      "application/json": {
       "ascii": false,
       "bar_format": null,
       "colour": null,
       "elapsed": 0.009003639221191406,
       "initial": 0,
       "n": 0,
       "ncols": null,
       "nrows": null,
       "postfix": null,
       "prefix": "",
       "rate": null,
       "total": 33,
       "unit": "it",
       "unit_divisor": 1000,
       "unit_scale": false
      },
      "application/vnd.jupyter.widget-view+json": {
       "model_id": "3ba2a649c3594533877cb509a365f695",
       "version_major": 2,
       "version_minor": 0
      },
      "text/plain": [
       "  0%|          | 0/33 [00:00<?, ?it/s]"
      ]
     },
     "metadata": {},
     "output_type": "display_data"
    },
    {
     "data": {
      "application/json": {
       "ascii": false,
       "bar_format": null,
       "colour": null,
       "elapsed": 0.010999202728271484,
       "initial": 0,
       "n": 0,
       "ncols": null,
       "nrows": null,
       "postfix": null,
       "prefix": "",
       "rate": null,
       "total": 33,
       "unit": "it",
       "unit_divisor": 1000,
       "unit_scale": false
      },
      "application/vnd.jupyter.widget-view+json": {
       "model_id": "7a59f8bc4d8d45d082bd5bfaa308a14e",
       "version_major": 2,
       "version_minor": 0
      },
      "text/plain": [
       "  0%|          | 0/33 [00:00<?, ?it/s]"
      ]
     },
     "metadata": {},
     "output_type": "display_data"
    },
    {
     "data": {
      "application/json": {
       "ascii": false,
       "bar_format": null,
       "colour": null,
       "elapsed": 0.009007453918457031,
       "initial": 0,
       "n": 0,
       "ncols": null,
       "nrows": null,
       "postfix": null,
       "prefix": "",
       "rate": null,
       "total": 5,
       "unit": "it",
       "unit_divisor": 1000,
       "unit_scale": false
      },
      "application/vnd.jupyter.widget-view+json": {
       "model_id": "390d874be3de4747a77c0a0d2ce620d9",
       "version_major": 2,
       "version_minor": 0
      },
      "text/plain": [
       "  0%|          | 0/5 [00:00<?, ?it/s]"
      ]
     },
     "metadata": {},
     "output_type": "display_data"
    },
    {
     "name": "stdout",
     "output_type": "stream",
     "text": [
      "Epoch 12/20 - train_loss: 0.3808 - train_f1: 0.8035 - val_loss: 0.5449 - val_f1: 0.6164\n"
     ]
    },
    {
     "data": {
      "application/json": {
       "ascii": false,
       "bar_format": null,
       "colour": null,
       "elapsed": 0.011448144912719727,
       "initial": 0,
       "n": 0,
       "ncols": null,
       "nrows": null,
       "postfix": null,
       "prefix": "",
       "rate": null,
       "total": 33,
       "unit": "it",
       "unit_divisor": 1000,
       "unit_scale": false
      },
      "application/vnd.jupyter.widget-view+json": {
       "model_id": "2b9c2ae2fa7d401cbed5e1026082bd38",
       "version_major": 2,
       "version_minor": 0
      },
      "text/plain": [
       "  0%|          | 0/33 [00:00<?, ?it/s]"
      ]
     },
     "metadata": {},
     "output_type": "display_data"
    },
    {
     "data": {
      "application/json": {
       "ascii": false,
       "bar_format": null,
       "colour": null,
       "elapsed": 0.013996124267578125,
       "initial": 0,
       "n": 0,
       "ncols": null,
       "nrows": null,
       "postfix": null,
       "prefix": "",
       "rate": null,
       "total": 33,
       "unit": "it",
       "unit_divisor": 1000,
       "unit_scale": false
      },
      "application/vnd.jupyter.widget-view+json": {
       "model_id": "8b5c98b883b440d9b4cd89078c90acce",
       "version_major": 2,
       "version_minor": 0
      },
      "text/plain": [
       "  0%|          | 0/33 [00:00<?, ?it/s]"
      ]
     },
     "metadata": {},
     "output_type": "display_data"
    },
    {
     "data": {
      "application/json": {
       "ascii": false,
       "bar_format": null,
       "colour": null,
       "elapsed": 0.020996570587158203,
       "initial": 0,
       "n": 0,
       "ncols": null,
       "nrows": null,
       "postfix": null,
       "prefix": "",
       "rate": null,
       "total": 5,
       "unit": "it",
       "unit_divisor": 1000,
       "unit_scale": false
      },
      "application/vnd.jupyter.widget-view+json": {
       "model_id": "c01818d12f5a45f28804cc3a091c0dab",
       "version_major": 2,
       "version_minor": 0
      },
      "text/plain": [
       "  0%|          | 0/5 [00:00<?, ?it/s]"
      ]
     },
     "metadata": {},
     "output_type": "display_data"
    },
    {
     "name": "stdout",
     "output_type": "stream",
     "text": [
      "Epoch 13/20 - train_loss: 0.3627 - train_f1: 0.8064 - val_loss: 0.5475 - val_f1: 0.6475\n"
     ]
    },
    {
     "data": {
      "application/json": {
       "ascii": false,
       "bar_format": null,
       "colour": null,
       "elapsed": 0.012509346008300781,
       "initial": 0,
       "n": 0,
       "ncols": null,
       "nrows": null,
       "postfix": null,
       "prefix": "",
       "rate": null,
       "total": 33,
       "unit": "it",
       "unit_divisor": 1000,
       "unit_scale": false
      },
      "application/vnd.jupyter.widget-view+json": {
       "model_id": "19807320af884bc09b5be08dc2435c4a",
       "version_major": 2,
       "version_minor": 0
      },
      "text/plain": [
       "  0%|          | 0/33 [00:00<?, ?it/s]"
      ]
     },
     "metadata": {},
     "output_type": "display_data"
    },
    {
     "data": {
      "application/json": {
       "ascii": false,
       "bar_format": null,
       "colour": null,
       "elapsed": 0.00999903678894043,
       "initial": 0,
       "n": 0,
       "ncols": null,
       "nrows": null,
       "postfix": null,
       "prefix": "",
       "rate": null,
       "total": 33,
       "unit": "it",
       "unit_divisor": 1000,
       "unit_scale": false
      },
      "application/vnd.jupyter.widget-view+json": {
       "model_id": "fd6f768fca0b46fca410ae99eec8fe62",
       "version_major": 2,
       "version_minor": 0
      },
      "text/plain": [
       "  0%|          | 0/33 [00:00<?, ?it/s]"
      ]
     },
     "metadata": {},
     "output_type": "display_data"
    },
    {
     "data": {
      "application/json": {
       "ascii": false,
       "bar_format": null,
       "colour": null,
       "elapsed": 0.009016752243041992,
       "initial": 0,
       "n": 0,
       "ncols": null,
       "nrows": null,
       "postfix": null,
       "prefix": "",
       "rate": null,
       "total": 5,
       "unit": "it",
       "unit_divisor": 1000,
       "unit_scale": false
      },
      "application/vnd.jupyter.widget-view+json": {
       "model_id": "c4c21b213e8d4757947e9ed5ad4a1e55",
       "version_major": 2,
       "version_minor": 0
      },
      "text/plain": [
       "  0%|          | 0/5 [00:00<?, ?it/s]"
      ]
     },
     "metadata": {},
     "output_type": "display_data"
    },
    {
     "name": "stdout",
     "output_type": "stream",
     "text": [
      "Epoch 14/20 - train_loss: 0.3472 - train_f1: 0.8240 - val_loss: 0.5506 - val_f1: 0.6210\n"
     ]
    },
    {
     "data": {
      "application/json": {
       "ascii": false,
       "bar_format": null,
       "colour": null,
       "elapsed": 0.010001659393310547,
       "initial": 0,
       "n": 0,
       "ncols": null,
       "nrows": null,
       "postfix": null,
       "prefix": "",
       "rate": null,
       "total": 33,
       "unit": "it",
       "unit_divisor": 1000,
       "unit_scale": false
      },
      "application/vnd.jupyter.widget-view+json": {
       "model_id": "f51d5c31234741eeba31eff7cddff118",
       "version_major": 2,
       "version_minor": 0
      },
      "text/plain": [
       "  0%|          | 0/33 [00:00<?, ?it/s]"
      ]
     },
     "metadata": {},
     "output_type": "display_data"
    },
    {
     "data": {
      "application/json": {
       "ascii": false,
       "bar_format": null,
       "colour": null,
       "elapsed": 0.011001825332641602,
       "initial": 0,
       "n": 0,
       "ncols": null,
       "nrows": null,
       "postfix": null,
       "prefix": "",
       "rate": null,
       "total": 33,
       "unit": "it",
       "unit_divisor": 1000,
       "unit_scale": false
      },
      "application/vnd.jupyter.widget-view+json": {
       "model_id": "3aca18d5bd534f5884ca5a6e8497c299",
       "version_major": 2,
       "version_minor": 0
      },
      "text/plain": [
       "  0%|          | 0/33 [00:00<?, ?it/s]"
      ]
     },
     "metadata": {},
     "output_type": "display_data"
    },
    {
     "data": {
      "application/json": {
       "ascii": false,
       "bar_format": null,
       "colour": null,
       "elapsed": 0.008998394012451172,
       "initial": 0,
       "n": 0,
       "ncols": null,
       "nrows": null,
       "postfix": null,
       "prefix": "",
       "rate": null,
       "total": 5,
       "unit": "it",
       "unit_divisor": 1000,
       "unit_scale": false
      },
      "application/vnd.jupyter.widget-view+json": {
       "model_id": "bfc6f637d3e44d70b8ff150b26076e84",
       "version_major": 2,
       "version_minor": 0
      },
      "text/plain": [
       "  0%|          | 0/5 [00:00<?, ?it/s]"
      ]
     },
     "metadata": {},
     "output_type": "display_data"
    },
    {
     "name": "stdout",
     "output_type": "stream",
     "text": [
      "Epoch 15/20 - train_loss: 0.3304 - train_f1: 0.8336 - val_loss: 0.5472 - val_f1: 0.6457\n"
     ]
    },
    {
     "data": {
      "application/json": {
       "ascii": false,
       "bar_format": null,
       "colour": null,
       "elapsed": 0.010001659393310547,
       "initial": 0,
       "n": 0,
       "ncols": null,
       "nrows": null,
       "postfix": null,
       "prefix": "",
       "rate": null,
       "total": 33,
       "unit": "it",
       "unit_divisor": 1000,
       "unit_scale": false
      },
      "application/vnd.jupyter.widget-view+json": {
       "model_id": "7d444d33f7dc4bcb8fd9daddd1b39684",
       "version_major": 2,
       "version_minor": 0
      },
      "text/plain": [
       "  0%|          | 0/33 [00:00<?, ?it/s]"
      ]
     },
     "metadata": {},
     "output_type": "display_data"
    },
    {
     "data": {
      "application/json": {
       "ascii": false,
       "bar_format": null,
       "colour": null,
       "elapsed": 0.011000633239746094,
       "initial": 0,
       "n": 0,
       "ncols": null,
       "nrows": null,
       "postfix": null,
       "prefix": "",
       "rate": null,
       "total": 33,
       "unit": "it",
       "unit_divisor": 1000,
       "unit_scale": false
      },
      "application/vnd.jupyter.widget-view+json": {
       "model_id": "544e6e9f63504e0896ba03f9069699bc",
       "version_major": 2,
       "version_minor": 0
      },
      "text/plain": [
       "  0%|          | 0/33 [00:00<?, ?it/s]"
      ]
     },
     "metadata": {},
     "output_type": "display_data"
    },
    {
     "data": {
      "application/json": {
       "ascii": false,
       "bar_format": null,
       "colour": null,
       "elapsed": 0.008995771408081055,
       "initial": 0,
       "n": 0,
       "ncols": null,
       "nrows": null,
       "postfix": null,
       "prefix": "",
       "rate": null,
       "total": 5,
       "unit": "it",
       "unit_divisor": 1000,
       "unit_scale": false
      },
      "application/vnd.jupyter.widget-view+json": {
       "model_id": "3368be24b5d84cf1b4c82abaf9a0ded4",
       "version_major": 2,
       "version_minor": 0
      },
      "text/plain": [
       "  0%|          | 0/5 [00:00<?, ?it/s]"
      ]
     },
     "metadata": {},
     "output_type": "display_data"
    },
    {
     "name": "stdout",
     "output_type": "stream",
     "text": [
      "Epoch 16/20 - train_loss: 0.3181 - train_f1: 0.8446 - val_loss: 0.5598 - val_f1: 0.6175\n"
     ]
    },
    {
     "data": {
      "application/json": {
       "ascii": false,
       "bar_format": null,
       "colour": null,
       "elapsed": 0.009002923965454102,
       "initial": 0,
       "n": 0,
       "ncols": null,
       "nrows": null,
       "postfix": null,
       "prefix": "",
       "rate": null,
       "total": 33,
       "unit": "it",
       "unit_divisor": 1000,
       "unit_scale": false
      },
      "application/vnd.jupyter.widget-view+json": {
       "model_id": "da8699a09a8345f1856999f23b112f04",
       "version_major": 2,
       "version_minor": 0
      },
      "text/plain": [
       "  0%|          | 0/33 [00:00<?, ?it/s]"
      ]
     },
     "metadata": {},
     "output_type": "display_data"
    },
    {
     "data": {
      "application/json": {
       "ascii": false,
       "bar_format": null,
       "colour": null,
       "elapsed": 0.010999917984008789,
       "initial": 0,
       "n": 0,
       "ncols": null,
       "nrows": null,
       "postfix": null,
       "prefix": "",
       "rate": null,
       "total": 33,
       "unit": "it",
       "unit_divisor": 1000,
       "unit_scale": false
      },
      "application/vnd.jupyter.widget-view+json": {
       "model_id": "a0821e63a6a34867ac2b77af3df08a98",
       "version_major": 2,
       "version_minor": 0
      },
      "text/plain": [
       "  0%|          | 0/33 [00:00<?, ?it/s]"
      ]
     },
     "metadata": {},
     "output_type": "display_data"
    },
    {
     "data": {
      "application/json": {
       "ascii": false,
       "bar_format": null,
       "colour": null,
       "elapsed": 0.00999760627746582,
       "initial": 0,
       "n": 0,
       "ncols": null,
       "nrows": null,
       "postfix": null,
       "prefix": "",
       "rate": null,
       "total": 5,
       "unit": "it",
       "unit_divisor": 1000,
       "unit_scale": false
      },
      "application/vnd.jupyter.widget-view+json": {
       "model_id": "d865783f8f314711b448b0f21f37b470",
       "version_major": 2,
       "version_minor": 0
      },
      "text/plain": [
       "  0%|          | 0/5 [00:00<?, ?it/s]"
      ]
     },
     "metadata": {},
     "output_type": "display_data"
    },
    {
     "name": "stdout",
     "output_type": "stream",
     "text": [
      "Epoch 17/20 - train_loss: 0.3024 - train_f1: 0.8579 - val_loss: 0.5650 - val_f1: 0.6107\n"
     ]
    },
    {
     "data": {
      "application/json": {
       "ascii": false,
       "bar_format": null,
       "colour": null,
       "elapsed": 0.009003400802612305,
       "initial": 0,
       "n": 0,
       "ncols": null,
       "nrows": null,
       "postfix": null,
       "prefix": "",
       "rate": null,
       "total": 33,
       "unit": "it",
       "unit_divisor": 1000,
       "unit_scale": false
      },
      "application/vnd.jupyter.widget-view+json": {
       "model_id": "f9a469320bef43ccba499db03a04fd30",
       "version_major": 2,
       "version_minor": 0
      },
      "text/plain": [
       "  0%|          | 0/33 [00:00<?, ?it/s]"
      ]
     },
     "metadata": {},
     "output_type": "display_data"
    },
    {
     "data": {
      "application/json": {
       "ascii": false,
       "bar_format": null,
       "colour": null,
       "elapsed": 0.010005712509155273,
       "initial": 0,
       "n": 0,
       "ncols": null,
       "nrows": null,
       "postfix": null,
       "prefix": "",
       "rate": null,
       "total": 33,
       "unit": "it",
       "unit_divisor": 1000,
       "unit_scale": false
      },
      "application/vnd.jupyter.widget-view+json": {
       "model_id": "a98be4ccebea4a77b1c1f3eb42517cdf",
       "version_major": 2,
       "version_minor": 0
      },
      "text/plain": [
       "  0%|          | 0/33 [00:00<?, ?it/s]"
      ]
     },
     "metadata": {},
     "output_type": "display_data"
    },
    {
     "data": {
      "application/json": {
       "ascii": false,
       "bar_format": null,
       "colour": null,
       "elapsed": 0.008997201919555664,
       "initial": 0,
       "n": 0,
       "ncols": null,
       "nrows": null,
       "postfix": null,
       "prefix": "",
       "rate": null,
       "total": 5,
       "unit": "it",
       "unit_divisor": 1000,
       "unit_scale": false
      },
      "application/vnd.jupyter.widget-view+json": {
       "model_id": "9f70f16fbe02463db7794c475078d8c4",
       "version_major": 2,
       "version_minor": 0
      },
      "text/plain": [
       "  0%|          | 0/5 [00:00<?, ?it/s]"
      ]
     },
     "metadata": {},
     "output_type": "display_data"
    },
    {
     "name": "stdout",
     "output_type": "stream",
     "text": [
      "Epoch 18/20 - train_loss: 0.2846 - train_f1: 0.8681 - val_loss: 0.5564 - val_f1: 0.6479\n"
     ]
    },
    {
     "data": {
      "application/json": {
       "ascii": false,
       "bar_format": null,
       "colour": null,
       "elapsed": 0.008997917175292969,
       "initial": 0,
       "n": 0,
       "ncols": null,
       "nrows": null,
       "postfix": null,
       "prefix": "",
       "rate": null,
       "total": 33,
       "unit": "it",
       "unit_divisor": 1000,
       "unit_scale": false
      },
      "application/vnd.jupyter.widget-view+json": {
       "model_id": "44540b989d9f4c9b99d0e4677ca6a5b1",
       "version_major": 2,
       "version_minor": 0
      },
      "text/plain": [
       "  0%|          | 0/33 [00:00<?, ?it/s]"
      ]
     },
     "metadata": {},
     "output_type": "display_data"
    },
    {
     "data": {
      "application/json": {
       "ascii": false,
       "bar_format": null,
       "colour": null,
       "elapsed": 0.017002344131469727,
       "initial": 0,
       "n": 0,
       "ncols": null,
       "nrows": null,
       "postfix": null,
       "prefix": "",
       "rate": null,
       "total": 33,
       "unit": "it",
       "unit_divisor": 1000,
       "unit_scale": false
      },
      "application/vnd.jupyter.widget-view+json": {
       "model_id": "64a426ce579c491aae7ab987df2c8902",
       "version_major": 2,
       "version_minor": 0
      },
      "text/plain": [
       "  0%|          | 0/33 [00:00<?, ?it/s]"
      ]
     },
     "metadata": {},
     "output_type": "display_data"
    },
    {
     "data": {
      "application/json": {
       "ascii": false,
       "bar_format": null,
       "colour": null,
       "elapsed": 0.009000301361083984,
       "initial": 0,
       "n": 0,
       "ncols": null,
       "nrows": null,
       "postfix": null,
       "prefix": "",
       "rate": null,
       "total": 5,
       "unit": "it",
       "unit_divisor": 1000,
       "unit_scale": false
      },
      "application/vnd.jupyter.widget-view+json": {
       "model_id": "5b006040db554971a01cecde03eadacb",
       "version_major": 2,
       "version_minor": 0
      },
      "text/plain": [
       "  0%|          | 0/5 [00:00<?, ?it/s]"
      ]
     },
     "metadata": {},
     "output_type": "display_data"
    },
    {
     "name": "stdout",
     "output_type": "stream",
     "text": [
      "Epoch 19/20 - train_loss: 0.2693 - train_f1: 0.8737 - val_loss: 0.5646 - val_f1: 0.6555\n"
     ]
    },
    {
     "data": {
      "application/json": {
       "ascii": false,
       "bar_format": null,
       "colour": null,
       "elapsed": 0.012517929077148438,
       "initial": 0,
       "n": 0,
       "ncols": null,
       "nrows": null,
       "postfix": null,
       "prefix": "",
       "rate": null,
       "total": 33,
       "unit": "it",
       "unit_divisor": 1000,
       "unit_scale": false
      },
      "application/vnd.jupyter.widget-view+json": {
       "model_id": "15f3dc892b184f8e9f6e5065e29ebbc1",
       "version_major": 2,
       "version_minor": 0
      },
      "text/plain": [
       "  0%|          | 0/33 [00:00<?, ?it/s]"
      ]
     },
     "metadata": {},
     "output_type": "display_data"
    },
    {
     "data": {
      "application/json": {
       "ascii": false,
       "bar_format": null,
       "colour": null,
       "elapsed": 0.011000633239746094,
       "initial": 0,
       "n": 0,
       "ncols": null,
       "nrows": null,
       "postfix": null,
       "prefix": "",
       "rate": null,
       "total": 33,
       "unit": "it",
       "unit_divisor": 1000,
       "unit_scale": false
      },
      "application/vnd.jupyter.widget-view+json": {
       "model_id": "43900fc4edc94c699f5bb08eae807343",
       "version_major": 2,
       "version_minor": 0
      },
      "text/plain": [
       "  0%|          | 0/33 [00:00<?, ?it/s]"
      ]
     },
     "metadata": {},
     "output_type": "display_data"
    },
    {
     "data": {
      "application/json": {
       "ascii": false,
       "bar_format": null,
       "colour": null,
       "elapsed": 0.009997129440307617,
       "initial": 0,
       "n": 0,
       "ncols": null,
       "nrows": null,
       "postfix": null,
       "prefix": "",
       "rate": null,
       "total": 5,
       "unit": "it",
       "unit_divisor": 1000,
       "unit_scale": false
      },
      "application/vnd.jupyter.widget-view+json": {
       "model_id": "bd7de69c8e744ebf9f8572a9f3011e3a",
       "version_major": 2,
       "version_minor": 0
      },
      "text/plain": [
       "  0%|          | 0/5 [00:00<?, ?it/s]"
      ]
     },
     "metadata": {},
     "output_type": "display_data"
    },
    {
     "name": "stdout",
     "output_type": "stream",
     "text": [
      "Epoch 20/20 - train_loss: 0.2521 - train_f1: 0.8833 - val_loss: 0.5647 - val_f1: 0.6509\n"
     ]
    }
   ],
   "source": [
    "torch.cuda.empty_cache()\n",
    "best_val_f1 = 0\n",
    "model.train()\n",
    "for epoch in range(epochs):\n",
    "    for data in tqdm(train_loader):\n",
    "        torch.cuda.empty_cache()\n",
    "        seq, seq_len, labels, words = data\n",
    "        seq, labels = seq.to(device), labels.to(device)\n",
    "        optimizer.zero_grad()\n",
    "        output, _ = model(seq, seq_len)\n",
    "        output = F.log_softmax(output, dim=1)\n",
    "        if labels.dtype != torch.long:\n",
    "            labels = labels.type(torch.LongTensor)\n",
    "        output, labels = output.to(device), labels.to(device)\n",
    "        loss = criterion(output, labels)\n",
    "        loss.backward()\n",
    "        optimizer.step()\n",
    "    train_loss, train_f1, _, _, _ = eval_model(model, train_loader, criterion, device)\n",
    "    val_loss, val_f1, _, _, _ = eval_model(model, val_loader, criterion, device)\n",
    "    print(f'Epoch {epoch+1}/{epochs} - train_loss: {train_loss:.4f} - train_f1: {train_f1:.4f} - val_loss: {val_loss:.4f} - val_f1: {val_f1:.4f}')\n",
    "    if val_f1 > best_val_f1:\n",
    "        best_val_f1 = val_f1\n",
    "        best_state_dict = copy.deepcopy(model.state_dict())"
   ]
  },
  {
   "cell_type": "code",
   "execution_count": 21,
   "metadata": {},
   "outputs": [
    {
     "data": {
      "application/json": {
       "ascii": false,
       "bar_format": null,
       "colour": null,
       "elapsed": 0.00899362564086914,
       "initial": 0,
       "n": 0,
       "ncols": null,
       "nrows": null,
       "postfix": null,
       "prefix": "",
       "rate": null,
       "total": 33,
       "unit": "it",
       "unit_divisor": 1000,
       "unit_scale": false
      },
      "application/vnd.jupyter.widget-view+json": {
       "model_id": "b383865c19e9445294270b1b98e3ff48",
       "version_major": 2,
       "version_minor": 0
      },
      "text/plain": [
       "  0%|          | 0/33 [00:00<?, ?it/s]"
      ]
     },
     "metadata": {},
     "output_type": "display_data"
    },
    {
     "data": {
      "application/json": {
       "ascii": false,
       "bar_format": null,
       "colour": null,
       "elapsed": 0.018002033233642578,
       "initial": 0,
       "n": 0,
       "ncols": null,
       "nrows": null,
       "postfix": null,
       "prefix": "",
       "rate": null,
       "total": 5,
       "unit": "it",
       "unit_divisor": 1000,
       "unit_scale": false
      },
      "application/vnd.jupyter.widget-view+json": {
       "model_id": "db1d72a1400f40e6b118b6ce72b3226d",
       "version_major": 2,
       "version_minor": 0
      },
      "text/plain": [
       "  0%|          | 0/5 [00:00<?, ?it/s]"
      ]
     },
     "metadata": {},
     "output_type": "display_data"
    },
    {
     "data": {
      "application/json": {
       "ascii": false,
       "bar_format": null,
       "colour": null,
       "elapsed": 0.011382579803466797,
       "initial": 0,
       "n": 0,
       "ncols": null,
       "nrows": null,
       "postfix": null,
       "prefix": "",
       "rate": null,
       "total": 11,
       "unit": "it",
       "unit_divisor": 1000,
       "unit_scale": false
      },
      "application/vnd.jupyter.widget-view+json": {
       "model_id": "2d4a7f6fc2174437888e0d6c6083c388",
       "version_major": 2,
       "version_minor": 0
      },
      "text/plain": [
       "  0%|          | 0/11 [00:00<?, ?it/s]"
      ]
     },
     "metadata": {},
     "output_type": "display_data"
    },
    {
     "name": "stdout",
     "output_type": "stream",
     "text": [
      "Best val f1: 0.6555\n",
      "Train loss: 0.2690 - Train f1: 0.8737\n",
      "Val loss: 0.5646 - Val f1: 0.6555\n",
      "Test loss: 0.5503 - Test f1: 0.6453\n"
     ]
    }
   ],
   "source": [
    "model.load_state_dict(best_state_dict)\n",
    "train_loss, train_f1, train_scores, train_words, train_pred = eval_model(model, train_loader, criterion, device)\n",
    "val_loss, val_f1, val_scores, val_words, val_pred = eval_model(model, val_loader, criterion, device)\n",
    "test_loss, test_f1, test_scores, test_words, test_pred = eval_model(model, test_loader, criterion, device)\n",
    "\n",
    "print(f'Best val f1: {best_val_f1:.4f}')\n",
    "print(f'Train loss: {train_loss:.4f} - Train f1: {train_f1:.4f}')\n",
    "print(f'Val loss: {val_loss:.4f} - Val f1: {val_f1:.4f}')\n",
    "print(f'Test loss: {test_loss:.4f} - Test f1: {test_f1:.4f}')   "
   ]
  },
  {
   "attachments": {},
   "cell_type": "markdown",
   "metadata": {},
   "source": [
    "## Visualizar atencion"
   ]
  },
  {
   "cell_type": "code",
   "execution_count": 22,
   "metadata": {},
   "outputs": [],
   "source": [
    "def colorize(words, color_array):\n",
    "    cmap = matplotlib.cm.get_cmap('Reds')\n",
    "    template = '<span class=\"barcode\"; style=\"color: black; background-color: {}\">{}</span>'\n",
    "    colored_string = ''\n",
    "    for word, color in zip(words, color_array):\n",
    "        color = matplotlib.colors.rgb2hex(cmap(color)[:3])\n",
    "        colored_string += template.format(color, '&nbsp' + word + '&nbsp')\n",
    "    return colored_string"
   ]
  },
  {
   "cell_type": "code",
   "execution_count": 23,
   "metadata": {},
   "outputs": [
    {
     "data": {
      "text/html": [
       "<span class=\"barcode\"; style=\"color: black; background-color: #fff5f0\">&nbsp &nbsp</span><span class=\"barcode\"; style=\"color: black; background-color: #fff2eb\">&nbsp &nbsp</span><span class=\"barcode\"; style=\"color: black; background-color: #ffeee7\">&nbsp &nbsp</span><span class=\"barcode\"; style=\"color: black; background-color: #ffebe2\">&nbsp &nbsp</span><span class=\"barcode\"; style=\"color: black; background-color: #fee8dd\">&nbsp &nbsp</span><span class=\"barcode\"; style=\"color: black; background-color: #fee4d8\">&nbsp &nbsp</span><span class=\"barcode\"; style=\"color: black; background-color: #fee1d3\">&nbsp &nbsp</span><span class=\"barcode\"; style=\"color: black; background-color: #fedbcc\">&nbsp &nbsp</span><span class=\"barcode\"; style=\"color: black; background-color: #fdd5c4\">&nbsp &nbsp</span><span class=\"barcode\"; style=\"color: black; background-color: #fdcebb\">&nbsp &nbsp</span><span class=\"barcode\"; style=\"color: black; background-color: #fdc9b3\">&nbsp &nbsp</span><span class=\"barcode\"; style=\"color: black; background-color: #fcc3ab\">&nbsp &nbsp</span><span class=\"barcode\"; style=\"color: black; background-color: #fcbda4\">&nbsp &nbsp</span><span class=\"barcode\"; style=\"color: black; background-color: #fcb79c\">&nbsp &nbsp</span><span class=\"barcode\"; style=\"color: black; background-color: #fcaf93\">&nbsp &nbsp</span><span class=\"barcode\"; style=\"color: black; background-color: #fca98c\">&nbsp &nbsp</span><span class=\"barcode\"; style=\"color: black; background-color: #fca285\">&nbsp &nbsp</span><span class=\"barcode\"; style=\"color: black; background-color: #fc9c7d\">&nbsp &nbsp</span><span class=\"barcode\"; style=\"color: black; background-color: #fc9474\">&nbsp &nbsp</span><span class=\"barcode\"; style=\"color: black; background-color: #fc8e6e\">&nbsp &nbsp</span><span class=\"barcode\"; style=\"color: black; background-color: #fc8767\">&nbsp &nbsp</span><span class=\"barcode\"; style=\"color: black; background-color: #fc8161\">&nbsp &nbsp</span><span class=\"barcode\"; style=\"color: black; background-color: #fb7b5b\">&nbsp &nbsp</span><span class=\"barcode\"; style=\"color: black; background-color: #fb7353\">&nbsp &nbsp</span><span class=\"barcode\"; style=\"color: black; background-color: #fb6d4d\">&nbsp &nbsp</span><span class=\"barcode\"; style=\"color: black; background-color: #fa6648\">&nbsp &nbsp</span><span class=\"barcode\"; style=\"color: black; background-color: #f85f43\">&nbsp &nbsp</span><span class=\"barcode\"; style=\"color: black; background-color: #f6563d\">&nbsp &nbsp</span><span class=\"barcode\"; style=\"color: black; background-color: #f44f39\">&nbsp &nbsp</span><span class=\"barcode\"; style=\"color: black; background-color: #f24734\">&nbsp &nbsp</span><span class=\"barcode\"; style=\"color: black; background-color: #f0402f\">&nbsp &nbsp</span><span class=\"barcode\"; style=\"color: black; background-color: #ed392b\">&nbsp &nbsp</span><span class=\"barcode\"; style=\"color: black; background-color: #e63328\">&nbsp &nbsp</span><span class=\"barcode\"; style=\"color: black; background-color: #e12d26\">&nbsp &nbsp</span><span class=\"barcode\"; style=\"color: black; background-color: #db2824\">&nbsp &nbsp</span><span class=\"barcode\"; style=\"color: black; background-color: #d52221\">&nbsp &nbsp</span><span class=\"barcode\"; style=\"color: black; background-color: #cf1c1f\">&nbsp &nbsp</span><span class=\"barcode\"; style=\"color: black; background-color: #c9181d\">&nbsp &nbsp</span><span class=\"barcode\"; style=\"color: black; background-color: #c3161b\">&nbsp &nbsp</span><span class=\"barcode\"; style=\"color: black; background-color: #bd151a\">&nbsp &nbsp</span><span class=\"barcode\"; style=\"color: black; background-color: #b71319\">&nbsp &nbsp</span><span class=\"barcode\"; style=\"color: black; background-color: #b01217\">&nbsp &nbsp</span><span class=\"barcode\"; style=\"color: black; background-color: #aa1016\">&nbsp &nbsp</span><span class=\"barcode\"; style=\"color: black; background-color: #a30f15\">&nbsp &nbsp</span><span class=\"barcode\"; style=\"color: black; background-color: #9a0c14\">&nbsp &nbsp</span><span class=\"barcode\"; style=\"color: black; background-color: #8e0912\">&nbsp &nbsp</span><span class=\"barcode\"; style=\"color: black; background-color: #840711\">&nbsp &nbsp</span><span class=\"barcode\"; style=\"color: black; background-color: #7a0510\">&nbsp &nbsp</span><span class=\"barcode\"; style=\"color: black; background-color: #71020e\">&nbsp &nbsp</span><span class=\"barcode\"; style=\"color: black; background-color: #67000d\">&nbsp &nbsp</span>"
      ],
      "text/plain": [
       "<IPython.core.display.HTML object>"
      ]
     },
     "metadata": {},
     "output_type": "display_data"
    }
   ],
   "source": [
    "att = np.linspace(0,1,50)\n",
    "p = [' ']*50\n",
    "s = colorize(p, att)\n",
    "display(HTML(s))"
   ]
  },
  {
   "cell_type": "code",
   "execution_count": 24,
   "metadata": {},
   "outputs": [
    {
     "name": "stdout",
     "output_type": "stream",
     "text": [
      "Categoria predicha: No agresivo\n"
     ]
    },
    {
     "data": {
      "text/html": [
       "<span class=\"barcode\"; style=\"color: black; background-color: #fdd3c1\">&nbspole&nbsp</span><span class=\"barcode\"; style=\"color: black; background-color: #fee3d7\">&nbspsu&nbsp</span><span class=\"barcode\"; style=\"color: black; background-color: #fed9c9\">&nbspputa&nbsp</span><span class=\"barcode\"; style=\"color: black; background-color: #f44f39\">&nbspmadre&nbsp</span>"
      ],
      "text/plain": [
       "<IPython.core.display.HTML object>"
      ]
     },
     "metadata": {},
     "output_type": "display_data"
    },
    {
     "name": "stdout",
     "output_type": "stream",
     "text": [
      "Categoria predicha: No agresivo\n"
     ]
    },
    {
     "data": {
      "text/html": [
       "<span class=\"barcode\"; style=\"color: black; background-color: #fedaca\">&nbspalaaaa&nbsp</span><span class=\"barcode\"; style=\"color: black; background-color: #f85f43\">&nbspmadre&nbsp</span><span class=\"barcode\"; style=\"color: black; background-color: #fee3d6\">&nbspque&nbsp</span><span class=\"barcode\"; style=\"color: black; background-color: #fee7db\">&nbspbruja&nbsp</span><span class=\"barcode\"; style=\"color: black; background-color: #fee1d3\">&nbsp😂😂😂&nbsp</span>"
      ],
      "text/plain": [
       "<IPython.core.display.HTML object>"
      ]
     },
     "metadata": {},
     "output_type": "display_data"
    },
    {
     "name": "stdout",
     "output_type": "stream",
     "text": [
      "Categoria predicha: Agresivo\n"
     ]
    },
    {
     "data": {
      "text/html": [
       "<span class=\"barcode\"; style=\"color: black; background-color: #fee1d3\">&nbsp#&nbsp</span><span class=\"barcode\"; style=\"color: black; background-color: #fee0d2\">&nbspnadapersonal&nbsp</span><span class=\"barcode\"; style=\"color: black; background-color: #fee4d8\">&nbspchinga&nbsp</span><span class=\"barcode\"; style=\"color: black; background-color: #fee1d4\">&nbsptu&nbsp</span><span class=\"barcode\"; style=\"color: black; background-color: #f85f43\">&nbspmadre&nbsp</span>"
      ],
      "text/plain": [
       "<IPython.core.display.HTML object>"
      ]
     },
     "metadata": {},
     "output_type": "display_data"
    },
    {
     "name": "stdout",
     "output_type": "stream",
     "text": [
      "Categoria predicha: Agresivo\n"
     ]
    },
    {
     "data": {
      "text/html": [
       "<span class=\"barcode\"; style=\"color: black; background-color: #fedbcc\">&nbsppinches&nbsp</span><span class=\"barcode\"; style=\"color: black; background-color: #fee2d5\">&nbsphombres&nbsp</span><span class=\"barcode\"; style=\"color: black; background-color: #fee6da\">&nbspno&nbsp</span><span class=\"barcode\"; style=\"color: black; background-color: #fedccd\">&nbspvalen&nbsp</span><span class=\"barcode\"; style=\"color: black; background-color: #f96346\">&nbspmadre&nbsp</span>"
      ],
      "text/plain": [
       "<IPython.core.display.HTML object>"
      ]
     },
     "metadata": {},
     "output_type": "display_data"
    },
    {
     "name": "stdout",
     "output_type": "stream",
     "text": [
      "Categoria predicha: No agresivo\n"
     ]
    },
    {
     "data": {
      "text/html": [
       "<span class=\"barcode\"; style=\"color: black; background-color: #fee8de\">&nbspno&nbsp</span><span class=\"barcode\"; style=\"color: black; background-color: #fdd0bc\">&nbspmerezco&nbsp</span><span class=\"barcode\"; style=\"color: black; background-color: #fedfd0\">&nbspa&nbsp</span><span class=\"barcode\"; style=\"color: black; background-color: #fee5d8\">&nbspmi&nbsp</span><span class=\"barcode\"; style=\"color: black; background-color: #fa6547\">&nbspmadre&nbsp</span>"
      ],
      "text/plain": [
       "<IPython.core.display.HTML object>"
      ]
     },
     "metadata": {},
     "output_type": "display_data"
    },
    {
     "name": "stdout",
     "output_type": "stream",
     "text": [
      "Categoria predicha: Agresivo\n"
     ]
    },
    {
     "data": {
      "text/html": [
       "<span class=\"barcode\"; style=\"color: black; background-color: #fee3d7\">&nbsp@&nbsp</span><span class=\"barcode\"; style=\"color: black; background-color: #fee0d2\">&nbspusuario&nbsp</span><span class=\"barcode\"; style=\"color: black; background-color: #fee5d9\">&nbspchinga&nbsp</span><span class=\"barcode\"; style=\"color: black; background-color: #fee8de\">&nbspa&nbsp</span><span class=\"barcode\"; style=\"color: black; background-color: #fee4d8\">&nbsptu&nbsp</span><span class=\"barcode\"; style=\"color: black; background-color: #fb6d4d\">&nbspmadre&nbsp</span>"
      ],
      "text/plain": [
       "<IPython.core.display.HTML object>"
      ]
     },
     "metadata": {},
     "output_type": "display_data"
    },
    {
     "name": "stdout",
     "output_type": "stream",
     "text": [
      "Categoria predicha: No agresivo\n"
     ]
    },
    {
     "data": {
      "text/html": [
       "<span class=\"barcode\"; style=\"color: black; background-color: #fedfd0\">&nbsphablar&nbsp</span><span class=\"barcode\"; style=\"color: black; background-color: #fee7dc\">&nbspno&nbsp</span><span class=\"barcode\"; style=\"color: black; background-color: #fee1d4\">&nbspsirve&nbsp</span><span class=\"barcode\"; style=\"color: black; background-color: #fee7db\">&nbsppara&nbsp</span><span class=\"barcode\"; style=\"color: black; background-color: #fee5d9\">&nbspni&nbsp</span><span class=\"barcode\"; style=\"color: black; background-color: #fb6d4d\">&nbspmadre&nbsp</span>"
      ],
      "text/plain": [
       "<IPython.core.display.HTML object>"
      ]
     },
     "metadata": {},
     "output_type": "display_data"
    },
    {
     "name": "stdout",
     "output_type": "stream",
     "text": [
      "Categoria predicha: Agresivo\n"
     ]
    },
    {
     "data": {
      "text/html": [
       "<span class=\"barcode\"; style=\"color: black; background-color: #fee3d6\">&nbsp#&nbsp</span><span class=\"barcode\"; style=\"color: black; background-color: #fee2d5\">&nbspnadapersonal&nbsp</span><span class=\"barcode\"; style=\"color: black; background-color: #fee6da\">&nbsppero&nbsp</span><span class=\"barcode\"; style=\"color: black; background-color: #fee7db\">&nbspchinga&nbsp</span><span class=\"barcode\"; style=\"color: black; background-color: #fee4d8\">&nbsptu&nbsp</span><span class=\"barcode\"; style=\"color: black; background-color: #fb6d4d\">&nbspmadre&nbsp</span>"
      ],
      "text/plain": [
       "<IPython.core.display.HTML object>"
      ]
     },
     "metadata": {},
     "output_type": "display_data"
    },
    {
     "name": "stdout",
     "output_type": "stream",
     "text": [
      "Categoria predicha: No agresivo\n"
     ]
    },
    {
     "data": {
      "text/html": [
       "<span class=\"barcode\"; style=\"color: black; background-color: #fee5d9\">&nbsp@&nbsp</span><span class=\"barcode\"; style=\"color: black; background-color: #fee3d6\">&nbspusuario&nbsp</span><span class=\"barcode\"; style=\"color: black; background-color: #fee5d8\">&nbspdales&nbsp</span><span class=\"barcode\"; style=\"color: black; background-color: #fedccd\">&nbspen&nbsp</span><span class=\"barcode\"; style=\"color: black; background-color: #fee6da\">&nbspsu&nbsp</span><span class=\"barcode\"; style=\"color: black; background-color: #fb7656\">&nbspmadre&nbsp</span>"
      ],
      "text/plain": [
       "<IPython.core.display.HTML object>"
      ]
     },
     "metadata": {},
     "output_type": "display_data"
    },
    {
     "name": "stdout",
     "output_type": "stream",
     "text": [
      "Categoria predicha: No agresivo\n"
     ]
    },
    {
     "data": {
      "text/html": [
       "<span class=\"barcode\"; style=\"color: black; background-color: #fee3d7\">&nbsperes&nbsp</span><span class=\"barcode\"; style=\"color: black; background-color: #fee7dc\">&nbspfea&nbsp</span><span class=\"barcode\"; style=\"color: black; background-color: #ffeee6\">&nbspcon&nbsp</span><span class=\"barcode\"; style=\"color: black; background-color: #fb7a5a\">&nbspmadre&nbsp</span><span class=\"barcode\"; style=\"color: black; background-color: #fca78b\">&nbspamiga&nbsp</span>"
      ],
      "text/plain": [
       "<IPython.core.display.HTML object>"
      ]
     },
     "metadata": {},
     "output_type": "display_data"
    },
    {
     "name": "stdout",
     "output_type": "stream",
     "text": [
      "Categoria predicha: Agresivo\n"
     ]
    },
    {
     "data": {
      "text/html": [
       "<span class=\"barcode\"; style=\"color: black; background-color: #fee8dd\">&nbsp@&nbsp</span><span class=\"barcode\"; style=\"color: black; background-color: #fee6da\">&nbspusuario&nbsp</span><span class=\"barcode\"; style=\"color: black; background-color: #ffefe8\">&nbsppresidente&nbsp</span><span class=\"barcode\"; style=\"color: black; background-color: #ffece3\">&nbsptrump&nbsp</span><span class=\"barcode\"; style=\"color: black; background-color: #fee5d9\">&nbspchingas&nbsp</span><span class=\"barcode\"; style=\"color: black; background-color: #fee7dc\">&nbspa&nbsp</span><span class=\"barcode\"; style=\"color: black; background-color: #fee3d6\">&nbsptu&nbsp</span><span class=\"barcode\"; style=\"color: black; background-color: #fb7b5b\">&nbspmadre&nbsp</span>"
      ],
      "text/plain": [
       "<IPython.core.display.HTML object>"
      ]
     },
     "metadata": {},
     "output_type": "display_data"
    },
    {
     "name": "stdout",
     "output_type": "stream",
     "text": [
      "Categoria predicha: No agresivo\n"
     ]
    },
    {
     "data": {
      "text/html": [
       "<span class=\"barcode\"; style=\"color: black; background-color: #fee4d8\">&nbsp@&nbsp</span><span class=\"barcode\"; style=\"color: black; background-color: #fee1d4\">&nbspusuario&nbsp</span><span class=\"barcode\"; style=\"color: black; background-color: #ffebe2\">&nbspy&nbsp</span><span class=\"barcode\"; style=\"color: black; background-color: #fee6da\">&nbspchingo&nbsp</span><span class=\"barcode\"; style=\"color: black; background-color: #fee7dc\">&nbspsu&nbsp</span><span class=\"barcode\"; style=\"color: black; background-color: #fc7f5f\">&nbspmadre&nbsp</span><span class=\"barcode\"; style=\"color: black; background-color: #fee4d8\">&nbspjajajajaja&nbsp</span>"
      ],
      "text/plain": [
       "<IPython.core.display.HTML object>"
      ]
     },
     "metadata": {},
     "output_type": "display_data"
    },
    {
     "name": "stdout",
     "output_type": "stream",
     "text": [
      "Categoria predicha: Agresivo\n"
     ]
    },
    {
     "data": {
      "text/html": [
       "<span class=\"barcode\"; style=\"color: black; background-color: #fee4d8\">&nbsp@&nbsp</span><span class=\"barcode\"; style=\"color: black; background-color: #fee1d4\">&nbspusuario&nbsp</span><span class=\"barcode\"; style=\"color: black; background-color: #fee6da\">&nbspchinga&nbsp</span><span class=\"barcode\"; style=\"color: black; background-color: #fee5d9\">&nbsptu&nbsp</span><span class=\"barcode\"; style=\"color: black; background-color: #fc8060\">&nbspmadre&nbsp</span><span class=\"barcode\"; style=\"color: black; background-color: #fdd7c6\">&nbspbebé&nbsp</span>"
      ],
      "text/plain": [
       "<IPython.core.display.HTML object>"
      ]
     },
     "metadata": {},
     "output_type": "display_data"
    },
    {
     "name": "stdout",
     "output_type": "stream",
     "text": [
      "Categoria predicha: Agresivo\n"
     ]
    },
    {
     "data": {
      "text/html": [
       "<span class=\"barcode\"; style=\"color: black; background-color: #fee3d7\">&nbsp@&nbsp</span><span class=\"barcode\"; style=\"color: black; background-color: #fee1d3\">&nbspusuario&nbsp</span><span class=\"barcode\"; style=\"color: black; background-color: #fedccd\">&nbsppendeja&nbsp</span><span class=\"barcode\"; style=\"color: black; background-color: #fee1d4\">&nbsppártele&nbsp</span><span class=\"barcode\"; style=\"color: black; background-color: #fee7dc\">&nbspsu&nbsp</span><span class=\"barcode\"; style=\"color: black; background-color: #fc8060\">&nbspmadre&nbsp</span>"
      ],
      "text/plain": [
       "<IPython.core.display.HTML object>"
      ]
     },
     "metadata": {},
     "output_type": "display_data"
    },
    {
     "name": "stdout",
     "output_type": "stream",
     "text": [
      "Categoria predicha: No agresivo\n"
     ]
    },
    {
     "data": {
      "text/html": [
       "<span class=\"barcode\"; style=\"color: black; background-color: #fee5d9\">&nbsp@&nbsp</span><span class=\"barcode\"; style=\"color: black; background-color: #fee3d7\">&nbspusuario&nbsp</span><span class=\"barcode\"; style=\"color: black; background-color: #fff0e9\">&nbspbueno&nbsp</span><span class=\"barcode\"; style=\"color: black; background-color: #ffece3\">&nbspya&nbsp</span><span class=\"barcode\"; style=\"color: black; background-color: #fee7dc\">&nbspdense&nbsp</span><span class=\"barcode\"; style=\"color: black; background-color: #fee1d3\">&nbspen&nbsp</span><span class=\"barcode\"; style=\"color: black; background-color: #fee8dd\">&nbspsu&nbsp</span><span class=\"barcode\"; style=\"color: black; background-color: #fc8464\">&nbspmadre&nbsp</span>"
      ],
      "text/plain": [
       "<IPython.core.display.HTML object>"
      ]
     },
     "metadata": {},
     "output_type": "display_data"
    },
    {
     "name": "stdout",
     "output_type": "stream",
     "text": [
      "Categoria predicha: No agresivo\n"
     ]
    },
    {
     "data": {
      "text/html": [
       "<span class=\"barcode\"; style=\"color: black; background-color: #fdcebb\">&nbspestoy&nbsp</span><span class=\"barcode\"; style=\"color: black; background-color: #fdd4c2\">&nbsptan&nbsp</span><span class=\"barcode\"; style=\"color: black; background-color: #feeae0\">&nbspcansada&nbsp</span><span class=\"barcode\"; style=\"color: black; background-color: #ffebe2\">&nbspla&nbsp</span><span class=\"barcode\"; style=\"color: black; background-color: #fee5d8\">&nbspputa&nbsp</span><span class=\"barcode\"; style=\"color: black; background-color: #fc8464\">&nbspmadre&nbsp</span>"
      ],
      "text/plain": [
       "<IPython.core.display.HTML object>"
      ]
     },
     "metadata": {},
     "output_type": "display_data"
    },
    {
     "name": "stdout",
     "output_type": "stream",
     "text": [
      "Categoria predicha: Agresivo\n"
     ]
    },
    {
     "data": {
      "text/html": [
       "<span class=\"barcode\"; style=\"color: black; background-color: #ffebe2\">&nbspestuve&nbsp</span><span class=\"barcode\"; style=\"color: black; background-color: #ffece4\">&nbspa&nbsp</span><span class=\"barcode\"; style=\"color: black; background-color: #ffeee6\">&nbspnada&nbsp</span><span class=\"barcode\"; style=\"color: black; background-color: #ffece3\">&nbspde&nbsp</span><span class=\"barcode\"; style=\"color: black; background-color: #ffeee7\">&nbspcambiar&nbsp</span><span class=\"barcode\"; style=\"color: black; background-color: #fff1ea\">&nbspahora&nbsp</span><span class=\"barcode\"; style=\"color: black; background-color: #fff0e8\">&nbspvas&nbsp</span><span class=\"barcode\"; style=\"color: black; background-color: #fff0e9\">&nbspy&nbsp</span><span class=\"barcode\"; style=\"color: black; background-color: #feeae0\">&nbspchingas&nbsp</span><span class=\"barcode\"; style=\"color: black; background-color: #fee9df\">&nbspa&nbsp</span><span class=\"barcode\"; style=\"color: black; background-color: #fee6da\">&nbsptu&nbsp</span><span class=\"barcode\"; style=\"color: black; background-color: #fc8464\">&nbspmadre&nbsp</span>"
      ],
      "text/plain": [
       "<IPython.core.display.HTML object>"
      ]
     },
     "metadata": {},
     "output_type": "display_data"
    },
    {
     "name": "stdout",
     "output_type": "stream",
     "text": [
      "Categoria predicha: No agresivo\n"
     ]
    },
    {
     "data": {
      "text/html": [
       "<span class=\"barcode\"; style=\"color: black; background-color: #fee7db\">&nbspel&nbsp</span><span class=\"barcode\"; style=\"color: black; background-color: #fee3d6\">&nbspduro&nbsp</span><span class=\"barcode\"; style=\"color: black; background-color: #fdd4c2\">&nbspaprendizaje&nbsp</span><span class=\"barcode\"; style=\"color: black; background-color: #fedaca\">&nbspde&nbsp</span><span class=\"barcode\"; style=\"color: black; background-color: #fee8de\">&nbspser&nbsp</span><span class=\"barcode\"; style=\"color: black; background-color: #fc8666\">&nbspmadre&nbsp</span>"
      ],
      "text/plain": [
       "<IPython.core.display.HTML object>"
      ]
     },
     "metadata": {},
     "output_type": "display_data"
    },
    {
     "name": "stdout",
     "output_type": "stream",
     "text": [
      "Categoria predicha: No agresivo\n"
     ]
    },
    {
     "data": {
      "text/html": [
       "<span class=\"barcode\"; style=\"color: black; background-color: #ffeee7\">&nbspvamos&nbsp</span><span class=\"barcode\"; style=\"color: black; background-color: #ffeee7\">&nbspmuchachos&nbsp</span><span class=\"barcode\"; style=\"color: black; background-color: #ffece3\">&nbspaganarle&nbsp</span><span class=\"barcode\"; style=\"color: black; background-color: #ffece3\">&nbspa&nbsp</span><span class=\"barcode\"; style=\"color: black; background-color: #fee5d8\">&nbspesa&nbsp</span><span class=\"barcode\"; style=\"color: black; background-color: #fee3d7\">&nbspchiva&nbsp</span><span class=\"barcode\"; style=\"color: black; background-color: #fc8767\">&nbsploca&nbsp</span><span class=\"barcode\"; style=\"color: black; background-color: #fdcdb9\">&nbsp😊😊😊&nbsp</span>"
      ],
      "text/plain": [
       "<IPython.core.display.HTML object>"
      ]
     },
     "metadata": {},
     "output_type": "display_data"
    },
    {
     "name": "stdout",
     "output_type": "stream",
     "text": [
      "Categoria predicha: No agresivo\n"
     ]
    },
    {
     "data": {
      "text/html": [
       "<span class=\"barcode\"; style=\"color: black; background-color: #fee2d5\">&nbspvale&nbsp</span><span class=\"barcode\"; style=\"color: black; background-color: #fc8767\">&nbspmadre&nbsp</span><span class=\"barcode\"; style=\"color: black; background-color: #fee7db\">&nbspcon&nbsp</span><span class=\"barcode\"; style=\"color: black; background-color: #ffebe2\">&nbspla&nbsp</span><span class=\"barcode\"; style=\"color: black; background-color: #fee2d5\">&nbsppinche&nbsp</span><span class=\"barcode\"; style=\"color: black; background-color: #fee5d8\">&nbsplluvia&nbsp</span><span class=\"barcode\"; style=\"color: black; background-color: #fee2d5\">&nbsp!&nbsp</span>"
      ],
      "text/plain": [
       "<IPython.core.display.HTML object>"
      ]
     },
     "metadata": {},
     "output_type": "display_data"
    },
    {
     "name": "stdout",
     "output_type": "stream",
     "text": [
      "Categoria predicha: No agresivo\n"
     ]
    },
    {
     "data": {
      "text/html": [
       "<span class=\"barcode\"; style=\"color: black; background-color: #fee8de\">&nbspquiero&nbsp</span><span class=\"barcode\"; style=\"color: black; background-color: #fee8de\">&nbspstremearlo&nbsp</span><span class=\"barcode\"; style=\"color: black; background-color: #feeae1\">&nbspasi&nbsp</span><span class=\"barcode\"; style=\"color: black; background-color: #fff0e8\">&nbspque&nbsp</span><span class=\"barcode\"; style=\"color: black; background-color: #fee5d8\">&nbspesperemos&nbsp</span><span class=\"barcode\"; style=\"color: black; background-color: #ffeee6\">&nbspque&nbsp</span><span class=\"barcode\"; style=\"color: black; background-color: #ffece4\">&nbspse&nbsp</span><span class=\"barcode\"; style=\"color: black; background-color: #fee9df\">&nbspapure&nbsp</span><span class=\"barcode\"; style=\"color: black; background-color: #fee8dd\">&nbspesta&nbsp</span><span class=\"barcode\"; style=\"color: black; background-color: #fc8a6a\">&nbspmadre&nbsp</span>"
      ],
      "text/plain": [
       "<IPython.core.display.HTML object>"
      ]
     },
     "metadata": {},
     "output_type": "display_data"
    },
    {
     "name": "stdout",
     "output_type": "stream",
     "text": [
      "Categoria predicha: Agresivo\n"
     ]
    },
    {
     "data": {
      "text/html": [
       "<span class=\"barcode\"; style=\"color: black; background-color: #ffede5\">&nbsptecatito&nbsp</span><span class=\"barcode\"; style=\"color: black; background-color: #ffece4\">&nbspvas&nbsp</span><span class=\"barcode\"; style=\"color: black; background-color: #ffefe8\">&nbspy&nbsp</span><span class=\"barcode\"; style=\"color: black; background-color: #fee8de\">&nbspchingas&nbsp</span><span class=\"barcode\"; style=\"color: black; background-color: #fee8de\">&nbspa&nbsp</span><span class=\"barcode\"; style=\"color: black; background-color: #fee6da\">&nbsptu&nbsp</span><span class=\"barcode\"; style=\"color: black; background-color: #fc8a6a\">&nbspmadre&nbsp</span><span class=\"barcode\"; style=\"color: black; background-color: #fdc5ae\">&nbsp.&nbsp</span>"
      ],
      "text/plain": [
       "<IPython.core.display.HTML object>"
      ]
     },
     "metadata": {},
     "output_type": "display_data"
    },
    {
     "name": "stdout",
     "output_type": "stream",
     "text": [
      "Categoria predicha: Agresivo\n"
     ]
    },
    {
     "data": {
      "text/html": [
       "<span class=\"barcode\"; style=\"color: black; background-color: #ffebe2\">&nbspjajajajajajajajaja&nbsp</span><span class=\"barcode\"; style=\"color: black; background-color: #fedccd\">&nbspputos&nbsp</span><span class=\"barcode\"; style=\"color: black; background-color: #fee1d3\">&nbspgringos&nbsp</span><span class=\"barcode\"; style=\"color: black; background-color: #fedfd0\">&nbspchinguen&nbsp</span><span class=\"barcode\"; style=\"color: black; background-color: #fee7dc\">&nbspa&nbsp</span><span class=\"barcode\"; style=\"color: black; background-color: #feeae0\">&nbspsu&nbsp</span><span class=\"barcode\"; style=\"color: black; background-color: #fc8b6b\">&nbspmadre&nbsp</span>"
      ],
      "text/plain": [
       "<IPython.core.display.HTML object>"
      ]
     },
     "metadata": {},
     "output_type": "display_data"
    },
    {
     "name": "stdout",
     "output_type": "stream",
     "text": [
      "Categoria predicha: No agresivo\n"
     ]
    },
    {
     "data": {
      "text/html": [
       "<span class=\"barcode\"; style=\"color: black; background-color: #fee7dc\">&nbsp@&nbsp</span><span class=\"barcode\"; style=\"color: black; background-color: #fee5d9\">&nbspusuario&nbsp</span><span class=\"barcode\"; style=\"color: black; background-color: #fee7db\">&nbsp🐺ah&nbsp</span><span class=\"barcode\"; style=\"color: black; background-color: #ffede5\">&nbspy&nbsp</span><span class=\"barcode\"; style=\"color: black; background-color: #ffebe2\">&nbspesta&nbsp</span><span class=\"barcode\"; style=\"color: black; background-color: #fc8d6d\">&nbspmadre&nbsp</span><span class=\"barcode\"; style=\"color: black; background-color: #fee5d8\">&nbspque&nbsp</span><span class=\"barcode\"; style=\"color: black; background-color: #fee0d2\">&nbspes&nbsp</span>"
      ],
      "text/plain": [
       "<IPython.core.display.HTML object>"
      ]
     },
     "metadata": {},
     "output_type": "display_data"
    },
    {
     "name": "stdout",
     "output_type": "stream",
     "text": [
      "Categoria predicha: No agresivo\n"
     ]
    },
    {
     "data": {
      "text/html": [
       "<span class=\"barcode\"; style=\"color: black; background-color: #fee5d8\">&nbspme&nbsp</span><span class=\"barcode\"; style=\"color: black; background-color: #fee7dc\">&nbsplastima&nbsp</span><span class=\"barcode\"; style=\"color: black; background-color: #ffeee6\">&nbspla&nbsp</span><span class=\"barcode\"; style=\"color: black; background-color: #ffede5\">&nbspvista&nbsp</span><span class=\"barcode\"; style=\"color: black; background-color: #ffefe8\">&nbspla&nbsp</span><span class=\"barcode\"; style=\"color: black; background-color: #ffebe2\">&nbspversión&nbsp</span><span class=\"barcode\"; style=\"color: black; background-color: #fee9df\">&nbspnocturna&nbsp</span><span class=\"barcode\"; style=\"color: black; background-color: #feeae0\">&nbspde&nbsp</span><span class=\"barcode\"; style=\"color: black; background-color: #fee6da\">&nbspesta&nbsp</span><span class=\"barcode\"; style=\"color: black; background-color: #fc8d6d\">&nbspmadre&nbsp</span>"
      ],
      "text/plain": [
       "<IPython.core.display.HTML object>"
      ]
     },
     "metadata": {},
     "output_type": "display_data"
    },
    {
     "name": "stdout",
     "output_type": "stream",
     "text": [
      "Categoria predicha: No agresivo\n"
     ]
    },
    {
     "data": {
      "text/html": [
       "<span class=\"barcode\"; style=\"color: black; background-color: #feeae0\">&nbspaprendan&nbsp</span><span class=\"barcode\"; style=\"color: black; background-color: #ffede5\">&nbspa&nbsp</span><span class=\"barcode\"; style=\"color: black; background-color: #ffede5\">&nbspescribir&nbsp</span><span class=\"barcode\"; style=\"color: black; background-color: #fee7dc\">&nbspchingada&nbsp</span><span class=\"barcode\"; style=\"color: black; background-color: #fed8c7\">&nbspverga&nbsp</span><span class=\"barcode\"; style=\"color: black; background-color: #fc9070\">&nbspmadre&nbsp</span><span class=\"barcode\"; style=\"color: black; background-color: #fdc6b0\">&nbsp.&nbsp</span>"
      ],
      "text/plain": [
       "<IPython.core.display.HTML object>"
      ]
     },
     "metadata": {},
     "output_type": "display_data"
    },
    {
     "name": "stdout",
     "output_type": "stream",
     "text": [
      "Categoria predicha: No agresivo\n"
     ]
    },
    {
     "data": {
      "text/html": [
       "<span class=\"barcode\"; style=\"color: black; background-color: #fee8de\">&nbsp@&nbsp</span><span class=\"barcode\"; style=\"color: black; background-color: #fee7db\">&nbspusuario&nbsp</span><span class=\"barcode\"; style=\"color: black; background-color: #ffeee7\">&nbspjajajaja&nbsp</span><span class=\"barcode\"; style=\"color: black; background-color: #fee8dd\">&nbspandale&nbsp</span><span class=\"barcode\"; style=\"color: black; background-color: #fee3d6\">&nbspesa&nbsp</span><span class=\"barcode\"; style=\"color: black; background-color: #fc9070\">&nbspmadre&nbsp</span><span class=\"barcode\"; style=\"color: black; background-color: #fdc5ae\">&nbsp😂&nbsp</span>"
      ],
      "text/plain": [
       "<IPython.core.display.HTML object>"
      ]
     },
     "metadata": {},
     "output_type": "display_data"
    },
    {
     "name": "stdout",
     "output_type": "stream",
     "text": [
      "Categoria predicha: No agresivo\n"
     ]
    },
    {
     "data": {
      "text/html": [
       "<span class=\"barcode\"; style=\"color: black; background-color: #ffece3\">&nbsppodrás&nbsp</span><span class=\"barcode\"; style=\"color: black; background-color: #fff1ea\">&nbspencontrar&nbsp</span><span class=\"barcode\"; style=\"color: black; background-color: #fff0e8\">&nbspa&nbsp</span><span class=\"barcode\"; style=\"color: black; background-color: #fee8dd\">&nbspalguien&nbsp</span><span class=\"barcode\"; style=\"color: black; background-color: #fee4d8\">&nbspmás&nbsp</span><span class=\"barcode\"; style=\"color: black; background-color: #fc9272\">&nbsploca&nbsp</span><span class=\"barcode\"; style=\"color: black; background-color: #ffece3\">&nbspque&nbsp</span><span class=\"barcode\"; style=\"color: black; background-color: #ffeee7\">&nbspyo&nbsp</span><span class=\"barcode\"; style=\"color: black; background-color: #fff0e8\">&nbsppero&nbsp</span><span class=\"barcode\"; style=\"color: black; background-color: #fff2eb\">&nbspque&nbsp</span><span class=\"barcode\"; style=\"color: black; background-color: #ffede5\">&nbspte&nbsp</span><span class=\"barcode\"; style=\"color: black; background-color: #ffebe2\">&nbspquiera&nbsp</span><span class=\"barcode\"; style=\"color: black; background-color: #fff1ea\">&nbspbonito&nbsp</span><span class=\"barcode\"; style=\"color: black; background-color: #fff0e8\">&nbspnaaaaaaah&nbsp</span>"
      ],
      "text/plain": [
       "<IPython.core.display.HTML object>"
      ]
     },
     "metadata": {},
     "output_type": "display_data"
    },
    {
     "name": "stdout",
     "output_type": "stream",
     "text": [
      "Categoria predicha: No agresivo\n"
     ]
    },
    {
     "data": {
      "text/html": [
       "<span class=\"barcode\"; style=\"color: black; background-color: #fee8dd\">&nbspmi&nbsp</span><span class=\"barcode\"; style=\"color: black; background-color: #fc9373\">&nbspmadre&nbsp</span><span class=\"barcode\"; style=\"color: black; background-color: #fca78b\">&nbspsiempre&nbsp</span><span class=\"barcode\"; style=\"color: black; background-color: #fcbfa7\">&nbspconsintiendome.❤&nbsp</span>"
      ],
      "text/plain": [
       "<IPython.core.display.HTML object>"
      ]
     },
     "metadata": {},
     "output_type": "display_data"
    },
    {
     "name": "stdout",
     "output_type": "stream",
     "text": [
      "Categoria predicha: Agresivo\n"
     ]
    },
    {
     "data": {
      "text/html": [
       "<span class=\"barcode\"; style=\"color: black; background-color: #fee5d9\">&nbspve&nbsp</span><span class=\"barcode\"; style=\"color: black; background-color: #ffece4\">&nbspy&nbsp</span><span class=\"barcode\"; style=\"color: black; background-color: #ffece3\">&nbspchinga&nbsp</span><span class=\"barcode\"; style=\"color: black; background-color: #fee8dd\">&nbsptu&nbsp</span><span class=\"barcode\"; style=\"color: black; background-color: #fc9474\">&nbspmadre&nbsp</span><span class=\"barcode\"; style=\"color: black; background-color: #fdcab5\">&nbsptres&nbsp</span><span class=\"barcode\"; style=\"color: black; background-color: #fedbcc\">&nbspveces.🤗&nbsp</span>"
      ],
      "text/plain": [
       "<IPython.core.display.HTML object>"
      ]
     },
     "metadata": {},
     "output_type": "display_data"
    }
   ],
   "source": [
    "max_attn = [np.max(scores) for scores in train_scores]\n",
    "maxi = np.flip(np.argsort(max_attn))\n",
    "for j in range(30):\n",
    "    i = maxi[j]\n",
    "    s = colorize(train_words[i], train_scores[i][:len(train_words[i])])\n",
    "    category = 'Agresivo' if train_pred[maxi[j]] == 1 else 'No agresivo'\n",
    "    print(f'Categoria predicha: {category}')\n",
    "    display(HTML(s))"
   ]
  }
 ],
 "metadata": {
  "kernelspec": {
   "display_name": "Python 3",
   "language": "python",
   "name": "python3"
  },
  "language_info": {
   "codemirror_mode": {
    "name": "ipython",
    "version": 3
   },
   "file_extension": ".py",
   "mimetype": "text/x-python",
   "name": "python",
   "nbconvert_exporter": "python",
   "pygments_lexer": "ipython3",
   "version": "3.9.13"
  },
  "orig_nbformat": 4
 },
 "nbformat": 4,
 "nbformat_minor": 2
}
