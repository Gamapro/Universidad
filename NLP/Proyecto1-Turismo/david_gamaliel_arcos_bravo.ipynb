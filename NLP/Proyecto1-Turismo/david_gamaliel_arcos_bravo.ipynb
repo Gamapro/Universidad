{
 "cells": [
  {
   "attachments": {},
   "cell_type": "markdown",
   "metadata": {},
   "source": [
    "# David Gamaliel Arcos Bravo\n",
    "## Proyecto 1: Minería de Texto para Turismo"
   ]
  },
  {
   "cell_type": "code",
   "execution_count": 1,
   "metadata": {},
   "outputs": [],
   "source": [
    "import numpy as np\n",
    "import pandas as pd\n",
    "import matplotlib.pyplot as plt\n",
    "import nltk\n",
    "import os\n",
    "import openpyxl\n",
    "\n",
    "from openpyxl.utils.dataframe import dataframe_to_rows\n",
    "from wordcloud import WordCloud"
   ]
  },
  {
   "attachments": {},
   "cell_type": "markdown",
   "metadata": {},
   "source": [
    "1. (2.5pts) Construya estadísticas básicas respecto a la opinión de cada lugar turístico. Pre-procese y limpie el texto según sus intuiciones y argumente brevemente sobre ello.\n",
    "\n",
    "Considere scores de 4 a 5 como positivos, calificaciones de 3 como neutros y las de 2\n",
    "a 1 como negativos. Es interesante ver:\n",
    "\n",
    "(a) Promedios de calificación por lugar, y desviaciones estándar en los scores\n",
    "\n",
    "(b) Basado en palabras: longitud promedio de opiniones y desviaciones estándar\n",
    "\n",
    "(c) Histogramas de edades de opiniones por lugar\n",
    "\n",
    "(d) Histograma de tipo de visitantes (nacional o internacional) por lugar\n",
    "\n",
    "(e) Sugiere dos más interesantes para ti."
   ]
  },
  {
   "cell_type": "code",
   "execution_count": 7,
   "metadata": {},
   "outputs": [],
   "source": [
    "def excel_to_csv(excel_file, csv_file):\n",
    "    excel_file = pd.ExcelFile(excel_file) #, encoding='utf-8')\n",
    "    sheet_names = excel_file.sheet_names\n",
    "    for sheet in sheet_names:\n",
    "        df = excel_file.parse(sheet)\n",
    "        df.to_csv(csv_file.format(sheet), index=False, encoding='utf-8')\n",
    "    return sheet_names\n",
    "\n",
    "excel_file = 'Opiniones_Tripadvisor_nlp_2023.xlsx'\n",
    "csv_file = '{}.csv'\n",
    "\n",
    "sheet_names = excel_to_csv(excel_file, csv_file)"
   ]
  },
  {
   "cell_type": "code",
   "execution_count": 12,
   "metadata": {},
   "outputs": [
    {
     "name": "stdout",
     "output_type": "stream",
     "text": [
      "             Edad     Escala  Número de aportaciones\n",
      "count  509.000000  560.00000              560.000000\n",
      "mean    41.874263    4.50000              169.325000\n",
      "std     14.836906    0.66875              328.284109\n",
      "min     17.000000    1.00000                1.000000\n",
      "25%     30.000000    4.00000               23.000000\n",
      "50%     40.000000    5.00000               60.000000\n",
      "75%     54.000000    5.00000              153.000000\n",
      "max     75.000000    5.00000             3280.000000\n",
      "             Edad      Escala  Número de aportaciones\n",
      "count  519.000000  600.000000              600.000000\n",
      "mean    40.693642    3.948333              133.476667\n",
      "std     15.087793    0.950703              294.000908\n",
      "min     18.000000    1.000000                1.000000\n",
      "25%     28.000000    3.000000               21.000000\n",
      "50%     37.000000    4.000000               48.500000\n",
      "75%     52.000000    5.000000              105.500000\n",
      "max     75.000000    5.000000             3280.000000\n",
      "             Edad      Escala  Número de aportaciones\n",
      "count  655.000000  698.000000              698.000000\n",
      "mean    44.348092    4.243553              114.219198\n",
      "std     15.124692    0.804039              236.377077\n",
      "min     18.000000    1.000000                1.000000\n",
      "25%     32.000000    4.000000               17.000000\n",
      "50%     42.000000    4.000000               45.000000\n",
      "75%     57.000000    5.000000              112.000000\n",
      "max     75.000000    5.000000             2977.000000\n",
      "             Edad      Escala  Número de aportaciones\n",
      "count  831.000000  900.000000              900.000000\n",
      "mean    39.311673    4.603333              112.041111\n",
      "std     13.929438    0.612613              279.433858\n",
      "min     17.000000    1.000000                1.000000\n",
      "25%     28.000000    4.000000               14.000000\n",
      "50%     37.000000    5.000000               39.000000\n",
      "75%     48.000000    5.000000               89.000000\n",
      "max     76.000000    5.000000             3298.000000\n",
      "             Edad      Escala  Número de aportaciones\n",
      "count  910.000000  930.000000              930.000000\n",
      "mean    40.706593    4.454839               96.362366\n",
      "std     13.343588    0.745711              251.391484\n",
      "min     15.000000    1.000000                1.000000\n",
      "25%     30.000000    4.000000               14.000000\n",
      "50%     39.000000    5.000000               34.000000\n",
      "75%     50.750000    5.000000               79.000000\n",
      "max     73.000000    5.000000             3298.000000\n",
      "             Edad       Escala  Número de aportaciones\n",
      "count  979.000000  1010.000000             1010.000000\n",
      "mean    41.753830     4.702970              116.367327\n",
      "std     13.813232     0.518146              246.938721\n",
      "min     17.000000     2.000000                1.000000\n",
      "25%     30.000000     4.000000               14.000000\n",
      "50%     40.000000     5.000000               38.000000\n",
      "75%     52.000000     5.000000              102.750000\n",
      "max     74.000000     5.000000             3298.000000\n",
      "             Edad       Escala  Número de aportaciones\n",
      "count  889.000000  1134.000000             1133.000000\n",
      "mean    41.385827     4.591711               99.833186\n",
      "std     14.890920     0.607370              215.190764\n",
      "min     15.000000     2.000000                1.000000\n",
      "25%     30.000000     4.000000               14.000000\n",
      "50%     38.000000     5.000000               39.000000\n",
      "75%     52.000000     5.000000               95.000000\n",
      "max     81.000000     5.000000             3280.000000\n",
      "              Edad       Escala  Número de aportaciones\n",
      "count  1312.000000  1360.000000             1360.000000\n",
      "mean     38.826220     3.995588               88.427206\n",
      "std      13.335956     0.971247              204.145976\n",
      "min      16.000000     1.000000                1.000000\n",
      "25%      28.000000     3.000000               14.000000\n",
      "50%      37.000000     4.000000               35.000000\n",
      "75%      49.000000     5.000000               82.000000\n",
      "max      75.000000     5.000000             2989.000000\n",
      "              Edad       Escala  Número de aportaciones\n",
      "count  1583.000000  1620.000000             1620.000000\n",
      "mean     38.436513     4.377778               96.891975\n",
      "std      13.049390     0.767950              212.756450\n",
      "min      16.000000     1.000000                1.000000\n",
      "25%      28.000000     4.000000               14.000000\n",
      "50%      37.000000     5.000000               37.000000\n",
      "75%      48.000000     5.000000               87.000000\n",
      "max      71.000000     5.000000             3304.000000\n",
      "              Edad       Escala  Número de aportaciones\n",
      "count  1560.000000  1650.000000             1650.000000\n",
      "mean     38.964744     3.675152               78.832121\n",
      "std      12.886166     1.136495              195.243898\n",
      "min      16.000000     1.000000                1.000000\n",
      "25%      29.000000     3.000000               12.000000\n",
      "50%      37.000000     4.000000               29.000000\n",
      "75%      49.000000     5.000000               72.750000\n",
      "max      70.000000     5.000000             2991.000000\n"
     ]
    }
   ],
   "source": [
    "for sheet_name in sheet_names:\n",
    "    df = pd.read_csv(csv_file.format(sheet_name), encoding='utf-8')\n",
    "    print(df.describe())"
   ]
  },
  {
   "attachments": {},
   "cell_type": "markdown",
   "metadata": {},
   "source": [
    "#"
   ]
  }
 ],
 "metadata": {
  "kernelspec": {
   "display_name": "Python 3",
   "language": "python",
   "name": "python3"
  },
  "language_info": {
   "codemirror_mode": {
    "name": "ipython",
    "version": 3
   },
   "file_extension": ".py",
   "mimetype": "text/x-python",
   "name": "python",
   "nbconvert_exporter": "python",
   "pygments_lexer": "ipython3",
   "version": "3.9.13"
  },
  "orig_nbformat": 4
 },
 "nbformat": 4,
 "nbformat_minor": 2
}
